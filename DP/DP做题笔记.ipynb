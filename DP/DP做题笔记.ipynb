{
 "cells": [
  {
   "cell_type": "code",
   "execution_count": null,
   "metadata": {},
   "outputs": [],
   "source": [
    "# !/usr/bin/python\n",
    "# -*- coding: utf-8 -*-\n",
    "# @Time    : 2020/04  \n",
    "# @Author  : XU Liu\n",
    "# @FileName: \n",
    "\n",
    "'''\n",
    "1. 题目类型：\n",
    "\n",
    "\n",
    "2. 题目要求与理解：\n",
    "\n",
    "\n",
    "3. 解题思路：\n",
    "\n",
    "\n",
    "4. 输出输入以及边界条件：\n",
    "input: \n",
    "output: \n",
    "corner case: \n",
    "\n",
    "5. 空间时间复杂度\n",
    "    \n",
    "\n",
    "'''"
   ]
  },
  {
   "cell_type": "markdown",
   "metadata": {},
   "source": [
    "# 题目\n",
    "\n",
    "\n",
    "## 子序列问题\n",
    "* 72.Edit Distance.py （完成1）\n",
    "* 5.Longest Palindromic Substring.py（不是dp问题）\n",
    "* 516.Longest Palindromic Subsequence.py（完成1）\n",
    "* 300.Longest Increasing Subsequence.py (易错) （完成1）\n",
    "* 1143.Longest Common Subsequence.py （完成1）\n",
    "\n",
    "## 0-1背包问题\n",
    "* 416.Partition Equal Subset Sum.py\n",
    "* 474.\n",
    "\n",
    "## 找零钱\n",
    "* 322.Coin Change.py\n",
    "\n",
    "## 高空扔鸡蛋\n",
    "* 887.Super Egg Drop （hard）\n",
    "\n",
    "## 股票买卖\n",
    "只交易一次 -- 不限交易次数 -- 只交易两次 -- 加入‘冷冻期’和‘手续费’\n",
    "* 股票问题.py\n",
    "* 121.Best Time to Buy and Sell Stock.py (完成1）\n",
    "* 122.Best Time to Buy and Sell Stock II.py (完成1）\n",
    "* 123.Best Time to Buy and Sell Stock III.py (完成1）\n",
    "* 188.Best Time to Buy and Sell Stock IV.py \n",
    "* 309.Best Time to Buy and Sell Stock with Cooldown.py(完成1）\n",
    "* 714.Best Time to Buy and Sell Stock with Transaction Fee.py(完成1）\n",
    "\n",
    "## 打家劫舍\n",
    "House Robber\n",
    "* 198.House Robber.py (就是数组里最大和的问题)(完成1）\n",
    "* 213.House Robber II.py(完成1）\n",
    "* 337.House Robber III.py \n"
   ]
  },
  {
   "cell_type": "markdown",
   "metadata": {},
   "source": [
    "# 代码模版"
   ]
  },
  {
   "cell_type": "markdown",
   "metadata": {},
   "source": [
    "## 0-1背包问题"
   ]
  },
  {
   "cell_type": "code",
   "execution_count": null,
   "metadata": {},
   "outputs": [],
   "source": [
    "def bag(N, W, wt, val):\n",
    "    if N == 0 or W == 0:\n",
    "        return 0\n",
    "    \n",
    "    m = len(wt)\n",
    "    dp = [[0] * (W + 1) for _ in range(m + 1)]\n",
    "\n",
    "    for i in range(1, m+1):\n",
    "        for w in range(1, W+1):\n",
    "            if i == 0 or w == 0:\n",
    "                dp[i][w] = 0\n",
    "            elif wt[i-1] > w:\n",
    "                dp[i][w] = dp[i-1][w]\n",
    "            elif wt[i-1] <= w:\n",
    "                dp[i][w] = max(dp[i-1][w], dp[i-1][w-wt[i-1]] + val[i-1])\n",
    "    return dp[N][W]"
   ]
  },
  {
   "cell_type": "markdown",
   "metadata": {},
   "source": [
    "## 最长回文子序列"
   ]
  },
  {
   "cell_type": "code",
   "execution_count": null,
   "metadata": {},
   "outputs": [],
   "source": [
    "class Solution:\n",
    "    def longestPalindromeSubseq(self, s: str) -> int:\n",
    "        \n",
    "        if s == '':\n",
    "            return 0\n",
    "        \n",
    "        n = len(s)\n",
    "        dp = [[0] * n for _ in range(n)]\n",
    "\n",
    "        for i in range(n-1, -1, -1):\n",
    "            for j in range(i, n):\n",
    "                #print('i: ' + str(i) + '\\t' + 'j: ' + str(j))\n",
    "                if i == j:\n",
    "                    dp[i][j] = 1\n",
    "                elif s[i] == s[j]:\n",
    "                    dp[i][j] = dp[i+1][j-1] + 2\n",
    "                else:\n",
    "                    dp[i][j] = max(dp[i][j-1], dp[i+1][j])\n",
    "\n",
    "        return dp[0][n-1]"
   ]
  },
  {
   "cell_type": "markdown",
   "metadata": {},
   "source": [
    "## 编辑距离"
   ]
  },
  {
   "cell_type": "code",
   "execution_count": null,
   "metadata": {},
   "outputs": [],
   "source": []
  },
  {
   "cell_type": "markdown",
   "metadata": {},
   "source": [
    "## 最长公共子序列 "
   ]
  },
  {
   "cell_type": "code",
   "execution_count": null,
   "metadata": {},
   "outputs": [],
   "source": [
    "class Solution:\n",
    "    def longestCommonSubsequence(self, text1: str, text2: str) -> int:\n",
    "        if not text1 or not text2:\n",
    "            return 0\n",
    "        \n",
    "        m = len(text1)\n",
    "        n = len(text2)\n",
    "        dp = [[0] * (n+1) for _ in range(m+1)]  # 易错\n",
    "\n",
    "        for i in range(1, m+1):  # 注意范围\n",
    "            for j in range(1, n+1):  # 注意范围\n",
    "                if text1[i-1] == text2[j-1]:  # 易错\n",
    "                    dp[i][j] = dp[i-1][j-1] + 1\n",
    "                elif text1[i-1] != text2[j-1]:\n",
    "                    dp[i][j] = max(dp[i-1][j], dp[i][j-1])\n",
    "        return dp[m][n]"
   ]
  },
  {
   "cell_type": "markdown",
   "metadata": {},
   "source": [
    "## 股票问题"
   ]
  },
  {
   "cell_type": "code",
   "execution_count": null,
   "metadata": {},
   "outputs": [],
   "source": [
    "n是天数，K是最多交易次数，0和1表示不持股状态和持股状态\n",
    "此问题共有n * K * 2种状态\n",
    "dp[i][k][0 or 1]表示当前状态下的利润\n",
    "\n",
    "0 <= i <= n-1, 1 <= k <= K\n",
    "dp[i][k][0 or 1]\n",
    "比如：dp[3][2][1] 的含义就是：今天是第三天，我现在手上持有着股票，至今最多进行 2 次交易。值表示利润？\n",
    "再比如 dp[2][3][0] 的含义：今天是第二天，我现在手上没有持有股票，至今最多进行 3 次交易\n",
    "\n",
    "for i in range(n-1):\n",
    "    for k in range(1, K + 1):\n",
    "        for s in [0, 1]:\n",
    "            dp[i][k][s] = max(buy, sell, rest)\n",
    "            \n",
    "最终答案是： dp[n - 1][K][0]，即最后一天，最多允许 K 次交易，最多获得多少利润\n",
    "# 为什么不是 dp[n - 1][K][1]？\n",
    "# 因为 [1] 代表手上还持有股票，[0] 表示手上的股票已经卖出去了，很显然后者得到的利润一定大于前者。\n",
    "\n",
    "# 状态转移方程式\n",
    "dp[i][k][0] = max(选择rest， 选择sell)\n",
    "            = max(dp[i-1][k][0], dp[i-1][k][1] + price[i])\n",
    "            # 今天没有股，要么就是昨天就没有股，要么就是今天sell了，利润里面增加price[i]\n",
    "    \n",
    "dp[i][k][1] = max(选择rest， 选择buy)\n",
    "            = max(dp[i-1][k][1], dp[i-1][k-1][0] - price[i])\n",
    "            # 今天有股，要么就是昨天就有股，要么就是今天buy了，利润里面减少price[i]\n",
    "        \n",
    "# base case\n",
    "dp[-1][k][0] = 0\n",
    "    # i = -1，意味着还没有开始，利润是0\n",
    "dp[-1][k][1] = -infinity\n",
    "    # 还没有开始的时候，是不可能持有股票，用负无穷大表示不可能 不好理解\n",
    "dp[i][0][0] = 0\n",
    "    # k = 0, 从未交易过\n",
    "dp[i][0][1] = -infinity\n",
    "    # 不允许交易的情况下，是不可能持有股票，用负无穷大表示不可能"
   ]
  }
 ],
 "metadata": {
  "kernelspec": {
   "display_name": "Python 3",
   "language": "python",
   "name": "python3"
  },
  "language_info": {
   "codemirror_mode": {
    "name": "ipython",
    "version": 3
   },
   "file_extension": ".py",
   "mimetype": "text/x-python",
   "name": "python",
   "nbconvert_exporter": "python",
   "pygments_lexer": "ipython3",
   "version": "3.7.3"
  },
  "toc": {
   "base_numbering": 1,
   "nav_menu": {},
   "number_sections": true,
   "sideBar": true,
   "skip_h1_title": false,
   "title_cell": "Table of Contents",
   "title_sidebar": "Contents",
   "toc_cell": false,
   "toc_position": {},
   "toc_section_display": true,
   "toc_window_display": false
  }
 },
 "nbformat": 4,
 "nbformat_minor": 4
}
