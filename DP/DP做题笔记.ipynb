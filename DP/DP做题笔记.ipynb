{
 "cells": [
  {
   "cell_type": "code",
   "execution_count": null,
   "metadata": {},
   "outputs": [],
   "source": [
    "# !/usr/bin/python\n",
    "# -*- coding: utf-8 -*-\n",
    "# @Time    : 2020/04  \n",
    "# @Author  : XU Liu\n",
    "# @FileName: \n",
    "\n",
    "'''\n",
    "1. 题目类型：\n",
    "\n",
    "\n",
    "2. 题目要求与理解：\n",
    "\n",
    "\n",
    "3. 解题思路：\n",
    "\n",
    "\n",
    "4. 输出输入以及边界条件：\n",
    "input: \n",
    "output: \n",
    "corner case: \n",
    "\n",
    "5. 空间时间复杂度\n",
    "    \n",
    "\n",
    "'''"
   ]
  },
  {
   "cell_type": "markdown",
   "metadata": {},
   "source": [
    "# 题目\n",
    "\n",
    "\n",
    "\n",
    "## 子序列问题\n",
    "* 72.Edit Distance.py\n",
    "* 516.Longest Palindromic Subsequence.py\n",
    "* 300.Longest Increasing Subsequence.py\n",
    "* 1143.Longest Common Subsequence.py\n",
    "\n",
    "\n"
   ]
  },
  {
   "cell_type": "code",
   "execution_count": null,
   "metadata": {},
   "outputs": [],
   "source": []
  },
  {
   "cell_type": "code",
   "execution_count": null,
   "metadata": {},
   "outputs": [],
   "source": []
  },
  {
   "cell_type": "code",
   "execution_count": null,
   "metadata": {},
   "outputs": [],
   "source": []
  }
 ],
 "metadata": {
  "kernelspec": {
   "display_name": "Python 3",
   "language": "python",
   "name": "python3"
  },
  "language_info": {
   "codemirror_mode": {
    "name": "ipython",
    "version": 3
   },
   "file_extension": ".py",
   "mimetype": "text/x-python",
   "name": "python",
   "nbconvert_exporter": "python",
   "pygments_lexer": "ipython3",
   "version": "3.7.3"
  },
  "toc": {
   "base_numbering": 1,
   "nav_menu": {},
   "number_sections": true,
   "sideBar": true,
   "skip_h1_title": false,
   "title_cell": "Table of Contents",
   "title_sidebar": "Contents",
   "toc_cell": false,
   "toc_position": {},
   "toc_section_display": true,
   "toc_window_display": false
  }
 },
 "nbformat": 4,
 "nbformat_minor": 4
}
