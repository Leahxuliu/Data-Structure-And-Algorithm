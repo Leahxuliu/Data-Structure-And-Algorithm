{
 "cells": [
  {
   "cell_type": "code",
   "execution_count": null,
   "metadata": {},
   "outputs": [],
   "source": [
    "# !/usr/bin/python\n",
    "# -*- coding: utf-8 -*-\n",
    "# @Time    : 2020/04  \n",
    "# @Author  : XU Liu\n",
    "# @FileName: \n",
    "\n",
    "'''\n",
    "1. 题目类型：\n",
    "\n",
    "\n",
    "2. 题目要求与理解：\n",
    "\n",
    "\n",
    "3. 解题思路：\n",
    "\n",
    "\n",
    "4. 输出输入以及边界条件：\n",
    "input: \n",
    "output: \n",
    "corner case: \n",
    "\n",
    "5. 空间时间复杂度\n",
    "    \n",
    "\n",
    "'''"
   ]
  },
  {
   "cell_type": "markdown",
   "metadata": {},
   "source": [
    "# 题目\n",
    "\n",
    "\n",
    "\n",
    "## 子序列问题\n",
    "* 72.Edit Distance.py （完成1）\n",
    "* 516.Longest Palindromic Subsequence.py\n",
    "* 300.Longest Increasing Subsequence.py (易错) （完成1）\n",
    "* 1143.Longest Common Subsequence.py （完成1）\n",
    "\n",
    "## 0-1背包问题\n",
    "* 416.Partition Equal Subset Sum.py\n",
    "* 474.\n",
    "\n",
    "## 找零钱\n"
   ]
  },
  {
   "cell_type": "markdown",
   "metadata": {},
   "source": [
    "# 代码模版"
   ]
  },
  {
   "cell_type": "markdown",
   "metadata": {},
   "source": [
    "## 0-1背包问题"
   ]
  },
  {
   "cell_type": "code",
   "execution_count": null,
   "metadata": {},
   "outputs": [],
   "source": [
    "def bag(N, W, wt, val):\n",
    "    if N == 0 or W == 0:\n",
    "        return 0\n",
    "    \n",
    "    m = len(wt)\n",
    "    dp = [[0] * (W + 1) for _ in range(m + 1)]\n",
    "\n",
    "    for i in range(1, m+1):\n",
    "        for w in range(1, W+1):\n",
    "            if i == 0 or w == 0:\n",
    "                dp[i][w] = 0\n",
    "            elif wt[i-1] > w:\n",
    "                dp[i][w] = dp[i-1][w]\n",
    "            elif wt[i-1] <= w:\n",
    "                dp[i][w] = max(dp[i-1][w], dp[i-1][w-wt[i-1]] + val[i-1])\n",
    "    return dp[N][W]"
   ]
  },
  {
   "cell_type": "code",
   "execution_count": null,
   "metadata": {},
   "outputs": [],
   "source": []
  },
  {
   "cell_type": "code",
   "execution_count": null,
   "metadata": {},
   "outputs": [],
   "source": []
  },
  {
   "cell_type": "markdown",
   "metadata": {},
   "source": [
    "## 最长公共子序列 "
   ]
  },
  {
   "cell_type": "code",
   "execution_count": null,
   "metadata": {},
   "outputs": [],
   "source": [
    "class Solution:\n",
    "    def longestCommonSubsequence(self, text1: str, text2: str) -> int:\n",
    "        if not text1 or not text2:\n",
    "            return 0\n",
    "        \n",
    "        m = len(text1)\n",
    "        n = len(text2)\n",
    "        dp = [[0] * (n+1) for _ in range(m+1)]  # 易错\n",
    "\n",
    "        for i in range(1, m+1):  # 注意范围\n",
    "            for j in range(1, n+1):  # 注意范围\n",
    "                if text1[i-1] == text2[j-1]:  # 易错\n",
    "                    dp[i][j] = dp[i-1][j-1] + 1\n",
    "                elif text1[i-1] != text2[j-1]:\n",
    "                    dp[i][j] = max(dp[i-1][j], dp[i][j-1])\n",
    "        return dp[m][n]"
   ]
  },
  {
   "cell_type": "code",
   "execution_count": null,
   "metadata": {},
   "outputs": [],
   "source": []
  },
  {
   "cell_type": "code",
   "execution_count": null,
   "metadata": {},
   "outputs": [],
   "source": []
  }
 ],
 "metadata": {
  "kernelspec": {
   "display_name": "Python 3",
   "language": "python",
   "name": "python3"
  },
  "language_info": {
   "codemirror_mode": {
    "name": "ipython",
    "version": 3
   },
   "file_extension": ".py",
   "mimetype": "text/x-python",
   "name": "python",
   "nbconvert_exporter": "python",
   "pygments_lexer": "ipython3",
   "version": "3.7.3"
  },
  "toc": {
   "base_numbering": 1,
   "nav_menu": {},
   "number_sections": true,
   "sideBar": true,
   "skip_h1_title": false,
   "title_cell": "Table of Contents",
   "title_sidebar": "Contents",
   "toc_cell": false,
   "toc_position": {},
   "toc_section_display": true,
   "toc_window_display": false
  }
 },
 "nbformat": 4,
 "nbformat_minor": 4
}
