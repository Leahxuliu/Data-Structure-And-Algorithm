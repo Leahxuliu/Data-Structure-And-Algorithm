{
 "cells": [
  {
   "cell_type": "markdown",
   "metadata": {},
   "source": [
    "# 概括\n",
    "* 只交易一次 -- 不限交易次数 -- 只交易两次 -- 加入‘冷冻期’和‘手续费’\n",
    "* 解题关键：选择‘状态’\n",
    "* 状态机\n",
    "* 每天都有三种‘选择’：买入·卖出·无操作   \n",
    "    条件：sell必须在buy之后，buy必须在sell之后，rest的状态有两种：一种是buy之后的持股，另一种是sell之后的观望\n",
    "* 这个问题的状态有三个：   \n",
    "    1. 天数\n",
    "    2. 允许交易的最大次数\n",
    "    3. 当前持有状态，0表示观望（不持股），1表示持股"
   ]
  },
  {
   "cell_type": "code",
   "execution_count": null,
   "metadata": {},
   "outputs": [],
   "source": [
    "n是天数，K是最多交易次数，0和1表示不持股状态和持股状态\n",
    "此问题共有n * K * 2种状态\n",
    "dp[i][k][0 or 1]表示当前状态下的利润\n",
    "\n",
    "0 <= i <= n-1, 1 <= k <= K\n",
    "dp[i][k][0 or 1]\n",
    "比如：dp[3][2][1] 的含义就是：今天是第三天，我现在手上持有着股票，至今最多进行 2 次交易。值表示利润？\n",
    "再比如 dp[2][3][0] 的含义：今天是第二天，我现在手上没有持有股票，至今最多进行 3 次交易\n",
    "\n",
    "for i in range(n-1):\n",
    "    for k in range(1, K + 1):\n",
    "        for s in [0, 1]:\n",
    "            dp[i][k][s] = max(buy, sell, rest)\n",
    "            \n",
    "最终答案是： dp[n - 1][K][0]，即最后一天，最多允许 K 次交易，最多获得多少利润\n",
    "# 为什么不是 dp[n - 1][K][1]？\n",
    "# 因为 [1] 代表手上还持有股票，[0] 表示手上的股票已经卖出去了，很显然后者得到的利润一定大于前者。\n",
    "\n",
    "# 状态转移方程式\n",
    "dp[i][k][0] = max(选择rest， 选择sell)\n",
    "            = max(dp[i-1][k][0], dp[i-1][k][1] + price[i])\n",
    "            # 今天没有股，要么就是昨天就没有股，要么就是今天sell了，利润里面增加price[i]\n",
    "    \n",
    "dp[i][k][1] = max(选择rest， 选择buy)\n",
    "            = max(dp[i-1][k][1], dp[i-1][k-1][0] - price[i])\n",
    "            # 今天有股，要么就是昨天就有股，要么就是今天buy了，利润里面减少price[i]\n",
    "        \n",
    "# base case\n",
    "dp[-1][k][0] = 0\n",
    "    # i = -1，意味着还没有开始，利润是0\n",
    "dp[-1][k][1] = -infinity\n",
    "    # 还没有开始的时候，是不可能持有股票，用负无穷大表示不可能 不好理解\n",
    "dp[i][0][0] = 0\n",
    "    # k = 0, 从未交易过\n",
    "dp[i][0][1] = -infinity\n",
    "    # 不允许交易的情况下，是不可能持有股票，用负无穷大表示不可能"
   ]
  },
  {
   "cell_type": "markdown",
   "metadata": {},
   "source": [
    "# 题目\n",
    "## 只交易一次\n",
    "* 121\n"
   ]
  },
  {
   "cell_type": "code",
   "execution_count": null,
   "metadata": {},
   "outputs": [],
   "source": [
    "K = 1, 不会发生改变，所以可以简化成dp[i][0 or 1]\n",
    "\n",
    "# 状态转移方程式：\n",
    "dp[i][0] = max(选择rest， 选择sell)\n",
    "         = max(dp[i-1][0], dp[i-1][1] + price[i])\n",
    "dp[i][1] = max(选择rest， 选择buy)\n",
    "         = max(dp[i-1][1], dp[i-1][0] - price[i]) # 错误！！！why??? \n",
    "                                                  # 因为这样写表示i-1天的时候，没有持股，拥有dp[i-1][0]元的利润，再买入新股时，-price[i]; 可是只有一次买卖，i-1天的时候，没有持股也就表示没有过交易，现在的利润为0\n",
    "         = max(dp[i-1][1], - price[i]) # 因为只有一次买卖，买进就表示-price\n",
    "# base：\n",
    "dp[0][0] = 0\n",
    "    # 第0天，还没有持股\n",
    "dp[0][1] = -infinity\n",
    "    # 用无穷大表示不可能存在"
   ]
  },
  {
   "cell_type": "code",
   "execution_count": null,
   "metadata": {},
   "outputs": [],
   "source": [
    "class Stock:\n",
    "    def maxProfit(self, prices):\n",
    "        if prices == []:\n",
    "            return 0\n",
    "        \n",
    "        n = len(prices)\n",
    "        dp = [[float('-inf')] * 2 for _ in range(n + 1)]\n",
    "        dp[0][0] = 0\n",
    "\n",
    "        for i in range(1, n+1):\n",
    "            dp[i][0] = max(dp[i-1][0], dp[i-1][1] + prices[i-1])  # prices[i-1]易错\n",
    "            dp[i][1] = max(dp[i-1][1], - prices[i-1])  # prices[i-1]易错\n",
    "        return dp[n][0]\n",
    "\n",
    "'''\n",
    "状态转移方程，新状态只和相邻的一个状态有关，其实不用整个 dp 数组，\n",
    "只需要一个变量储存相邻的那个状态就足够了，这样可以把空间复杂度降到 O(1)\n",
    "'''\n",
    "\n",
    "class Stock:\n",
    "    def maxProfit(self, prices):\n",
    "        if prices == []:\n",
    "            return 0\n",
    "        \n",
    "        n = len(prices)\n",
    "        dp_0 = 0\n",
    "        dp_1 = float('-inf')\n",
    "        for i in range(n):\n",
    "            dp_0 = max(dp_0, dp_1 + prices[i])\n",
    "            dp_1 = max(dp_1, -prices[i])\n",
    "        return dp_0"
   ]
  },
  {
   "cell_type": "markdown",
   "metadata": {},
   "source": [
    "## 交易次数不限制\n",
    "* 122\n"
   ]
  },
  {
   "cell_type": "code",
   "execution_count": null,
   "metadata": {},
   "outputs": [],
   "source": [
    "k是任意次数，所以不需要记录k这个状态\n",
    "# 状态转移方程式\n",
    "dp[i][0] = max(选继续观望， 选卖掉股票)\n",
    "         = max(dp[i-1][0], dp[i-1][1] + price(i))\n",
    "\n",
    "dp[i][1] = max(选继续持股， 选买入股票)\n",
    "         = max(dp[i-1][1], dp[i-1][0] - price[i])  # 121题与122题的区别\n",
    "\n",
    "# base\n",
    "dp[0][0] = 0\n",
    "    # 第0天，还没有持股\n",
    "dp[0][1] = -infinity\n",
    "    # 用无穷大表示不可能存在"
   ]
  },
  {
   "cell_type": "code",
   "execution_count": null,
   "metadata": {},
   "outputs": [],
   "source": [
    "class Stock:\n",
    "    def maxProfit(self, prices):\n",
    "        if prices == []:\n",
    "            return 0\n",
    "        \n",
    "        n = len(prices)\n",
    "        dp_0 = 0\n",
    "        dp_1 = float('-inf')\n",
    "\n",
    "        for i in range(n):\n",
    "            dp_0 = max(dp_0, dp_1 + prices[i])\n",
    "            dp_1 = max(dp_1, dp_0 - prices[i])\n",
    "        return dp_0"
   ]
  },
  {
   "cell_type": "markdown",
   "metadata": {},
   "source": [
    "## 交易次数被规定\n",
    "* 123\n",
    "* 交易2次"
   ]
  },
  {
   "cell_type": "code",
   "execution_count": null,
   "metadata": {},
   "outputs": [],
   "source": [
    "\n",
    "k == 0\n",
    "没有任何交易，都是0\n",
    "k == 1,2\n",
    "持股或观望\n",
    "\n",
    "# 状态转移方程式\n",
    "dp[i][k][0] = max(dp[i-1][k][0], dp[i-1][k][1] + prices[i])\n",
    "dp[i][k][1] = max(dp[i-1][k][1], dp[i-1][k-1][0] - prices[i])\n",
    "\n",
    "# base\n",
    "dp[-1][k][0] = 0\n",
    "dp[-1][k][1] = -infinity\n",
    "dp[i][0][0] = 0\n",
    "dp[i][0][1] = -infinity\n"
   ]
  },
  {
   "cell_type": "code",
   "execution_count": null,
   "metadata": {},
   "outputs": [],
   "source": [
    "class Stock:\n",
    "    def maxProfit(self, prices):\n",
    "        if prices == []:\n",
    "            return 0\n",
    "\n",
    "        n = len(prices)\n",
    "        max_k = 2\n",
    "        dp = [[[float('-inf')] * 2 for _ in range(max_k + 1)] for _ in range(n+1)]\n",
    "\n",
    "        for i in range(0, n + 1):\n",
    "            for k in range(0, max_k + 1):\n",
    "                if i == 0:\n",
    "                    dp[0][k][0] = 0\n",
    "                elif k == 0:\n",
    "                    dp[i][0][0] = 0\n",
    "                else:\n",
    "                    dp[i][k][0] = max(dp[i-1][k][0], dp[i-1][k][1] + prices[i-1])\n",
    "                    dp[i][k][1] = max(dp[i-1][k][1], dp[i-1][k-1][0] - prices[i-1])\n",
    "        return dp[n][max_k][0]"
   ]
  },
  {
   "cell_type": "code",
   "execution_count": null,
   "metadata": {},
   "outputs": [],
   "source": [
    "# 方法2\n",
    "# 这里的k是2\n",
    "# 可以把k的范围直接列出来\n",
    "\n",
    "# 状态转移方程式\n",
    "dp[i][2][0] = max(dp[i-1][2][0], dp[i-1][2][1] + prices[i])\n",
    "dp[i][2][1] = max(dp[i-1][2][1], dp[i-1][1][0] - prices[i])\n",
    "dp[i][1][0] = max(dp[i-1][1][0], dp[i-1][1][1] + prices[i])\n",
    "dp[i][1][1] = max(dp[i-1][1][1], -prices[i])\n",
    "\n",
    "# base\n",
    "dp[-1][k][0] = 0\n",
    "dp[-1][k][1] = -infinity\n",
    "dp[i][0][0] = 0\n",
    "dp[i][0][1] = -infinity"
   ]
  },
  {
   "cell_type": "code",
   "execution_count": null,
   "metadata": {},
   "outputs": [],
   "source": [
    "class Stock:\n",
    "    def maxProfit(self, prices):\n",
    "        if prices == []:\n",
    "            return 0\n",
    "            \n",
    "        n = len(prices)\n",
    "        dp_i10 = 0\n",
    "        dp_i20 = 0\n",
    "        dp_i11 = float('-inf')\n",
    "        dp_i21 = float('-inf')\n",
    "\n",
    "        for i in prices:\n",
    "            dp_i20 = max(dp_i20, dp_i21 + 1)\n",
    "            dp_i21 = max(dp_i21, dp_i10 - 1)\n",
    "            dp_i10 = max(dp_i10, dp_i11 + 1)\n",
    "            dp_i11 = max(dp_i11, -1)\n",
    "\n",
    "        return dp_i20"
   ]
  },
  {
   "cell_type": "markdown",
   "metadata": {},
   "source": [
    "## 不限交易次数，有一天的冻结\n",
    "* After you sell your stock, you cannot buy stock on next day. (ie, cooldown 1 day)\n",
    "* 309"
   ]
  },
  {
   "cell_type": "code",
   "execution_count": null,
   "metadata": {},
   "outputs": [],
   "source": [
    "k = 任意\n",
    "After you sell your stock, you cannot buy stock on next day. (ie, cooldown 1 day)\n",
    "\n",
    "# 状态转移方程\n",
    "dp[i][0] = max(继续观望，  卖掉)\n",
    "         = max(dp[i-1][0], dp[i-1][1] + prices[i])\n",
    "dp[i][1] = max(继续持股，  买入)\n",
    "         = max(dp[i-1][1], dp[i-2][0] - prices[i])\n",
    "\n",
    "# base\n",
    "dp[0][0] = 0\n",
    "dp[0][1] = -inf\n",
    "dp[1][1] = - prices[1]"
   ]
  },
  {
   "cell_type": "code",
   "execution_count": null,
   "metadata": {},
   "outputs": [],
   "source": [
    "class Solution:\n",
    "    def maxProfit(self, prices: List[int]) -> int:\n",
    "        if prices == []:\n",
    "            return 0\n",
    "        \n",
    "        n = len(prices)\n",
    "        dp = [[-float('inf')] * 2 for _ in range(n+1)]\n",
    "        \n",
    "        dp[0][0] = 0\n",
    "        \n",
    "        \n",
    "        for i in range(1, n + 1):\n",
    "            if i == 1:\n",
    "                dp[i][0] = max(dp[i-1][0], dp[i-1][1] + prices[i-1])\n",
    "                dp[i][1] = max(dp[i-1][1], - prices[i-1])\n",
    "            else:\n",
    "                dp[i][0] = max(dp[i-1][0], dp[i-1][1] + prices[i-1])\n",
    "                dp[i][1] = max(dp[i-1][1], dp[i-2][0] - prices[i-1])\n",
    "        return dp[n][0]\n",
    "        "
   ]
  },
  {
   "cell_type": "markdown",
   "metadata": {},
   "source": [
    "## 不限次数，有手续费\n",
    "* 714"
   ]
  },
  {
   "cell_type": "code",
   "execution_count": null,
   "metadata": {},
   "outputs": [],
   "source": [
    "k 任意\n",
    "卖掉会有fee\n",
    "\n",
    "# 状态转移方程\n",
    "dp[i][0] = max(继续观望，  卖掉)\n",
    "         = max(dp[i-1][0], dp[i-1][1] + prices[i] - fee)\n",
    "dp[i][1] = max(继续持股，  买入)\n",
    "         = max(dp[i-1][1], dp[i-1][0] - prices[i])\n",
    "         \n",
    "# base\n",
    "dp[0][0] = 0\n",
    "dp[0][1] = - prices[0]"
   ]
  },
  {
   "cell_type": "code",
   "execution_count": null,
   "metadata": {},
   "outputs": [],
   "source": [
    "class Solution:\n",
    "    def maxProfit(self, prices: List[int], fee: int) -> int:\n",
    "        if prices == None:\n",
    "            return 0\n",
    "        \n",
    "        dp_i_0 = 0\n",
    "        dp_i_1 = - prices[0]\n",
    "        \n",
    "        for i in range(len(prices)):\n",
    "            dp_i_0 = max(dp_i_0, dp_i_1 + prices[i] - fee)\n",
    "            dp_i_1 = max(dp_i_1, dp_i_0 - prices[i]) \n",
    "        return dp_i_0"
   ]
  },
  {
   "cell_type": "markdown",
   "metadata": {},
   "source": [
    "## 指定K\n",
    "* 188题\n",
    "* 一次交易由买入和卖出构成，至少需要两天。所以说有效的限制 k 应该不超过 n/2，如果超过，就没有约束作用了，相当于 k = +infinity。这种情况是之前解决过的\n",
    "* 122题+123题"
   ]
  },
  {
   "cell_type": "markdown",
   "metadata": {},
   "source": [
    "# Python"
   ]
  },
  {
   "cell_type": "code",
   "execution_count": 1,
   "metadata": {},
   "outputs": [
    {
     "data": {
      "text/plain": [
       "[0, 0]"
      ]
     },
     "execution_count": 1,
     "metadata": {},
     "output_type": "execute_result"
    }
   ],
   "source": [
    "[0] * 2"
   ]
  },
  {
   "cell_type": "code",
   "execution_count": 2,
   "metadata": {},
   "outputs": [
    {
     "data": {
      "text/plain": [
       "[[0], [0]]"
      ]
     },
     "execution_count": 2,
     "metadata": {},
     "output_type": "execute_result"
    }
   ],
   "source": [
    "b = [[0] for _ in range(2)]\n",
    "b"
   ]
  },
  {
   "cell_type": "code",
   "execution_count": 5,
   "metadata": {},
   "outputs": [
    {
     "data": {
      "text/plain": [
       "[[0, 0], [0, 0]]"
      ]
     },
     "execution_count": 5,
     "metadata": {},
     "output_type": "execute_result"
    }
   ],
   "source": [
    "c = [[0] * 2 for _ in range(2)]\n",
    "c"
   ]
  },
  {
   "cell_type": "code",
   "execution_count": 8,
   "metadata": {},
   "outputs": [
    {
     "data": {
      "text/plain": [
       "[[[0, 0], [0, 0]], [[0, 0], [0, 0]], [[0, 0], [0, 0]]]"
      ]
     },
     "execution_count": 8,
     "metadata": {},
     "output_type": "execute_result"
    }
   ],
   "source": [
    "d = [[[0] * 2 for _ in range(2)] for _ in range(3)]\n",
    "d"
   ]
  },
  {
   "cell_type": "code",
   "execution_count": null,
   "metadata": {},
   "outputs": [],
   "source": [
    "dp = [[[-float('inf'), -float('inf')] for _ in range(k + 1)] for _ in range(n+1)]  # 易写错\n"
   ]
  }
 ],
 "metadata": {
  "kernelspec": {
   "display_name": "Python 3",
   "language": "python",
   "name": "python3"
  },
  "language_info": {
   "codemirror_mode": {
    "name": "ipython",
    "version": 3
   },
   "file_extension": ".py",
   "mimetype": "text/x-python",
   "name": "python",
   "nbconvert_exporter": "python",
   "pygments_lexer": "ipython3",
   "version": "3.7.3"
  },
  "toc": {
   "base_numbering": 1,
   "nav_menu": {},
   "number_sections": true,
   "sideBar": true,
   "skip_h1_title": false,
   "title_cell": "Table of Contents",
   "title_sidebar": "Contents",
   "toc_cell": false,
   "toc_position": {},
   "toc_section_display": true,
   "toc_window_display": false
  }
 },
 "nbformat": 4,
 "nbformat_minor": 4
}
