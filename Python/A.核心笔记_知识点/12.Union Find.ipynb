{
 "cells": [
  {
   "cell_type": "markdown",
   "metadata": {},
   "source": [
    "# Union Find\n",
    "\n",
    "* 动态连通性(Dynamic Connectivity）\n",
    "\n",
    "* 给出两个节点，判断它们是否连通，如果连通，不需要给出具体的路径 --> union find / DFS\n",
    "* 给出两个节点，判断它们是否连通，如果连通，需要给出具体的路径 --> DFS\n",
    "* https://blog.csdn.net/dm_vincent/article/details/7655764\n",
    "* https://www.jianshu.com/p/72da76a34db1\n",
    "* https://www.jianshu.com/p/8d3e9bbe135a\n",
    "* 即判断是否属于同一个group\n",
    "* 称连接在一起就像形成了一个圈子似的，成为一个组(Component)"
   ]
  },
  {
   "cell_type": "markdown",
   "metadata": {},
   "source": [
    "# API\n",
    "\n",
    "* connected(): 判断 p 和 q 是否相连，这里要调用 find(p) 和 find(q)，如果二者属于同一个组，则认为是相连的，即isConnected()返回true.\n",
    "* union(): 如果未相连，则连接 p 和 q, 如果已相连，则可以不做啥\n",
    "* find(): 查找 p 或 q 属于哪个组中 (如圈子），这里返回值是整数，作为组的标识符(component identifier)。\n",
    "* count(): 返回组的数量\n"
   ]
  },
  {
   "cell_type": "code",
   "execution_count": null,
   "metadata": {},
   "outputs": [],
   "source": [
    "class UF:\n",
    "    def __init__(self,N):\n",
    "    def union(self,p,q): # initialize N sites with integer names\n",
    "    def find(self,p): #return component identifier for p\n",
    "    def connected(self,p,q): #return true if p and q are in the same component\n",
    "    def count(): #number of components"
   ]
  },
  {
   "cell_type": "markdown",
   "metadata": {},
   "source": [
    "# Quick-Find\n"
   ]
  },
  {
   "cell_type": "markdown",
   "metadata": {},
   "source": [
    "**Quick-Find**   \n",
    "\n",
    "\n",
    "\n",
    "**Quick-Union**   \n",
    "\n",
    "\n",
    "\n",
    "**Weighted Quick-Union**\n",
    "\n",
    "\n",
    "**Weighted Quick-Union with Path Compression**"
   ]
  },
  {
   "cell_type": "code",
   "execution_count": 5,
   "metadata": {},
   "outputs": [
    {
     "data": {
      "text/plain": [
       "-2"
      ]
     },
     "execution_count": 5,
     "metadata": {},
     "output_type": "execute_result"
    }
   ],
   "source": [
    "-3 // 2"
   ]
  },
  {
   "cell_type": "code",
   "execution_count": 7,
   "metadata": {},
   "outputs": [
    {
     "data": {
      "text/plain": [
       "-1"
      ]
     },
     "execution_count": 7,
     "metadata": {},
     "output_type": "execute_result"
    }
   ],
   "source": [
    "int(-3 / 2)"
   ]
  },
  {
   "cell_type": "code",
   "execution_count": 1,
   "metadata": {},
   "outputs": [
    {
     "name": "stdout",
     "output_type": "stream",
     "text": [
      "deque([1, 2, 3])\n"
     ]
    }
   ],
   "source": [
    "from collections import deque\n",
    "\n",
    "queue = deque()\n",
    "queue.append(1)\n",
    "queue.append(2)\n",
    "queue.append(3)\n",
    "print(queue)"
   ]
  }
 ],
 "metadata": {
  "kernelspec": {
   "display_name": "Python 3",
   "language": "python",
   "name": "python3"
  },
  "language_info": {
   "codemirror_mode": {
    "name": "ipython",
    "version": 3
   },
   "file_extension": ".py",
   "mimetype": "text/x-python",
   "name": "python",
   "nbconvert_exporter": "python",
   "pygments_lexer": "ipython3",
   "version": "3.7.3"
  },
  "toc": {
   "base_numbering": 1,
   "nav_menu": {},
   "number_sections": true,
   "sideBar": true,
   "skip_h1_title": false,
   "title_cell": "Table of Contents",
   "title_sidebar": "Contents",
   "toc_cell": false,
   "toc_position": {},
   "toc_section_display": true,
   "toc_window_display": false
  }
 },
 "nbformat": 4,
 "nbformat_minor": 4
}
