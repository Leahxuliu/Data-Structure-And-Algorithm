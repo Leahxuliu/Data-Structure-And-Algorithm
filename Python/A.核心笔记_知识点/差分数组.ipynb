{
 "cells": [
  {
   "cell_type": "markdown",
   "metadata": {},
   "source": [
    "# 差分数组\n",
    "\n",
    "* 跟前缀和相似\n",
    "* 先对nums数组构造一个diff差分数组，diff[i]就是nums[i]和nums[i-1]之差"
   ]
  },
  {
   "cell_type": "code",
   "execution_count": 1,
   "metadata": {},
   "outputs": [
    {
     "name": "stdout",
     "output_type": "stream",
     "text": [
      "[8, -6, 4, -3, -2]\n"
     ]
    }
   ],
   "source": [
    "# 构造差分数组\n",
    "nums = [8, 2, 6, 3, 1]\n",
    "\n",
    "diff = [nums[0]]\n",
    "for i in range(1, len(nums)):\n",
    "    diff.append(nums[i] - nums[i - 1])\n",
    "\n",
    "print(diff)"
   ]
  },
  {
   "cell_type": "code",
   "execution_count": 3,
   "metadata": {},
   "outputs": [
    {
     "name": "stdout",
     "output_type": "stream",
     "text": [
      "[8, 2, 6, 3, 1]\n"
     ]
    }
   ],
   "source": [
    "# 通过差分数组反推出原始数组nums\n",
    "diff = [8, -6, 4, -3, -2]\n",
    "\n",
    "res = [diff[0]]\n",
    "for i in range(1, len(diff)):\n",
    "    res.append(diff[i] + res[i - 1])  # 易错\n",
    "    # B - A = C --> C(diff) + A(nums) = B(nums)\n",
    "\n",
    "print(res)"
   ]
  },
  {
   "cell_type": "markdown",
   "metadata": {},
   "source": [
    "这样构造差分数组 diff，就可以快速进行区间增减的操作，如果你想对区间 nums[i..j] 的元素全部加 3，那么只需要让 diff[i] += 3，然后再让 diff[j+1] -= 3 即可："
   ]
  },
  {
   "cell_type": "code",
   "execution_count": null,
   "metadata": {},
   "outputs": [],
   "source": [
    "nums = [8, 2, 6, 3, 1]\n",
    "diff = [8, -6, 4, -3, -2]\n",
    "\n",
    "nums[i...j] + 3\n",
    "\n",
    "           i     j\n",
    "nums = [8, 5, 9, 6, 1]\n",
    "diff = [8, -3, 4, -3, -5]\n",
    "           i          j+1"
   ]
  }
 ],
 "metadata": {
  "kernelspec": {
   "display_name": "Python 3",
   "language": "python",
   "name": "python3"
  },
  "language_info": {
   "codemirror_mode": {
    "name": "ipython",
    "version": 3
   },
   "file_extension": ".py",
   "mimetype": "text/x-python",
   "name": "python",
   "nbconvert_exporter": "python",
   "pygments_lexer": "ipython3",
   "version": "3.7.3"
  },
  "toc": {
   "base_numbering": 1,
   "nav_menu": {},
   "number_sections": true,
   "sideBar": true,
   "skip_h1_title": false,
   "title_cell": "Table of Contents",
   "title_sidebar": "Contents",
   "toc_cell": false,
   "toc_position": {},
   "toc_section_display": true,
   "toc_window_display": false
  }
 },
 "nbformat": 4,
 "nbformat_minor": 4
}
