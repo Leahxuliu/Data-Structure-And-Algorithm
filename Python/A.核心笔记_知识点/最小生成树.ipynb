{
 "cells": [
  {
   "cell_type": "markdown",
   "metadata": {},
   "source": [
    "# 最小生成树\n",
    "\n",
    "* 把所有点连在一起最小的树\n",
    "\n",
    "* 无向图\n",
    "\n",
    "**不能是有向图的原因：**   \n",
    "1->2 8, 1->3 8, 2->3 4, 3->2 3   \n",
    "有平行边的时候，且其它边都是相等的距离，那么不一定能得到最小生成树\n"
   ]
  },
  {
   "cell_type": "markdown",
   "metadata": {},
   "source": [
    "LC\n",
    "\n",
    "* 1584\n"
   ]
  },
  {
   "cell_type": "markdown",
   "metadata": {},
   "source": [
    "# Prim\n",
    "\n",
    "## 思路\n",
    "\n",
    "* 关键点在于每次都找两点之间的最短，把所有点连接起来就是最小生成树\n",
    "* 把所有点以inf的起始放入\n",
    "* 随意找一个起始点，起始权重是0\n",
    "* 每一次pop最短的那个点\n",
    "* 遍历其相邻点，改变path， 这里的path是指两点之间的最短权重\n",
    "    * Dijkstra里面的path是source点到该点之间的最短权重\n",
    "* 注意已经找到最短的点就不要再继续找了"
   ]
  },
  {
   "cell_type": "code",
   "execution_count": null,
   "metadata": {},
   "outputs": [],
   "source": [
    "# Prim优化版 非heap\n",
    "\n",
    "from collections import defaultdict\n",
    "\n",
    "class Prim:\n",
    "    def findMST(self, n: int, edges: List[List[int]]):  # node: 0-start\n",
    "        # adjancent list\n",
    "        adj = defaultdict(dict)\n",
    "        \n",
    "        for i, j, w in edges:\n",
    "            adj[i][j] = w\n",
    "            adj[j][i] = w\n",
    "        \n",
    "        dist = {node: float('inf') for node in range(n)}\n",
    "        dist[0] = 0\n",
    "        res = {}\n",
    "        count = 0\n",
    "        \n",
    "        while dist:\n",
    "            i, w = sorted(dist.items(), key = lambda x:x[1])[0]\n",
    "            dist.pop(i)\n",
    "            \n",
    "            res[i] = w\n",
    "            count += w\n",
    "            \n",
    "            for j in adj[i]:\n",
    "                if j not in res:\n",
    "                    dist[j] = min(dist[j], adj[i][j])\n",
    "        \n",
    "        return count\n",
    "        "
   ]
  },
  {
   "cell_type": "markdown",
   "metadata": {},
   "source": [
    "* 如只有点，没有边\n",
    "* 点是坐标点\n",
    "* 找到把所有点都连接起来的最短权重"
   ]
  },
  {
   "cell_type": "code",
   "execution_count": null,
   "metadata": {},
   "outputs": [],
   "source": [
    "# 跟原有的prim模版不变\n",
    "# 改变建图\n",
    "\n",
    "n = len(points)\n",
    "adj = defaultdict(dict)\n",
    "\n",
    "for i in range(n - 1):\n",
    "    for j in range(i + 1, n):\n",
    "        adj[i][j] = abs(points[i][1] - points[j][1]) + abs(points[i][0] - points[j][0])\n",
    "        adj[j][i] = abs(points[i][1] - points[j][1]) + abs(points[i][0] - points[j][0])\n",
    "\n",
    "        \n",
    "        \n",
    "        \n",
    "# 优化\n",
    "class Solution:\n",
    "    def minCostConnectPoints(self, points: List[List[int]]) -> int:\n",
    "        count = 0\n",
    "\n",
    "        dist = {(x, y): float('inf') for x, y in points}\n",
    "        # 任意取一点作为起始点\n",
    "        maked = [dist.popitem()[0]]\n",
    "\n",
    "        while dist:\n",
    "            # 已经done里面的最后一个point与剩下的point对比（也就是分成两个set）\n",
    "            # 找到最短的横切边\n",
    "            for point, value in dist.items():\n",
    "                x, y = point\n",
    "                i, j = maked[-1]\n",
    "                temp = abs(x - i) + abs(y - j)\n",
    "                dist[point] = min(value, temp)\n",
    "            point, value = sorted(dist.items(), key = lambda x:x[1])[0]\n",
    "            count += value\n",
    "            dist.pop(point)\n",
    "            maked.append(point)\n",
    "        return count"
   ]
  },
  {
   "cell_type": "markdown",
   "metadata": {},
   "source": [
    "## 思路2\n"
   ]
  },
  {
   "cell_type": "code",
   "execution_count": null,
   "metadata": {},
   "outputs": [],
   "source": [
    "# Prim优化版 heap版\n",
    "\n",
    "from collections import defaultdict\n",
    "from heapq import *\n",
    "\n",
    "class Prim:\n",
    "    def findMST(self, n: int, edges: List[List[int]]):  # node: 0-start\n",
    "        # adjancent list\n",
    "        adj = defaultdict(dict)\n",
    "\n",
    "        for i, j, w in edges:\n",
    "            adj[i][j] = w\n",
    "            adj[j][i] = w\n",
    "\n",
    "        heap = [(0, 0)]  # path, node\n",
    "        res = {}\n",
    "        count = 0\n",
    "\n",
    "        while heap:\n",
    "            w, i = heappop(heap)\n",
    "\n",
    "            if i not in res:\n",
    "                count += w\n",
    "                res[i] = w\n",
    "\n",
    "            if len(res) == n:\n",
    "                break\n",
    "\n",
    "            for j in adj[i]:\n",
    "                if j not in res:\n",
    "                    heappush(heap, (adj[i][j], j))\n",
    "\n",
    "        return count\n"
   ]
  },
  {
   "cell_type": "code",
   "execution_count": null,
   "metadata": {},
   "outputs": [],
   "source": []
  },
  {
   "cell_type": "code",
   "execution_count": null,
   "metadata": {},
   "outputs": [],
   "source": []
  },
  {
   "cell_type": "markdown",
   "metadata": {},
   "source": [
    "# Kruskal's Algorithm\n",
    "\n",
    "* insert all edges into PQ\n",
    "* Repeat: Remove smallest weight edge. Add to MST if no cycle created\n",
    "  * check cycle: Union(node1, node2)"
   ]
  },
  {
   "cell_type": "code",
   "execution_count": null,
   "metadata": {},
   "outputs": [],
   "source": [
    "def kruskal(pair, n):\n",
    "    def find(v):\n",
    "        while groupTag[v] != v:\n",
    "            groupTag[v] = groupTag[groupTag[v]]\n",
    "            v = groupTag[v]\n",
    "        return v\n",
    "    \n",
    "    '''\n",
    "    def find(v):\n",
    "        if groupTag[v] == v:\n",
    "            return v\n",
    "        else:\n",
    "            return find(groupTag[v])\n",
    "    '''\n",
    "    \n",
    "    def union(root1, root2):\n",
    "        \n",
    "        \n",
    "        if rank[root1] < rank[root2]:\n",
    "            root1, root2 = root2, root1\n",
    "        rank[root1] += rank[root2]\n",
    "        groupTag[root2] = root1\n",
    "        \n",
    "        return\n",
    "    \n",
    "    #newPair = [[w, i, j] for i, j, w in pair]\n",
    "    #newPair.sort()\n",
    "    heap = [(w, i, j) for i, j, w in pair]\n",
    "    heapify(heap)\n",
    "    \n",
    "    res = 0\n",
    "    edgeTime = 0\n",
    "    groupTag = {i:i for i in range(n)}\n",
    "    rank = {i : 1 for i in range(n)}\n",
    "    \n",
    "    \n",
    "    while edgeTime != n - 1:\n",
    "        w, i, j = heappop(heap)\n",
    "        root1 = find(i)\n",
    "        root2 = find(j)\n",
    "        if root1 != root2:\n",
    "            union(root1, root2)\n",
    "            res += w\n",
    "            edgeTime += 1\n",
    "    return res\n"
   ]
  }
 ],
 "metadata": {
  "kernelspec": {
   "display_name": "Python 3",
   "language": "python",
   "name": "python3"
  },
  "language_info": {
   "codemirror_mode": {
    "name": "ipython",
    "version": 3
   },
   "file_extension": ".py",
   "mimetype": "text/x-python",
   "name": "python",
   "nbconvert_exporter": "python",
   "pygments_lexer": "ipython3",
   "version": "3.7.3"
  },
  "toc": {
   "base_numbering": 1,
   "nav_menu": {},
   "number_sections": true,
   "sideBar": true,
   "skip_h1_title": false,
   "title_cell": "Table of Contents",
   "title_sidebar": "Contents",
   "toc_cell": false,
   "toc_position": {},
   "toc_section_display": true,
   "toc_window_display": false
  }
 },
 "nbformat": 4,
 "nbformat_minor": 4
}
