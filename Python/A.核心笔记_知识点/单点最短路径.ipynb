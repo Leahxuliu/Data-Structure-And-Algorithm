{
 "cells": [
  {
   "cell_type": "markdown",
   "metadata": {},
   "source": [
    "# Heap优化的Dijkstra\n",
    "\n",
    "迪杰斯特拉算法\n",
    "\n",
    "## 思路\n",
    "\n",
    "* 从起点开始，把相邻边以及对应点加入heap\n",
    "* pop最短的边，作为该点的最短路径加入到res中，然后加入该边对应的点的相邻边的积累和以及对应的点\n",
    "* 直到所有点都被加入到res里\n",
    "* 类似BFS\n",
    "* 区别在于：\n",
    "    * 某点可以多次进入heap，选取最小的pop，pop出来以后，放入res，也就是代表该点已经找到最短路径，不需要再往heap里面加了\n",
    "    * a点在heap里面可以是不止一次的出现，pop出来的是最短路径\n",
    "    * 如果res的长度等于N，则全部node的最短路径都已经找到，返回res\n",
    "    \n",
    "    \n",
    "## 复杂度\n",
    "\n",
    "* 时间复杂度：\n",
    "    * O(ElogE), e is length of edges\n",
    "* 空间复杂度:\n",
    "    * O(E + N), E is the graph space(领接表) + N is ,ax space used in heap"
   ]
  },
  {
   "cell_type": "markdown",
   "metadata": {},
   "source": [
    "## 模版"
   ]
  },
  {
   "cell_type": "code",
   "execution_count": 2,
   "metadata": {},
   "outputs": [
    {
     "data": {
      "text/plain": [
       "{2: 0, 1: 1, 3: 1, 4: 2}"
      ]
     },
     "execution_count": 2,
     "metadata": {},
     "output_type": "execute_result"
    }
   ],
   "source": [
    "# heap 优化版模型\n",
    "# 以边为基准\n",
    "# from lichief\n",
    "\n",
    "from collections import defaultdict\n",
    "from heapq import *\n",
    "\n",
    "# pairs(i, j, weight)   the number of nodes     the start point\n",
    "def shortestPath(pairs, N, K):\n",
    "    # transfer pairs into graph [i:{j:w}]\n",
    "    graph = defaultdict(dict)\n",
    "    for i, j, w in pairs:\n",
    "        graph[i][j] = w\n",
    "    \n",
    "    # use the heap to find the shortest path\n",
    "    # 切记 一定是path在前，因为要以path来排序\n",
    "    heap = [(0, K)]\n",
    "    res = {}\n",
    "    \n",
    "    while heap:\n",
    "        w, i = heappop(heap)\n",
    "        \n",
    "        if i in res:\n",
    "            continue\n",
    "        else:\n",
    "            res[i] = w\n",
    "        \n",
    "        if len(res) == N:\n",
    "            return res\n",
    "        \n",
    "        for j in graph[i]:\n",
    "            if j not in res:\n",
    "                heappush(heap, (w + graph[i][j], j))\n",
    "                \n",
    "pairs = [[2, 1, 1], [2, 3, 1], [3, 4, 1]]\n",
    "N = 4\n",
    "K = 2\n",
    "\n",
    "shortestPath(pairs, N, K)"
   ]
  },
  {
   "cell_type": "code",
   "execution_count": null,
   "metadata": {},
   "outputs": [],
   "source": [
    "# 基本模型\n",
    "# 先把所有点都加入到dict里\n",
    "# 每次pop最近的一个点\n",
    "# 以点为基准\n",
    "# from CS61B\n",
    "\n",
    "from collections import defaultdict\n",
    "\n",
    "class Solution:\n",
    "    def networkDelayTime(self, times: List[List[int]], N: int, K: int) -> int:\n",
    "        # bulid the graph\n",
    "        graph = defaultdict(dict)\n",
    "        for i, j, w in times:\n",
    "            graph[i][j] = w\n",
    "\n",
    "        dist = {node: float('inf') for node in range(1, N + 1)}\n",
    "        dist[K] = 0\n",
    "        \n",
    "        res = {}\n",
    "        while dist:\n",
    "            node, path = sorted(dist.items(), key = lambda x:x[1])[0]\n",
    "            dist.pop(node)\n",
    "            res[node] = path\n",
    "            for j in graph[node]:\n",
    "                if j not in res:\n",
    "                    dist[j] = min(dist[j], path + graph[node][j]) \n",
    "        res = sorted(res.values(), key = lambda x:x)[-1]\n",
    "        return res if res != float('inf') else -1\n",
    "        \n"
   ]
  },
  {
   "cell_type": "markdown",
   "metadata": {},
   "source": [
    "## LC\n",
    "\n",
    "* 743"
   ]
  }
 ],
 "metadata": {
  "kernelspec": {
   "display_name": "Python 3",
   "language": "python",
   "name": "python3"
  },
  "language_info": {
   "codemirror_mode": {
    "name": "ipython",
    "version": 3
   },
   "file_extension": ".py",
   "mimetype": "text/x-python",
   "name": "python",
   "nbconvert_exporter": "python",
   "pygments_lexer": "ipython3",
   "version": "3.7.3"
  },
  "toc": {
   "base_numbering": 1,
   "nav_menu": {},
   "number_sections": true,
   "sideBar": true,
   "skip_h1_title": false,
   "title_cell": "Table of Contents",
   "title_sidebar": "Contents",
   "toc_cell": false,
   "toc_position": {},
   "toc_section_display": true,
   "toc_window_display": false
  }
 },
 "nbformat": 4,
 "nbformat_minor": 4
}
