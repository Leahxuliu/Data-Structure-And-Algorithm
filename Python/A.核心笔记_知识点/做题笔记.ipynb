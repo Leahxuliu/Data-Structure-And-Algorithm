{
 "cells": [
  {
   "cell_type": "markdown",
   "metadata": {},
   "source": [
    "* find the operation numbers\n",
    "* Modify steps\n",
    "* optimal solution\n",
    "* Traversing direction\n",
    "* Minimum number of coins\n",
    "* Initial value\n",
    "* Maximum sum of non-adjacent numbers 隣接しない数値の最大合計\n",
    "* set left and right boundary as 1 and num//2\n",
    "* calculate mid as (l + r) // 2, if mid * mid == num, return True   \n",
    "    if mid^2 < num, set left as mid   \n",
    "    else, set right as mid   \n",
    "* traverse i from 0 to end   \n",
    "   traverse j from i + 1 to end\n",
    "* Calculate whether i plus j equals 2\n",
    "* Convert A to B\n",
    "* create a dummy\n",
    "* the stack was used by recursion\n",
    "* create graphTag by using the index as tag\n",
    "* Make A have the property of B\n",
    "* lowercase letters\n",
    "* initialize left as the leftmost boundary possible"
   ]
  },
  {
   "cell_type": "markdown",
   "metadata": {},
   "source": [
    "\n",
    "## Union find\n",
    "1. create graphTag by using the index as tag\n",
    "2. scan the paris(i, j), M[i][j] == 1\n",
    "    use dfs() to find the i and j's root\n",
    "    if i root == j root, pass\n",
    "    if i root != j root, make j root == i root, and count the times\n",
    "3. res = the number of students - times\n",
    "\n",
    "\n",
    "gT = [x for x in range(N)]"
   ]
  },
  {
   "cell_type": "code",
   "execution_count": null,
   "metadata": {},
   "outputs": [],
   "source": [
    "List[List[int]]\n"
   ]
  },
  {
   "cell_type": "code",
   "execution_count": null,
   "metadata": {},
   "outputs": [],
   "source": []
  },
  {
   "cell_type": "code",
   "execution_count": 9,
   "metadata": {},
   "outputs": [],
   "source": [
    "S = 'abbba'\n",
    "if S[2 - 1:2 + 2] != S[2] * 3 != S[2 - 2: 2 + 1]:\n",
    "    print('a')"
   ]
  },
  {
   "cell_type": "code",
   "execution_count": 10,
   "metadata": {},
   "outputs": [
    {
     "data": {
      "text/plain": [
       "'bbb'"
      ]
     },
     "execution_count": 10,
     "metadata": {},
     "output_type": "execute_result"
    }
   ],
   "source": [
    "S[2 - 1:2 + 2]"
   ]
  },
  {
   "cell_type": "code",
   "execution_count": 11,
   "metadata": {},
   "outputs": [
    {
     "data": {
      "text/plain": [
       "'abb'"
      ]
     },
     "execution_count": 11,
     "metadata": {},
     "output_type": "execute_result"
    }
   ],
   "source": [
    "S[2 - 2: 2 + 1]"
   ]
  }
 ],
 "metadata": {
  "kernelspec": {
   "display_name": "Python 3",
   "language": "python",
   "name": "python3"
  },
  "language_info": {
   "codemirror_mode": {
    "name": "ipython",
    "version": 3
   },
   "file_extension": ".py",
   "mimetype": "text/x-python",
   "name": "python",
   "nbconvert_exporter": "python",
   "pygments_lexer": "ipython3",
   "version": "3.7.3"
  },
  "toc": {
   "base_numbering": 1,
   "nav_menu": {},
   "number_sections": true,
   "sideBar": true,
   "skip_h1_title": false,
   "title_cell": "Table of Contents",
   "title_sidebar": "Contents",
   "toc_cell": false,
   "toc_position": {},
   "toc_section_display": true,
   "toc_window_display": false
  }
 },
 "nbformat": 4,
 "nbformat_minor": 4
}
