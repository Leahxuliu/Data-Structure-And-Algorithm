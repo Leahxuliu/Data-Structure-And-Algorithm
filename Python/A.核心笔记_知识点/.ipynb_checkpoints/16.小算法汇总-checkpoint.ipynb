{
 "cells": [
  {
   "cell_type": "code",
   "execution_count": 2,
   "metadata": {},
   "outputs": [
    {
     "name": "stdout",
     "output_type": "stream",
     "text": [
      "(1, 2)\n",
      "(4, 5)\n"
     ]
    }
   ],
   "source": [
    "c = [(1,4), [2, 5]]\n",
    "\n",
    "for elem in zip(*c):\n",
    "    print(elem)"
   ]
  },
  {
   "cell_type": "markdown",
   "metadata": {},
   "source": [
    "# python书写格式\n",
    "\n",
    "## 命名\n",
    "\n",
    "* class名 weGene\n",
    "* def名 we_gene\n",
    "\n",
    "## 注释\n",
    "```python\n",
    "class Solution(object):   \n",
    "    def rotate(self, matrix):   \n",
    "        \"\"\"   \n",
    "        :type matrix: List[List[int]]   \n",
    "        :rtype: None Do not return anything, modify matrix in-place instead.   \n",
    "        \"\"\"\n",
    " ```"
   ]
  },
  {
   "cell_type": "markdown",
   "metadata": {},
   "source": [
    "# 数学类\n",
    "\n",
    "## 判断整除\n",
    "* 判断A + B能否被K整除：A%K + B%K = K即可\n",
    "\n",
    "## 筛选质数\n",
    "* 筛选1到n之间的质数prime number\n",
    "    * 厄拉多塞筛法：\n",
    "        * 先将 2~n 的各个数放入表中，然后在2的上面画一个圆圈，然后划去2的其他倍数；\n",
    "        * 第一个既未画圈又没有被划去的数是3，将它画圈，再划去3的其他倍数；\n",
    "        * 现在既未画圈又没有被划去的第一个数 是5，将它画圈，并划去5的其他倍数……\n",
    "        * 依次类推，一直到所有小于或等于 n 的各数都画了圈或划去为止。这时，表中画了圈的以及未划去的那些数正好就是小于 n 的素数\n",
    "        * **当你要画圈的素数的平方大于 n**时，那么后面没有划去的数都是素数，就不用继续判了\n",
    "* 204. Count Primes\n",
    "    * 思路：\n",
    "        * 建立一个lst，每一个index就代表该integer，初始是1，1表示是素数\n",
    "        * lst[0] = 0, lst[1] = 0, 0和1都是素数\n",
    "        * 从2开始遍历\n",
    "        * 2的倍数的integer都不是素数，lst[2 * times] = 0\n",
    "        * 反复循环\n",
    "        * 当遍历到的数，i*i > n的时候就可以停止遍历了\n",
    "        \n",
    "## 几何规律\n",
    "* 矩阵顺时针90度旋转规律\n",
    "    * 直接法：第i行第j列 i, j -> 倒数第i列，正数第j行 j, -(i + 1)\n",
    "        * 相当于，第一行变成了最后一列，转变后的行index对应原本列index\n",
    "    * 间接法：先上下对折反转，i，j -> -(i + 1), j; 再沿着对角线翻折 -(i + 1), j -> j, -(i + 1) \n",
    "* 面试题 01.07. 旋转矩阵 （inplace）\n",
    "    * 直接法在inplace的时候相对麻烦\n",
    "    \n",
    "\n"
   ]
  },
  {
   "cell_type": "code",
   "execution_count": null,
   "metadata": {},
   "outputs": [],
   "source": [
    "'''\n",
    "inplace\n",
    "上下对折\n",
    "[i, j] <--> [-(i + 1), j]\n",
    "对角线对折\n",
    "[i, j] <--> [j, i]\n",
    "'''\n",
    "class Solution(object):\n",
    "    def rotate(self, matrix):\n",
    "        \"\"\"\n",
    "        :type matrix: List[List[int]]\n",
    "        :rtype: None Do not return anything, modify matrix in-place instead.\n",
    "        \"\"\"\n",
    "        if matrix == [] or matrix == [[]]:\n",
    "            return matrix\n",
    "        \n",
    "        N = len(matrix)\n",
    "\n",
    "        for i in range(N // 2):\n",
    "            for j in range(N):\n",
    "                matrix[i][j], matrix[-(i + 1)][j] = matrix[-(i + 1)][j], matrix[i][j]\n",
    "        \n",
    "        for i in range(N):\n",
    "            for j in range(i):\n",
    "                matrix[i][j], matrix[j][i] = matrix[j][i], matrix[i][j]\n",
    "\n",
    "        return matrix "
   ]
  },
  {
   "cell_type": "code",
   "execution_count": 3,
   "metadata": {},
   "outputs": [
    {
     "data": {
      "text/plain": [
       "-2"
      ]
     },
     "execution_count": 3,
     "metadata": {},
     "output_type": "execute_result"
    }
   ],
   "source": [
    "-3 // 2"
   ]
  },
  {
   "cell_type": "markdown",
   "metadata": {},
   "source": [
    "## 数的转换\n",
    "\n",
    "\n",
    "### 十进制转多进制\n",
    "\n",
    "**LC**   \n",
    "    * 504\n",
    "    * \n",
    "\n",
    "\n",
    "\n",
    "\n",
    "* 余数组成的数组逆序就是多进制的结果\n",
    "\n",
    "\n",
    "```python\n",
    "res = ''\n",
    "while num > 0:\n",
    "    res = str(num % 2) + res\n",
    "    num = num // 7\n",
    "```"
   ]
  },
  {
   "cell_type": "code",
   "execution_count": 11,
   "metadata": {},
   "outputs": [
    {
     "data": {
      "text/plain": [
       "-1"
      ]
     },
     "execution_count": 11,
     "metadata": {},
     "output_type": "execute_result"
    }
   ],
   "source": [
    "-1 // 7  # 永远到不了0"
   ]
  },
  {
   "cell_type": "code",
   "execution_count": null,
   "metadata": {},
   "outputs": [],
   "source": [
    "# 注意负数！！！！！！\n",
    "\n",
    "class Solution:\n",
    "    def convertToBase7(self, num: int) -> str:\n",
    "        if num == 0:\n",
    "            return str(0)\n",
    "\n",
    "        res = ''\n",
    "        if num > 0: \n",
    "            flag = ''\n",
    "        else:\n",
    "            flag = '-' \n",
    "        \n",
    "        num = abs(num)\n",
    "        while num != 0:\n",
    "            res = str(num % 7) + res\n",
    "            num = num // 7\n",
    "            \n",
    "        return flag + res"
   ]
  },
  {
   "cell_type": "code",
   "execution_count": 4,
   "metadata": {},
   "outputs": [
    {
     "name": "stdout",
     "output_type": "stream",
     "text": [
      "输入数字：3\n",
      "十进制数为： 3\n",
      "转换为二进制为： 0b11\n",
      "转换为八进制为： 0o3\n",
      "转换为十六进制为： 0x3\n"
     ]
    }
   ],
   "source": [
    "dec = int(input(\"输入数字：\"))\n",
    " \n",
    "print(\"十进制数为：\", dec)\n",
    "print(\"转换为二进制为：\", bin(dec))\n",
    "print(\"转换为八进制为：\", oct(dec))\n",
    "print(\"转换为十六进制为：\", hex(dec))"
   ]
  },
  {
   "cell_type": "code",
   "execution_count": 6,
   "metadata": {},
   "outputs": [
    {
     "data": {
      "text/plain": [
       "str"
      ]
     },
     "execution_count": 6,
     "metadata": {},
     "output_type": "execute_result"
    }
   ],
   "source": [
    "type(bin(dec))"
   ]
  },
  {
   "cell_type": "code",
   "execution_count": 7,
   "metadata": {},
   "outputs": [
    {
     "name": "stdout",
     "output_type": "stream",
     "text": [
      "15\n",
      "1342\n",
      "15\n"
     ]
    }
   ],
   "source": [
    "# 使用 int() 函数 ，第一个参数是字符串 '0Xff' ,第二个参数是说明，这个字符串是几进制的数。  转化的结果是一个十进制数。\n",
    "\n",
    "print(int('0xf',16))  # 16--> 10\n",
    "print(int('10100111110',2))  # 2 --> 10\n",
    "print(int('17',8))  # 8 --> 10"
   ]
  },
  {
   "cell_type": "markdown",
   "metadata": {},
   "source": [
    "### 数字与罗马\n",
    "\n",
    "#### 罗马转数字\n",
    "\n",
    "* 13 (亚麻高频)\n",
    "\n",
    "**思路:**   \n",
    "* 遍历罗马字符串\n",
    "* if i >= i + 1 则res += i\n",
    "* if i < i + 1 则res -= i\n",
    "* 最后一个直接加\n"
   ]
  },
  {
   "cell_type": "code",
   "execution_count": null,
   "metadata": {},
   "outputs": [],
   "source": [
    "class Solution:\n",
    "    def romanToInt(self, s: str) -> int:\n",
    "        info = {'I': 1, 'V':5, 'X': 10, 'L':50, 'C': 100, 'D': 500, 'M': 1000}\n",
    "\n",
    "        res = 0\n",
    "        for i in range(len(s)):\n",
    "            if i == len(s) - 1:\n",
    "                res += info[s[i]]\n",
    "            else:\n",
    "                if info[s[i]] >= info[s[i + 1]]:\n",
    "                    res += info[s[i]]\n",
    "                else:\n",
    "                    res -= info[s[i]]\n",
    "        return res"
   ]
  },
  {
   "cell_type": "markdown",
   "metadata": {},
   "source": [
    "#### 数字转罗马\n",
    "\n",
    "* 14\n",
    "\n",
    "**思路**   \n",
    "* 同一个字母，只能出现在一个地方，可连续可单独\n",
    "* 建立一个dict\n",
    "    * 1000: 'M', 900: 'CM', 500: 'D', 400: 'CD', 100: 'C', 90: 'XC', 50: 'L', 40: 'XL', 10: 'X', 9: 'IX', 5: 'V', 4: 'IV', 1: 'I'\n",
    "    * 一定要把IV，IX这些也放入到dict里\n",
    "    * 一定要是从大到小排\n",
    "* 遍历list，找到第一个比num小的数\n",
    "* num - 找到的罗马值\n",
    "* 反复重复\n",
    "* 罗马数不能代表负数，也没有0"
   ]
  },
  {
   "cell_type": "code",
   "execution_count": null,
   "metadata": {},
   "outputs": [],
   "source": [
    "class Solution:\n",
    "    def intToRoman(self, num: int) -> str:\n",
    "        info = {1000: 'M', 900: 'CM', 500: 'D', 400: 'CD', 100: 'C', 90:'XC', 50: 'L', 40: 'XL', 10: 'X', 9: 'IX', 5: 'V', 4: 'IV', 1: 'I'}\n",
    "\n",
    "        res = ''\n",
    "        while num > 0:\n",
    "\n",
    "            for i in info.keys():\n",
    "                if i <= num:  # 易错 一定要有=\n",
    "                    res += info[i]\n",
    "                    num -= i\n",
    "                    break\n",
    "        return res \n"
   ]
  },
  {
   "cell_type": "markdown",
   "metadata": {},
   "source": [
    "### 闰年\n",
    "\n",
    "* 四年一闰，百年不闰，四百年再闰"
   ]
  },
  {
   "cell_type": "markdown",
   "metadata": {},
   "source": [
    "# 实现数据结构\n",
    "\n",
    "## 手动实现堆"
   ]
  },
  {
   "cell_type": "code",
   "execution_count": 16,
   "metadata": {},
   "outputs": [
    {
     "name": "stdout",
     "output_type": "stream",
     "text": [
      "2\n"
     ]
    }
   ],
   "source": []
  },
  {
   "cell_type": "code",
   "execution_count": null,
   "metadata": {},
   "outputs": [],
   "source": []
  },
  {
   "cell_type": "code",
   "execution_count": 14,
   "metadata": {},
   "outputs": [
    {
     "data": {
      "text/plain": [
       "3"
      ]
     },
     "execution_count": 14,
     "metadata": {},
     "output_type": "execute_result"
    }
   ],
   "source": [
    "a = {1:3,3:1}\n",
    "max(a)"
   ]
  },
  {
   "cell_type": "markdown",
   "metadata": {},
   "source": [
    "# 特殊类\n",
    "\n",
    "## 洗牌算法(随机排序)\n",
    "\n",
    "* 384 高频\n",
    "* 空间复杂度是O(1)\n",
    "\n",
    "**思路：**   \n",
    "* [1, 2, 3, 4,5]\n",
    "* 遍历list，i\n",
    "* 随机random取一个i之后的数(一定要包括i位)，与i进行互换\n",
    "* 反复\n",
    "\n"
   ]
  },
  {
   "cell_type": "code",
   "execution_count": 13,
   "metadata": {},
   "outputs": [
    {
     "name": "stdout",
     "output_type": "stream",
     "text": [
      "[1, 2, 3, 4, 5, 10]\n"
     ]
    }
   ],
   "source": [
    "import random\n",
    "\n",
    "class Solution:\n",
    "\n",
    "    def __init__(self, nums: List[int]):\n",
    "        self.original = nums\n",
    "        self.lst = [i for i in nums]\n",
    "\n",
    "    def reset(self) -> List[int]:\n",
    "        \"\"\"\n",
    "        Resets the array to its original configuration and return it.\n",
    "        \"\"\"\n",
    "        self.lst = [i for i in self.original]\n",
    "        return self.lst\n",
    "\n",
    "\n",
    "    def shuffle(self) -> List[int]:\n",
    "        \"\"\"\n",
    "        Returns a random shuffling of the array.\n",
    "        \"\"\"\n",
    "        for i in range(len(self.lst) - 1):\n",
    "            swap_idx = random.randrange(i, len(self.lst))\n",
    "            self.lst[i], self.lst[swap_idx] = self.lst[swap_idx], self.lst[i]\n",
    "        return self.lst\n",
    "\n",
    "\n",
    "\n",
    "\n",
    "# Your Solution object will be instantiated and called as such:\n",
    "# obj = Solution(nums)\n",
    "# param_1 = obj.reset()\n",
    "# param_2 = obj.shuffle()"
   ]
  },
  {
   "cell_type": "markdown",
   "metadata": {},
   "source": [
    "# 正则表达式\n",
    "\n",
    "## 匹配规则\n",
    "* 一个数字：\\d\n",
    "* 一个字母或数字：\\w\n",
    "* 任意字符：.\n",
    "* 空格（包括tab等空白符号): \\s\n",
    "* 任意个某字符(包括0个): *\n",
    "    * e.g. \\s*\n",
    "    * .* 表示任意匹配除换行符（\\n、\\r）之外的任何单个或多个字符\n",
    "* 至少一个字符：+\n",
    "* 0个或1个字符：？\n",
    "* n个字符：{n}\n",
    "* n-m个字符: {n, m}\n",
    "* 表示范围：[ ]\n",
    "    * [0-9a-zA-Z\\_]可以匹配一个数字、字母或者下划线；\n",
    "    * [0-9a-zA-Z\\_]+可以匹配至少由一个数字、字母或者下划线组成的字符串，比如'a100'，'0_Z'，'Py3000'等等；\n",
    "    * [a-zA-Z\\_][0-9a-zA-Z\\_]*可以匹配由字母或下划线开头，后接任意个由一个数字、字母或者下划线组成的字符串，也就是Python合法的变量；\n",
    "    * [a-zA-Z\\_][0-9a-zA-Z\\_]{0, 19}更精确地限制了变量的长度是1-20个字符（前面1个字符+后面最多19个字符）。\n",
    "* A或B：A｜B\n",
    "    * (P|p)ython可以匹配'Python'或者'python'\n",
    "* 行开头: ^\n",
    "    * ^\\d表示必须以数字开头\n",
    "* 行结束: \\$\n",
    "    * \\d$表示必须以数字结束"
   ]
  },
  {
   "cell_type": "markdown",
   "metadata": {},
   "source": [
    "## 匹配功能\n",
    "* 使用python的r前缀, e.g. s = r'ABC\\-001'\n",
    "* 编译\n",
    "    * 用于编译正则表达式，生成一个正则表达式（ Pattern ）对象，供 match() / search()/findall() 使用\n",
    "    * re_rule = re.compile(r + string)\n",
    "* 匹配\n",
    "    * 尝试从**字符串的起始位置**匹配一个模式，如果不是起始位置匹配成功的话，match()就返回none\n",
    "    * re.match(pattern, string, flags=0)\n",
    "    * re_rule.match(target_string)\n",
    "    * 我们可以使用group(num) 或 groups() 匹配对象函数来获取匹配表达式。\n",
    "    \n",
    "* 搜索\n",
    "    * 扫描整个字符串并返回第一个成功的匹配\n",
    "    * re.search(pattern, string, flags=0)\n",
    "    * 我们可以使用group(num) 或 groups() 匹配对象函数来获取匹配表达式。\n",
    "    \n",
    "* 搜索所有\n",
    "    * 在字符串中找到正则表达式所匹配的所有子串，并返回一个列表，如果没有找到匹配的，则返回空列表\n",
    "    * re.findall(pattern, string, flags=0)\n",
    "* 匹配与搜索的区别\n",
    "    * re.match 只匹配字符串的开始，如果字符串开始不符合正则表达式，则匹配失败，函数返回 None，而 re.search 匹配整个字符串，直到找到一个匹配\n",
    "    *  match 和 search 是匹配一次 findall 匹配所有\n",
    "* 切分字符串\n",
    "    * re_rule.split(target_string)\n",
    "* Match/Search/Findall的方法：\n",
    "    * group(XXX)\n",
    "        * group(): 被match的整体string\n",
    "        * group(1/2/3): 表示第1、2个子串\n",
    "    * groups(): tuple，包含多个字符串\n",
    "        * 使用条件：原re_rule里有分组()\n",
    "    * start()：匹配字符串在原始字符串中的起始位置\n",
    "    * end()：匹配字符串在原始字符串中的结束位置\n",
    "    * .span()：将匹配字符串在原始字符串中的起始位置和结束位置以元组的形式返回"
   ]
  },
  {
   "cell_type": "code",
   "execution_count": 18,
   "metadata": {},
   "outputs": [
    {
     "name": "stdout",
     "output_type": "stream",
     "text": [
      "['a', 'bc', 'c']\n"
     ]
    }
   ],
   "source": [
    "import re\n",
    "# 编译\n",
    "re_rule = re.compile(r'^(\\d{3})-(\\d{3,8})$')\n",
    "# 使用\n",
    "ans = re_rule.match('010-12345').groups()  # ('010', '12345')\n",
    "\n",
    "\n",
    "ans = re.split(r'\\s+', 'a bc   c')  # ['a', 'b', 'c'] 删除不定个数的空格\n",
    "print(ans)\n",
    "ans = re.split(r'[\\s\\,]+', 'a,b, c  d')  # ['a', 'b', 'c', 'd']\n",
    "ans = re.split(r'[\\s\\,\\;]+', 'a,b;; c  d')  # ['a', 'b', 'c', 'd']"
   ]
  },
  {
   "cell_type": "markdown",
   "metadata": {},
   "source": [
    "# 环\n",
    "\n",
    "for i in range(2*n - 1, -1, -1):\n",
    "            while stack and stack[-1] <= nums[i % n]:"
   ]
  },
  {
   "cell_type": "markdown",
   "metadata": {},
   "source": [
    "# overlap\n",
    "\n",
    "* 交集。 if a1 <= b2 and b1 <= a2:"
   ]
  }
 ],
 "metadata": {
  "kernelspec": {
   "display_name": "Python 3",
   "language": "python",
   "name": "python3"
  },
  "language_info": {
   "codemirror_mode": {
    "name": "ipython",
    "version": 3
   },
   "file_extension": ".py",
   "mimetype": "text/x-python",
   "name": "python",
   "nbconvert_exporter": "python",
   "pygments_lexer": "ipython3",
   "version": "3.7.3"
  },
  "toc": {
   "base_numbering": 1,
   "nav_menu": {},
   "number_sections": true,
   "sideBar": true,
   "skip_h1_title": false,
   "title_cell": "Table of Contents",
   "title_sidebar": "Contents",
   "toc_cell": false,
   "toc_position": {},
   "toc_section_display": true,
   "toc_window_display": true
  }
 },
 "nbformat": 4,
 "nbformat_minor": 4
}
