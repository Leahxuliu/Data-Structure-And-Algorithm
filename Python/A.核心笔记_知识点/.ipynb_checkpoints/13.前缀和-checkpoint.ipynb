{
 "cells": [
  {
   "cell_type": "markdown",
   "metadata": {},
   "source": [
    "# 知识点\n",
    "\n",
    "## 定义\n",
    "* 一个数组中，第n位存储的是数组前n个数字的和\n",
    "    * prefix[i]=prefix[i−1]+array[i]\n",
    "    * array=[1,2,3,4,5,6] -> prefix_sum=[1,3,6,10,15,21]\n",
    "    * 题例子:\n",
    "        \n",
    "    \n"
   ]
  },
  {
   "cell_type": "code",
   "execution_count": null,
   "metadata": {},
   "outputs": [],
   "source": [
    "arr = [1, 2, 3, 4, 5]\n",
    "prefix = [1, 3, 6, 10, 15]\n",
    "prefix[j] - prefix[i - 1] == sum(arr[i:j + 1])"
   ]
  },
  {
   "cell_type": "markdown",
   "metadata": {},
   "source": [
    "## 题目特征\n",
    "* 连续子数组\n",
    "* 对于前缀和的题目，重在考量前缀和之间的关系以及如何存储这些关系来达到题目要求，并且只要出现连续时，若数组均为正整数同样可以考虑双指针来解题，这样可以提升解出题目的概率。\n",
    "\n",
    "\n",
    "\n",
    "## 模版\n",
    "\n"
   ]
  },
  {
   "cell_type": "code",
   "execution_count": null,
   "metadata": {},
   "outputs": [],
   "source": [
    "class Array:\n",
    "    def prefixSum(self, arr):\n",
    "        prefix = [0] * len(arr)\n",
    "        prefix[0] = arr[0]\n",
    "        for i in range(1, len(arr)):\n",
    "            prefix[i] = prefix[i - 1] + arr[i]\n",
    "        \n",
    "        # 或者\n",
    "        from itertools import accumulate\n",
    "        from operator import add\n",
    "        prefix = accumulate(arr, add)\n",
    "        \n",
    "        for i in range(len(arr)):\n",
    "            pass\n",
    "        # 对前缀和进行相关所需要的操作\n",
    "        # 通过操作得到符合题目要求的答案"
   ]
  }
 ],
 "metadata": {
  "kernelspec": {
   "display_name": "Python 3",
   "language": "python",
   "name": "python3"
  },
  "language_info": {
   "codemirror_mode": {
    "name": "ipython",
    "version": 3
   },
   "file_extension": ".py",
   "mimetype": "text/x-python",
   "name": "python",
   "nbconvert_exporter": "python",
   "pygments_lexer": "ipython3",
   "version": "3.7.3"
  },
  "toc": {
   "base_numbering": 1,
   "nav_menu": {},
   "number_sections": true,
   "sideBar": true,
   "skip_h1_title": false,
   "title_cell": "Table of Contents",
   "title_sidebar": "Contents",
   "toc_cell": false,
   "toc_position": {},
   "toc_section_display": true,
   "toc_window_display": false
  }
 },
 "nbformat": 4,
 "nbformat_minor": 4
}
