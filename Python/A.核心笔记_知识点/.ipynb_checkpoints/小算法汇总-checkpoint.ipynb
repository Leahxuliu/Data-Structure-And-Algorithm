{
 "cells": [
  {
   "cell_type": "code",
   "execution_count": 2,
   "metadata": {},
   "outputs": [
    {
     "name": "stdout",
     "output_type": "stream",
     "text": [
      "(1, 2)\n",
      "(4, 5)\n"
     ]
    }
   ],
   "source": [
    "c = [(1,4), [2, 5]]\n",
    "\n",
    "for elem in zip(*c):\n",
    "    print(elem)"
   ]
  },
  {
   "cell_type": "markdown",
   "metadata": {},
   "source": [
    "# python书写格式\n",
    "\n",
    "## 命名\n",
    "\n",
    "* class名 weGene\n",
    "* def名 we_gene\n",
    "\n",
    "## 注释\n",
    "```python\n",
    "class Solution(object):   \n",
    "    def rotate(self, matrix):   \n",
    "        \"\"\"   \n",
    "        :type matrix: List[List[int]]   \n",
    "        :rtype: None Do not return anything, modify matrix in-place instead.   \n",
    "        \"\"\"\n",
    " ```"
   ]
  },
  {
   "cell_type": "markdown",
   "metadata": {},
   "source": [
    "# 数学类\n",
    "\n",
    "## 判断整除\n",
    "* 判断A + B能否被K整除：A%K + B%K = K即可\n",
    "\n",
    "## 筛选质数\n",
    "* 筛选1到n之间的质数prime number\n",
    "    * 厄拉多塞筛法：\n",
    "        * 先将 2~n 的各个数放入表中，然后在2的上面画一个圆圈，然后划去2的其他倍数；\n",
    "        * 第一个既未画圈又没有被划去的数是3，将它画圈，再划去3的其他倍数；\n",
    "        * 现在既未画圈又没有被划去的第一个数 是5，将它画圈，并划去5的其他倍数……\n",
    "        * 依次类推，一直到所有小于或等于 n 的各数都画了圈或划去为止。这时，表中画了圈的以及未划去的那些数正好就是小于 n 的素数\n",
    "        * **当你要画圈的素数的平方大于 n**时，那么后面没有划去的数都是素数，就不用继续判了\n",
    "* 204. Count Primes\n",
    "    * 思路：\n",
    "        * 建立一个lst，每一个index就代表该integer，初始是1，1表示是素数\n",
    "        * lst[0] = 0, lst[1] = 0, 0和1都是素数\n",
    "        * 从2开始遍历\n",
    "        * 2的倍数的integer都不是素数，lst[2 * times] = 0\n",
    "        * 反复循环\n",
    "        * 当遍历到的数，i*i > n的时候就可以停止遍历了\n",
    "        \n",
    "## 几何规律\n",
    "* 矩阵顺时针90度旋转规律\n",
    "    * 直接法：第i行第j列 i, j -> 倒数第i列，正数第j行 j, -(i + 1)\n",
    "        * 相当于，第一行变成了最后一列，转变后的行index对应原本列index\n",
    "    * 间接法：先上下对折反转，i，j -> -(i + 1), j; 再沿着对角线翻折 -(i + 1), j -> j, -(i + 1) \n",
    "* 面试题 01.07. 旋转矩阵 （inplace）\n",
    "    * 直接法在inplace的时候相对麻烦\n",
    "    \n",
    "\n"
   ]
  },
  {
   "cell_type": "code",
   "execution_count": null,
   "metadata": {},
   "outputs": [],
   "source": [
    "'''\n",
    "inplace\n",
    "上下对折\n",
    "[i, j] <--> [-(i + 1), j]\n",
    "对角线对折\n",
    "[i, j] <--> [j, i]\n",
    "'''\n",
    "class Solution(object):\n",
    "    def rotate(self, matrix):\n",
    "        \"\"\"\n",
    "        :type matrix: List[List[int]]\n",
    "        :rtype: None Do not return anything, modify matrix in-place instead.\n",
    "        \"\"\"\n",
    "        if matrix == [] or matrix == [[]]:\n",
    "            return matrix\n",
    "        \n",
    "        N = len(matrix)\n",
    "\n",
    "        for i in range(N // 2):\n",
    "            for j in range(N):\n",
    "                matrix[i][j], matrix[-(i + 1)][j] = matrix[-(i + 1)][j], matrix[i][j]\n",
    "        \n",
    "        for i in range(N):\n",
    "            for j in range(i):\n",
    "                matrix[i][j], matrix[j][i] = matrix[j][i], matrix[i][j]\n",
    "\n",
    "        return matrix "
   ]
  },
  {
   "cell_type": "code",
   "execution_count": 3,
   "metadata": {},
   "outputs": [
    {
     "data": {
      "text/plain": [
       "-2"
      ]
     },
     "execution_count": 3,
     "metadata": {},
     "output_type": "execute_result"
    }
   ],
   "source": [
    "-3 // 2"
   ]
  },
  {
   "cell_type": "markdown",
   "metadata": {},
   "source": [
    "## 数的转换\n",
    "\n",
    "\n",
    "### 十进制转多进制\n",
    "\n",
    "**LC**   \n",
    "    * 504\n",
    "    * \n",
    "\n",
    "\n",
    "\n",
    "\n",
    "* 余数组成的数组逆序就是多进制的结果\n",
    "\n",
    "\n",
    "```python\n",
    "res = ''\n",
    "while num > 0:\n",
    "    res = str(num % 2) + res\n",
    "    num = num // 7\n",
    "```"
   ]
  },
  {
   "cell_type": "code",
   "execution_count": 11,
   "metadata": {},
   "outputs": [
    {
     "data": {
      "text/plain": [
       "-1"
      ]
     },
     "execution_count": 11,
     "metadata": {},
     "output_type": "execute_result"
    }
   ],
   "source": [
    "-1 // 7  # 永远到不了0"
   ]
  },
  {
   "cell_type": "code",
   "execution_count": null,
   "metadata": {},
   "outputs": [],
   "source": [
    "# 注意负数！！！！！！\n",
    "\n",
    "class Solution:\n",
    "    def convertToBase7(self, num: int) -> str:\n",
    "        if num == 0:\n",
    "            return str(0)\n",
    "\n",
    "        res = ''\n",
    "        if num > 0: \n",
    "            flag = ''\n",
    "        else:\n",
    "            flag = '-' \n",
    "        \n",
    "        num = abs(num)\n",
    "        while num != 0:\n",
    "            res = str(num % 7) + res\n",
    "            num = num // 7\n",
    "            \n",
    "        return flag + res"
   ]
  },
  {
   "cell_type": "code",
   "execution_count": 4,
   "metadata": {},
   "outputs": [
    {
     "name": "stdout",
     "output_type": "stream",
     "text": [
      "输入数字：3\n",
      "十进制数为： 3\n",
      "转换为二进制为： 0b11\n",
      "转换为八进制为： 0o3\n",
      "转换为十六进制为： 0x3\n"
     ]
    }
   ],
   "source": [
    "dec = int(input(\"输入数字：\"))\n",
    " \n",
    "print(\"十进制数为：\", dec)\n",
    "print(\"转换为二进制为：\", bin(dec))\n",
    "print(\"转换为八进制为：\", oct(dec))\n",
    "print(\"转换为十六进制为：\", hex(dec))"
   ]
  },
  {
   "cell_type": "code",
   "execution_count": 6,
   "metadata": {},
   "outputs": [
    {
     "data": {
      "text/plain": [
       "str"
      ]
     },
     "execution_count": 6,
     "metadata": {},
     "output_type": "execute_result"
    }
   ],
   "source": [
    "type(bin(dec))"
   ]
  },
  {
   "cell_type": "code",
   "execution_count": 7,
   "metadata": {},
   "outputs": [
    {
     "name": "stdout",
     "output_type": "stream",
     "text": [
      "15\n",
      "1342\n",
      "15\n"
     ]
    }
   ],
   "source": [
    "# 使用 int() 函数 ，第一个参数是字符串 '0Xff' ,第二个参数是说明，这个字符串是几进制的数。  转化的结果是一个十进制数。\n",
    "\n",
    "print(int('0xf',16))  # 16--> 10\n",
    "print(int('10100111110',2))  # 2 --> 10\n",
    "print(int('17',8))  # 8 --> 10"
   ]
  },
  {
   "cell_type": "markdown",
   "metadata": {},
   "source": [
    "### 数字与罗马\n",
    "\n",
    "#### 罗马转数字\n",
    "\n",
    "* 13 (亚麻高频)\n",
    "\n",
    "**思路:**   \n",
    "* 遍历罗马字符串\n",
    "* if i >= i + 1 则res += i\n",
    "* if i < i + 1 则res -= i\n",
    "* 最后一个直接加\n"
   ]
  },
  {
   "cell_type": "code",
   "execution_count": null,
   "metadata": {},
   "outputs": [],
   "source": [
    "class Solution:\n",
    "    def romanToInt(self, s: str) -> int:\n",
    "        info = {'I': 1, 'V':5, 'X': 10, 'L':50, 'C': 100, 'D': 500, 'M': 1000}\n",
    "\n",
    "        res = 0\n",
    "        for i in range(len(s)):\n",
    "            if i == len(s) - 1:\n",
    "                res += info[s[i]]\n",
    "            else:\n",
    "                if info[s[i]] >= info[s[i + 1]]:\n",
    "                    res += info[s[i]]\n",
    "                else:\n",
    "                    res -= info[s[i]]\n",
    "        return res"
   ]
  },
  {
   "cell_type": "markdown",
   "metadata": {},
   "source": [
    "#### 数字转罗马\n",
    "\n",
    "* 14\n",
    "\n",
    "**思路**   \n",
    "* 同一个字母，只能出现在一个地方，可连续可单独\n",
    "* 建立一个dict\n",
    "    * 1000: 'M', 900: 'CM', 500: 'D', 400: 'CD', 100: 'C', 90: 'XC', 50: 'L', 40: 'XL', 10: 'X', 9: 'IX', 5: 'V', 4: 'IV', 1: 'I'\n",
    "    * 一定要把IV，IX这些也放入到dict里\n",
    "    * 一定要是从大到小排\n",
    "* 遍历list，找到第一个比num小的数\n",
    "* num - 找到的罗马值\n",
    "* 反复重复\n",
    "* 罗马数不能代表负数，也没有0"
   ]
  },
  {
   "cell_type": "code",
   "execution_count": null,
   "metadata": {},
   "outputs": [],
   "source": [
    "class Solution:\n",
    "    def intToRoman(self, num: int) -> str:\n",
    "        info = {1000: 'M', 900: 'CM', 500: 'D', 400: 'CD', 100: 'C', 90:'XC', 50: 'L', 40: 'XL', 10: 'X', 9: 'IX', 5: 'V', 4: 'IV', 1: 'I'}\n",
    "\n",
    "        res = ''\n",
    "        while num > 0:\n",
    "\n",
    "            for i in info.keys():\n",
    "                if i <= num:  # 易错 一定要有=\n",
    "                    res += info[i]\n",
    "                    num -= i\n",
    "                    break\n",
    "        return res \n"
   ]
  },
  {
   "cell_type": "markdown",
   "metadata": {},
   "source": [
    "### 闰年\n",
    "\n",
    "* 四年一闰，百年不闰，四百年再闰"
   ]
  },
  {
   "cell_type": "markdown",
   "metadata": {},
   "source": [
    "# 实现数据结构\n",
    "\n",
    "## 手动实现堆"
   ]
  },
  {
   "cell_type": "code",
   "execution_count": null,
   "metadata": {},
   "outputs": [],
   "source": []
  },
  {
   "cell_type": "markdown",
   "metadata": {},
   "source": [
    "# 特殊类\n",
    "\n",
    "## 洗牌算法\n",
    "\n",
    "* 384\n",
    "\n"
   ]
  },
  {
   "cell_type": "code",
   "execution_count": null,
   "metadata": {},
   "outputs": [],
   "source": []
  }
 ],
 "metadata": {
  "kernelspec": {
   "display_name": "Python 3",
   "language": "python",
   "name": "python3"
  },
  "language_info": {
   "codemirror_mode": {
    "name": "ipython",
    "version": 3
   },
   "file_extension": ".py",
   "mimetype": "text/x-python",
   "name": "python",
   "nbconvert_exporter": "python",
   "pygments_lexer": "ipython3",
   "version": "3.7.3"
  },
  "toc": {
   "base_numbering": 1,
   "nav_menu": {},
   "number_sections": true,
   "sideBar": true,
   "skip_h1_title": false,
   "title_cell": "Table of Contents",
   "title_sidebar": "Contents",
   "toc_cell": false,
   "toc_position": {},
   "toc_section_display": true,
   "toc_window_display": true
  }
 },
 "nbformat": 4,
 "nbformat_minor": 4
}
