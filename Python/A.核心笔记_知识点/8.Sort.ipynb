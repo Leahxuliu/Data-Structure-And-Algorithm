{
 "cells": [
  {
   "cell_type": "markdown",
   "metadata": {},
   "source": [
    "* 比较排序:\n",
    "    * 归并排序\n",
    "    * 快速排序\n",
    "    * 冒泡排序\n",
    "    * 堆排序\n",
    "\n",
    "* 非比较排序:\n",
    "\n",
    "\n",
    "\n",
    "\n",
    "\n",
    "* 插入排序\n",
    "    \n",
    "* 耐心排序\n",
    "* 待更\n"
   ]
  },
  {
   "cell_type": "markdown",
   "metadata": {},
   "source": [
    "# 归并排序 Merge Sort\n",
    "\n",
    "* 划分成小过程（可用递归或迭代）\n",
    "* 归并排序\n",
    "* 可用于大数据\n",
    "* 非原地性（not in-place),因为会建立新的merged list\n",
    "\n",
    "## 复杂度\n",
    "**Time**   \n",
    "* Relation: T(n) = 2T(n/2) + O(n)\n",
    "* Best Case Sort: O(NlogN)\n",
    "* Average Case Sort: O(NlogN)\n",
    "* Worst Case Sort: O(NlogN)\n",
    "* Prove the NlogN\n",
    "    * Recurrence Tree method: T(n) = 2T(n/2) + O(n) = 2^2T(n/2^2) + 2O(n/2) + O(n) = 2^2T(n/2^2) + 2O(n) = 2^mT(n/2^m) + mO(n); 又因为n/2^m = 1时，m= log(2)n. 故 T(n) = nT(1) + log(2)n * O(n) = n + nlog(2)n = nlog2(n) = nlogn\n",
    "    * Master method T(n) = 2T(n/2) + O(n)，故为nlogn\n",
    "    \n",
    "**Space**   \n",
    "* O(N)\n",
    "\n",
    "## 步骤\n",
    "1. 把整个数据集分成最多两个元素的多组 Divide entire dataset into groups of at most two\n",
    "2. 比较每个组内的元素，把小的数移到左边 Compares each number one at a time, moving the smallest number to left of the pair.\n",
    "3. 等所有的多组都排序完毕，两两组进行合并排序，并合并成一个有四个元素的组 Once all pairs sorted it, then compares left most elements of the two leftmost pairs to create sorted group of four with the smallest numbers on the left and the largest ones on the right.\n",
    "4. 重复2,3过程，直到最终合并成一个组 This process is repeated until there in only one set.\n",
    "\n",
    "## 模版\n",
    "**核心**    \n",
    "* 用划分成小部分\n",
    "    * 递归法\n",
    "    * 迭代法\n",
    "* 再比较合并\n",
    "    * 递归法：在回溯过程中比较归并\n",
    "    * 迭代法：在for循环里比较归并\n",
    "\n",
    "### 递归"
   ]
  },
  {
   "cell_type": "code",
   "execution_count": null,
   "metadata": {},
   "outputs": [],
   "source": [
    "'''\n",
    "递归\n",
    "自上往下再向上\n",
    "自上往下: 分割成小部分（分割成1个数1个数）\n",
    "自下再往上: 合并排序\n",
    "'''\n",
    "\n",
    "class SortList:\n",
    "    def mergeSort(self, arr):\n",
    "        n = len(arr)\n",
    "\n",
    "        if n == 0:\n",
    "            return []\n",
    "        if n == 1:\n",
    "            return arr\n",
    "\n",
    "        # if n >= 2\n",
    "        # divide the array elements into 2 lists\n",
    "        mid = n // 2  \n",
    "        L = arr[:mid]\n",
    "        R = arr[mid:]\n",
    "\n",
    "        # 递归划分\n",
    "        # 划分成小部分，先到最底层，然后对最底层进行合并排序操作，然后再返回上一层接着合并排序操作\n",
    "        L = self.mergeSort(L)  # Sorting the first half\n",
    "        R = self.mergeSort(R)  # Sorting the second half\n",
    "\n",
    "        # 合并\n",
    "        # input: 两个已排序的list，L，R\n",
    "        # 过程: 对L，R进行合并排序\n",
    "        # output: 合并完成后的一个list\n",
    "        i, j, k = 0, 0, 0  # i是L里面的指针，j是R里面的指针，k是这一轮arr里面的指针\n",
    "        while i < len(L) and j < len(R):\n",
    "            if L[i] < R[j]:\n",
    "                arr[k] = L[i]\n",
    "                i += 1\n",
    "                k += 1\n",
    "            else:\n",
    "                arr[k] = R[j]\n",
    "                j += 1\n",
    "                k += 1\n",
    "            \n",
    "\n",
    "            # 是否具有稳定性取决于L[i] == R[i]的时候，arr[k] = L[i]还是arr[k] = R[j], 前者具有稳定性，后者不具有稳定性\n",
    "            # 稳定性: 同样大小的数值，保持其原有的顺序\n",
    "            # 例: [5,4(a),4(b),3,2], 排序后: [2,3,4(a),4(b),5]\n",
    "\n",
    "        # L或R有没有用完的情况，也就是两者len不同的时候\n",
    "        if i < len(L):\n",
    "            arr[k:] = L[i:]  # 在while最后,k，i，j都+1了\n",
    "        \n",
    "        if j < len(R):\n",
    "            arr[k:] = R[j:]\n",
    "\n",
    "        return arr"
   ]
  },
  {
   "cell_type": "code",
   "execution_count": null,
   "metadata": {},
   "outputs": [],
   "source": [
    "class Solution:\n",
    "    def sortArray(self, nums: List[int]) -> List[int]:\n",
    "        if len(nums) == 0:\n",
    "            return []\n",
    "        if len(nums) == 1:\n",
    "            return nums\n",
    "        \n",
    "        mid = len(nums) // 2\n",
    "        L = nums[:mid]\n",
    "        R = nums[mid:]\n",
    "        \n",
    "        L = self.sortArray(nums[:mid])\n",
    "        R = self.sortArray(nums[mid:])\n",
    "        \n",
    "        i, j = 0, 0\n",
    "        arr = []\n",
    "        while i < len(L) and j < len(R):\n",
    "            if L[i] <= R[j]:\n",
    "                arr.append(L[i])\n",
    "                i += 1\n",
    "            else:\n",
    "                arr.append(R[j])\n",
    "                j += 1\n",
    "           \n",
    "        while i < len(L):\n",
    "            arr.append(L[i])\n",
    "            i += 1\n",
    "        while j < len(R):\n",
    "            arr.append(R[j])\n",
    "            j += 1\n",
    "        return arr"
   ]
  },
  {
   "cell_type": "markdown",
   "metadata": {},
   "source": [
    "### 迭代"
   ]
  },
  {
   "cell_type": "code",
   "execution_count": null,
   "metadata": {},
   "outputs": [],
   "source": [
    "'''\n",
    "迭代\n",
    "自下往上\n",
    "从两个数开始比, 然后合并\n",
    "2个数,4个数,8,16....\n",
    "'''\n",
    "\n",
    "class SortList2:\n",
    "    def mergeSort2(self, nums):\n",
    "        n = len(nums)\n",
    "\n",
    "        if n == 0:\n",
    "            return []\n",
    "        if n == 1:\n",
    "            return nums\n",
    "\n",
    "        # 排序\n",
    "        def subSort(nums1, nums2):  # merge and sort two sorted list nums1 and nums2\n",
    "            if nums1 == []:\n",
    "                return nums2\n",
    "            if nums2 == []:\n",
    "                return nums1\n",
    "\n",
    "            i, j = 0, 0\n",
    "            res = []\n",
    "            while i < len(nums1) and j < len(nums2):\n",
    "                if nums1[i] < nums2[j]:\n",
    "                    res.append(nums1[i])\n",
    "                    i += 1\n",
    "                else:\n",
    "                    res.append(nums2[j])\n",
    "                    j += 1\n",
    "\n",
    "            if i < len(nums1):\n",
    "                res.extend(nums1[i:])\n",
    "            if j < len(nums2):\n",
    "                res.extend(nums2[j:])\n",
    "            return res\n",
    "        \n",
    "\n",
    "        # 划分成小部分\n",
    "        # [5, 4, 2, 2, 1]\n",
    "        # image: \n",
    "        # [5, 4] [2, 2] [1] --> [4, 5] [2,2] [1]\n",
    "        # [2, 2, 4, 5] [1]\n",
    "\n",
    "        interval = 1\n",
    "        while interval < n:\n",
    "            for i in range(0, n, 2 * interval):\n",
    "                nums[i:i + 2 * interval] = subSort(nums[i:i + interval], nums[i + interval: i + 2 * interval])\n",
    "            interval *= 2\n",
    "        return nums"
   ]
  },
  {
   "cell_type": "code",
   "execution_count": 2,
   "metadata": {},
   "outputs": [
    {
     "name": "stdout",
     "output_type": "stream",
     "text": [
      "[[4, 5]]\n"
     ]
    }
   ],
   "source": [
    "a = [1,2,3,4,5]\n",
    "new = []\n",
    "new.append(a[3:])\n",
    "print(new)"
   ]
  },
  {
   "cell_type": "code",
   "execution_count": 3,
   "metadata": {},
   "outputs": [
    {
     "name": "stdout",
     "output_type": "stream",
     "text": [
      "[4, 5]\n"
     ]
    }
   ],
   "source": [
    "a = [1,2,3,4,5]\n",
    "new = []\n",
    "new.extend(a[3:])\n",
    "print(new)"
   ]
  },
  {
   "cell_type": "markdown",
   "metadata": {},
   "source": [
    "## 题目\n",
    "排序链表 148. Sort List (linked list).py\n",
    "merge sort\n",
    "排序链表, 使用常量空间 148. Sort List (linked list).py\n",
    "bottom-up merge sort\n",
    "计算转置数的数量 775. Global and Local Inversions.py / Count Inversions in an array.py\n",
    "利用 inv_count = inv_count + (len(L) - i) 的性质\n",
    "合并 K 个排序数组 Merge k sorted arrays\n",
    "3-way Merge Sort\n",
    "外置排序 External Sorting\n",
    "合并链表 23. Merge k Sorted Lists.py\n",
    "\n",
    "* 88(双指针)\n"
   ]
  },
  {
   "cell_type": "code",
   "execution_count": null,
   "metadata": {},
   "outputs": [],
   "source": [
    "# 88\n",
    "# 给定两个有序整数数组 nums1 和 nums2，将 nums2 合并到 nums1 中，使得 num1 成为一个有序数组\n",
    "\n",
    "class Solution:\n",
    "    def merge(self, nums1: List[int], m: int, nums2: List[int], n: int) -> None:\n",
    "        \"\"\"\n",
    "        Do not return anything, modify nums1 in-place instead.\n",
    "        \"\"\"\n",
    "        i = m - 1\n",
    "        j = n - 1\n",
    "        k = m + n - 1\n",
    "        \n",
    "        while i >= 0 and j >= 0:\n",
    "            print(nums1)\n",
    "            if nums1[i] <= nums2[j]:\n",
    "                nums1[k] = nums2[j]\n",
    "                j -= 1\n",
    "                k -= 1\n",
    "            else:\n",
    "                nums1[k] = nums1[i]\n",
    "                i -= 1\n",
    "                k -= 1\n",
    "            \n",
    "        if j >= 0:\n",
    "            nums1[:k + 1] = nums2[:j + 1]"
   ]
  },
  {
   "cell_type": "code",
   "execution_count": null,
   "metadata": {},
   "outputs": [],
   "source": []
  },
  {
   "cell_type": "markdown",
   "metadata": {},
   "source": [
    "# 快速排序\n",
    "\n",
    "## 复杂度及属性\n",
    "\n",
    "**Time**   \n",
    "* Best case: O(NlogN)\n",
    "    * when the partition process always picks the middle element as pivot.\n",
    "    * equal to T(n) = 2T(n/2) + O(n), can be proved by the Master theorem.\n",
    "* Average case: O(NlogN)\n",
    "    * when partition puts O(n/9) elements in one set and O(9n/10) elements in other set.\n",
    "* Worst case: O(N2)\n",
    "    * when the partition process always picks greatest or smallest element as pivot\n",
    "    \n",
    "**Space**    \n",
    "* O(N)\n",
    "\n",
    "**属性**    \n",
    "* 发挥性能的应用范围\n",
    "    * 大多数现实世界数据的大多数数据情况\n",
    "    * 数组\n",
    "    * 因为有不同的pivot选择方式，故最坏的时间复杂度很少发生\n",
    "* 不稳定（同样大小的数值，不能保持其原有的顺序）\n",
    "    * 改进方式：可以加入索引作为比较参数的之一，即既比较值大小，也比较索引，来实现稳定。\n",
    "* 原地性 In-place\n",
    "    * 方法1不属于原地算法\n",
    "    * 方法2属于原地算法 （直接修改输入数据而不是将输入数据复制一份处理之后再覆盖回去）\n",
    "    * 即不考虑递归的情况下，使用的空间为O(1)\n",
    "\n",
    "## 步骤\n",
    "* 取一个数作为基准数 choose one value of nums as the pivot\n",
    "* 划分区间过程，小于基准数的数放到左区间，大于基准数的数放在右区间 put all smaller elem to the left of the pivot and larger ones to the right\n",
    "* 再对左右区间重复第二步，直到左右区间只有一个数 repeat this process on the left and right side until left/right side one has one value\n",
    "* https://blog.csdn.net/morewindows/article/details/6684558\n",
    "\n",
    "## 模版\n",
    " \n"
   ]
  },
  {
   "cell_type": "code",
   "execution_count": null,
   "metadata": {},
   "outputs": [],
   "source": [
    "'''\n",
    "方法1：非原地算法\n",
    "1. 选定pivot为第一个数\n",
    "2. 重新排列数组，形成 小于pivot数组 - pivot - 大于pivot的数组\n",
    "3. 再对小于pivot数组和大于pivot数组进行1，2两步\n",
    "'''\n",
    "class Sort:\n",
    "    def quickSort(self, nums):  # return sorted nums\n",
    "        if nums == [] or len(nums) == 1:  # corner case\n",
    "            return nums\n",
    "\n",
    "        pivot = nums[0]\n",
    "        l = []\n",
    "        r = []\n",
    "        for elem in nums[1:]:\n",
    "            if elem < pivot:\n",
    "                l.append(elem)\n",
    "            else:\n",
    "                r.append(elem)\n",
    "        left = self.quickSort(l)\n",
    "        right = self.quickSort(r)\n",
    "        nums = left + [pivot] + right\n",
    "        return nums\n",
    "\n",
    "'''\n",
    "方法2：原地算法\n",
    "难\n",
    "'''\n",
    "class Solution:\n",
    "    def quickSort(self, arr):\n",
    "        if len(arr) == 0 or len(arr) == 1:  # corner case\n",
    "            return arr\n",
    "\n",
    "        i, l = 0, 0\n",
    "        j, r = len(arr) - 1, len(arr) - 1\n",
    "        pivot = arr[i]\n",
    "\n",
    "        while i < j:\n",
    "            while i < j and pivot < arr[j]:  # 扫描一段去寻找合适的值, 循环条件是正常的顺序（pivot < arr[j]），若发现异常，则跳出更换i和j\n",
    "                j -= 1\n",
    "            arr[i] = arr[j]  # 搜寻一段之后，找到值，再替换\n",
    "            while i < j and arr[i] <= pivot:\n",
    "                i += 1\n",
    "            arr[j] = arr[i]\n",
    "        arr[i] = pivot  # i in center, give it pivot\n",
    "        L = arr[:i]\n",
    "        R = arr[i + 1:]\n",
    "        arr[:i] = self.quickSort(L)  # L part = arr[0:i] < pivot\n",
    "        arr[i + 1:] = self.quickSort(R)  # R part = arr[i + 1, j] > pivot\n",
    "        return arr\n",
    "    \n",
    "    \n",
    "class Solution:\n",
    "    def sortColors(self, nums: List[int]) -> None:\n",
    "        \"\"\"\n",
    "        Do not return anything, modify nums in-place instead.\n",
    "        \"\"\"\n",
    "        if len(nums) < 2:\n",
    "            return nums\n",
    "        \n",
    "        def sort(start, end):\n",
    "            if start > end:\n",
    "                return \n",
    "            if start == end:\n",
    "                return \n",
    "\n",
    "            # nums[start]作为pivot，把小于pivot的值往前挪 \n",
    "            point = start + 1\n",
    "            for i in range(start, end + 1):\n",
    "                if nums[i] < nums[start]:\n",
    "                    nums[i], nums[point] = nums[point], nums[i]\n",
    "                    point += 1\n",
    "                \n",
    "            nums[start], nums[point - 1] = nums[point - 1], nums[start]  # 把pivot放到中间\n",
    "            # start ~ point - 2 <= point - 1(pivot) <= point ~ end\n",
    "\n",
    "            sort(start, point - 2)\n",
    "            sort(point, end)\n",
    "            return\n",
    "        \n",
    "        sort(0, len(nums) - 1)\n",
    "        return "
   ]
  },
  {
   "cell_type": "markdown",
   "metadata": {},
   "source": [
    "## 题目\n"
   ]
  },
  {
   "cell_type": "code",
   "execution_count": null,
   "metadata": {},
   "outputs": [],
   "source": []
  },
  {
   "cell_type": "code",
   "execution_count": null,
   "metadata": {},
   "outputs": [],
   "source": []
  },
  {
   "cell_type": "markdown",
   "metadata": {},
   "source": [
    "# 冒泡排序 Bubble sort\n",
    "\n",
    "* 尽管实现起来非常简单，但在效率比归并和快速排序都低\n",
    "\n",
    "## 复杂度\n",
    "**Time**   \n",
    "* Best case: O(N)\n",
    "* Average case: O(N^2)\n",
    "* Worst case: O(N^2)\n",
    "\n",
    "**Space**   \n",
    "* O(1)\n",
    "\n",
    "**属性**   \n",
    "* 稳定：在排序过程中，元素两两交换时，相同元素的前后顺序并没有改变\n",
    "* 原地性 In-place\n",
    "    * 属于原地算法 （直接修改输入数据而不是将输入数据复制一份处理之后再覆盖回去）\n",
    "        * 使用的空间为O(1)\n",
    "        \n",
    "## 步骤\n",
    "* 每一轮中，把最大的数移动到最末尾\n",
    "* 在nums[:-1]中，把最大的数移动到末尾\n",
    "* 在nums[:-2]中，把最大的数移动到末尾\n",
    "* 重复此过程，直到nums[0]\n",
    "\n",
    "## 模板\n",
    "**核心**   \n",
    "* 通过左右两数两辆相比，把大的数往后调   \n",
    "* 每一轮中把最大数弄到最后\n",
    "* 第一轮把最大的数挪到最后一位\n",
    "* 第二轮把倒数第二大的数挪到倒数第二位"
   ]
  },
  {
   "cell_type": "code",
   "execution_count": 4,
   "metadata": {},
   "outputs": [
    {
     "name": "stdout",
     "output_type": "stream",
     "text": [
      "[1, 2, 3, 4, 5, 6, 7, 8, 9]\n"
     ]
    }
   ],
   "source": [
    "class Sort:\n",
    "    def bubbleSort(self, nums):  # return sorted nums\n",
    "        if not nums or len(nums) == 1:\n",
    "            return nums\n",
    "\n",
    "        n = len(nums)\n",
    "        for i in range(n):\n",
    "            for j in range(n - i - 1):\n",
    "                if nums[j] > nums[j + 1]:  # j的范围: 0到len(nums) - 1, 0到len(nums) - 2, 0到len(nums) - 3....\n",
    "                    nums[j], nums[j + 1] = nums[j + 1], nums[j]\n",
    "                # print('i', i, 'j', j, 'nums', nums)\n",
    "                # 第一轮把9移动到最末尾\n",
    "        return nums\n",
    "\n",
    "X = Sort()\n",
    "print(X.bubbleSort([9,8,7,6,5,4,3,2,1]))"
   ]
  },
  {
   "cell_type": "markdown",
   "metadata": {},
   "source": [
    "# 堆排序 Heap sort\n",
    "\n",
    "（暂时放弃）\n",
    "\n",
    "* 基于比较的排序算法\n",
    "* 适用于元素量较小情况，或数据接近完成排序，只有数个乱序情况\n",
    "\n",
    "## 复杂度\n",
    "**Time**   \n",
    "* Best case: O(N)\n",
    "* Average case: O(N^2)\n",
    "* Worst case: O(N^2)\n",
    "**Space**   \n",
    "* O(1)\n",
    "\n",
    "**属性**   \n",
    "* 稳定：在排序过程中，元素两两交换时，相同元素的前后顺序并没有改变\n",
    "* 原地性 In-place\n",
    "    * 属于原地算法 （直接修改输入数据而不是将输入数据复制一份处理之后再覆盖回去）\n",
    "        * 使用的空间为O(1)\n",
    "\n",
    "## 步骤\n",
    "* 从第一个元素开始，该元素可以认为已经被排序\n",
    "* 取出下一个元素，在已经排序的元素序列中从后向前扫描\n",
    "* 如果新元素小于已排序元素，继续将新元素往前移动\n",
    "* 重复步骤 3，直到新元素大于等于已排序的元素\n",
    "* 将新元素插入到该位置后\n",
    "* 重复步骤 2~5\n",
    "\n",
    "## 模板\n",
    "**核心**   \n",
    "* 扫描，选定compare对象\n",
    "* compare与前面的从后往前逐个比较替换"
   ]
  },
  {
   "cell_type": "code",
   "execution_count": null,
   "metadata": {},
   "outputs": [],
   "source": [
    "class Sort:\n",
    "    def insertSort(self, nums):  # return sorted nums\n",
    "        if not nums or len(nums) == 1:\n",
    "            return nums\n",
    "\n",
    "        n = len(nums)\n",
    "        for i in range(1, n):\n",
    "            for j in range(i, 0, -1):\n",
    "                if nums[j - 1] > nums[j]:\n",
    "                    nums[j - 1], nums[j] = nums[j], nums[j - 1]\n",
    "        return nums\n",
    "\n",
    "X = Sort()\n",
    "print(X.insertSort([9,8,7,6,5,4,4,3,2,1]))"
   ]
  },
  {
   "cell_type": "code",
   "execution_count": 4,
   "metadata": {},
   "outputs": [
    {
     "data": {
      "text/plain": [
       "2"
      ]
     },
     "execution_count": 4,
     "metadata": {},
     "output_type": "execute_result"
    }
   ],
   "source": [
    "a = [1, 2, 4]\n",
    "a.pop(1)"
   ]
  },
  {
   "cell_type": "code",
   "execution_count": 6,
   "metadata": {},
   "outputs": [
    {
     "data": {
      "text/plain": [
       "[2, 4]"
      ]
     },
     "execution_count": 6,
     "metadata": {},
     "output_type": "execute_result"
    }
   ],
   "source": [
    "a = [1, 2, 4]\n",
    "a.remove(1)\n",
    "a"
   ]
  },
  {
   "cell_type": "code",
   "execution_count": 7,
   "metadata": {},
   "outputs": [
    {
     "ename": "TypeError",
     "evalue": "'set' object is not subscriptable",
     "output_type": "error",
     "traceback": [
      "\u001b[0;31m---------------------------------------------------------------------------\u001b[0m",
      "\u001b[0;31mTypeError\u001b[0m                                 Traceback (most recent call last)",
      "\u001b[0;32m<ipython-input-7-11840ade183f>\u001b[0m in \u001b[0;36m<module>\u001b[0;34m\u001b[0m\n\u001b[1;32m      2\u001b[0m \u001b[0ma\u001b[0m\u001b[0;34m.\u001b[0m\u001b[0madd\u001b[0m\u001b[0;34m(\u001b[0m\u001b[0;36m1\u001b[0m\u001b[0;34m)\u001b[0m\u001b[0;34m\u001b[0m\u001b[0;34m\u001b[0m\u001b[0m\n\u001b[1;32m      3\u001b[0m \u001b[0ma\u001b[0m\u001b[0;34m.\u001b[0m\u001b[0madd\u001b[0m\u001b[0;34m(\u001b[0m\u001b[0;36m2\u001b[0m\u001b[0;34m)\u001b[0m\u001b[0;34m\u001b[0m\u001b[0;34m\u001b[0m\u001b[0m\n\u001b[0;32m----> 4\u001b[0;31m \u001b[0mprint\u001b[0m\u001b[0;34m(\u001b[0m\u001b[0ma\u001b[0m\u001b[0;34m[\u001b[0m\u001b[0;36m0\u001b[0m\u001b[0;34m]\u001b[0m\u001b[0;34m)\u001b[0m\u001b[0;34m\u001b[0m\u001b[0;34m\u001b[0m\u001b[0m\n\u001b[0m",
      "\u001b[0;31mTypeError\u001b[0m: 'set' object is not subscriptable"
     ]
    }
   ],
   "source": [
    "a = set()\n",
    "a.add(1)\n",
    "a.add(2)\n",
    "print(a[0])"
   ]
  },
  {
   "cell_type": "code",
   "execution_count": 5,
   "metadata": {},
   "outputs": [
    {
     "data": {
      "text/plain": [
       "65"
      ]
     },
     "execution_count": 5,
     "metadata": {},
     "output_type": "execute_result"
    }
   ],
   "source": [
    "chr(79)\n",
    "ord(\"A\")"
   ]
  },
  {
   "cell_type": "code",
   "execution_count": 7,
   "metadata": {},
   "outputs": [
    {
     "data": {
      "text/plain": [
       "0"
      ]
     },
     "execution_count": 7,
     "metadata": {},
     "output_type": "execute_result"
    }
   ],
   "source": [
    "1//6"
   ]
  },
  {
   "cell_type": "code",
   "execution_count": 9,
   "metadata": {},
   "outputs": [
    {
     "name": "stdout",
     "output_type": "stream",
     "text": [
      "{3: 4, 4: 3, 2: 1, 0: 0}\n"
     ]
    }
   ],
   "source": [
    "x = {1: 2, 3: 4, 4: 3, 2: 1, 0: 0}\n",
    "x.pop(1)\n",
    "print(x)"
   ]
  }
 ],
 "metadata": {
  "kernelspec": {
   "display_name": "Python 3",
   "language": "python",
   "name": "python3"
  },
  "language_info": {
   "codemirror_mode": {
    "name": "ipython",
    "version": 3
   },
   "file_extension": ".py",
   "mimetype": "text/x-python",
   "name": "python",
   "nbconvert_exporter": "python",
   "pygments_lexer": "ipython3",
   "version": "3.7.3"
  },
  "toc": {
   "base_numbering": 1,
   "nav_menu": {},
   "number_sections": true,
   "sideBar": true,
   "skip_h1_title": false,
   "title_cell": "Table of Contents",
   "title_sidebar": "Contents",
   "toc_cell": false,
   "toc_position": {},
   "toc_section_display": true,
   "toc_window_display": true
  }
 },
 "nbformat": 4,
 "nbformat_minor": 4
}
