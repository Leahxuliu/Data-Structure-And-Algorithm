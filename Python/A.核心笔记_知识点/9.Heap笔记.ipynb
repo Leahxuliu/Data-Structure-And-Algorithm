{
 "cells": [
  {
   "cell_type": "markdown",
   "metadata": {},
   "source": [
    "# 知识点\n",
    "\n",
    "## 定义\n",
    "* 堆是完全二叉树或者近似二叉树，它的各个节点的键值都有固定对应的的数字\n",
    "* 完全二叉树:root到最后一个node之间没有None,每一个节点上都是有值的；加入一个新值的时候, 如果是最小值，就放到堆顶，如果不是最小值，就放在最后一层，从左边开始往右放\n",
    "* **Index**: 根节点（即root,最上面起始位置）是0，若父节点为heap[k]，则子节点为heap[2k+1]和heap[2k+2]。\n",
    "* **最小堆**: 父节点对应的值总是小于或者等于子节点（也就是说，最小值在堆顶）\n",
    "    * heapq模块是python的一个标准库，它实现了一个堆数据结构\n",
    "    * 在heapq中，默认是最小堆\n",
    "* **最大堆**: 父节点的值总是大于或者等于子节点，称为最大堆\n",
    "    * 实现最大堆方法:\n",
    "        * 生成：对每个数取负，加入heap (Y = -X)\n",
    "        * 弹出top：对heappop()的数取负"
   ]
  },
  {
   "cell_type": "markdown",
   "metadata": {},
   "source": [
    "## 常用操作\n",
    "\n",
    "（增删查并改）\n",
    "\n",
    "\n",
    "**引入模块**   \n",
    "* from heapq import heapify, heappop, heappush, heappushpop, heapreplace, nlargest, nsmallest\n",
    "* <span class=\"mark\">from heapq import *</span>\n",
    "* import heapq  # 使用模块的时候,heapq.XXX\n",
    "\n",
    "**创建**   \n",
    "* 初始化为空： heap = []\n",
    "* 创建： <span class=\"mark\">heapify(list)</span> \n",
    "    * 在原有list上直接修改，heap = heapify(heap)是错误的\n",
    "    * tO(N),N is length of list\n",
    "\n",
    "**增**   \n",
    "* <span class=\"mark\">heappush(heap, item)</span>\n",
    "    * 把item添加到heap这个list中\n",
    "    * item可以为tuple等，(x, y)的时候，按照x来排序\n",
    "    * tO(logN),N是目前含有的元素的数量\n",
    "    \n",
    "**删**   \n",
    "* <span class=\"mark\">heappop(heap)</span>把堆顶元素弹出\n",
    "    * 把堆顶元素弹出,次小值变成堆顶\n",
    "    * tO(logN),\n",
    "        * 不是O(1),因为删完之后还得再排序,把最小值放到堆顶\n",
    "    \n",
    "**替**\n",
    "* 先加后删\n",
    "    * <span class=\"mark\">heappushpop(C, 2)</span> # 先添加，再删除顶端的 -> 保持顶端的elem永远是最小的\n",
    "    * 要加入的值比原来堆顶小的时候, 加入进去之后马上被删掉了,还是原来的堆\n",
    "* 先删后加\n",
    "    * <span class=\"mark\">heapreplace(C, 5)</span> # 先删除顶端的，再添加 -> 顶端的不一定是最小的\n",
    "    \n",
    "**查**   \n",
    "* <span class=\"mark\">list = nlargest(k, input - iterable, key=None)</span>\n",
    "    * 返回input中前k个符合k条件的最大值\n",
    "    * tO(nlogk), n is length of input\n",
    "    * e.g.nlargest(k,dic,key = lambda x:dic[x]), 与sort的写法一致\n",
    "* <span class=\"mark\">list = nsmallest(k, input - iterable, key=None)</span>\n",
    "    * 返回input中前k个最小值\n",
    "\n",
    "**len**   \n",
    "len(heap)"
   ]
  },
  {
   "cell_type": "code",
   "execution_count": 4,
   "metadata": {},
   "outputs": [
    {
     "data": {
      "text/plain": [
       "4"
      ]
     },
     "execution_count": 4,
     "metadata": {},
     "output_type": "execute_result"
    }
   ],
   "source": [
    "from heapq import * \n",
    "heap = [1,2,3,4,5]\n",
    "heapify(heap)\n",
    "heappop(heap)\n",
    "len(heap)"
   ]
  },
  {
   "cell_type": "markdown",
   "metadata": {},
   "source": [
    "## 题目总结\n",
    "\n",
    "* python里面,sort list的话, 时间复杂度是O(NlogN)，所以可以用heap进行优化\n",
    "* python里的sort函数，用的是快速排序和归并排序\n",
    "* 快速排序，归并排序等的时间复杂度都是O(NlogN)\n",
    "\n",
    "### 求第k个最大最小的数 kth smallest/biggest element\n",
    "\n",
    "以求第k个最大值为例\n",
    "\n",
    "**方法1**   \n",
    "* 不是最优解\n",
    "* Y = -X\n",
    "* 建立heap\n",
    "* heappop k次\n",
    "* 再取负值\n",
    "* T: O(N + klogN) k是第几大，N是元素个数\n",
    "\n",
    "\n",
    "**方法2** \n",
    "* 最优解\n",
    "* 用最小堆求最大kth值\n",
    "* 用最大堆求最小kth值\n",
    "* 以用最小堆找最大kth值为例:\n",
    "    * 建立一个k大小的最小堆, heapify(arr[:k])\n",
    "    * 加arr[k]到heap中，删掉最小值(**先加后删** heappushpop)\n",
    "    * 重复上一步,直到arr里的值都被加入到heap (arr[k:])\n",
    "    * pop出来的便是最后的答案\n",
    "* T: O(Nlogk) k是第几大，N是元素个数\n",
    "\n",
    "**方法3**\n",
    "* nlargest(k, arr)[-1]\n"
   ]
  },
  {
   "cell_type": "code",
   "execution_count": null,
   "metadata": {},
   "outputs": [],
   "source": [
    "'''\n",
    "直接sort\n",
    "T: O(NlogN)\n",
    "'''\n",
    "class Solution:\n",
    "    def findKthLargest(self, nums, k):\n",
    "        nums.sort()\n",
    "        return nums[-k]"
   ]
  },
  {
   "cell_type": "code",
   "execution_count": null,
   "metadata": {},
   "outputs": [],
   "source": [
    "'''\n",
    "用heap方法1\n",
    "T: O(N + klogN) k是第几大，N是元素个数\n",
    "不是最优解\n",
    "'''\n",
    "from heapq import heapify, heappop\n",
    "class Solution:\n",
    "    def findKthLargest(self, nums, k):\n",
    "        heap = [-x for x in nums]\n",
    "        heapify(heap)\n",
    "        for i in range(k):\n",
    "            res = heappop(heap)\n",
    "        return -res\n",
    "\n",
    "    \n",
    "from heapq import heappush, heappop\n",
    "class Solution:\n",
    "    def findKthLargest(self, nums, k):\n",
    "        heap = []\n",
    "        for i in nums:\n",
    "            heappush(heap, -i)\n",
    "        while k:\n",
    "            res = heappop(heap)\n",
    "            k -= 1\n",
    "        return -res"
   ]
  },
  {
   "cell_type": "code",
   "execution_count": null,
   "metadata": {},
   "outputs": [],
   "source": [
    "'''\n",
    "用heap方法2\n",
    "T: O(Nlogk) k是第几大，N是元素个数\n",
    "最优解\n",
    "'''\n",
    "\n",
    "from heapq import heapify, heappushpop, heappop\n",
    "class Solution:\n",
    "    def findKthLargest(self, nums, k):\n",
    "        heap = nums[:k]\n",
    "        heapify(heap)\n",
    "        for i in nums[k:]:\n",
    "            if heap[0] < i:  # 也可没有\n",
    "                heappushpop(heap, i)\n",
    "        return heappop(heap)"
   ]
  },
  {
   "cell_type": "code",
   "execution_count": 6,
   "metadata": {},
   "outputs": [],
   "source": [
    "'''\n",
    "用heap方法3\n",
    "T: O(nlogk) \n",
    "'''\n",
    "\n",
    "from heapq import heapify, nlargest\n",
    "class Solution:\n",
    "    def findKthLargest(self, nums, k):\n",
    "        heapify(nums)\n",
    "        return nlargest(k, nums)[-1]"
   ]
  },
  {
   "cell_type": "markdown",
   "metadata": {},
   "source": [
    "### 求第k个不同的最大最小数 kth distinct element\n",
    "* 先set去重，再用heap"
   ]
  },
  {
   "cell_type": "markdown",
   "metadata": {},
   "source": [
    "## Leetcode\n",
    "* 215. Kth Largest Element in an Array 同1.3.1\n",
    "* 347. Top K Frequent Elements （dict + heap）\n",
    "* 378. Kth Smallest Element in a Sorted Matrix"
   ]
  },
  {
   "cell_type": "code",
   "execution_count": null,
   "metadata": {},
   "outputs": [],
   "source": [
    "# 347. Top K Frequent Elements \n",
    "from collections import defaultdict\n",
    "from heapq import *\n",
    "\n",
    "class Solution:\n",
    "    def topKFrequent(self, nums, k):\n",
    "        info = defaultdict(int)\n",
    "        for i in nums:\n",
    "            info[i] += 1\n",
    "            \n",
    "        heap = []\n",
    "        res = []\n",
    "        for key, value in info.items():\n",
    "            heappush(heap, (-value, key))\n",
    "\n",
    "        while k:\n",
    "            res.append(heappop(heap)[1])\n",
    "            k -= 1\n",
    "        return res"
   ]
  },
  {
   "cell_type": "code",
   "execution_count": null,
   "metadata": {},
   "outputs": [],
   "source": [
    "# 378. Kth Smallest Element in a Sorted Matrix\n",
    "# 在二维数组里面找到第k小的数\n",
    "\n",
    "'''\n",
    "按行遍历\n",
    "len(heap) < k, heappush\n",
    "len(heap) >= k, heappushpop\n",
    "'''\n",
    "\n",
    "class Solution:\n",
    "    def kthSmallest(self, matrix, k):\n",
    "       \n",
    "        n = len(matrix)\n",
    "        heap = []\n",
    "        \n",
    "        for i in range(n):\n",
    "            for j in range(n):\n",
    "                if len(heap) < k:\n",
    "                    heappush(heap, -matrix[i][j])\n",
    "                else:\n",
    "                    heappushpop(heap, -matrix[i][j])\n",
    "        return -heappop(heap)"
   ]
  }
 ],
 "metadata": {
  "kernelspec": {
   "display_name": "Python 3",
   "language": "python",
   "name": "python3"
  },
  "language_info": {
   "codemirror_mode": {
    "name": "ipython",
    "version": 3
   },
   "file_extension": ".py",
   "mimetype": "text/x-python",
   "name": "python",
   "nbconvert_exporter": "python",
   "pygments_lexer": "ipython3",
   "version": "3.7.3"
  },
  "toc": {
   "base_numbering": 1,
   "nav_menu": {},
   "number_sections": true,
   "sideBar": true,
   "skip_h1_title": false,
   "title_cell": "Table of Contents",
   "title_sidebar": "Contents",
   "toc_cell": false,
   "toc_position": {},
   "toc_section_display": true,
   "toc_window_display": false
  }
 },
 "nbformat": 4,
 "nbformat_minor": 4
}
