{
 "cells": [
  {
   "cell_type": "markdown",
   "metadata": {},
   "source": [
    "# 单调栈（Monotone Stack）\n",
    "\n",
    "* https://www.cnblogs.com/grandyang/p/8887985.html\n",
    "* 单调栈就是栈内元素单调递增或者单调递减的栈，单调栈只能在栈顶操作\n",
    "* 单调栈的一大优势就是线性的时间复杂度，所有的元素只会进栈一次，而且一旦出栈后就不会再进来了。\n"
   ]
  },
  {
   "cell_type": "markdown",
   "metadata": {},
   "source": [
    "# Leetcode\n",
    "\n",
    "* google interview from web 找比自己大的值\n",
    "* 84. Largest Rectangle in Histogram\n",
    "* 85. Maximal Rectangle (也可用dp，与221放一起看)\n",
    "* 239 Sliding Window Maximum\n",
    "* Trapping Rain Water \n",
    "* Max Chunks To Make Sorted II\n",
    "* Remove K Digits "
   ]
  },
  {
   "cell_type": "markdown",
   "metadata": {},
   "source": [
    "## 递减"
   ]
  },
  {
   "cell_type": "code",
   "execution_count": 1,
   "metadata": {},
   "outputs": [
    {
     "name": "stdout",
     "output_type": "stream",
     "text": [
      "[-1, 4, 1, 2, 1, -1]\n"
     ]
    }
   ],
   "source": [
    "class Solution:\n",
    "    def findBiggerInteger(self, arr):\n",
    "        stack = []\n",
    "        res = [-1] * len(arr)\n",
    "        arr.append(0)\n",
    "\n",
    "        for i in range(len(arr)):\n",
    "            while stack and arr[i] > arr[stack[-1]]:\n",
    "                pre = stack.pop()\n",
    "                steps = i - pre\n",
    "                res[pre] = steps\n",
    "            stack.append(i)\n",
    "        return res\n",
    "\n",
    "x = Solution()\n",
    "print(x.findBiggerInteger([5, 3, 1, 2, 1, 4]))"
   ]
  },
  {
   "cell_type": "code",
   "execution_count": null,
   "metadata": {},
   "outputs": [],
   "source": []
  },
  {
   "cell_type": "code",
   "execution_count": null,
   "metadata": {},
   "outputs": [],
   "source": []
  },
  {
   "cell_type": "markdown",
   "metadata": {},
   "source": [
    "递增与递减的边界问题\n",
    "\n",
    "递增要加\n",
    "递减不用 why\n",
    "    接雨水那一题，因为考虑的是低谷，两个柱子之间的，最后一个符合递减情况的话，没有办法接雨水\n",
    "    而最大面积要包括最后一个柱子"
   ]
  },
  {
   "cell_type": "markdown",
   "metadata": {},
   "source": [
    "## 递增\n",
    "\n",
    "* 84"
   ]
  },
  {
   "cell_type": "code",
   "execution_count": null,
   "metadata": {},
   "outputs": [],
   "source": [
    "class Solution:\n",
    "    def largestRectangleArea(self, heights: List[int]) -> int:\n",
    "        heights.append(0)  # 为了计算最后一个height\n",
    "        stack = [-1]  # 必须要有，要保留开头\n",
    "        largest = 0\n",
    "        \n",
    "        for i in range(len(heights)):\n",
    "            while heights[i] < heights[stack[-1]]:\n",
    "                h = heights[stack.pop()]\n",
    "                w = i - stack[-1] - 1\n",
    "                largest = max(largest, h * w)\n",
    "            \n",
    "            stack.append(i)\n",
    "        \n",
    "        return largest"
   ]
  },
  {
   "cell_type": "code",
   "execution_count": 1,
   "metadata": {},
   "outputs": [
    {
     "name": "stdout",
     "output_type": "stream",
     "text": [
      "2\n",
      "1\n",
      "0\n"
     ]
    }
   ],
   "source": [
    "i = 2\n",
    "for x in range(i, -1, -1):\n",
    "    print(x)"
   ]
  },
  {
   "cell_type": "code",
   "execution_count": 4,
   "metadata": {},
   "outputs": [
    {
     "data": {
      "text/plain": [
       "1"
      ]
     },
     "execution_count": 4,
     "metadata": {},
     "output_type": "execute_result"
    }
   ],
   "source": [
    "6 % 5"
   ]
  },
  {
   "cell_type": "code",
   "execution_count": 2,
   "metadata": {},
   "outputs": [
    {
     "name": "stdout",
     "output_type": "stream",
     "text": [
      "[-4, -3, -2, -1, 1, 2, 3, 4]\n"
     ]
    }
   ],
   "source": [
    "a = [-1,1,-2,2,-3,3,-4,4]\n",
    "a.sort()\n",
    "print(a)"
   ]
  },
  {
   "cell_type": "markdown",
   "metadata": {},
   "source": [
    "###### "
   ]
  },
  {
   "cell_type": "markdown",
   "metadata": {},
   "source": []
  }
 ],
 "metadata": {
  "kernelspec": {
   "display_name": "Python 3",
   "language": "python",
   "name": "python3"
  },
  "language_info": {
   "codemirror_mode": {
    "name": "ipython",
    "version": 3
   },
   "file_extension": ".py",
   "mimetype": "text/x-python",
   "name": "python",
   "nbconvert_exporter": "python",
   "pygments_lexer": "ipython3",
   "version": "3.7.3"
  },
  "toc": {
   "base_numbering": 1,
   "nav_menu": {},
   "number_sections": true,
   "sideBar": true,
   "skip_h1_title": false,
   "title_cell": "Table of Contents",
   "title_sidebar": "Contents",
   "toc_cell": false,
   "toc_position": {},
   "toc_section_display": true,
   "toc_window_display": false
  }
 },
 "nbformat": 4,
 "nbformat_minor": 4
}
