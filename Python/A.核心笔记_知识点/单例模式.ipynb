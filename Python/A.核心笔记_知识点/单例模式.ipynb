{
 "cells": [
  {
   "cell_type": "markdown",
   "metadata": {},
   "source": [
    "* 确保其一个类只有一个实例存在\n",
    "* 当你希望在整个系统中，某个类只能出现一个实例的时候，就用单例\n",
    "* "
   ]
  },
  {
   "cell_type": "markdown",
   "metadata": {},
   "source": [
    "**装饰器**\n",
    "\n",
    "* 装饰器本质上是一个 Python 函数或类，它可以让其他函数或类在不需要做任何代码修改的前提下增加额外功能，装饰器的返回值也是一个函数/类对象\n",
    "* 常用于插入日志、性能测试、事务处理、缓存、权限校验等场景\n"
   ]
  },
  {
   "cell_type": "code",
   "execution_count": 1,
   "metadata": {},
   "outputs": [
    {
     "name": "stdout",
     "output_type": "stream",
     "text": [
      "foo\n"
     ]
    }
   ],
   "source": [
    "# Python 中的函数可以像普通变量一样当做参数传递给另外一个函数\n",
    "\n",
    "def foo():\n",
    "    print(\"foo\")\n",
    "\n",
    "def bar(func):\n",
    "    func()\n",
    "\n",
    "bar(foo)"
   ]
  },
  {
   "cell_type": "code",
   "execution_count": 3,
   "metadata": {},
   "outputs": [
    {
     "name": "stdout",
     "output_type": "stream",
     "text": [
      "<function foo at 0x102f2fd08>\n",
      "1\n",
      "1\n"
     ]
    }
   ],
   "source": [
    "# 一切皆为对象，函数也不例外，它可以像整数一样作为其它函数的返回值\n",
    "def foo():\n",
    "    return 1\n",
    "\n",
    "def bar():\n",
    "    return foo\n",
    "\n",
    "print(bar()) # <function foo at 0x10a2f4140>\n",
    "\n",
    "print(bar()()) # 1 调用bar()()相当于调用 foo()，因为 变量 foo 指向的对象与 bar() 的返回值是同一个对象\n",
    "# 等价于\n",
    "print(foo()) # 1"
   ]
  },
  {
   "cell_type": "code",
   "execution_count": 4,
   "metadata": {},
   "outputs": [
    {
     "name": "stdout",
     "output_type": "stream",
     "text": [
      "记录日志开始\n",
      "foo\n",
      "记录日志结束\n"
     ]
    }
   ],
   "source": [
    "# 装饰器\n",
    "def outer(func):\n",
    "    def inner():\n",
    "        print(\"记录日志开始\")\n",
    "        func() # 业务函数\n",
    "        print(\"记录日志结束\")\n",
    "    return inner\n",
    "\n",
    "def foo():\n",
    "    print(\"foo\")\n",
    "\n",
    "foo = outer(foo) \n",
    "foo()"
   ]
  },
  {
   "cell_type": "code",
   "execution_count": 5,
   "metadata": {},
   "outputs": [
    {
     "name": "stdout",
     "output_type": "stream",
     "text": [
      "记录日志开始\n",
      "foo\n",
      "记录日志结束\n"
     ]
    }
   ],
   "source": [
    "# 语法糖 @\n",
    "# 省去了手动给foo重新赋值的步骤 省去foo = outer(foo) \n",
    "@outer\n",
    "def foo():\n",
    "    print(\"foo\")\n",
    "\n",
    "foo()"
   ]
  },
  {
   "cell_type": "code",
   "execution_count": 9,
   "metadata": {},
   "outputs": [
    {
     "name": "stdout",
     "output_type": "stream",
     "text": [
      "{}\n"
     ]
    }
   ],
   "source": [
    "# *args、**kwargs\n",
    "# *args 任意个参数\n",
    "# **kwargs 关键字参数\n",
    "def Singleton(cls):\n",
    "    _instance = {}\n",
    "\n",
    "    def _singleton(*args, **kargs):\n",
    "        if cls not in _instance:\n",
    "            _instance[cls] = cls(*args, **kargs)\n",
    "        return _instance[cls]\n",
    "    print(_instance)\n",
    "\n",
    "    return _singleton\n",
    "\n",
    "\n",
    "@Singleton\n",
    "class A(object):\n",
    "    a = 1\n",
    "\n",
    "    def __init__(self, x=0):\n",
    "        self.x = x\n",
    "\n",
    "\n",
    "a1 = A(2)\n",
    "a2 = A(3)\n"
   ]
  }
 ],
 "metadata": {
  "kernelspec": {
   "display_name": "Python 3",
   "language": "python",
   "name": "python3"
  },
  "language_info": {
   "codemirror_mode": {
    "name": "ipython",
    "version": 3
   },
   "file_extension": ".py",
   "mimetype": "text/x-python",
   "name": "python",
   "nbconvert_exporter": "python",
   "pygments_lexer": "ipython3",
   "version": "3.7.3"
  },
  "toc": {
   "base_numbering": 1,
   "nav_menu": {},
   "number_sections": true,
   "sideBar": true,
   "skip_h1_title": false,
   "title_cell": "Table of Contents",
   "title_sidebar": "Contents",
   "toc_cell": false,
   "toc_position": {},
   "toc_section_display": true,
   "toc_window_display": false
  }
 },
 "nbformat": 4,
 "nbformat_minor": 4
}
