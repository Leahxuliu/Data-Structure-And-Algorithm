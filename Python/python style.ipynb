{
 "cells": [
  {
   "cell_type": "markdown",
   "metadata": {},
   "source": [
    "* https://zh-google-styleguide.readthedocs.io/en/latest/google-python-styleguide/python_style_rules/#id1\n",
    "\n",
    "# 行长度\n",
    "\n",
    "* 每行不超过80个字符\n",
    "* 不要使用反斜杠连接行\n",
    "* 用圆括号断开\n",
    "* URL放在一行上\n"
   ]
  },
  {
   "cell_type": "code",
   "execution_count": 1,
   "metadata": {},
   "outputs": [
    {
     "name": "stdout",
     "output_type": "stream",
     "text": [
      "This will build a very long long long long long long long long string\n"
     ]
    }
   ],
   "source": [
    "x = ('This will build a very long long '\n",
    "     'long long long long long long string')\n",
    "\n",
    "print(x)"
   ]
  },
  {
   "cell_type": "code",
   "execution_count": null,
   "metadata": {},
   "outputs": [],
   "source": [
    "if (width == 0 and height == 0 and \n",
    "    color == 'red' and emphasis == 'strong'):"
   ]
  },
  {
   "cell_type": "markdown",
   "metadata": {},
   "source": [
    "# 缩进\n",
    "\n",
    "* 用4个空格来缩进代码\n",
    "* 绝对不要用tab, 也不要tab和空格混用\n",
    "\n",
    "# 空格"
   ]
  },
  {
   "cell_type": "raw",
   "metadata": {},
   "source": [
    "Yes: x == 1\n",
    "No:  x<1\n",
    "    \n",
    "    \n",
    "当’=’用于指示关键字参数或默认参数值时, 不要在其两侧使用空格.\n",
    "Yes: def complex(real, imag=0.0): return magic(r=real, i=imag)"
   ]
  },
  {
   "cell_type": "markdown",
   "metadata": {},
   "source": [
    "# 字符串\n",
    "\n",
    "* 即使参数都是字符串, 使用%操作符或者格式化方法格式化字符串. 不过也不能一概而论, 你需要在+和%之间好好判定.\n",
    "* 避免在循环中用+和+=操作符来累加字符串. 由于字符串是不可变的, 这样做会创建不必要的临时对象, 并且导致二次方而不是线性的运行时间. 作为替代方案, 你可以将每个子串加入列表, 然后在循环结束后用 .join 连接列表. (也可以将每个子串写入一个 cStringIO.StringIO 缓存中.)"
   ]
  },
  {
   "cell_type": "code",
   "execution_count": null,
   "metadata": {},
   "outputs": [],
   "source": [
    "Yes: x = a + b\n",
    "     x = '%s, %s!' % (imperative, expletive)\n",
    "     x = '{}, {}!'.format(imperative, expletive)\n",
    "     x = 'name: %s; score: %d' % (name, n)\n",
    "     x = 'name: {}; score: {}'.format(name, n)"
   ]
  },
  {
   "cell_type": "code",
   "execution_count": null,
   "metadata": {},
   "outputs": [],
   "source": [
    "No: x = '%s%s' % (a, b)  # use + in this case\n",
    "    x = '{}{}'.format(a, b)  # use + in this case\n",
    "    x = imperative + ', ' + expletive + '!'\n",
    "    x = 'name: ' + name + '; score: ' + str(n)"
   ]
  },
  {
   "cell_type": "markdown",
   "metadata": {},
   "source": [
    "# 每个导入应该独占一行"
   ]
  },
  {
   "cell_type": "code",
   "execution_count": null,
   "metadata": {},
   "outputs": [],
   "source": []
  }
 ],
 "metadata": {
  "kernelspec": {
   "display_name": "Python 3",
   "language": "python",
   "name": "python3"
  },
  "language_info": {
   "codemirror_mode": {
    "name": "ipython",
    "version": 3
   },
   "file_extension": ".py",
   "mimetype": "text/x-python",
   "name": "python",
   "nbconvert_exporter": "python",
   "pygments_lexer": "ipython3",
   "version": "3.7.3"
  },
  "toc": {
   "base_numbering": 1,
   "nav_menu": {},
   "number_sections": true,
   "sideBar": true,
   "skip_h1_title": false,
   "title_cell": "Table of Contents",
   "title_sidebar": "Contents",
   "toc_cell": false,
   "toc_position": {},
   "toc_section_display": true,
   "toc_window_display": false
  }
 },
 "nbformat": 4,
 "nbformat_minor": 4
}
