{
 "cells": [
  {
   "cell_type": "markdown",
   "metadata": {},
   "source": [
    "# 判断有效括号\n",
    "\n",
    "* 20. Valid Parentheses"
   ]
  },
  {
   "cell_type": "code",
   "execution_count": null,
   "metadata": {},
   "outputs": [],
   "source": [
    "# 用stack\n",
    "# 左括号的存入stack\n",
    "# 遇到右括号，stack.pop,pop出来的不是对应的左括号，则False\n",
    "\n",
    "class Solution:\n",
    "    def isValid(self, s: str) -> bool:\n",
    "        if s == '':\n",
    "            return True\n",
    "        \n",
    "        stack = []\n",
    "        \n",
    "        for i in s:\n",
    "            if i == '(' or i == '{' or i == '[':\n",
    "                stack.append(i)\n",
    "            elif i == ')':\n",
    "                if not stack or stack.pop() != '(':  # 易错，一定要判断stack是不是空了\n",
    "                    return False\n",
    "            elif i == '}':\n",
    "                if not stack or stack.pop() != '{':\n",
    "                    return False\n",
    "            elif i == ']':\n",
    "                if not stack or stack.pop() != '[':\n",
    "                    return False\n",
    "\n",
    "        if stack == []:  # 易错，最后stack里面可能还有剩余\n",
    "            return True\n",
    "        else:\n",
    "            return False\n",
    "            "
   ]
  },
  {
   "cell_type": "code",
   "execution_count": null,
   "metadata": {},
   "outputs": [],
   "source": []
  },
  {
   "cell_type": "markdown",
   "metadata": {},
   "source": [
    "# 计算器\n",
    "\n",
    "* 224.基本计算器\n",
    "* 227.基本计算器II\n",
    "* 772.基本计算器III\n",
    "* 394"
   ]
  },
  {
   "cell_type": "code",
   "execution_count": null,
   "metadata": {},
   "outputs": [],
   "source": []
  },
  {
   "cell_type": "code",
   "execution_count": null,
   "metadata": {},
   "outputs": [],
   "source": []
  },
  {
   "cell_type": "code",
   "execution_count": null,
   "metadata": {},
   "outputs": [],
   "source": []
  },
  {
   "cell_type": "code",
   "execution_count": null,
   "metadata": {},
   "outputs": [],
   "source": []
  }
 ],
 "metadata": {
  "kernelspec": {
   "display_name": "Python 3",
   "language": "python",
   "name": "python3"
  },
  "language_info": {
   "codemirror_mode": {
    "name": "ipython",
    "version": 3
   },
   "file_extension": ".py",
   "mimetype": "text/x-python",
   "name": "python",
   "nbconvert_exporter": "python",
   "pygments_lexer": "ipython3",
   "version": "3.7.3"
  },
  "toc": {
   "base_numbering": 1,
   "nav_menu": {},
   "number_sections": true,
   "sideBar": true,
   "skip_h1_title": false,
   "title_cell": "Table of Contents",
   "title_sidebar": "Contents",
   "toc_cell": false,
   "toc_position": {},
   "toc_section_display": true,
   "toc_window_display": false
  }
 },
 "nbformat": 4,
 "nbformat_minor": 4
}
