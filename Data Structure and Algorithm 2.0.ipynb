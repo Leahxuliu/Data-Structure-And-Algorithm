{
 "cells": [
  {
   "cell_type": "markdown",
   "metadata": {},
   "source": [
    "# 学习数据结构和算法的框架思维\n",
    "https://github.com/labuladong/fucking-algorithm/blob/master/算法思维系列/学习数据结构和算法的高效方法.md\n",
    "* 对于任何数据结构，其基本操作无非遍历 + 访问，再具体一点就是：<span class=\"burk\">增删查改</span>。"
   ]
  },
  {
   "cell_type": "code",
   "execution_count": null,
   "metadata": {},
   "outputs": [],
   "source": []
  },
  {
   "cell_type": "markdown",
   "metadata": {},
   "source": [
    "# 二叉搜索树 Binary Search Tree BST\n",
    "\n",
    "**参考**  \n",
    "1. 李厨子\n",
    "2. 小丁 https://tding.top/archives/5f8aadd1.html\n",
    "\n",
    "\n",
    "* 在链表中，插入、删除速度很快 O(1)，但查找速度较慢 O(n)。\n",
    "* 在数组中，查找速度很快 O(1)，但插入、删除速度很慢 O(n)。\n",
    "* 为了解决这个问题，我们需要寻找一种能够在插入、删除、查找、遍历等操作都相对快的容器，于是人们发明了二叉搜索树（二叉树仅作为二叉搜索树的基础）。二叉搜索树的插入、删除、查找成本均为 O(log n)\n",
    "\n",
    "## 定义及性质\n",
    "* 使用可比较键来指定孩子的方向。Uses comparable keys to assign which direction a child is.\n",
    "* 左子节点的键小于其父节点 Left child has a key smaller than its parent node.\n",
    "* 右子项的键大于其父节点 Right child has a key greater than its parent node.\n",
    "* 不能有重复的节点 There can be no duplicate node.\n",
    "* 任意节点的左右子树也分别为二叉搜索树\n",
    "\n",
    "## 作用\n",
    "* 插入、删除、查找较快的容器，平均时间复杂度为O(log n)\n",
    "\n",
    "**问题**  \n",
    "二叉搜索树与二分搜索的比较，其优势是什么？？？\n"
   ]
  },
  {
   "cell_type": "markdown",
   "metadata": {},
   "source": [
    "## 常用操作\n",
    "### 插入\n",
    "* 除了root=None的情况,一定是成为left child 或者right child\n",
    "* 当向树中插入一个新的节点时，该节点将总是作为叶子节点,最困难的地方就是如何找到该节点的父节点。\n",
    "* 核心：基于二分法，找到插入的点"
   ]
  },
  {
   "cell_type": "code",
   "execution_count": null,
   "metadata": {},
   "outputs": [],
   "source": [
    "# 插入模板\n",
    "class TreeNode:\n",
    "    def __init__(self, value):\n",
    "        self.val = value\n",
    "        self.left = None\n",
    "        self.right = None\n",
    "        \n",
    "class BST:\n",
    "    # 迭代法\n",
    "    def insertIteration(self, root, target):  # return root with inserted target\n",
    "        if not root:  # corner case\n",
    "            return TreeNode(target)\n",
    "        \n",
    "        res = root\n",
    "        while root:\n",
    "            if target < root.val:\n",
    "                if root.left is None:\n",
    "                    root.left = TreeNode(target)\n",
    "                    return res\n",
    "                else:\n",
    "                    root = root.left\n",
    "            else:\n",
    "                if root.right is None:\n",
    "                    root.right = TreeNode(target)\n",
    "                    return res\n",
    "                else:\n",
    "                    root = root.right\n",
    "    \n",
    "    # 递归法\n",
    "    def insert(self, root, target):  # return root with inserted target\n",
    "        if not root:  # corner case\n",
    "            return TreeNode(target)\n",
    "        \n",
    "        if target < root.val:\n",
    "            root.left = self.insert(root.left, target)\n",
    "        else:\n",
    "            root.right = self.insert(root.right, target)\n",
    "        return root"
   ]
  },
  {
   "cell_type": "markdown",
   "metadata": {},
   "source": [
    "### 查找\n",
    "* 通过二叉搜索树查找节点，理想情况下我们需要检查的节点数可以减半。\n",
    "* 但是二叉搜索树十分依赖于树中节点的拓扑结构，也就是节点间的布局关系。\n",
    "    * 若布局良好，则是O(log(n))\n",
    "    * 若是skewed tree，node分布在一条直线上，查找时间为 O(n) worst case"
   ]
  },
  {
   "cell_type": "code",
   "execution_count": null,
   "metadata": {},
   "outputs": [],
   "source": [
    "# 查找模板\n",
    "class BST:\n",
    "    def find(self, root, target):  # return node with target value\n",
    "        if not root:  # corner case\n",
    "            return None\n",
    "        \n",
    "        while root:\n",
    "            if root.val == target:\n",
    "                return root\n",
    "            elif target < root.val:\n",
    "                root = root.left\n",
    "            elif root.val < target:\n",
    "                root = root.right\n",
    "        return None\n",
    "\n",
    "    def findRecursion(self, root, target):  # recursion method\n",
    "        if not root:\n",
    "            return None\n",
    "        \n",
    "        if root.val == target:\n",
    "            return root\n",
    "        if target < root.val:\n",
    "            return self.findRecursion(root.left, target)\n",
    "        else:\n",
    "            return self.findRecursion(root.right, target)"
   ]
  },
  {
   "cell_type": "markdown",
   "metadata": {},
   "source": [
    "### 删除\n",
    "* 第一步：定位要删除的节点，可以使用前面的查找算法\n",
    "* 第二步：选择合适的节点代替删除节点的位置，有三种情况需要考虑\n",
    "    * case1: 被删除节点 没有左孩子\n",
    "        * 用 右孩子 代替\n",
    "    * case2：被删除节点 没右孩子\n",
    "        * 用 左孩子 代替\n",
    "        * 原因：被删除节点的左孩子要么都大于，要么都小于被删除节点的父节点的值，故符合二叉搜索树的性质（子节点小于或大于父节点值）\n",
    "    * case3: 被删除节点 左右孩子都有\n",
    "        * 方法1：用被删除节点的前驱节点（即比被删除节点大一位的节点） 代替\n",
    "        * 方法2：用被删除节点的后继节点 代替\n",
    "* 注意：\n",
    "    * a = TreeNode(1), b = a, 此时b获得了a的地址\n",
    "        * 若a的值val/next发生了改变，b改变\n",
    "        * 若a的地址发生了改变(a = TreeNode(5)), b依旧是原来a的地址\n",
    "* 时间空间复杂度\n",
    "    * 时间复杂度\n",
    "        * O(H), H is height of tree, equal to logN in the case of the balanced tree\n",
    "    * 空间复杂度\n",
    "        * O(H), keep the recursion stack"
   ]
  },
  {
   "cell_type": "code",
   "execution_count": null,
   "metadata": {},
   "outputs": [],
   "source": [
    "# 删除模板\n",
    "class TreeNode:\n",
    "    def __init__(self, x):\n",
    "        self.val = x\n",
    "        self.left = None\n",
    "        self.right = None\n",
    "\n",
    "class Tree:\n",
    "    def deleteNode(self, root: TreeNode, key: int) -> TreeNode:\n",
    "        if not root:  # corner case\n",
    "            return None\n",
    "        \n",
    "        if key < root.val:\n",
    "            root.left = self.deleteNode(root.left, key)\n",
    "        elif key == root.val:\n",
    "            if root.left is None and root.right is None:\n",
    "                root = None\n",
    "            elif root.left is None:\n",
    "                root = root.right\n",
    "            elif root.right is None:\n",
    "                root = root.left\n",
    "            else:  # root has left and right\n",
    "                predecessor = self.findPre(root)  # use predecessor to replace root\n",
    "                root.val = predecessor\n",
    "                root.left = self.deleteNode(root.left, predecessor)\n",
    "        elif root.val < key:\n",
    "            root.right = self.deleteNode(root.right, key)\n",
    "        return root\n",
    "    \n",
    "    def findPre(self, root):  # return value of root's predecessor\n",
    "        root = root.left\n",
    "        while root.right:\n",
    "            root = root.right\n",
    "        return root.val"
   ]
  },
  {
   "cell_type": "code",
   "execution_count": null,
   "metadata": {},
   "outputs": [],
   "source": []
  },
  {
   "cell_type": "markdown",
   "metadata": {},
   "source": [
    "## 算法总结\n",
    "* 确定唯一一个二叉搜索树的要求\n",
    "    * 方案1：postorder list\n",
    "    * 方案2：preorder list\n",
    "* 确定多个可能性的二叉搜索树的要求\n",
    "    * 方案1： inorder list = ascending order node value list = sorted(postorder) = sorted(preorder)"
   ]
  },
  {
   "cell_type": "code",
   "execution_count": null,
   "metadata": {},
   "outputs": [],
   "source": []
  },
  {
   "cell_type": "code",
   "execution_count": null,
   "metadata": {},
   "outputs": [],
   "source": []
  }
 ],
 "metadata": {
  "kernelspec": {
   "display_name": "Python 3",
   "language": "python",
   "name": "python3"
  },
  "language_info": {
   "codemirror_mode": {
    "name": "ipython",
    "version": 3
   },
   "file_extension": ".py",
   "mimetype": "text/x-python",
   "name": "python",
   "nbconvert_exporter": "python",
   "pygments_lexer": "ipython3",
   "version": "3.7.3"
  },
  "toc": {
   "base_numbering": 1,
   "nav_menu": {},
   "number_sections": true,
   "sideBar": true,
   "skip_h1_title": false,
   "title_cell": "Table of Contents",
   "title_sidebar": "Contents",
   "toc_cell": false,
   "toc_position": {},
   "toc_section_display": true,
   "toc_window_display": false
  }
 },
 "nbformat": 4,
 "nbformat_minor": 4
}
