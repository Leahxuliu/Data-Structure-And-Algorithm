{
 "cells": [
  {
   "cell_type": "markdown",
   "metadata": {},
   "source": [
    "# 学习数据结构和算法的框架思维\n",
    "https://github.com/labuladong/fucking-algorithm/blob/master/算法思维系列/学习数据结构和算法的高效方法.md\n",
    "* 对于任何数据结构，其基本操作无非遍历 + 访问，再具体一点就是：<span class=\"burk\">增删查改</span>。"
   ]
  },
  {
   "cell_type": "markdown",
   "metadata": {},
   "source": [
    "## 递归详解\n",
    "* 递归代码最重要的两个特征：结束条件和自我调用。自我调用是在解决子问题，而结束条件定义了最简子问题的答案。\n",
    "* 数学归纳法\n",
    "    * 试几个比较小的数，发现一点规律，编一个公式\n",
    "    * 假设编的这个公式在第 k 个数时成立，如果证明在第 k + 1 时也成立，那么编的这个公式就是正确的\n",
    "* 递归代码的精髓在于调用自己去解决规模更小的子问题，直到到达结束条件；而数学归纳法之所以有用，就在于不断把我们的猜测向上加一，扩大结论的规模，没有结束条件，从而把结论延伸到无穷无尽，也就完成了猜测正确性的证明"
   ]
  },
  {
   "cell_type": "markdown",
   "metadata": {},
   "source": [
    "# 二叉搜索树 Binary Search Tree BST\n",
    "\n",
    "**参考**  \n",
    "1. 李厨子\n",
    "2. 小丁 https://tding.top/archives/5f8aadd1.html\n",
    "\n",
    "\n",
    "* 在链表中，插入、删除速度很快 O(1)，但查找速度较慢 O(n)。\n",
    "* 在数组中，查找速度很快 O(1)，但插入、删除速度很慢 O(n)。\n",
    "* 为了解决这个问题，我们需要寻找一种能够在插入、删除、查找、遍历等操作都相对快的容器，于是人们发明了二叉搜索树（二叉树仅作为二叉搜索树的基础）。二叉搜索树的插入、删除、查找成本均为 O(log n)\n",
    "\n",
    "## 定义及性质\n",
    "* 使用可比较键来指定孩子的方向。Uses comparable keys to assign which direction a child is.\n",
    "* 左子节点的键小于其父节点 Left child has a key smaller than its parent node.\n",
    "* 右子项的键大于其父节点 Right child has a key greater than its parent node.\n",
    "* 不能有重复的节点 There can be no duplicate node.\n",
    "* 任意节点的左右子树也分别为二叉搜索树\n",
    "\n",
    "## 作用\n",
    "* 插入、删除、查找较快的容器，平均时间复杂度为O(log n)\n",
    "\n",
    "**问题**  \n",
    "二叉搜索树与二分搜索的比较，其优势是什么？？？\n"
   ]
  },
  {
   "cell_type": "markdown",
   "metadata": {},
   "source": [
    "## 常用操作\n",
    "### 插入\n",
    "* 除了root=None的情况,一定是成为left child 或者right child\n",
    "* 当向树中插入一个新的节点时，该节点将总是作为叶子节点,最困难的地方就是如何找到该节点的父节点。\n",
    "* 核心：基于二分法，找到插入的点"
   ]
  },
  {
   "cell_type": "code",
   "execution_count": null,
   "metadata": {},
   "outputs": [],
   "source": [
    "# 插入模板\n",
    "class TreeNode:\n",
    "    def __init__(self, value):\n",
    "        self.val = value\n",
    "        self.left = None\n",
    "        self.right = None\n",
    "        \n",
    "class BST:\n",
    "    # 迭代法\n",
    "    def insertIteration(self, root, target):  # return root with inserted target\n",
    "        if not root:  # corner case\n",
    "            return TreeNode(target)\n",
    "        \n",
    "        res = root\n",
    "        while root:\n",
    "            if target < root.val:\n",
    "                if root.left is None:\n",
    "                    root.left = TreeNode(target)\n",
    "                    return res\n",
    "                else:\n",
    "                    root = root.left\n",
    "            else:\n",
    "                if root.right is None:\n",
    "                    root.right = TreeNode(target)\n",
    "                    return res\n",
    "                else:\n",
    "                    root = root.right\n",
    "    \n",
    "    # 递归法\n",
    "    def insert(self, root, target):  # return root with inserted target\n",
    "        if not root:  # corner case\n",
    "            return TreeNode(target)\n",
    "        \n",
    "        if target < root.val:\n",
    "            root.left = self.insert(root.left, target)\n",
    "        else:\n",
    "            root.right = self.insert(root.right, target)\n",
    "        return root"
   ]
  },
  {
   "cell_type": "markdown",
   "metadata": {},
   "source": [
    "### 查找\n",
    "* 通过二叉搜索树查找节点，理想情况下我们需要检查的节点数可以减半。\n",
    "* 但是二叉搜索树十分依赖于树中节点的拓扑结构，也就是节点间的布局关系。\n",
    "    * 若布局良好，则是O(log(n)) 也就是树的高度\n",
    "    * 若是skewed tree，node分布在一条直线上，查找时间为 O(n) worst case"
   ]
  },
  {
   "cell_type": "code",
   "execution_count": null,
   "metadata": {},
   "outputs": [],
   "source": [
    "# 查找模板\n",
    "class BST:\n",
    "    def find(self, root, target):  # return node with target value\n",
    "        if not root:  # corner case\n",
    "            return None\n",
    "        \n",
    "        while root:\n",
    "            if root.val == target:\n",
    "                return root\n",
    "            elif target < root.val:\n",
    "                root = root.left\n",
    "            elif root.val < target:\n",
    "                root = root.right\n",
    "        return None\n",
    "\n",
    "    def findRecursion(self, root, target):  # recursion method\n",
    "        if not root:\n",
    "            return None\n",
    "        \n",
    "        if root.val == target:\n",
    "            return root\n",
    "        if target < root.val:\n",
    "            return self.findRecursion(root.left, target)\n",
    "        else:\n",
    "            return self.findRecursion(root.right, target)"
   ]
  },
  {
   "cell_type": "markdown",
   "metadata": {},
   "source": [
    "### 删除\n",
    "* 第一步：定位要删除的节点，可以使用前面的查找算法\n",
    "* 第二步：选择合适的节点代替删除节点的位置，有三种情况需要考虑\n",
    "    * case1: 被删除节点 没有左孩子\n",
    "        * 用 右孩子 代替\n",
    "    * case2：被删除节点 没右孩子\n",
    "        * 用 左孩子 代替\n",
    "        * 原因：被删除节点的左孩子要么都大于，要么都小于被删除节点的父节点的值，故符合二叉搜索树的性质（子节点小于或大于父节点值）\n",
    "    * case3: 被删除节点 左右孩子都有\n",
    "        * 方法1：用被删除节点的前驱节点（即比被删除节点小一位的节点） 代替　--> 左边数的最右边（左边数里最大的）\n",
    "        * 方法2：用被删除节点的后继节点 代替 --> 右边树的最左边（右边里面最小的）\n",
    "* 注意：\n",
    "    * a = TreeNode(1), b = a, 此时b获得了a的地址\n",
    "        * 若a的值val/next发生了改变，b改变\n",
    "        * 若a的地址发生了改变(a = TreeNode(5)), b依旧是原来a的地址\n",
    "* 时间空间复杂度\n",
    "    * 时间复杂度\n",
    "        * O(H), H is height of tree, equal to logN in the case of the balanced tree\n",
    "    * 空间复杂度\n",
    "        * O(H), keep the recursion stack"
   ]
  },
  {
   "cell_type": "raw",
   "metadata": {},
   "source": [
    "    5\n",
    "   / \\\n",
    "  3   6\n",
    " / \\   \\\n",
    "2   4   7   删掉3\n",
    "\n",
    "\n",
    "    5\n",
    "   / \\\n",
    "  4   6\n",
    " /     \\\n",
    "2       7  可\n",
    "\n",
    "    5\n",
    "   / \\\n",
    "  2   6\n",
    "   \\   \\\n",
    "    4   7  可"
   ]
  },
  {
   "cell_type": "code",
   "execution_count": null,
   "metadata": {},
   "outputs": [],
   "source": [
    "# 删除模板\n",
    "class TreeNode:\n",
    "    def __init__(self, x):\n",
    "        self.val = x\n",
    "        self.left = None\n",
    "        self.right = None\n",
    "\n",
    "class BST:\n",
    "    def deleteNode(self, root, target):\n",
    "        if not root:\n",
    "            return None\n",
    "        \n",
    "        # 递归调用左子树，右边树保持动，对左边数进行修改\n",
    "        if target < root.val:\n",
    "            root.left = self.deleteNode(root.left, target)\n",
    "        \n",
    "        # 递归调用右子树\n",
    "        if target > root.val:\n",
    "            root.right = self.deleteNode(root.right, target)\n",
    "\n",
    "        # 当前节点的val == target\n",
    "        if target == root.val:\n",
    "            # 当前节点的左右都不存在，删掉后该节点变None\n",
    "            if root.left == None and root.right == None:\n",
    "                root = None\n",
    "            # 当前节点的左节点不存在，直接提升右节点\n",
    "            elif root.left == None:\n",
    "                root = root.right\n",
    "            # 当前节点的右节点不存在，直接提升左节点\n",
    "            elif root.right == None:\n",
    "                root = root.left\n",
    "            # 当前节点的左右都存在，用被删除节点的前驱节点（即比被删除节点小一位的节点） 代替\n",
    "            else:\n",
    "                root.val = self.findPre(root)\n",
    "                root.left = self.deleteNode(root.left, root.val)  # 原本的left数发生了改变，要重新排，同时也意味着要删掉被上挪的节点\n",
    "                '''\n",
    "                root.val = self.findSuc(root)\n",
    "                root.right = self.deleteNode(root.right, root.val)\n",
    "                '''\n",
    "        return root\n",
    "\n",
    "    # 移动前驱点\n",
    "    def findPre(self, root):\n",
    "        # 被删除节点的左边数里面的最右边\n",
    "        root = root.left\n",
    "        while root.right:\n",
    "            root = root.right\n",
    "        return root.val\n",
    "\n",
    "    # 移动后驱点\n",
    "    def findSuc(self, root):  # find the smallest node of root right subtree\n",
    "        root = root.right\n",
    "        while root.left:\n",
    "            root = root.left\n",
    "        return root.val\n"
   ]
  },
  {
   "cell_type": "markdown",
   "metadata": {},
   "source": [
    "## 算法总结\n",
    "* 确定唯一一个二叉搜索树的要求\n",
    "    * 方案1：postorder list\n",
    "    * 方案2：preorder list\n",
    "* 确定多个可能性的二叉搜索树的要求\n",
    "    * 方案1： inorder list = ascending order node value list = sorted(postorder) = sorted(preorder)"
   ]
  },
  {
   "cell_type": "markdown",
   "metadata": {},
   "source": [
    "# 回溯算法\n",
    "\n",
    "https://labuladong.gitbook.io/algo/suan-fa-si-wei-xi-lie/hui-su-suan-fa-xiang-jie-xiu-ding-ban   \n",
    "https://blog.csdn.net/PKU_Jade/article/details/78020794\n",
    "\n",
    "回溯法（探索与回溯法）是一种选优搜索法，又称为试探法，按选优条件向前搜索，以达到目标。但当探索到某一步时，发现原先选择并不优或达不到目标，就退回一步重新选择，这种走不通就退回再走的技术为回溯法，而满足回溯条件的某个状态的点称为“回溯点”。\n",
    "\n",
    "先到最底层，然后往上一层走，上一层可选择的都选择过之后，再到上上层\n",
    "\n",
    "1. 路径：也就是已经做出的选择。\n",
    "2. 选择列表：也就是你当前可以做的选择。\n",
    "3. 结束条件：也就是到达决策树底层，无法再做选择的条件。"
   ]
  },
  {
   "cell_type": "markdown",
   "metadata": {},
   "source": [
    "## 两种模版\n",
    "1. 把问题抽象成一个树\n",
    "    * 回溯算法就是个多叉树的遍历问题，关键就是在前序遍历和后序遍历的位置做一些操作，每一层for循环就是树的一层\n",
    "    * 有头树：树、图等问题， root是头，也是第一层\n",
    "    * 无头树：求arr的子集等，[]是头，也是第一层\n",
    "\n",
    "\n",
    "2. 套用模板\n",
    "    * 模版一 （回溯模版形）\n",
    "        * binarytree，网格搜索：root作为头(无视)，对root.left和root.right进行回溯，某种意义上就是去头化\n",
    "        * 找子集，全排列：本身就是没有头的\n",
    "    * 模版二 （tree的path模版形）\n",
    "        * binarytree，网格搜索：从头开始回溯，把多个dfs视为整体\n",
    "        * 找子集，全排列等：for模版一里面的第二层，然后进行回溯"
   ]
  },
  {
   "cell_type": "markdown",
   "metadata": {},
   "source": [
    "### 模板1\n",
    "* 特点：for 选择 in 选择列表，选择是每个独立的头，构成了第二层；第一层为空\n",
    "* 框架如下：\n",
    "    * 路径：已经做出的选择，i等\n",
    "    * 选择列表：当前可以做的选择\n",
    "    * 结束条件：到达决策树底层，无法再做选择的条件"
   ]
  },
  {
   "cell_type": "code",
   "execution_count": null,
   "metadata": {},
   "outputs": [],
   "source": [
    "# 模板1\n",
    "class Array:\n",
    "    def main(self,选择列表):\n",
    "        result = []\n",
    "        def backtrack(路径，选择列表):\n",
    "            if 结束条件:  # 作为路径加入res的条件\n",
    "                result.add(路径)\n",
    "                return\n",
    "\n",
    "            for 选择 in 选择列表:  # 树的第二层\n",
    "                做选择\n",
    "                    将该选择从选择列表移除\n",
    "                    路径.add(选择)\n",
    "                backtracking(路径，选择列表)  # 树的第三层\n",
    "                撤销选择\n",
    "                    路径.remove(选择)\n",
    "                    将该选择再加入选择列表\n",
    "        backtrack(空路径，选择列表)  # 空路径是第一层\n",
    "        return reult"
   ]
  },
  {
   "cell_type": "code",
   "execution_count": null,
   "metadata": {},
   "outputs": [],
   "source": [
    "# 例子：求树的path\n",
    "class Solution:\n",
    "    def binaryTreePaths(self, root: TreeNode) -> List[str]:\n",
    "        if root == None:  # 不能省，因为回溯是从root.left,root.right开始的\n",
    "            return \n",
    "            \n",
    "        def helper(root, path):\n",
    "            if root.left == None and root.right == None:\n",
    "                all_path.append('->'.join(path[:]))\n",
    "                return all_path\n",
    "                \n",
    "            for node in (root.left, root.right):  # 从选择列表里面做选择\n",
    "                if node:\n",
    "                    path.append(str(node.val))  # 执行\n",
    "                    helper(node, path)  # 下一层的选择\n",
    "                    path.pop()  # 撤销选择\n",
    "                \n",
    "        all_path = []\n",
    "        helper(root, [str(root.val)])  # root是第一层（选择root作为第一层，有且只有一个选择）\n",
    "        return all_path"
   ]
  },
  {
   "cell_type": "code",
   "execution_count": null,
   "metadata": {},
   "outputs": [],
   "source": [
    "'''\n",
    "给定一个所有元素都不同的list，要求返回list元素的全排列\n",
    "'''\n",
    "class Solution:\n",
    "    def permute(self, nums):\n",
    "        res = []\n",
    "        temp = []\n",
    "        \n",
    "        def backtrack(res, temp):\n",
    "            if len(nums) == len(temp):\n",
    "                res.append(temp[:])\n",
    "                return res\n",
    "            \n",
    "            for i in nums:\n",
    "                if i not in temp:\n",
    "                    temp.append(i)\n",
    "                    backtrack(res, temp)\n",
    "                    temp.pop()\n",
    "        \n",
    "        backtrack(res, temp)\n",
    "        return res\n",
    "\n",
    "x = Solution()\n",
    "print(x.permute([1,2,3]))"
   ]
  },
  {
   "cell_type": "markdown",
   "metadata": {},
   "source": [
    "### 模版2\n",
    "* 特点：从头开始看，把多个dfs视为整体，前后加append和pop"
   ]
  },
  {
   "cell_type": "code",
   "execution_count": null,
   "metadata": {},
   "outputs": [],
   "source": [
    "# 模板2\n",
    "class Array:\n",
    "    def main(self,选择列表):\n",
    "        result = []\n",
    "        def backtrack(路径，选择列表):\n",
    "            if 结束条件:  # 作为路径加入res的条件\n",
    "                result.add(路径)\n",
    "                return\n",
    "            \n",
    "            做选择\n",
    "                将该选择从选择列表移除\n",
    "                路径.add(选择)            \n",
    "            for 选择 in 选择列表:  # 树的第二层\n",
    "                backtracking(路径，选择列表)  # 树的第三层\n",
    "            撤销选择\n",
    "                路径.remove(选择)\n",
    "                将该选择再加入选择列表\n",
    "        \n",
    "        for 选择 in 选择列表:\n",
    "            backtrack(空路径，选择列表)\n",
    "        return reult"
   ]
  },
  {
   "cell_type": "code",
   "execution_count": null,
   "metadata": {},
   "outputs": [],
   "source": [
    "# 例子：求树的path\n",
    "class Tree:\n",
    "    def findPath(self, root):\n",
    "        \n",
    "        def dfs(root, path):\n",
    "            if not root:\n",
    "                return\n",
    "            \n",
    "            path.append(root.val)\n",
    "            if not root.left and not root.right:\n",
    "                res.append(path[:])\n",
    "                \n",
    "            dfs(root.left, path)\n",
    "            dfs(root.right, path)\n",
    "            path.pop()  # node.left node.right都是空的时候，pop，到底是回溯点\n",
    "            \n",
    "        res = []\n",
    "        dfs(root, [])\n",
    "        return res"
   ]
  },
  {
   "cell_type": "code",
   "execution_count": null,
   "metadata": {},
   "outputs": [],
   "source": [
    "'''\n",
    "给定一个所有元素都不同的list，要求返回list元素的全排列\n",
    "'''\n"
   ]
  },
  {
   "cell_type": "markdown",
   "metadata": {},
   "source": [
    "# 动态规划 Dynamic Programming\n",
    "\n",
    "* 第二册 P4\n",
    "* 动态规划适用于求极值的问题，这个问题不用动态规划的话有很多重复，且这个问题可以被拆成一个个小问题，每一个问题都是独立的\n",
    "* 动态规划里面的programming，指的是把大问题分割成一个个小问题 \n",
    "* 典型题目 optimization problrm 最优解\n",
    "* 子问题间必须互相独立\n",
    "* 动态规划的穷举有点特别，因为这类问题存在「重叠子问题」，如果暴力穷举的话效率会极其低下，所以需要「备忘录」或者「DP table」来优化穷举过程，避免不必要的计算\n",
    "* 就是从最简单的 base case 往后推导吗，可以想象成一个链式反应，以小博大\n",
    "* 找最优子结构的过程，其实就是证明状态转移方程正确性的过程，方程符合最优子结构就可以写暴力解了，写出暴力解就可以看出有没有重叠子问题了，有则优化，无则 OK。\n",
    "\n",
    "\n",
    "## 自顶向下 与 自底向下\n",
    "* top-down / bottom-up\n",
    "* 自顶向下：例如递归树（或者说图），是从上向下延伸，都是从一个规模较大的原问题比如说 f(20)，向下逐渐分解规模，直到 f(1) 和 f(2) 触底，然后逐层返回答案，这就叫自顶向下\n",
    "* 自底向上：直接从最底下，最简单，问题规模最小的 f(1) 和 f(2) 开始往上推，直到推到我们想要的答案 f(20)，这就是动态规划的思路，这也是为什么动态规划一般都脱离了递归，而是由循环迭代完成计算。\n",
    "\n",
    "## memoized 履歴管理\n",
    "* top-down with memoized / bottom-up method\n",
    "\n",
    "## 四种常见的类型\n",
    "* Sequence DP\n",
    "* 2 Sequence DP\n",
    "* Matrix DP\n",
    "* Others\n",
    "* 背包类\n",
    "* 区间类\n",
    "\n",
    "\n",
    "## 常见的求法\n",
    "* 求max/min\n",
    "* yes/no 求能否达到\n",
    "* count 求数量\n",
    "\n",
    "## DP写法\n",
    "方程符合最优子结构 -> 写暴力解(包含状态转移方程的递归代码) -> 看出有没有重叠子问题了，有则带备忘录/dp数组优化，无则输出"
   ]
  },
  {
   "cell_type": "markdown",
   "metadata": {},
   "source": [
    "## 二维dp遍历数的三个方向\n",
    "1. 正向\n",
    "    * 从左上角开始，从左到右，从上到下，最终到达右下角\n",
    "2. 反向\n",
    "    * 从右下角开始，从右到左，从下到上，最终到达左上角\n",
    "3. 斜向/反斜向\n",
    "\n",
    "### コツ\n",
    "1. 遍历的过程中，所需的状态必须是已经计算出来的。   \n",
    "    比如二维dp：找dp[i][j]与dp[i-1][j-1],dp[i+1][j+1],dp[i][j+1],dp[i][j-1],dp[i-1][j],dp[i+1][j]之间的关系\n",
    "2. 遍历的终点必须是存储结果的那个位置。   \n",
    "    技巧： 主要就是看 base case 和最终结果的存储位置，保证遍历过程中使用的数据都是计算完毕的就行\n",
    "3. 根据状态转移方程确定遍历方向\n",
    "3. DFS --> DFS+memo --> DP"
   ]
  },
  {
   "cell_type": "code",
   "execution_count": null,
   "metadata": {},
   "outputs": [],
   "source": [
    "# 遍历\n",
    "def sequence(arr1, arr2):\n",
    "    m = len(arr1)\n",
    "    n = len(arr2)\n",
    "    dp = [[0] * n for _ in range(m)]\n",
    "    \n",
    "    # 正向\n",
    "    for i in range(m):\n",
    "        for j in range(n):\n",
    "            # count dp[i][j]\n",
    "    \n",
    "    \n",
    "    # 反向\n",
    "    for i in range(m - 1, -1, -1):  # range(start, stop[, step]) [m-1,m-2,m-3,....1,0]\n",
    "        for j in range(n - 1, -1, -1):\n",
    "            # count dp[i][j]\n",
    "         \n",
    "        \n",
    "    # 斜向 \n",
    "    # 对角线的右上方的，斜着一排排遍历，最后到达[0][n-1]\n",
    "    # 比如4*4的矩阵\n",
    "    # [0,1]-->[1,2]-->[2,3]-->[0,2]-->[1,3]-->[0,3]\n",
    "    for l in range(2, n + 1):\n",
    "        for i in range(n - l + 1):\n",
    "            j = l + i - 1\n",
    "            # 计算[i][j]\n",
    "          \n",
    "        \n",
    "    # 反斜向（李厨子独创）\n",
    "    # 对角线的右上方的，从最后一行往上，每一行从左到右，最后到达[0][n-1]\n",
    "    # 比如4*4的矩阵\n",
    "    # [2,3]-->[1,2]-->[1,3]-->[0,1]-->[0,2]-->[0,3]\n",
    "    for i in range(n - 1, -1, -1):\n",
    "        for j in range(i + 1, n):\n",
    "            # 计算dp[i][j]\n"
   ]
  },
  {
   "cell_type": "code",
   "execution_count": 14,
   "metadata": {},
   "outputs": [
    {
     "name": "stdout",
     "output_type": "stream",
     "text": [
      "0+1\n",
      "1+2\n",
      "2+3\n",
      "0+2\n",
      "1+3\n",
      "0+3\n"
     ]
    }
   ],
   "source": [
    "m = 4\n",
    "n = 4\n",
    "for l in range(2, n + 1):\n",
    "    for i in range(n - l + 1):\n",
    "        j = l + i - 1\n",
    "        print(str(i) + '+' + str(j))"
   ]
  },
  {
   "cell_type": "code",
   "execution_count": 16,
   "metadata": {},
   "outputs": [
    {
     "name": "stdout",
     "output_type": "stream",
     "text": [
      "2+3\n",
      "1+2\n",
      "1+3\n",
      "0+1\n",
      "0+2\n",
      "0+3\n"
     ]
    }
   ],
   "source": [
    "\n",
    "n = 4\n",
    "for i in range(n - 1, -1, -1):\n",
    "    for j in range(i + 1, n):\n",
    "        print(str(i) + '+' + str(j))"
   ]
  },
  {
   "cell_type": "markdown",
   "metadata": {},
   "source": [
    "## 斐波那契数列 Fibonacci numbers\n",
    "* 又称为黄金分割数列\n",
    "* 以递归的方式来定义，由0和1开始，之后的斐波那契数就是由之前的两数相加而得出\n",
    "* 存在overlap sub-problem\n",
    "* 如果用单纯的递归来做，O(2**n)"
   ]
  },
  {
   "cell_type": "raw",
   "metadata": {},
   "source": [
    "状态转移方程\n",
    "    把 f(n) 想做一个状态 n，这个状态 n 是由状态 n - 1 和状态 n - 2 相加转移而来，这就叫状态转移\n",
    "    最开始的0，1很关键，由此展开的\n",
    "\n",
    "         0,1, n=0,1\n",
    "f(n) = {\n",
    "         f(n-1) + f(n+2),n>2"
   ]
  },
  {
   "cell_type": "code",
   "execution_count": 1,
   "metadata": {},
   "outputs": [],
   "source": [
    "\n",
    "def fib(n):    # write Fibonacci series up to n\n",
    "    a, b = 0, 1\n",
    "    while b < n:\n",
    "        print(b, end=' ')\n",
    "        a, b = b, a+b\n",
    "    print()\n",
    "    \n",
    "def fib2(n):   # return Fibonacci series up to n\n",
    "    result = []\n",
    "    a, b = 0, 1\n",
    "    while b < n:\n",
    "        result.append(b)\n",
    "        a, b = b, a+b\n",
    "    return result"
   ]
  },
  {
   "cell_type": "code",
   "execution_count": 4,
   "metadata": {},
   "outputs": [
    {
     "name": "stdout",
     "output_type": "stream",
     "text": [
      "How many Fibonacci numbers do you want? 20\n",
      "[0, 1, 1, 2, 3, 5, 8, 13, 21, 34, 55, 89, 144, 233, 377, 610, 987, 1597, 2584, 4181]\n"
     ]
    }
   ],
   "source": [
    "# DP\n",
    "# O(N)\n",
    "\n",
    "fibs = [0, 1]\n",
    "numZS = int(input('How many Fibonacci numbers do you want? '))\n",
    "for i in range(numZS-2):\n",
    "    fibs.append(fibs[-2] + fibs[-1])\n",
    "print(fibs)"
   ]
  },
  {
   "cell_type": "markdown",
   "metadata": {},
   "source": [
    "## 凑零钱问题\n",
    "322题   \n",
    "题目：给你 k 种面值的硬币，面值分别为 c1, c2 ... ck，每种硬币的数量无限，再给一个总金额 amount，问你最少需要几枚硬币凑出这个金额，如果不可能凑出，算法返回 -1\n",
    "方法一： 暴力递归\n",
    "https://labuladong.gitbook.io/algo/dong-tai-gui-hua-xi-lie/dong-tai-gui-hua-xiang-jie-jin-jie   \n",
    "https://www.cnblogs.com/snowInPluto/p/5992846.html   \n",
    "关键点：找到状态转换方程：\"d(i)=d(j)+1（j为i的前一个阶段）\"，并理解为何是“+1”？"
   ]
  },
  {
   "cell_type": "code",
   "execution_count": null,
   "metadata": {},
   "outputs": [],
   "source": [
    "# 伪码框架\n",
    "def coinChange(coins: List[int], amount: int):\n",
    "    # 定义：要凑出金额 n，至少要 dp(n) 个硬币\n",
    "    def dp(n):\n",
    "        # 做选择，选择需要硬币最少的那个结果\n",
    "        for coin in coins:\n",
    "            res = min(res, 1 + dp(n - coin))\n",
    "        return res\n",
    "    # 我们要求的问题是 dp(amount)\n",
    "    return dp(amount)"
   ]
  },
  {
   "cell_type": "code",
   "execution_count": null,
   "metadata": {},
   "outputs": [],
   "source": [
    "def coinChange(coins: List[int], amount: int):\n",
    "\n",
    "    def dp(n):\n",
    "        # base case\n",
    "        if n == 0: return 0\n",
    "        if n < 0: return -1\n",
    "        # 求最小值，所以初始化为正无穷\n",
    "        res = float('INF')\n",
    "        for coin in coins:\n",
    "            subproblem = dp(n - coin)\n",
    "            # 子问题无解，跳过\n",
    "            if subproblem == -1: continue\n",
    "            res = min(res, 1 + subproblem)\n",
    "\n",
    "        return res if res != float('INF') else -1\n",
    "\n",
    "    return dp(amount)"
   ]
  },
  {
   "cell_type": "markdown",
   "metadata": {},
   "source": [
    "## 最优解\n",
    "https://www.bilibili.com/video/BV12W411v7rd/?spm_id_from=333.788.videocard.0\n",
    "\n",
    "OPT\n",
    "1. 分析\n",
    "    * 选与不选 \n",
    "    * 选的时候，最好的情况:     vi+OPT(prev(i)) = A\n",
    "    * 不选的时候，最好的情况    OPT(i-1) = B\n",
    "    * max(A，B）\n",
    "2. 写出状态转移方程\n",
    "    * opt(i) =  arr[0], i = 0 / max(arr[0],arr[1], i = 2 / max(opt(i-2)+arr[i],opt(i-1)), i>1\n",
    "3. 找出口\n",
    "4. coding (递归 / 带备忘录的递归 / dp）\n"
   ]
  },
  {
   "cell_type": "markdown",
   "metadata": {},
   "source": [
    "### 在一个数组arr中，找出一组不相邻的数字，使得最后的和最大\n",
    "打家劫舍问题"
   ]
  },
  {
   "cell_type": "code",
   "execution_count": 1,
   "metadata": {},
   "outputs": [
    {
     "data": {
      "text/plain": [
       "15"
      ]
     },
     "execution_count": 1,
     "metadata": {},
     "output_type": "execute_result"
    }
   ],
   "source": [
    "# 在一个数组arr中，找出一组不相邻的数字，使得最后的和最大\n",
    "\n",
    "'''\n",
    "状态转移方程\n",
    "OPT(i) = max(选i，不选i)\n",
    "选i = OPT(i-2) + arr[i]\n",
    "不选i = OPT(i-1)\n",
    "\n",
    "'''\n",
    "\n",
    "\n",
    "# 递归\n",
    "# 时间复杂度 O(2**n)\n",
    "arr = [1,2,4,1,7,8,3]\n",
    "def rec_opt(arr, i):\n",
    "    if i == 0:\n",
    "        return arr[0]\n",
    "    if i == 1:\n",
    "        return max(arr[0], arr[1])\n",
    "    A = rec_opt(arr, i - 2) + arr[i]\n",
    "    B = rec_opt(arr, i - 1)\n",
    "    return max(A, B)\n",
    "\n",
    "rec_opt(arr, (len(arr) - 1))\n"
   ]
  },
  {
   "cell_type": "code",
   "execution_count": 21,
   "metadata": {
    "scrolled": true
   },
   "outputs": [
    {
     "data": {
      "text/plain": [
       "15"
      ]
     },
     "execution_count": 21,
     "metadata": {},
     "output_type": "execute_result"
    }
   ],
   "source": [
    "# 非递归\n",
    "\n",
    "# import numpy as np\n",
    "def dp_opt(arr):\n",
    "    #opt = np.zeros(len(arr))  # 指定一个里面都是0，大小为len(arr)的数组, memo\n",
    "    #print(opt)\n",
    "    opt = [0] * len(arr)\n",
    "    opt[0] = arr[0]\n",
    "    opt[1] = max(arr[0], arr[1])\n",
    "    for i in range(2, len(arr)):\n",
    "        A = opt[i-2] + arr[i]\n",
    "        B = opt[i-1]\n",
    "        opt[i] = max(A, B)\n",
    "    \n",
    "    return opt[len(arr) - 1]\n",
    "\n",
    "arr = [1,2,4,1,7,8,3]\n",
    "dp_opt(arr)"
   ]
  },
  {
   "cell_type": "markdown",
   "metadata": {},
   "source": [
    "### 给定一个正整数s, 判断一个数组arr中，是否有一组数字加起来等于s"
   ]
  },
  {
   "cell_type": "code",
   "execution_count": 24,
   "metadata": {},
   "outputs": [
    {
     "name": "stdout",
     "output_type": "stream",
     "text": [
      "True\n",
      "False\n"
     ]
    }
   ],
   "source": [
    "# 假定所有的数都是正整数\n",
    "\n",
    "'''\n",
    "arr = [3, 34, 4, 12, 5, 2]\n",
    "S = 9\n",
    "\n",
    "subset(i, S)\n",
    "eg: subset(arr[5], 9)\n",
    "如果选这个数字： subset(arr[4], 9-2)   \n",
    "   不选这个数字: subset(arr[4], 9)\n",
    "subset(arr[i-1], s-arr[i]) or subset(arr[i-1], s) --> True\n",
    "\n",
    "出口：\n",
    "第一种情况 if s == 0:\n",
    "subset(arr[2], 0)\n",
    "S == 0 --> return True\n",
    "\n",
    "第二种情况 if i == 0:\n",
    "subset(arr[0], 3)\n",
    "arr[0] == 3 --> True\n",
    "\n",
    "第三种情况 if arr[i] > s:\n",
    "subset(arr[2], 9)\n",
    "arr[2] > 9 --> 只考虑不选的情况，不考虑选择的情况\n",
    "return subset(arr[i-1], S)\n",
    "\n",
    "\n",
    "'''\n",
    "\n",
    "# 递归\n",
    "\n",
    "arr = [3, 34, 4, 12, 5, 2]\n",
    "def rec_subset(arr, i, s):\n",
    "    if s == 0:\n",
    "        return True\n",
    "    if i == 0:\n",
    "        return arr[0] == s\n",
    "    if arr[i] > s:\n",
    "        return rec_subset(arr, i-1, s)\n",
    "    else:\n",
    "        A = rec_subset(arr, i-1, s-arr[i])\n",
    "        B = rec_subset(arr, i-1, s)\n",
    "        return A or B\n",
    "\n",
    "print(rec_subset(arr, len(arr)-1, 9))\n",
    "print(rec_subset(arr, len(arr)-1, 13))"
   ]
  },
  {
   "cell_type": "code",
   "execution_count": 5,
   "metadata": {},
   "outputs": [
    {
     "name": "stdout",
     "output_type": "stream",
     "text": [
      "True\n",
      "False\n"
     ]
    }
   ],
   "source": [
    "# 非递归, dp, 带备忘录\n",
    "# 用二维数据来记录\n",
    "'''\n",
    "arr = [3, 34, 4, 12, 5, 2]\n",
    "S = 9\n",
    "\n",
    "arr\n",
    "           0  1  2  3  4  5  6  7  8  9\n",
    "3       0  F  F  F  T  F  F  F  F  F  F\n",
    "34      1  T\n",
    "4       2  T\n",
    "12      3  T\n",
    "5       4  T\n",
    "2       5  T\n",
    "\n",
    "'''\n",
    "import numpy as np\n",
    "def dp_subset(arr, S):\n",
    "    subset = np.zeros((len(arr), S+1), dtype=bool)\n",
    "    # subset = [[False] * (s+1) for _ in range(len(arr))]\n",
    "    subset[:, 0] = True  # 第n行第1列都是Ture\n",
    "    subset[0, :] = False # 第一行都是False\n",
    "    subset[0, arr[0]] = True\n",
    "    for i in range(1, len(arr)):\n",
    "        for j in range(1, S+1):\n",
    "            if arr[i] > j:\n",
    "                subset[i, j] = subset[i-1, j]\n",
    "            else:\n",
    "                A = subset[i-1, j - arr[i]]\n",
    "                B = subset[i-1, j]\n",
    "                subset[i,j] = A or B\n",
    "    #print(subset)\n",
    "    return subset[len(arr)-1, S]\n",
    "                \n",
    "print(dp_subset([3, 34, 4, 12, 5, 2], 9))\n",
    "print(dp_subset([3, 34, 4, 12, 5, 2], 13))\n",
    "\n",
    "\n",
    "# 不用numpy\n",
    "# 未验证 不确定 应该是对的\n",
    "def dp_subset(arr, S):\n",
    "    subset = [[False] * (S+1) for _ in range(len(arr))]\n",
    "    \n",
    "    for i in range(len(arr)):\n",
    "        for s in range(S+1):\n",
    "            if arr[i] == s:\n",
    "                subset[i][s] = True\n",
    "            elif arr[i] > s:\n",
    "                subset[i][s] = subset[i-1][s]\n",
    "            else:\n",
    "                subset[i][s] = subset[i-1][s] or subset[i-1][s-arr[i]]\n",
    "\n",
    "    return subset[len(arr)-1][S]"
   ]
  },
  {
   "cell_type": "markdown",
   "metadata": {},
   "source": [
    "## 序列问题解题模版\n",
    "* 求一个最长子序列 longest common subsequence\n",
    "* 考察的是动态规划技巧，时间复杂度一般都是 O(n^2)\n",
    "* 1143题，课本p33\n",
    "\n",
    "### 一维dp数组模版"
   ]
  },
  {
   "cell_type": "code",
   "execution_count": null,
   "metadata": {},
   "outputs": [],
   "source": [
    "def sequence(self, arr):\n",
    "    n = len(arr)\n",
    "    dp = [X] * n  # X根据边界条件进行修改\n",
    "    for i in range(n):  # 依次计算dp[0]到dp[n-1]\n",
    "        for j in range(i):  # 通过dp[0]到dp[i - 1]计算dp[i]\n",
    "            dp[i] = 最值(dp[i], dp[j] +,...)\n"
   ]
  },
  {
   "cell_type": "markdown",
   "metadata": {},
   "source": [
    "### 二维dp数组模版"
   ]
  },
  {
   "cell_type": "code",
   "execution_count": null,
   "metadata": {},
   "outputs": [],
   "source": [
    "def sequence(self, arr):\n",
    "    n = len(arr)\n",
    "    dp = [[0]* n for _ in range(n)]  # 是否扩展dp到dp[n]，根据题目而定\n",
    "\n",
    "    for i in range(0, n):  # 行\n",
    "        for j in range(0, n):  # 列\n",
    "            if arr[i] == arr[j]:  # 在dp[0]为扩展时，即为0时，dp的1对应着arr的0 改为arr[i-1]\n",
    "                dp[i][j] = dp[i][j] +...\n",
    "            else:  # 非对角线\n",
    "                dp[i][j] = 最值(...)"
   ]
  },
  {
   "cell_type": "markdown",
   "metadata": {},
   "source": [
    "## 最长递增子序列\n",
    "* Longest Increasing Subsequence，简写 LIS\n",
    "* 动态规划，时间复杂度 O(N^2)\n",
    "* 300题\n",
    "* 注意「子序列」和「子串」这两个名词的区别，子串一定是连续的，而子序列不一定是连续的\n",
    "* 解题：\n",
    "    * 方法一： DP\n",
    "        * arr[i]与arr[j]比较，j：0 -（i-1）\n",
    "        * 找到前面比arr[i]小的字序列，然后把arr[i]接到后面\n",
    "        * dp[i] = max(dp[i], dp[j]+1)\n",
    "    * 方法二：二分搜索\n",
    "        * patience sort\n",
    "        * 类似小时候玩的纸牌接龙\n",
    "        * 每个堆上面的数，从左到右是递增的\n",
    "        * 堆的个数也就是最长递增子序列"
   ]
  },
  {
   "cell_type": "markdown",
   "metadata": {},
   "source": [
    "## 0-1背包问题\n",
    "knapsack   \n",
    "**题目**   \n",
    "给你一个可装载重量为 W 的背包和 N 个物品，每个物品有重量和价值两个属性。其中第 i 个物品的重量为 wt[i]，价值为 val[i]，现在让你用这个背包装物品，最多能装的价值是多少？\n",
    "\n",
    "\n",
    "https://www.bilibili.com/video/BV1jt411m7Rc?from=search&seid=12292517970209089746\n",
    "\n",
    "\n",
    "* 二维dp\n",
    "* dp[3][5] = 6，其含义为：对于给定的一系列物品中，若只对前 3 个物品进行选择，当背包容量为 5 时，最多可以装下的价值为 6"
   ]
  },
  {
   "cell_type": "code",
   "execution_count": null,
   "metadata": {},
   "outputs": [],
   "source": [
    "for 状态1 in 状态1的所有取值：\n",
    "    for 状态2 in 状态2的所有取值：\n",
    "        for ...\n",
    "            dp[状态1][状态2][...] = 择优(选择1，选择2...)"
   ]
  },
  {
   "cell_type": "code",
   "execution_count": null,
   "metadata": {},
   "outputs": [],
   "source": [
    "def bag(N, W, wt, val):\n",
    "    if N == 0 or W == 0:\n",
    "        return 0\n",
    "    \n",
    "    m = len(wt)\n",
    "    dp = [[0] * (W + 1) for _ in range(m + 1)]\n",
    "\n",
    "    for i in range(1, m+1):\n",
    "        for w in range(1, W+1):\n",
    "            if i == 0 or w == 0:\n",
    "                dp[i][w] = 0\n",
    "            elif wt[i-1] > w:\n",
    "                dp[i][w] = dp[i-1][w]\n",
    "            elif wt[i-1] <= w:\n",
    "                dp[i][w] = max(dp[i-1][w], dp[i-1][w-wt[i-1]] + val[i-1])\n",
    "    return dp[N][W]"
   ]
  },
  {
   "cell_type": "markdown",
   "metadata": {},
   "source": [
    "## 编辑距离\n",
    "72题\n",
    "* 编辑距离问题就是给我们两个字符串 s1 和 s2，只能用增、删、替换(,skip(相等))，让我们把 s1 变成 s2，求最少的操作数。\n",
    "* 递推方程\n",
    "    C[i,j]: S1[1..i]和S2[1..j]的编辑方程   \n",
    "    C[i,j] = min{C[i-1,j]+1, C[i,j-1]+1, C[i-1,j-1]+t[i,j]}   \n",
    "             t[i,j] = 0, S1[i] = S2[j] / 1, S1[i] != S2[j]   \n",
    "    C[0,j] = j,   \n",
    "    C[i,0] = i   \n",
    "    \n",
    "* 复杂度\n",
    "    * 有O(mn)个子问题 --> 时间复杂度O(mn)"
   ]
  },
  {
   "cell_type": "code",
   "execution_count": null,
   "metadata": {},
   "outputs": [],
   "source": [
    "if s1[i] == s2[j]:\n",
    "    啥都别做（skip）\n",
    "    i, j 同时向前移动\n",
    "    dp(i - 1, j - 1)\n",
    "else:\n",
    "    三选一：\n",
    "        插入（insert）\n",
    "        删除（delete）\n",
    "        替换（replace）\n",
    "    min(dp(i, j - 1) + 1,    # 插入 (矩阵里面的右邻居) == dp(i+1,j)+1\n",
    "        dp(i - 1, j) + 1,    # 删除 (矩阵里面的上邻居)\n",
    "        dp(i - 1, j - 1) + 1 # 替换 (矩阵里面的斜邻居))"
   ]
  },
  {
   "cell_type": "markdown",
   "metadata": {},
   "source": [
    "## 最长回文子序列\n",
    "* 在子串 s[i..j] 中，最长回文子序列的长度为 dp[i][j]，关键点也是难点\n",
    "* [i,j] --> [i+1, j-1]\n",
    "* 第一个字符 == 最后一个字符，也就是说一次两个字符\n",
    "* 如果第一个字符跟最后一个字符不相等，max([i,j-1],[i+1,j])\n",
    "* return dp[0][len(str) - 1]"
   ]
  },
  {
   "cell_type": "code",
   "execution_count": null,
   "metadata": {},
   "outputs": [],
   "source": [
    "dp[i][j] = dp[i+1][j-1] + 2, si == sj\n",
    "dp[i][j] = max(dp[i + 1][j], dp[i][j - 1]), si != sj\n",
    "\n",
    "base case\n",
    "dp[i][j] = 1 (i==j)  # 只有一个字符串\n",
    "i > j 初始化为0\n",
    "\n",
    "斜着遍历或者反着遍历 \n",
    "斜着遍历：一个字符串，ij都是00，然后往右衍生\n",
    "反着遍历：从末尾往前遍历\n",
    "return dp[0][n-1]\n",
    "\n",
    "# 如果str_a整个都是回文的话，比如len(str_a) = 5, 遍历过的点：[2,2]-->[1,3]-->[0,4]"
   ]
  },
  {
   "cell_type": "markdown",
   "metadata": {},
   "source": [
    "![title](img/LPS.png)"
   ]
  },
  {
   "cell_type": "markdown",
   "metadata": {},
   "source": [
    "## 股票问题\n",
    "* 只交易一次 -- 不限交易次数 -- 只交易两次 -- 加入‘冷冻期’和‘手续费’\n",
    "* 解题关键：选择‘状态’\n",
    "* 状态机\n",
    "* 每天都有三种‘选择’：买入·卖出·无操作   \n",
    "    条件：sell必须在buy之后，buy必须在sell之后，rest的状态有两种：一种是buy之后的持股，另一种是sell之后的观望\n",
    "* 这个问题的状态有三个：   \n",
    "    1. 天数\n",
    "    2. 允许交易的最大次数\n",
    "    3. 当前持有状态，0表示观望（不持股），1表示持股\n",
    "* 详见 **股票问题.ipynb**"
   ]
  },
  {
   "cell_type": "code",
   "execution_count": null,
   "metadata": {},
   "outputs": [],
   "source": [
    "n是天数，K是最多交易次数，0和1表示不持股状态和持股状态\n",
    "此问题共有n * K * 2种状态\n",
    "dp[i][k][0 or 1]表示当前状态下的利润\n",
    "\n",
    "0 <= i <= n-1, 1 <= k <= K\n",
    "dp[i][k][0 or 1]\n",
    "比如：dp[3][2][1] 的含义就是：今天是第三天，我现在手上持有着股票，至今最多进行 2 次交易。值表示利润？\n",
    "再比如 dp[2][3][0] 的含义：今天是第二天，我现在手上没有持有股票，至今最多进行 3 次交易\n",
    "\n",
    "for i in range(n-1):\n",
    "    for k in range(1, K + 1):\n",
    "        for s in [0, 1]:\n",
    "            dp[i][k][s] = max(buy, sell, rest)\n",
    "            \n",
    "最终答案是： dp[n - 1][K][0]，即最后一天，最多允许 K 次交易，最多获得多少利润\n",
    "# 为什么不是 dp[n - 1][K][1]？\n",
    "# 因为 [1] 代表手上还持有股票，[0] 表示手上的股票已经卖出去了，很显然后者得到的利润一定大于前者。\n",
    "\n",
    "# 状态转移方程式\n",
    "dp[i][k][0] = max(选择rest， 选择sell)\n",
    "            = max(dp[i-1][k][0], dp[i-1][k][1] + price[i])\n",
    "            # 今天没有股，要么就是昨天就没有股，要么就是今天sell了，利润里面增加price[i]\n",
    "    \n",
    "dp[i][k][1] = max(选择rest， 选择buy)\n",
    "            = max(dp[i-1][k][1], dp[i-1][k-1][0] - price[i])\n",
    "            # 今天有股，要么就是昨天就有股，要么就是今天buy了，利润里面减少price[i]\n",
    "        \n",
    "# base case\n",
    "dp[-1][k][0] = 0\n",
    "    # i = -1，意味着还没有开始，利润是0\n",
    "dp[-1][k][1] = -infinity\n",
    "    # 还没有开始的时候，是不可能持有股票，用负无穷大表示不可能 不好理解\n",
    "dp[i][0][0] = 0\n",
    "    # k = 0, 从未交易过\n",
    "dp[i][0][1] = -infinity\n",
    "    # 不允许交易的情况下，是不可能持有股票，用负无穷大表示不可能\n"
   ]
  },
  {
   "cell_type": "markdown",
   "metadata": {},
   "source": [
    "# 贪心算法\n"
   ]
  },
  {
   "cell_type": "markdown",
   "metadata": {},
   "source": []
  },
  {
   "cell_type": "markdown",
   "metadata": {},
   "source": [
    "## 区间调度问题\n",
    "* Interval Scheduling（区间调度问题）\n",
    "* 给你很多形如 [start, end] 的闭区间，请你设计一个算法，算出这些区间中最多有几个互不相交的区间。\n",
    "* 解题思路：    \n",
    "    1. 从区间集合 intvs 中选择一个区间 x，这个 x 是在当前所有区间中结束最早的（end 最小）。\n",
    "    2. 把所有与 x 区间相交的区间从区间集合 intvs 中删除。\n",
    "    3. 重复步骤 1 和 2，直到 intvs 为空为止。之前选出的那些 x 就是最大不相交子集。"
   ]
  },
  {
   "cell_type": "code",
   "execution_count": null,
   "metadata": {},
   "outputs": [],
   "source": []
  },
  {
   "cell_type": "code",
   "execution_count": null,
   "metadata": {},
   "outputs": [],
   "source": []
  },
  {
   "cell_type": "markdown",
   "metadata": {},
   "source": [
    "# 数组里的双指针问题\n",
    "\n",
    "所谓双指针算法，就是指的是在遍历的过程中，不是普通的使用单个指针进行循环访问，而是使用两个相同方向或者相反方向的指针进行扫描，从而达到相应的目的。双指针法充分使用了数组有序这一特征，从而在某些情况下能够简化一些运算，降低时间复杂度.\n",
    "\n",
    "\n",
    "## 对撞指针\n",
    "\n",
    "对撞指针是指在有序数组中，将指向最左侧的索引定义为左指针 (left)，最右侧的定义为右指针 (right)，然后从两头向中间进行数组遍历。\n",
    "\n",
    "题目：\n",
    "* 1 - 两数之和\n",
    "* 15 - 三数之和\n",
    "* 16 - 最接近的三数之和\n",
    "* 18 - 四数之和\n",
    "* 167 - 两数之和 - 输入有序数组\n",
    "* 11 - 盛最多水的容器\n",
    "* 42 - 接雨水\n",
    "* 611 - 有效三角形的个数"
   ]
  },
  {
   "cell_type": "markdown",
   "metadata": {},
   "source": [
    "## 前向型指针 - 快慢指针\n",
    "\n",
    "快慢指针也是双指针，但是两个指针从同一侧开始遍历数组，将这两个指针分别定义为快指针（fast）和慢指针（slow），两个指针以不同的策略移动，直到两个指针的值相等（或其他特殊条件）为止，如 fast 每次增长两个，slow 每次增长一个。\n",
    "\n",
    "题目\n",
    "* 26 - 删除排序数组中的重复项\n",
    "* 27 - 移除元素\n",
    "* 80 - 删除排序数组中的重复项\n",
    "* 283 - 移动零\n",
    "* 845 - 数组中的最长山脉\n",
    "* 904 - 水果成篮"
   ]
  },
  {
   "cell_type": "code",
   "execution_count": null,
   "metadata": {},
   "outputs": [],
   "source": []
  },
  {
   "cell_type": "markdown",
   "metadata": {},
   "source": [
    "\n",
    "## 前向型指针 - 滑动窗口\n",
    "## 分离双指针\n"
   ]
  },
  {
   "cell_type": "code",
   "execution_count": null,
   "metadata": {},
   "outputs": [],
   "source": []
  }
 ],
 "metadata": {
  "kernelspec": {
   "display_name": "Python 3",
   "language": "python",
   "name": "python3"
  },
  "language_info": {
   "codemirror_mode": {
    "name": "ipython",
    "version": 3
   },
   "file_extension": ".py",
   "mimetype": "text/x-python",
   "name": "python",
   "nbconvert_exporter": "python",
   "pygments_lexer": "ipython3",
   "version": "3.7.3"
  },
  "toc": {
   "base_numbering": 1,
   "nav_menu": {},
   "number_sections": true,
   "sideBar": true,
   "skip_h1_title": false,
   "title_cell": "Table of Contents",
   "title_sidebar": "Contents",
   "toc_cell": false,
   "toc_position": {},
   "toc_section_display": true,
   "toc_window_display": false
  }
 },
 "nbformat": 4,
 "nbformat_minor": 4
}
