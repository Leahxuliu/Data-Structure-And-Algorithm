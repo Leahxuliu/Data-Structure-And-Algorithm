{
 "cells": [
  {
   "cell_type": "markdown",
   "metadata": {},
   "source": [
    "# Readme\n",
    "This is Data Structure and Algorithm 2.0.   \n",
    "The difference between 2.0 and 1.0 is that here is only templates for knowledge point\n",
    "\n",
    "* Binary Tree\n",
    "* Graph"
   ]
  },
  {
   "cell_type": "markdown",
   "metadata": {},
   "source": [
    "# Binary Tree\n",
    "\n",
    "## Node的定义"
   ]
  },
  {
   "cell_type": "code",
   "execution_count": 1,
   "metadata": {},
   "outputs": [],
   "source": [
    "class TreeNode:\n",
    "    def __init__(self, x):\n",
    "        self.val = x\n",
    "        self.left = None\n",
    "        self.right = None"
   ]
  },
  {
   "cell_type": "markdown",
   "metadata": {},
   "source": [
    "## 构造Tree"
   ]
  },
  {
   "cell_type": "code",
   "execution_count": 2,
   "metadata": {},
   "outputs": [
    {
     "data": {
      "text/plain": [
       "'\\n模版代码\\n'"
      ]
     },
     "execution_count": 2,
     "metadata": {},
     "output_type": "execute_result"
    }
   ],
   "source": [
    "'''\n",
    "手动构造\n",
    "'''\n",
    "Node1 = TreeNode(1)\n",
    "Node2 = TreeNode(2)\n",
    "Node3 = TreeNode(3)\n",
    "\n",
    "Node1.left = Node2\n",
    "Node1.right = Node3\n",
    "\n",
    "\n",
    "'''\n",
    "模版代码\n",
    "'''\n",
    "\n",
    "\n"
   ]
  },
  {
   "cell_type": "markdown",
   "metadata": {},
   "source": [
    "## Tree的遍历"
   ]
  },
  {
   "cell_type": "code",
   "execution_count": null,
   "metadata": {},
   "outputs": [],
   "source": []
  },
  {
   "cell_type": "markdown",
   "metadata": {},
   "source": [
    "## depth"
   ]
  },
  {
   "cell_type": "code",
   "execution_count": null,
   "metadata": {},
   "outputs": [],
   "source": []
  },
  {
   "cell_type": "markdown",
   "metadata": {},
   "source": [
    "## path"
   ]
  },
  {
   "cell_type": "code",
   "execution_count": null,
   "metadata": {},
   "outputs": [],
   "source": []
  },
  {
   "cell_type": "markdown",
   "metadata": {},
   "source": [
    "## 宽度"
   ]
  },
  {
   "cell_type": "code",
   "execution_count": null,
   "metadata": {},
   "outputs": [],
   "source": []
  },
  {
   "cell_type": "code",
   "execution_count": null,
   "metadata": {},
   "outputs": [],
   "source": []
  },
  {
   "cell_type": "code",
   "execution_count": null,
   "metadata": {},
   "outputs": [],
   "source": []
  },
  {
   "cell_type": "code",
   "execution_count": null,
   "metadata": {},
   "outputs": [],
   "source": []
  },
  {
   "cell_type": "code",
   "execution_count": null,
   "metadata": {},
   "outputs": [],
   "source": []
  },
  {
   "cell_type": "code",
   "execution_count": null,
   "metadata": {},
   "outputs": [],
   "source": []
  },
  {
   "cell_type": "markdown",
   "metadata": {},
   "source": [
    "# Graph"
   ]
  },
  {
   "cell_type": "markdown",
   "metadata": {},
   "source": [
    "## 无向图\n",
    "### 遍历\n",
    "#### DFS"
   ]
  },
  {
   "cell_type": "code",
   "execution_count": 2,
   "metadata": {},
   "outputs": [],
   "source": [
    "# node从0开始\n",
    "# make visited[0,1] and graph\n",
    "# 遍历每一个节点，然后遍历该节点相邻的节点\n",
    "class Graph:\n",
    "    def dfsTraversal(self, nums, pairs):\n",
    "        if nums == None:\n",
    "            return\n",
    "        if pairs == None:\n",
    "            return [i for i in range(nums)]\n",
    "        \n",
    "        visited = [0] * nums\n",
    "        graph = [[] for _ in range(nums)]\n",
    "        \n",
    "        for i, j in pairs:\n",
    "            graph[i].append(j)\n",
    "            graph[j].append(i)\n",
    "            \n",
    "        def dfs(index):\n",
    "            if visited == [1] * nums:\n",
    "                return \n",
    "            visited[index] = 1\n",
    "            for out_index in graph[index]:\n",
    "                if visited[out_index] == 0:\n",
    "                    dfs(out_index)\n",
    "            \n",
    "        for i in range(nums):\n",
    "            if visited[i] == 0:\n",
    "                dfs(i)\n",
    "        return \n",
    "    "
   ]
  },
  {
   "cell_type": "markdown",
   "metadata": {},
   "source": [
    "#### BFS"
   ]
  },
  {
   "cell_type": "code",
   "execution_count": 22,
   "metadata": {},
   "outputs": [],
   "source": [
    "from collections import deque\n",
    "class Graph:\n",
    "    def bfsGraph(self, nums, pairs):\n",
    "        if nums == 0:\n",
    "            return 0\n",
    "        if pairs == None:\n",
    "            return nums\n",
    "        \n",
    "        visited = [0] * nums\n",
    "        graph = [[] for _ in range(nums)]\n",
    "        \n",
    "        for i, j in pairs:\n",
    "            graph[j].append(i)\n",
    "            graph[i].append(j)\n",
    "        \n",
    "        queue = deque()\n",
    "        for i in range(nums):\n",
    "            if visited[i] == 0:\n",
    "                queue.append(i)\n",
    "                \n",
    "            while queue:\n",
    "                index = queue.popleft()\n",
    "                visited[index] = 1\n",
    "\n",
    "                for out_index in graph[index]:\n",
    "                    if visited[out_index] == 0:\n",
    "                        queue.append(out_index)\n",
    "        return \n",
    "\n",
    "        "
   ]
  },
  {
   "cell_type": "markdown",
   "metadata": {},
   "source": [
    "### 判断环\n",
    "#### DFS [0,1] 和 parent"
   ]
  },
  {
   "cell_type": "code",
   "execution_count": 4,
   "metadata": {},
   "outputs": [],
   "source": [
    "# True: 有环\n",
    "# False: 没有环\n",
    "# 无环：其访问过的节点有且只有一个，并且是其节点的上一个节点（parent_index)\n",
    "\n",
    "class Graph:\n",
    "    def findCircle(self, nums, pairs):\n",
    "        if nums == None:\n",
    "            return False\n",
    "        if pairs == None:\n",
    "            return False\n",
    "        \n",
    "        visited = [0] * nums\n",
    "        graph = [[] for _ in range(nums)]\n",
    "        \n",
    "        for i, j in pairs:\n",
    "            graph[i].append(j)\n",
    "            graph[j].append(i)\n",
    "            \n",
    "        def dfs(index, parent):\n",
    "            visited[index] = 1\n",
    "            \n",
    "            for j in graph[index]:\n",
    "                if visited[j] == 0:\n",
    "                    if dfs(j, index) == True:\n",
    "                        return True\n",
    "                elif j != parent:\n",
    "                    return True\n",
    "            return False\n",
    "            \n",
    "            \n",
    "        for i in range[nums]:\n",
    "            if visited[i] == 0:\n",
    "                if dfs(index, -1) == True:\n",
    "                    return True\n",
    "        return False"
   ]
  },
  {
   "cell_type": "markdown",
   "metadata": {},
   "source": [
    "#### BFS 建立parent_tag"
   ]
  },
  {
   "cell_type": "code",
   "execution_count": null,
   "metadata": {},
   "outputs": [],
   "source": [
    "# True: 有环\n",
    "# False: 没有环\n",
    "\n",
    "from collections import deque, defaultdict\n",
    "class Graph:\n",
    "    def findCircle(self, nums, pairs):\n",
    "        if nums == None or pairs == None:\n",
    "            return False\n",
    "        \n",
    "        visited = [0] * nums\n",
    "        graph = defaultdict(set)\n",
    "        queue = deque()\n",
    "        \n",
    "        for i, j in pairs:\n",
    "            graph[i].add(j)\n",
    "            graph[j].add(i)\n",
    "            \n",
    "        for i in range(nums):\n",
    "            if visited[i] == 0:\n",
    "                queue.append([i,-1])\n",
    "            \n",
    "            while queue:\n",
    "                index, parent = queue.popleft()\n",
    "                visited[index] = 1\n",
    "                \n",
    "                for out_index in graph[index]:\n",
    "                    if visited[out_index] == 0:\n",
    "                        queue.append([out_index, index])\n",
    "                    elif out_index != parent:\n",
    "                        return False\n",
    "        return True\n",
    "        \n",
    "        "
   ]
  },
  {
   "cell_type": "markdown",
   "metadata": {},
   "source": [
    "#### 并查集\n"
   ]
  },
  {
   "cell_type": "code",
   "execution_count": null,
   "metadata": {},
   "outputs": [],
   "source": []
  },
  {
   "cell_type": "markdown",
   "metadata": {},
   "source": [
    "### 孤立群的个数\n",
    "#### DFS [0,1]法则"
   ]
  },
  {
   "cell_type": "code",
   "execution_count": 15,
   "metadata": {},
   "outputs": [
    {
     "name": "stdout",
     "output_type": "stream",
     "text": [
      "2\n"
     ]
    }
   ],
   "source": [
    "class Graph:\n",
    "    def dfsGraph(self, nums, pairs):\n",
    "        if nums == 0:\n",
    "            return 0\n",
    "        if pairs == None:\n",
    "            return nums\n",
    "        \n",
    "        visited = [0] * nums\n",
    "        graph = [[] for _ in range(nums)]\n",
    "        \n",
    "        for i, j in pairs:\n",
    "            graph[j].append(i)\n",
    "            graph[i].append(j)\n",
    "        \n",
    "        def dfs(index):\n",
    "            if visited == [1] * nums:\n",
    "                return\n",
    "            visited[index] = 1\n",
    "            \n",
    "            for out_index in graph[i]:\n",
    "                if visited[out_index] == 0:\n",
    "                    dfs(out_index)\n",
    "            \n",
    "        island_nums = 0\n",
    "        for i, v in enumerate(visited):\n",
    "            if v == 0:\n",
    "                dfs(i)\n",
    "                island_nums += 1\n",
    "        return island_nums\n",
    "            \n",
    "x = Graph()\n",
    "print(x.dfsGraph(4,[[2,3],[1,2],[1,3]]))"
   ]
  },
  {
   "cell_type": "markdown",
   "metadata": {},
   "source": [
    "#### BFS"
   ]
  },
  {
   "cell_type": "code",
   "execution_count": null,
   "metadata": {},
   "outputs": [],
   "source": [
    "from collections import deque\n",
    "class Graph:\n",
    "    def bfsGraph(self, nums, pairs):\n",
    "        if nums == 0:\n",
    "            return 0\n",
    "        if pairs == None:\n",
    "            return nums\n",
    "        \n",
    "        visited = [0] * nums\n",
    "        graph = [[] for _ in range(nums)]\n",
    "        \n",
    "        for i, j in pairs:\n",
    "            graph[j].append(i)\n",
    "            graph[i].append(j)\n",
    "        \n",
    "        queue = deque()\n",
    "        island_nums = 0\n",
    "        for i, v in enumerate(visited): \n",
    "            if v == 0:\n",
    "                queue.append(i)\n",
    "                island_nums += 1\n",
    "                \n",
    "                while queue:\n",
    "                    index = queue.popleft()\n",
    "                    visited[index] = 1\n",
    "\n",
    "                    for out_index in graph[index]:\n",
    "                        if visited[out_index] == 0:\n",
    "                            queue.append(out_index)\n",
    "                    \n",
    "        return island_nums\n",
    "\n",
    "x = Graph()\n",
    "print(x.bfsGraph(4,[[2,3],[1,2],[1,3]]))"
   ]
  },
  {
   "cell_type": "markdown",
   "metadata": {},
   "source": [
    "#### 并查集"
   ]
  },
  {
   "cell_type": "code",
   "execution_count": 16,
   "metadata": {},
   "outputs": [
    {
     "name": "stdout",
     "output_type": "stream",
     "text": [
      "[0, 1, 1, 2]\n",
      "2\n",
      "2\n"
     ]
    }
   ],
   "source": [
    "class Graph:\n",
    "    def unionFind(self, nums, pairs):\n",
    "        if nums == 0:\n",
    "            return 0\n",
    "        if pairs == None:\n",
    "            return nums\n",
    "        \n",
    "        gT = [i for i in range(nums)]  # graphTag\n",
    "        \n",
    "        def find(index):\n",
    "            if gT[index] == index:\n",
    "                return index\n",
    "            return find(gT[index])\n",
    "        \n",
    "        connect = 0\n",
    "        for i, j in pairs:\n",
    "            root1 = find(i)\n",
    "            root2 = find(j)\n",
    "            if root1 == root2:\n",
    "                pass\n",
    "            else:\n",
    "                connect += 1\n",
    "                gT[root2] = root1\n",
    "                \n",
    "        print(gT)\n",
    "        print(connect)\n",
    "        return (nums - connect)\n",
    "\n",
    "x = Graph()\n",
    "print(x.unionFind(4,[[2,3],[1,2],[1,3]]))"
   ]
  },
  {
   "cell_type": "code",
   "execution_count": null,
   "metadata": {},
   "outputs": [],
   "source": []
  },
  {
   "cell_type": "code",
   "execution_count": 9,
   "metadata": {},
   "outputs": [],
   "source": [
    "l = [[]]"
   ]
  },
  {
   "cell_type": "code",
   "execution_count": 11,
   "metadata": {},
   "outputs": [],
   "source": [
    "if l == []:\n",
    "    print('a')"
   ]
  },
  {
   "cell_type": "markdown",
   "metadata": {},
   "source": [
    "### 路径"
   ]
  },
  {
   "cell_type": "code",
   "execution_count": null,
   "metadata": {},
   "outputs": [],
   "source": []
  },
  {
   "cell_type": "code",
   "execution_count": null,
   "metadata": {},
   "outputs": [],
   "source": []
  },
  {
   "cell_type": "markdown",
   "metadata": {},
   "source": [
    "## 有向图"
   ]
  },
  {
   "cell_type": "markdown",
   "metadata": {},
   "source": [
    "### 判断环\n",
    "#### DFS [-1,0,1]法则\n"
   ]
  },
  {
   "cell_type": "code",
   "execution_count": 26,
   "metadata": {},
   "outputs": [
    {
     "name": "stdout",
     "output_type": "stream",
     "text": [
      "True\n"
     ]
    }
   ],
   "source": [
    "#node从0开始\n",
    "\n",
    "class Graph:\n",
    "    def findCircle(self, nums, pairs):  # 有环：Treu 没环：False\n",
    "        if nums == 0:\n",
    "            return False\n",
    "        if pairs == None:\n",
    "            return False\n",
    "        \n",
    "        visited = [-1] * nums\n",
    "        graph = [[] for _ in range(nums)]\n",
    "        \n",
    "        for i, j in pairs:\n",
    "            graph[i].append(j)  # i-->j\n",
    "            # graph[j].append(i)  # j --> i\n",
    "        \n",
    "        def dfs(index):\n",
    "            if visited[index] == 0:\n",
    "                return True\n",
    "            if visited[index] == 1:\n",
    "                return False\n",
    "            \n",
    "            visited[index] = 0\n",
    "            for out_index in graph[index]:\n",
    "                if dfs(out_index) == True:\n",
    "                    return True\n",
    "                \n",
    "            visited[index] = 1\n",
    "            return False\n",
    "        \n",
    "        for i in range(nums):\n",
    "            if dfs(i) == True:\n",
    "                return True\n",
    "        return False\n",
    "\n",
    "x = Graph()\n",
    "print(x.findCircle(4,[[0,1],[1,2],[2,3],[3,0]]))\n",
    "            "
   ]
  },
  {
   "cell_type": "markdown",
   "metadata": {},
   "source": [
    "#### 拓扑排序"
   ]
  },
  {
   "cell_type": "code",
   "execution_count": 30,
   "metadata": {},
   "outputs": [
    {
     "name": "stdout",
     "output_type": "stream",
     "text": [
      "True\n"
     ]
    }
   ],
   "source": [
    "# node从0开始\n",
    "# 如果node不是从0开始，那么indegree跟outdegree不是list而是dict，key是值，value是原本list里面的内容\n",
    "# 建立dict的时候，可以用defaultdict来建立，比如indegree = defaultdict(int)\n",
    "# 注意：indegree里面的key要包含所有nodes，没有入度的一定要标记成0；而outdegree里面的key可以不包含所有nodes，没有出度的node可以不创建key，保留默认值就可\n",
    "\n",
    "from collections import deque\n",
    "class Graph:\n",
    "    def topoSort(self, nums, pairs):\n",
    "        if nums == 0:\n",
    "            return False\n",
    "        if pairs == None:\n",
    "            return False\n",
    "        \n",
    "        indegree = [0] * nums\n",
    "        outdegree = [[] for _ in range(nums)]\n",
    "        \n",
    "        for i, j in pairs:\n",
    "            outdegree[i].append(j)  # i --> j\n",
    "            indegree[j] += 1\n",
    "            \n",
    "        queue = deque()\n",
    "        for i, v in enumerate(indegree):\n",
    "            if v == 0:\n",
    "                queue.append(i)\n",
    "        \n",
    "        while queue:\n",
    "            index = queue.popleft()\n",
    "            \n",
    "            for out_index in outdegree[index]:\n",
    "                indegree[out_index] -= 1\n",
    "                if indegree[out_index] == 0:\n",
    "                    queue.append(out_index)\n",
    "        if indegree == [0] * nums:\n",
    "            return False\n",
    "        else:\n",
    "            return True\n",
    "    \n",
    "\n",
    "x = Graph()\n",
    "print(x.topoSort(4,[[0,1],[1,2],[2,3],[3,0]]))"
   ]
  },
  {
   "cell_type": "code",
   "execution_count": null,
   "metadata": {},
   "outputs": [],
   "source": [
    "# outdegree记录次数\n",
    "# indegree记录进点的node\n",
    "# 参考802题\n"
   ]
  },
  {
   "cell_type": "code",
   "execution_count": 40,
   "metadata": {},
   "outputs": [
    {
     "name": "stdout",
     "output_type": "stream",
     "text": [
      "2\n"
     ]
    }
   ],
   "source": []
  }
 ],
 "metadata": {
  "kernelspec": {
   "display_name": "Python 3",
   "language": "python",
   "name": "python3"
  },
  "language_info": {
   "codemirror_mode": {
    "name": "ipython",
    "version": 3
   },
   "file_extension": ".py",
   "mimetype": "text/x-python",
   "name": "python",
   "nbconvert_exporter": "python",
   "pygments_lexer": "ipython3",
   "version": "3.7.3"
  },
  "toc": {
   "base_numbering": 1,
   "nav_menu": {},
   "number_sections": true,
   "sideBar": true,
   "skip_h1_title": false,
   "title_cell": "Table of Contents",
   "title_sidebar": "Contents",
   "toc_cell": false,
   "toc_position": {
    "height": "calc(100% - 180px)",
    "left": "10px",
    "top": "150px",
    "width": "255.59375px"
   },
   "toc_section_display": true,
   "toc_window_display": true
  }
 },
 "nbformat": 4,
 "nbformat_minor": 4
}
