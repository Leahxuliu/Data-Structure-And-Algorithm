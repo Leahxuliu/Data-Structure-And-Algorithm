{
 "cells": [
  {
   "cell_type": "markdown",
   "metadata": {},
   "source": [
    "Data Structure and Algorithm的学习笔记   \n",
    "本笔记参考了李厨子Leetcord2.0里的Data Structure and Algorithm"
   ]
  },
  {
   "cell_type": "markdown",
   "metadata": {},
   "source": [
    "# 知识点框架\n",
    "**第一梯队：**   \n",
    "* Tree\n",
    "* Dynamic Programming\n",
    "* Binary search\n",
    "* two pointer\n",
    "* sort\n",
    "* math\n",
    "\n",
    "**第二梯队：**   \n",
    "* Graph\n",
    "* heap\n",
    "* Greedy\n",
    "\n",
    "**第三梯队：**   \n",
    "* Linked list\n",
    "* sliding window\n",
    "* union find\n",
    "\n",
    "**第四梯队：**   \n",
    "* bit manipulation\n",
    "* trie\n",
    "* topological sort\n",
    "\n"
   ]
  },
  {
   "cell_type": "markdown",
   "metadata": {},
   "source": [
    "# Python的小笔记\n",
    "\n",
    "## 如何在其它文件里面调用自己写的函数\n",
    "\n",
    "**方法：**   \n",
    "import path/file_name  # 输入 import constructTree (如果 constructTree.py 是文件全名）   \n",
    "file_name.function_name(参数)  # 例如root = constructTree.constructTree([1,2,3,4,None,5])    \n"
   ]
  },
  {
   "cell_type": "markdown",
   "metadata": {},
   "source": [
    "## 函数参数\n",
    "**参数组合**   \n",
    "顺序必须是：必选参数、默认参数、可变参数、命名关键字参数和关键字参数\n",
    "\n",
    "**位置参数**  \n",
    "* 定义\n",
    "    * 普通的参数，就是占位的参数\n",
    "    \n",
    "**默认参数**   \n",
    "* 定义\n",
    "    * 必选参数在前，默认参数在后\n",
    "    * 当函数有多个参数时，把变化大的参数放前面，变化小的参数放后面。变化小的参数就可以作为默认参数。\n",
    "* 使用\n",
    "    * 按顺序提供默认参数，直接在函数里添加要修改为的参数即可\n",
    "    * 不按顺序提供部分默认参数时，需要把参数名写上\n",
    "    * def enroll(name, gender, age=6, city='Beijing'):enroll('li', 'male', 6)\n",
    "* 默认参数必须指向不变对象！\n",
    "\n",
    "**可变参数**   \n",
    "* 定义\n",
    "    * \\*args是可变参数，args接收的是一个tuple；\n",
    "    * 可变参数就是传入的参数个数是可变的，可以是1个、2个到任意个，还可以是0个\n",
    "    * 可变参数在函数调用时自动组装为一个tuple\n",
    "* 使用\n",
    "    * 参数前面加一个* 号\n",
    "        * def person(\\*names)\n",
    "    * 既可以直接传入：func(1, 2, 3)\n",
    "    * 又可以先组装list或tuple，再通过*args传入：func(*(1, 2, 3))；\n",
    "    * def calc(* numbers):  sum = 0 for n in numbers:\n",
    "* 特殊情况\n",
    "    *  输入为空，也可以  calc()"
   ]
  },
  {
   "cell_type": "markdown",
   "metadata": {},
   "source": [
    "## 递归函数\n",
    "* 通常写法：f(n) = （f(n-1)的表示方法）\n",
    "* 缺点：\n",
    "    * 空间复杂度过大\n",
    "        * 递归的函数调用是通过栈（stack）这种数据结构实现的，即使用return的次数\n",
    "        * 每当进入一个函数调用，栈就会加一层栈帧，每当函数返回，栈就会减一层栈帧。\n",
    "        * 由于栈的大小不是无限的，所以，递归调用的次数过多，会导致栈溢出\n",
    "* 尾递归 Tail call：\n",
    "    * 形式：return 语句调用自身本身，且不能包含表达式。计算在运行return的函数之前完成\n",
    "    * 与循环等价\n",
    "    * 优点：\n",
    "        * 若编译器或者解释器把尾递归做优化，使递归本身无论调用多少次，都只占用一个栈帧，不会出现栈溢出的情况\n",
    "        * 但是Python未优化，也会导致栈溢出"
   ]
  },
  {
   "cell_type": "markdown",
   "metadata": {},
   "source": [
    "## 面向对象的编程\n",
    "* Object Oriented Programming, OOP\n",
    "* 程序的基本单元：对象\n",
    "* 对象\n",
    "    * 数据和操作数据的函数\n",
    "    * 所有数据类型\n",
    "    * 自定义对象，e.g. x = mySoluction,x即自定义对象\n",
    "* 设计思想：抽象出Class，根据Class创建Instance\n",
    "    * Class——Student，是指学生这个概念\n",
    "    * 实例（Instance）则是一个个具体的Student，\n",
    "    \n",
    "### 类和实例\n",
    "* 类：抽象的模板\n",
    "* 实例：根据类创建出来的一个个具体的对象\n",
    "    * 各个实例拥有的数据都互相独立，互不影响\n",
    "* 类\n",
    "    * 创建\n",
    "        * class 类名（**大写开头单词**） + (要继承的类)\n",
    "    * 绑定属性（强制）\n",
    "        * def __init__(self, attribute1, attribute2):\n",
    "            * self.attributeA = attribute1\n",
    "            * self.attributeB = attribute2\n",
    "    * 当我们定义一个class的时候，我们实际上就定义了一种数据类型。\n",
    "        * 我们定义的数据类型和Python自带的数据类型，比如str、list、dict没什么两样\n",
    "* 实例\n",
    "    * 实例变量 = 实例\n",
    "    * 创建\n",
    "        * instance_name = 类名()\n",
    "    * 绑定新属性（可选）\n",
    "        * instance_name.新属性名 = XXX\n",
    "    * 修改类创建的属性\n",
    "        * instance_name.旧属性名 = YYY\n",
    "        \n",
    "* 函数，即类的方法\n",
    "    * 第一个参数永远是实例变量self，并且，调用时，不用传递该参数\n",
    "    * 类的方法和普通函数没有什么区别，仍然可以用默认参数、可变参数、关键字参数和命名关键字参数。 \n",
    "    \n",
    "    \n",
    "### 数据封装\n",
    "* 封装：类实例本身就拥有一些用init定义的数据，要访问这些数据，就没有必要从外面的函数去访问，可以在类的内部定义访问数据的函数，即把这些数据封装起来了。\n",
    "\n",
    "\n",
    "### 访问限制\n",
    "* 定义：实例可以修改类创建的属性，故进行访问限制，让内部属性不被外部访问\n",
    "* 方法：类的属性的名称前加上两个下划线__\n",
    "    * def \\_\\_init__(self, name, score):\n",
    "        * self.__name = name\n",
    "        * self.__score = score\n",
    "* 允许外部代码获得属性\n",
    "    * 类增加函数\n",
    "        * def get_name(self):\n",
    "            * return self.__name\n",
    "* 允许外部代码修改属性\n",
    "    * 类增加函数\n",
    "        * def set_score(self, score):\n",
    "            * self.__score = score\n",
    "* 一个下划线开头的实例名\n",
    "    * 可以访问的，但是，按照约定俗成的规定，当你看到这样的变量时，意思就是，“虽然我可以被访问，但是，请把我视为私有变量，不要随意访问”。\n",
    "    \n",
    "    \n",
    "### 继承和多态 Inheritance and polymorphism\n",
    "* 继承\n",
    "    * 当我们定义一个class的时候，可以从某个现有的class继承\n",
    "    * 新的class：子类（Subclass）\n",
    "    * 被继承的class：基类、父类或超类（Base class、Super class）。\n",
    "* 继承的优势\n",
    "    * 继承：子类获得了父类的全部功能\n",
    "        * 父类有什么函数，子类就有\n",
    "    * 多态：当子类和父类都存在相同的函数（方法）时，总是会调用子类的函数（方法）\n",
    "        * 对扩展开放：允许新增子类\n",
    "        * 对修改封闭：不需要修改依赖父类型的函数\n",
    "* 静态语言 vs 动态语言\n",
    "    * 对于静态语言（例如Java）来说，如果需要传入Animal类型，则传入的对象必须是Animal类型或者它的子类，否则，将无法调用run()方法。\n",
    "    * 对于Python这样的动态语言来说，则不一定需要传入Animal类型。我们只需要保证传入的对象有一个run()方法就可以了\n",
    "        * 这就是动态语言的“鸭子类型”，它并不要求严格的继承体系，一个对象只要“看起来像鸭子，走起路来像鸭子”，那它就可以被看做是鸭子。\n",
    "        * Python的“file-like object“就是一种鸭子类型。对真正的文件对象，它有一个read()方法，返回其内容。但是，许多对象，只要有read()方法，都被视为“file-like object“。许多函数接收的参数就是“file-like object“，你不一定要传入真正的文件对象，完全可以传入任何实现了read()方法的对象。\n",
    "        \n",
    "        \n",
    "### 获取对象信息\n",
    "* type()\n",
    "    * 判断一个对象是否是函数\n",
    "        * 可以使用types模块中定义的常量\n",
    "        * import types\n",
    "        * type(abs)==types.BuiltinFunctionType\n",
    "    * return Class type\n",
    "    \n",
    "* ininstance(object, (type1, type2, ...))  - **优先使用**\n",
    "    * isinstance([1, 2, 3], (list, tuple))\n",
    "    \n",
    "* dir()\n",
    "    * 获得一个对象的所有属性和方法\n",
    "    * return list\n",
    "    * 配合getattr()、setattr()以及hasattr()，我们可以直接操作一个对象的状态\n",
    "    \n",
    "    \n",
    "### 实例属性和类属性\n",
    "* 实例属性\n",
    "    * 绑定方法\n",
    "        * \\_\\_init__绑定\n",
    "        * 实例变量绑定\n",
    "            * s.score = 90\n",
    "    * 实例属性属于各个实例所有，互不干扰\n",
    "* 类属性\n",
    "    * 绑定方法\n",
    "        * 直接在class中定义属性\n",
    "        * 类属性属于类所有，所有实例共享一个属性\n",
    "        * class Student(object):\n",
    "            * name = 'Student'\n",
    "* 相同名称的实例属性将屏蔽掉类属性，但是当你删除实例属性后，再使用相同的名称，访问到的将是类属性\n",
    "* 不要对实例属性和类属性使用相同的名字，否则将产生难以发现的错误。"
   ]
  },
  {
   "cell_type": "code",
   "execution_count": null,
   "metadata": {},
   "outputs": [],
   "source": [
    "class Solution:\n",
    "    def isSameTree(self, p, q):\n",
    "        ......\n",
    "\n",
    "if __name__ == '__main__':\n",
    "    \n",
    "    result = Solution()\n",
    "    print(result.isSameTree(p, q))\n",
    "    "
   ]
  },
  {
   "cell_type": "markdown",
   "metadata": {},
   "source": [
    "### sort与sorted\n",
    "\n",
    "* sort 在原本的list上进行sort\n",
    "* sorted 形成一个新的list"
   ]
  },
  {
   "cell_type": "code",
   "execution_count": 7,
   "metadata": {},
   "outputs": [],
   "source": [
    "l = [5, 4, 1]"
   ]
  },
  {
   "cell_type": "code",
   "execution_count": 8,
   "metadata": {},
   "outputs": [
    {
     "data": {
      "text/plain": [
       "[1, 4, 5]"
      ]
     },
     "execution_count": 8,
     "metadata": {},
     "output_type": "execute_result"
    }
   ],
   "source": [
    "sorted(l)"
   ]
  },
  {
   "cell_type": "code",
   "execution_count": 9,
   "metadata": {},
   "outputs": [
    {
     "data": {
      "text/plain": [
       "[1, 4, 5]"
      ]
     },
     "execution_count": 9,
     "metadata": {},
     "output_type": "execute_result"
    }
   ],
   "source": [
    "l.sort()\n",
    "l"
   ]
  },
  {
   "cell_type": "code",
   "execution_count": 14,
   "metadata": {},
   "outputs": [],
   "source": [
    "L = [('a',2),('b',1),('d',3),('c',4)]"
   ]
  },
  {
   "cell_type": "code",
   "execution_count": 15,
   "metadata": {},
   "outputs": [
    {
     "data": {
      "text/plain": [
       "[('b', 1), ('a', 2), ('d', 3), ('c', 4)]"
      ]
     },
     "execution_count": 15,
     "metadata": {},
     "output_type": "execute_result"
    }
   ],
   "source": [
    "sorted(L, key=lambda x:x[1])  # 对value进行排序"
   ]
  },
  {
   "cell_type": "code",
   "execution_count": 16,
   "metadata": {},
   "outputs": [
    {
     "data": {
      "text/plain": [
       "[('a', 2), ('b', 1), ('c', 4), ('d', 3)]"
      ]
     },
     "execution_count": 16,
     "metadata": {},
     "output_type": "execute_result"
    }
   ],
   "source": [
    "sorted(L, key=lambda x:x[0])  # 对key进行排序"
   ]
  },
  {
   "cell_type": "markdown",
   "metadata": {},
   "source": [
    "# 时间空间复杂度\n",
    "\n",
    "## 时间复杂度\n",
    "* **时间频度：**    \n",
    "    一个算法中的语句执行次数，记为T(n)，n称为问题的规模\n",
    "* **时间复杂度：**   \n",
    "    * 算法中语句执行次数为一个常数，则时间复杂度为O(1)；   \n",
    "    * 复杂度就是频度的求最大次方简化版   \n",
    "    * 时间频度不相同时，时间复杂度有可能相同，如如T(n)=n^2+3n+4与T(n)=4n^2+2n+1它们的频度不同，但时间复杂度相同，都为O(n^2)\n",
    "* 常数阶O(1),对数阶O(log2n),线性阶O(n), 线性对数阶O(nlog2n),平方阶O(n^2)，立方阶O(n3),...， k次方阶O(n^k),指数阶O(2^n)\n",
    "    * 尽可能选用多项式阶O(n^k)，而不希望用指数阶的算法 \n",
    "    "
   ]
  },
  {
   "cell_type": "markdown",
   "metadata": {},
   "source": [
    "## 空间复杂度\n",
    "* **常数阶O(1)：**   \n",
    "    如当一个算法的空间复杂度为一个常量，即不随被处理数据量n的大小而改变时，可表示为O(1)；\n",
    "* **对数阶O(logN)：**    \n",
    "    当一个算法的空间复杂度与以2为底的n的对数成正比时，可表示为0(logN)；\n",
    "* **线性阶0(N)：**    \n",
    "    当一个算法的空间复杂度与n成线性比例关系时，可表示为0(n).\n",
    "* 特别的   \n",
    "    * **空间复杂度没有累乘的概念，是根据消耗space与输入量的关系决定的**\n",
    "    * 递归(recursive)/backtracking\n",
    "        * 在一次方法调用中，内部的临时变量和方法调用栈帧是放到栈空间中，普通的递归是需要记录所有的调用栈\n",
    "        * 故递归了多少次（不包含回退的次数），就有多少空间被使用，即O(n)\n",
    "        "
   ]
  },
  {
   "cell_type": "markdown",
   "metadata": {},
   "source": [
    "## 时间复杂度的具体例子\n",
    "complexitypython.txt （来自李厨子）\n",
    "\n",
    "### List"
   ]
  },
  {
   "cell_type": "raw",
   "metadata": {},
   "source": [
    "Lists:\n",
    "                               Complexity\n",
    "Operation     | Example      | Class         | Notes\n",
    "--------------+--------------+---------------+-------------------------------\n",
    "Index         | l[i]         | O(1)\t     |\n",
    "Store         | l[i] = 0     | O(1)\t     |\n",
    "Length        | len(l)       | O(1)\t     |\n",
    "Append        | l.append(5)  | O(1)\t     | mostly: ICS-46 covers details\n",
    "Pop\t      | l.pop()      | O(1)\t     | same as l.pop(-1), popping at end\n",
    "Clear         | l.clear()    | O(1)\t     | similar to l = []\n",
    "\n",
    "Slice         | l[a:b]       | O(b-a)\t     | l[1:5]:O(l)/l[:]:O(len(l)-0)=O(N)\n",
    "Extend        | l.extend(...)| O(len(...))   | depends only on len of extension\n",
    "Construction  | list(...)    | O(len(...))   | depends on length of ... iterable\n",
    "\n",
    "check ==, !=  | l1 == l2     | O(N)          |\n",
    "Insert        | l[a:b] = ... | O(N)\t     | \n",
    "Delete        | del l[i]     | O(N)\t     | depends on i; O(N) in worst case\n",
    "Containment   | x in/not in l| O(N)\t     | linearly searches list \n",
    "Copy          | l.copy()     | O(N)\t     | Same as l[:] which is O(N)\n",
    "Remove        | l.remove(...)| O(N)\t     | \n",
    "Pop\t      | l.pop(i)     | O(N)\t     | O(N-i): l.pop(0):O(N) (see above)\n",
    "Extreme value | min(l)/max(l)| O(N)\t     | linearly searches list for value\n",
    "Reverse\t      | l.reverse()  | O(N)\t     |\n",
    "Iteration     | for v in l:  | O(N)          | Worst: no return/break in loop\n",
    "\n",
    "Sort          | l.sort()     | O(N Log N)    | key/reverse mostly doesn't change\n",
    "Multiply      | k*l          | O(k N)        | 5*l is O(N): len(l)*l is O(N**2)\n",
    "\n",
    "Tuples support all operations that do not mutate the data structure (and they\n",
    "have the same complexity classes)."
   ]
  },
  {
   "cell_type": "raw",
   "metadata": {},
   "source": [
    "**不容易理解**   \n",
    "Slice         | l[a:b]       | O(b-a)\t     因为不改变原本的list，只是view    \n",
    "Insert        | l[a:b] = ... | O(N)          改变原有的list    \n",
    "Store         | l[i] = 0     | O(1)          虽然改变原有的list，但是是指定位置    \n",
    "Sort          | l.sort()     | O(N Log N)    quick sort等 后面会讲"
   ]
  },
  {
   "cell_type": "code",
   "execution_count": 5,
   "metadata": {},
   "outputs": [
    {
     "data": {
      "text/plain": [
       "[1, 2, 0]"
      ]
     },
     "execution_count": 5,
     "metadata": {},
     "output_type": "execute_result"
    }
   ],
   "source": [
    "l = []\n",
    "l = [1,2,3]\n",
    "l[2] = 0\n",
    "l"
   ]
  },
  {
   "cell_type": "code",
   "execution_count": 6,
   "metadata": {},
   "outputs": [
    {
     "data": {
      "text/plain": [
       "[5, 6, 2, 0]"
      ]
     },
     "execution_count": 6,
     "metadata": {},
     "output_type": "execute_result"
    }
   ],
   "source": [
    "l[0:1] = [5,6]\n",
    "l"
   ]
  },
  {
   "cell_type": "code",
   "execution_count": 12,
   "metadata": {},
   "outputs": [
    {
     "data": {
      "text/plain": [
       "[1, 2, 3, 4, 5]"
      ]
     },
     "execution_count": 12,
     "metadata": {},
     "output_type": "execute_result"
    }
   ],
   "source": [
    "a = [1,2,3,4,5]\n",
    "a[0:3]\n",
    "a"
   ]
  },
  {
   "cell_type": "code",
   "execution_count": 13,
   "metadata": {},
   "outputs": [
    {
     "data": {
      "text/plain": [
       "[7, 6, 4, 5]"
      ]
     },
     "execution_count": 13,
     "metadata": {},
     "output_type": "execute_result"
    }
   ],
   "source": [
    "b = [1,2,3,4,5]\n",
    "b[0:3] = [7,6]\n",
    "b"
   ]
  },
  {
   "cell_type": "markdown",
   "metadata": {},
   "source": [
    "### Set"
   ]
  },
  {
   "cell_type": "raw",
   "metadata": {},
   "source": [
    "Sets:\n",
    "                               Complexity\n",
    "Operation     | Example      | Class         | Notes\n",
    "--------------+--------------+---------------+-------------------------------\n",
    "Length        | len(s)       | O(1)\t     |\n",
    "Add           | s.add(5)     | O(1)\t     |\n",
    "Containment   | x in/not in s| O(1)\t     | compare to list/tuple - O(N)\n",
    "Remove        | s.remove(..) | O(1)\t     | compare to list/tuple - O(N)\n",
    "Discard       | s.discard(..)| O(1)\t     | \n",
    "Pop           | s.pop()      | O(1)\t     | popped value \"randomly\" selected\n",
    "Pop intermediate| s.pop(-3)  | O(k)\t     | popped value \"index = k\" selected\n",
    "Clear         | s.clear()    | O(1)\t     | similar to s = set()\n",
    "Construction  | set(...)     | O(len(...))   | depends on length of ... iterable\n",
    "check ==, !=  | s != t       | O(len(s))     | same as len(t); False in O(1) if\n",
    "      \t      \t     \t       \t\t       the lengths are different\n",
    "<=/<          | s <= t       | O(len(s))     | issubset\n",
    ">=/>          | s >= t       | O(len(t))     | issuperset s <= t == t >= s\n",
    "Union         | s | t        | O(len(s)+len(t))\n",
    "Intersection  | s & t        | O(len(s)+len(t))\n",
    "Difference    | s - t        | O(len(s)+len(t))\n",
    "Symmetric Diff| s ^ t        | O(len(s)+len(t))\n",
    "\n",
    "Iteration     | for v in s:  | O(N)          | Worst: no return/break in loop\n",
    "Copy          | s.copy()     | O(N)\t     |\n",
    "\n",
    "Sets have many more operations that are O(1) compared with lists and tuples.\n",
    "Not needing to keep values in a specific order in a set (while lists/tuples\n",
    "require an order) allows for faster implementations of some set operations.\n",
    "\n",
    "Frozen sets support all operations that do not mutate the data structure (and\n",
    "they have the same  complexity classes)."
   ]
  },
  {
   "cell_type": "markdown",
   "metadata": {},
   "source": [
    "问题：   \n",
    "O(len(s)) 与 O(N)可以表示一个意思吗？？？\n",
    "可以\n",
    "N就是代表问题的规模"
   ]
  },
  {
   "cell_type": "code",
   "execution_count": 14,
   "metadata": {},
   "outputs": [
    {
     "name": "stdout",
     "output_type": "stream",
     "text": [
      "True\n",
      "False\n",
      "True\n"
     ]
    }
   ],
   "source": [
    "# 部分集合になっているかのチェック\n",
    "\n",
    "number1 = {1, 2, 3, 4, 5}\n",
    "number2 = {3, 4, 5, 6, 7}\n",
    "number3 = {1, 2, 3}\n",
    "\n",
    "# 「<=」演算子を使います\n",
    "print(number3 <= number1)\n",
    "# True\n",
    "print(number1 <= number2)\n",
    "# False\n",
    "\n",
    "# 自分自身は部分集合なので、Trueを返します\n",
    "print(number1 <= number1)\n",
    "# True\n"
   ]
  },
  {
   "cell_type": "code",
   "execution_count": 16,
   "metadata": {},
   "outputs": [
    {
     "data": {
      "text/plain": [
       "{1, 2, 3, 4, 5, 6, 7}"
      ]
     },
     "execution_count": 16,
     "metadata": {},
     "output_type": "execute_result"
    }
   ],
   "source": [
    "number1 | number2 #合并"
   ]
  },
  {
   "cell_type": "code",
   "execution_count": 18,
   "metadata": {},
   "outputs": [
    {
     "data": {
      "text/plain": [
       "{3, 4, 5}"
      ]
     },
     "execution_count": 18,
     "metadata": {},
     "output_type": "execute_result"
    }
   ],
   "source": [
    "number1 & number2 #在两个set里面都存在"
   ]
  },
  {
   "cell_type": "code",
   "execution_count": 21,
   "metadata": {},
   "outputs": [
    {
     "data": {
      "text/plain": [
       "{6, 7}"
      ]
     },
     "execution_count": 21,
     "metadata": {},
     "output_type": "execute_result"
    }
   ],
   "source": [
    "number1 - number2 #只存在number1里面的\n",
    "number2 - number1 #只存在number2里面的"
   ]
  },
  {
   "cell_type": "code",
   "execution_count": 22,
   "metadata": {},
   "outputs": [
    {
     "data": {
      "text/plain": [
       "{1, 2, 6, 7}"
      ]
     },
     "execution_count": 22,
     "metadata": {},
     "output_type": "execute_result"
    }
   ],
   "source": [
    "number1 ^ number2 #只存在number1或者number2里面的"
   ]
  },
  {
   "cell_type": "markdown",
   "metadata": {},
   "source": [
    "### Dictionarie"
   ]
  },
  {
   "cell_type": "raw",
   "metadata": {},
   "source": [
    "Dictionaries: dict and defaultdict\n",
    "                               Complexity\n",
    "Operation     | Example      | Class         | Notes\n",
    "--------------+--------------+---------------+-------------------------------\n",
    "Index         | d[k]         | O(1)\t     |\n",
    "Store         | d[k] = v     | O(1)\t     |\n",
    "Length        | len(d)       | O(1)\t     |\n",
    "Delete        | del d[k]     | O(1)\t     |\n",
    "get/setdefault| d.get(k)     | O(1)\t     |\n",
    "Pop           | d.pop(k)     | O(1)\t     | \n",
    "Pop item      | d.popitem()  | O(1)\t     | popped item \"randomly\" selected\n",
    "Clear         | d.clear()    | O(1)\t     | similar to s = {} or = dict()\n",
    "View          | d.keys()     | O(1)\t     | same for d.values()\n",
    "\n",
    "Construction  | dict(...)    | O(len(...))   | depends # (key,value) 2-tuples\n",
    "\n",
    "Iteration     | for k in d:  | O(N)          | all forms: keys, values, items\n",
    "\t      \t      \t       \t\t     | Worst: no return/break in loop"
   ]
  },
  {
   "cell_type": "raw",
   "metadata": {},
   "source": [
    "易错点\n",
    "Pop           | d.pop(k)     | O(1)  字典是一种索引结构\n",
    "\n",
    "与list不同点\n",
    "Pop\t      | l.pop()      | O(1)\t     | same as l.pop(-1), popping at end 默认的是删掉最后一个数\n",
    "Pop\t      | l.pop(i)     | O(N)\t     | O(N-i): l.pop(0):O(N) (see above) 为什么不是O(i)\n",
    "                                       因为i是不确定的，考虑最坏的情况，i=N"
   ]
  },
  {
   "cell_type": "markdown",
   "metadata": {},
   "source": [
    "# 数据结构基础\n",
    "\n"
   ]
  },
  {
   "cell_type": "markdown",
   "metadata": {},
   "source": [
    "## List/Stack 列表/栈\n",
    "\n",
    "### 什么是栈\n",
    "* 栈是一种特殊的列表，栈内的元素只能通过列表的一端访问，这一端称为栈顶。    \n",
    "* 咖啡厅内的一摞盘子是现实世界中常见的栈的例子。只能从最上面取盘子，盘子洗净后，也只能摞在这一摞盘子的最上面。栈被称为一种**后入先出**（LIFO，last-in-first-out）的数据结构。   \n",
    "* 由于栈具有后入先出的特点，所以任何不在栈顶的元素都无法访问。为了得到栈底的元素，必须先拿掉上面的元素。   \n",
    "* 对栈的两种主要操作是将一个元素压入栈和将一个元素弹出栈。\n",
    "* 在python里面 用list来表示栈\n",
    "\n",
    "### 常用操作以及复杂度"
   ]
  },
  {
   "cell_type": "raw",
   "metadata": {},
   "source": [
    "增\n",
    "* list.append(obj)             O(1)\n",
    "* list.extend(string)          O(len(string))      用新列表扩展原来的列表\n",
    "* listC = listA + listB        O(len(list(B))      用B扩展A\n",
    "* list.insert(index,obj)       O(index)\n",
    "\n",
    "\n",
    "删\n",
    "* b = list.pop()               O(1)\n",
    "    #b=被删掉的那个数,原本list里的最后一个数                \n",
    "* b = list.pop(i)              O(N)                O(N-i): list.pop(0):O(N)\n",
    "    #b=list里面第i位数；pop是从后往前减的，所以i位的时间复杂度是N-i\n",
    "* del list[i]                  O(N)                取决于i; O(N):i都为0开始的正序,worst case\n",
    "    #没有返回值，删除第i位值，形成新的list\n",
    "    #还可以 del l[2:5]\n",
    "* list.remove(obj)             O(N)\n",
    "    #指定した値と同じ要素を検索し、最初の要素を削除\n",
    "* list.clear()                 O(1)\n",
    "    #清空列表\n",
    "    \n",
    "\n",
    "改\n",
    "* list[i] = newValue           O(1)\n",
    "\n",
    "\n",
    "查\n",
    "* list[i]                      O(1)\n",
    "* list[a:b]                    O(b-a)\n",
    "* list.index(obj)              O(N)\n",
    "    #指定值第一次出现的索引位置\n",
    "\n",
    "\n",
    "排\n",
    "* list.sort(key=None,reverse=False) O(NlogN)\n",
    "* new = sorted(list)\n",
    "    #リスト型のメソッドsort(): 元のリストをソート;在原有的list上面直接sort，改变原本的list\n",
    "     組み込み関数sorted(): ソートした新たなリストを生成；生成新的list，原本的list不变\n",
    "* list.reverse()                O(N)             转置\n",
    "* a = list[::-1]                O(N)             转置\n",
    "\n",
    "\n",
    "其他\n",
    "* 计数  list.count(obj)          O(N)             统计某一个元素在列表中出现的次数\n",
    "* 长度  len(list)                O(1)\n",
    "* 构造  list(string or ...)      O(len(...))\n",
    "* 判断  check ==, !=             O(N)\n",
    "* 包含  x in/not in list         O(N)\n",
    "* 极值  max(list) / min(list)    O(N)\n",
    "* 迭代  for v in l:              O(N)\n",
    "* 乘    k * list                 O(k N)           k=5,5N-->N; k=N,NN-->N**2\n",
    "        5 * list                 O(N)\n",
    "        len(list) * list         O(N**2)\n",
    "        乘的是括号里面的数，再外套括号\n",
    "        a = [1, 3, 4], b = a * 2, b = [1, 3, 4, 1, 3, 4]\n",
    "        a = a = [[1,3,4], [2,3,4]], b = [a[0]]* 2, b = [[1, 3, 4], [1, 3, 4]]\n",
    "* 复制\n",
    "  浅复制 b = list.copy()                   O(N)\n",
    "        最方便 b = list[:]                 O(N)\n",
    "        from copy import copy a = copy(A) O(N)\n",
    "  深复制 a = deepcopy(A)                   O(N)\n",
    "  注意：浅复制复制一层，深复制所有层\n",
    "\n",
    "\n",
    "总结\n",
    "需要对list中每一个元素都需要进行的操作是O(N)\n",
    "\n",
    "\n",
    "注释：\n",
    "* list.sort(key=None, reverse=False); \n",
    "  reverse = False(默认，小到大)/True(大到小)\n",
    "  key可以是key=str.lower或者是dict.key等\n",
    "  key=lambda y: y[1]\n",
    "     y代表list的元素\n",
    "     y[1]代表以元素的1st值作为排序标准\n",
    "     备注：这里y可以是任意字母，等同key=lambda x: x[1]\n",
    "  key = lambda x: (x[1], x[0])\n",
    "     以x[1], x[0]为排序标准，以x[1]为优先准则，x[1]相等下，按照x[0]排序\n",
    "     \n",
    "* new_list = [elem[0] for elem in list] 生成器\n",
    "     用list里的元素elem的elem[0]作为new_list的元素"
   ]
  },
  {
   "cell_type": "code",
   "execution_count": 32,
   "metadata": {},
   "outputs": [
    {
     "data": {
      "text/plain": [
       "[1, 2, 3, 4, '6']"
      ]
     },
     "execution_count": 32,
     "metadata": {},
     "output_type": "execute_result"
    }
   ],
   "source": [
    "abc = [1,2,3,4]\n",
    "abc.extend('6')\n",
    "abc"
   ]
  },
  {
   "cell_type": "code",
   "execution_count": 33,
   "metadata": {},
   "outputs": [
    {
     "data": {
      "text/plain": [
       "'6'"
      ]
     },
     "execution_count": 33,
     "metadata": {},
     "output_type": "execute_result"
    }
   ],
   "source": [
    "abc.pop()"
   ]
  },
  {
   "cell_type": "code",
   "execution_count": 34,
   "metadata": {},
   "outputs": [
    {
     "data": {
      "text/plain": [
       "[1, 2, 3, 4]"
      ]
     },
     "execution_count": 34,
     "metadata": {},
     "output_type": "execute_result"
    }
   ],
   "source": [
    "abc"
   ]
  },
  {
   "cell_type": "code",
   "execution_count": 35,
   "metadata": {},
   "outputs": [
    {
     "data": {
      "text/plain": [
       "4"
      ]
     },
     "execution_count": 35,
     "metadata": {},
     "output_type": "execute_result"
    }
   ],
   "source": [
    "b = abc.pop()\n",
    "b"
   ]
  },
  {
   "cell_type": "code",
   "execution_count": 36,
   "metadata": {},
   "outputs": [
    {
     "data": {
      "text/plain": [
       "[1, 2, 3]"
      ]
     },
     "execution_count": 36,
     "metadata": {},
     "output_type": "execute_result"
    }
   ],
   "source": [
    "abc"
   ]
  },
  {
   "cell_type": "code",
   "execution_count": 37,
   "metadata": {},
   "outputs": [
    {
     "data": {
      "text/plain": [
       "3"
      ]
     },
     "execution_count": 37,
     "metadata": {},
     "output_type": "execute_result"
    }
   ],
   "source": [
    "abc.pop(2)"
   ]
  },
  {
   "cell_type": "code",
   "execution_count": 39,
   "metadata": {},
   "outputs": [],
   "source": [
    "del abc[1]"
   ]
  },
  {
   "cell_type": "code",
   "execution_count": 40,
   "metadata": {},
   "outputs": [
    {
     "data": {
      "text/plain": [
       "[1]"
      ]
     },
     "execution_count": 40,
     "metadata": {},
     "output_type": "execute_result"
    }
   ],
   "source": [
    "abc"
   ]
  },
  {
   "cell_type": "code",
   "execution_count": 46,
   "metadata": {},
   "outputs": [
    {
     "data": {
      "text/plain": [
       "[1, 3, 5, 5, 6, 6, 7, 8, 9]"
      ]
     },
     "execution_count": 46,
     "metadata": {},
     "output_type": "execute_result"
    }
   ],
   "source": [
    "l = [1,5,6,7,3,5,6,8,9]\n",
    "list.sort(l)\n",
    "l"
   ]
  },
  {
   "cell_type": "code",
   "execution_count": null,
   "metadata": {},
   "outputs": [],
   "source": [
    "l = [1,5,6,7,3,5,6,8,9]\n",
    "sorted(l)\n",
    "l"
   ]
  },
  {
   "cell_type": "code",
   "execution_count": 47,
   "metadata": {},
   "outputs": [
    {
     "data": {
      "text/plain": [
       "[1, 5, 6, 7, 3, 5, 6, 8, 9]"
      ]
     },
     "execution_count": 47,
     "metadata": {},
     "output_type": "execute_result"
    }
   ],
   "source": [
    "l = [1,5,6,7,3,5,6,8,9]\n",
    "sorted(l)\n",
    "l"
   ]
  },
  {
   "cell_type": "code",
   "execution_count": 48,
   "metadata": {},
   "outputs": [
    {
     "data": {
      "text/plain": [
       "[1, 3, 5, 5, 6, 6, 7, 8, 9]"
      ]
     },
     "execution_count": 48,
     "metadata": {},
     "output_type": "execute_result"
    }
   ],
   "source": [
    "l = [1,5,6,7,3,5,6,8,9]\n",
    "l2 = sorted(l)\n",
    "l2"
   ]
  },
  {
   "cell_type": "code",
   "execution_count": 53,
   "metadata": {},
   "outputs": [],
   "source": [
    "#l.sort(key=lambda x:x[0])"
   ]
  },
  {
   "cell_type": "code",
   "execution_count": 52,
   "metadata": {},
   "outputs": [
    {
     "data": {
      "text/plain": [
       "[1, 5, 6, 7, 3, 5, 6, 8, 9, 1, 5, 6, 7, 3, 5, 6, 8, 9]"
      ]
     },
     "execution_count": 52,
     "metadata": {},
     "output_type": "execute_result"
    }
   ],
   "source": [
    "2*l"
   ]
  },
  {
   "cell_type": "markdown",
   "metadata": {},
   "source": [
    "### 深浅复制的区别\n",
    "* b = a   \n",
    "    只要a发生改变，b就会发生改变\n",
    "* b = a.copy()   \n",
    "    a的第一层发生改变，b不变；\n",
    "    a的第二层发生改变，b改变\n",
    "* import copy   \n",
    "  b = copy.deepcopy(a)   \n",
    "    不管a的第几层发生改变，b都不变\n",
    "* 例子如下："
   ]
  },
  {
   "cell_type": "code",
   "execution_count": 57,
   "metadata": {},
   "outputs": [],
   "source": [
    "import copy\n",
    "a = [1,5,6,[7,3,5]]"
   ]
  },
  {
   "cell_type": "code",
   "execution_count": 60,
   "metadata": {},
   "outputs": [
    {
     "data": {
      "text/plain": [
       "[1, 5, 6, [7, 3, 5]]"
      ]
     },
     "execution_count": 60,
     "metadata": {},
     "output_type": "execute_result"
    }
   ],
   "source": [
    "b = a\n",
    "b"
   ]
  },
  {
   "cell_type": "code",
   "execution_count": 61,
   "metadata": {},
   "outputs": [
    {
     "data": {
      "text/plain": [
       "[1, 5, 6, [7, 3, 5]]"
      ]
     },
     "execution_count": 61,
     "metadata": {},
     "output_type": "execute_result"
    }
   ],
   "source": [
    "c = a.copy()\n",
    "c"
   ]
  },
  {
   "cell_type": "code",
   "execution_count": 62,
   "metadata": {},
   "outputs": [
    {
     "data": {
      "text/plain": [
       "[1, 5, 6, [7, 3, 5]]"
      ]
     },
     "execution_count": 62,
     "metadata": {},
     "output_type": "execute_result"
    }
   ],
   "source": [
    "d = copy.deepcopy(a)\n",
    "d"
   ]
  },
  {
   "cell_type": "code",
   "execution_count": 64,
   "metadata": {},
   "outputs": [],
   "source": [
    "a[1] = 9"
   ]
  },
  {
   "cell_type": "code",
   "execution_count": 65,
   "metadata": {},
   "outputs": [
    {
     "data": {
      "text/plain": [
       "[1, 9, 6, [7, 3, 5]]"
      ]
     },
     "execution_count": 65,
     "metadata": {},
     "output_type": "execute_result"
    }
   ],
   "source": [
    "b #改变"
   ]
  },
  {
   "cell_type": "code",
   "execution_count": 66,
   "metadata": {},
   "outputs": [
    {
     "data": {
      "text/plain": [
       "[1, 5, 6, [7, 3, 5]]"
      ]
     },
     "execution_count": 66,
     "metadata": {},
     "output_type": "execute_result"
    }
   ],
   "source": [
    "c #不变"
   ]
  },
  {
   "cell_type": "code",
   "execution_count": 68,
   "metadata": {},
   "outputs": [
    {
     "data": {
      "text/plain": [
       "[1, 5, 6, [7, 3, 5]]"
      ]
     },
     "execution_count": 68,
     "metadata": {},
     "output_type": "execute_result"
    }
   ],
   "source": [
    "d #不变"
   ]
  },
  {
   "cell_type": "code",
   "execution_count": 69,
   "metadata": {},
   "outputs": [],
   "source": [
    "a[3][1] = 10"
   ]
  },
  {
   "cell_type": "code",
   "execution_count": 70,
   "metadata": {},
   "outputs": [
    {
     "data": {
      "text/plain": [
       "[1, 9, 6, [7, 10, 5]]"
      ]
     },
     "execution_count": 70,
     "metadata": {},
     "output_type": "execute_result"
    }
   ],
   "source": [
    "b #改变"
   ]
  },
  {
   "cell_type": "code",
   "execution_count": 71,
   "metadata": {},
   "outputs": [
    {
     "data": {
      "text/plain": [
       "[1, 5, 6, [7, 10, 5]]"
      ]
     },
     "execution_count": 71,
     "metadata": {},
     "output_type": "execute_result"
    }
   ],
   "source": [
    "c #不变"
   ]
  },
  {
   "cell_type": "code",
   "execution_count": 72,
   "metadata": {},
   "outputs": [
    {
     "data": {
      "text/plain": [
       "[1, 5, 6, [7, 3, 5]]"
      ]
     },
     "execution_count": 72,
     "metadata": {},
     "output_type": "execute_result"
    }
   ],
   "source": [
    "d #不变"
   ]
  },
  {
   "cell_type": "markdown",
   "metadata": {},
   "source": [
    "### 优缺点和使用情况的总结\n",
    "* 优点: \n",
    "    * append(obj), pop() 作为stack， 从尾部存储和弹出单个变量\n",
    "    * list[i] = newValue, list[i] 作为存储结构，修改里面的元素和索引里面的元素\n",
    "    * len(i) 求一段长度，也等于 j-i + 1\n",
    "    * list.sort() 排序速度很快了\n",
    "* 缺点: \n",
    "    * index(obj) O(N) 不适合查找值为obj的变量\n",
    "    * insert(index, obj)不适合插入增加值\n",
    "    * pop(i)/del list(i) 不适合选择删除\n",
    "* 其他适用情况：\n",
    "    * 构造最基本结构：线性数组 Linear data structures, are the most basic. .\n",
    "        * Stack 栈 - 简单的，按照输入顺序存储数据。\n",
    "    * 构造非线性数据结构 Non-linear data structures.\n",
    "        * Graphs 图 [[1,2], [3, 4]]\n",
    "        * Trees  树 中序遍历 [1,[2,4,5],3]"
   ]
  },
  {
   "cell_type": "markdown",
   "metadata": {},
   "source": [
    "## Tuple 元祖\n",
    "\n",
    "### 定义\n",
    "* 不能修改的list, immutable\n",
    "* 要素の順番を変えられたくない時、勧め\n",
    "* 使用メモリがリストに比べて小さい*\n",
    "* 多くの場合でリストよりタプルの方が早く演算できる*\n",
    "* リストや辞書型と併用できる\n",
    "* list() と tuple() 関数でデータ型は変更できる\n",
    "\n",
    "\n",
    "* 空 t = ()\n",
    "* 单个元素 t = **(1,)**\n",
    "* t = (1, 2, 3, 4, 5)\n",
    "\n",
    "### 常用操作及复杂度"
   ]
  },
  {
   "cell_type": "raw",
   "metadata": {},
   "source": [
    "增\n",
    "t1 + t2               O(len(t2))\n",
    "\n",
    "\n",
    "删\n",
    "del t                 O(1)                 删除整个tuple\n",
    "\n",
    "\n",
    "查\n",
    "t[i]                  O(1)\n",
    "t[a:b]                O(b-a)\n",
    "t.index[obj]          O(N)\n",
    "\n",
    "\n",
    "没有删跟排序\n",
    "\n",
    "其他\n",
    "计数 l.count(obj)      O(N)\n",
    "长度 len(t)            O(1)\n",
    "构造 tuple(seq)        O(N)\n",
    "判断 ==, !=            O(N)\n",
    "包含 a in/not in t     O(N)\n",
    "极值 max/min(t)        O(N)\n",
    "迭代 for a in t        O(N)\n",
    "乘 k * t               O(kN)\n",
    "from copy import copy, deepcopy  \n",
    "     a = copy(A)       O(N)                   浅复制 \n",
    "     a = deepcopy(A)   O(N)                   深复制 "
   ]
  },
  {
   "cell_type": "code",
   "execution_count": 73,
   "metadata": {},
   "outputs": [
    {
     "data": {
      "text/plain": [
       "(1, 2, 4, 3, 4, 5)"
      ]
     },
     "execution_count": 73,
     "metadata": {},
     "output_type": "execute_result"
    }
   ],
   "source": [
    "t1 = (1,2,4)\n",
    "t2 = (3,4,5)\n",
    "t1 + t2"
   ]
  },
  {
   "cell_type": "code",
   "execution_count": 74,
   "metadata": {},
   "outputs": [
    {
     "ename": "NameError",
     "evalue": "name 't1' is not defined",
     "output_type": "error",
     "traceback": [
      "\u001b[0;31m---------------------------------------------------------------------------\u001b[0m",
      "\u001b[0;31mNameError\u001b[0m                                 Traceback (most recent call last)",
      "\u001b[0;32m<ipython-input-74-d5c8c2eadc81>\u001b[0m in \u001b[0;36m<module>\u001b[0;34m\u001b[0m\n\u001b[1;32m      1\u001b[0m \u001b[0;32mdel\u001b[0m \u001b[0mt1\u001b[0m\u001b[0;34m\u001b[0m\u001b[0;34m\u001b[0m\u001b[0m\n\u001b[0;32m----> 2\u001b[0;31m \u001b[0mt1\u001b[0m\u001b[0;34m\u001b[0m\u001b[0;34m\u001b[0m\u001b[0m\n\u001b[0m",
      "\u001b[0;31mNameError\u001b[0m: name 't1' is not defined"
     ]
    }
   ],
   "source": [
    "del t1\n",
    "t1"
   ]
  },
  {
   "cell_type": "markdown",
   "metadata": {},
   "source": [
    "### 优缺点和适用情况\n",
    "* 针对每个 DS 和算法，应该问自己：有什么优缺点？我什么时候可以使用它？\n",
    "* 优点\n",
    "    * t不可变性\n",
    "        * 作为dic的key\n",
    "        * 不可改变的存储结构， 用于性能优化，多线程安全，不需要锁，不担心被恶意修改或者不小心修改。\n",
    "    * t[i] 作为存储结构，索引里面的元素\n",
    "    * len(i) 求一段长度，也等于 j-i + 1\n",
    "* 缺点\n",
    "    * index(obj) O(N) 不适合查找值为obj的变量\n",
    "* 其他适用情况 - 无\n",
    "\n",
    "### 注意要点\n",
    "* 函数可以同时返回多个值，但其实返回的就是一个tuple。"
   ]
  },
  {
   "cell_type": "markdown",
   "metadata": {},
   "source": [
    "## Linked List"
   ]
  },
  {
   "cell_type": "markdown",
   "metadata": {},
   "source": [
    "### 定义\n",
    "* Stores data with nodes that point to other nodes. 用节点储存数据并指向其他节点\n",
    "    * 节点的描述：Nodes, at its most basic it has one datum and one reference (another node) 在最基础的情况下，节点拥有一个数据和一个参考（其他节点）\n",
    "    * 链表的描述：A linked list chains nodes together by pointing one node's reference to another. 节点通过指向另一个节点从而使链表连接在一起\n",
    "    * Doubly linked list has nodes that also references the previous node. 双向链表有两个参考，一个是之前的node，一个是之后的node\n",
    "    * Circularly linked list is simple linked list whose tail, the last node, references the head, the first node. 成环链表是由简单的链表首末相连组成"
   ]
  },
  {
   "cell_type": "code",
   "execution_count": 81,
   "metadata": {},
   "outputs": [
    {
     "data": {
      "text/plain": [
       "10"
      ]
     },
     "execution_count": 81,
     "metadata": {},
     "output_type": "execute_result"
    }
   ],
   "source": [
    "class ListNode:\n",
    "    def __init__(self, x):\n",
    "        self.val = x\n",
    "        self.next = None\n",
    "        \n",
    "x = ListNode(10)\n",
    "type(x)\n",
    "x.val"
   ]
  },
  {
   "cell_type": "code",
   "execution_count": 82,
   "metadata": {},
   "outputs": [],
   "source": [
    "x.next = x"
   ]
  },
  {
   "cell_type": "code",
   "execution_count": 84,
   "metadata": {},
   "outputs": [
    {
     "data": {
      "text/plain": [
       "10"
      ]
     },
     "execution_count": 84,
     "metadata": {},
     "output_type": "execute_result"
    }
   ],
   "source": [
    "x.next.val"
   ]
  },
  {
   "cell_type": "markdown",
   "metadata": {},
   "source": [
    "### 类和实例(补充知识点)\n",
    "* 类：抽象的模板\n",
    "* 实例：根据类创建出来的一个个具体的对象\n",
    "    * 各个实例拥有的数据都互相独立，互不影响\n",
    "* 类\n",
    "    * 创建\n",
    "        * class 类名（**大写开头单词**） + (要继承的类)\n",
    "    * 绑定属性（强制）\n",
    "        * def __init__(self, attribute1(属性), attribute2):\n",
    "            * self.attributeA = attribute1\n",
    "            * self.attributeB = attribute2\n",
    "    * 当我们定义一个class的时候，我们实际上就定义了一种数据类型。\n",
    "        * 我们定义的数据类型和Python自带的数据类型，比如str、list、dict没什么两样\n",
    "* 实例\n",
    "    * 实例变量 = 实例\n",
    "    * 创建\n",
    "        * instance_name = 类名()\n",
    "    * 绑定新属性（可选）\n",
    "        * instance_name.新属性名 = XXX\n",
    "    * 修改类创建的属性\n",
    "        * instance_name.旧属性名 = YYY\n",
    "        \n",
    "* 函数，即类的方法\n",
    "    * 第一个参数永远是实例变量self，并且，调用时，不用传递该参数\n",
    "    * 类的方法和普通函数没有什么区别，仍然可以用默认参数、可变参数、关键字参数和命名关键字参数。 "
   ]
  },
  {
   "cell_type": "markdown",
   "metadata": {},
   "source": [
    "### 常用操作及复杂度"
   ]
  },
  {
   "cell_type": "raw",
   "metadata": {},
   "source": [
    "增\n",
    "node.next = b               O(1)               头/尾增加\n",
    "\n",
    "\n",
    "删\n",
    "node.next = None            O(1)               头/尾删除\n",
    "\n",
    "\n",
    "改\n",
    "node\n",
    "\n",
    "未完\n",
    "暂停"
   ]
  },
  {
   "cell_type": "markdown",
   "metadata": {},
   "source": [
    "## Stack 栈\n",
    "### 定义\n",
    "* Last-In-First-Out (LIFO) concept \n",
    "* append() / pop() \n",
    "* can be made from **list**\n",
    "* can be made from **linklist**, by having the head be the only place for insertion and removal. 可用链表构成,插入：建立新节点，连接到头节点；移除：移除头节点，返回下一个\n",
    "    * 参见 <链表实现stack和Queue>\n",
    "    \n",
    "### 常用操作及复杂度\n",
    "* 同List 列表\n",
    "\n",
    "## Queue 队列 \n",
    "### 定义\n",
    "* First-In-First-Out (FIFO) principle 先进先出\n",
    "* Lists are not efficient to implement a queue 列表不能有效的执行队列\n",
    "    * 故调用容器-双端队列deque(double-end-queue) \n",
    "    * from collections import deque d = deque(iterable) (\"deck\")，If iterable is not specified, the new deque is empty.\n",
    "    * append(x) / appendleft(x) / pop() / popleft() / extend(iterable) / extendleft(iterable) O(1) 双向append or pop, O(1)\n",
    "* can be made from **linklist** that only removes from head and adds to tail 也可用链表构成, 从头部移除，从尾部添加\n",
    "    * 参见 <链表实现stack和Queue>"
   ]
  },
  {
   "cell_type": "markdown",
   "metadata": {},
   "source": [
    "### 常用操作汇总"
   ]
  },
  {
   "cell_type": "raw",
   "metadata": {},
   "source": [
    "from collections import deque\n",
    "* B = 'desk'            iterable\n",
    "* d = deque()           建立新队列d\n",
    "* d = deque(B)          转化B为队列d\n",
    "* d.append('c')         加在最右边，尾部\n",
    "* d.appendleft('e')     加在最左边，头部\n",
    "* d.extend('a')         扩展在最右边，尾部\n",
    "* d.extendleft('a')     扩展在最左边，头部\n",
    "* x = d.pop()           注意！没有i参数（list有i参数），x=被删掉的值，最右边的值（最后一个值）\n",
    "* d.popleft()           删除最左边的，即先“进”的，无(i)\n",
    "* d.reverse()           转置\n",
    "* d.rotate(1)           向右循环移动 n 步。 如果 n 是负数，就向左循环。e.g把倒数第1个调换到最前面"
   ]
  },
  {
   "cell_type": "code",
   "execution_count": 100,
   "metadata": {},
   "outputs": [
    {
     "data": {
      "text/plain": [
       "deque(['d', 'e', 's', 'k', 'c'])"
      ]
     },
     "execution_count": 100,
     "metadata": {},
     "output_type": "execute_result"
    }
   ],
   "source": [
    "# Queue (deque) 队列\n",
    "from collections import deque\n",
    "B = 'desk'  # iterable\n",
    "d = deque()  # 建立新队列d\n",
    "d = deque(B) # 转化B为队列d\n",
    "d.append('c') #加在最右边\n",
    "d"
   ]
  },
  {
   "cell_type": "code",
   "execution_count": 88,
   "metadata": {},
   "outputs": [
    {
     "data": {
      "text/plain": [
       "deque(['e', 'e', 'd', 'e', 's', 'k', 'c'])"
      ]
     },
     "execution_count": 88,
     "metadata": {},
     "output_type": "execute_result"
    }
   ],
   "source": [
    "d.appendleft('e')  # 加在最左边\n",
    "d"
   ]
  },
  {
   "cell_type": "code",
   "execution_count": 89,
   "metadata": {},
   "outputs": [
    {
     "data": {
      "text/plain": [
       "deque(['e', 'e', 'd', 'e', 's', 'k', 'c', 'a'])"
      ]
     },
     "execution_count": 89,
     "metadata": {},
     "output_type": "execute_result"
    }
   ],
   "source": [
    "d.extend('a') #扩展在最右边，与append有区别吗？\n",
    "d"
   ]
  },
  {
   "cell_type": "code",
   "execution_count": 90,
   "metadata": {},
   "outputs": [
    {
     "data": {
      "text/plain": [
       "deque(['a', 'e', 'e', 'd', 'e', 's', 'k', 'c', 'a'])"
      ]
     },
     "execution_count": 90,
     "metadata": {},
     "output_type": "execute_result"
    }
   ],
   "source": [
    "d.extendleft('a') #扩展在最左边\n",
    "d"
   ]
  },
  {
   "cell_type": "code",
   "execution_count": 93,
   "metadata": {},
   "outputs": [
    {
     "data": {
      "text/plain": [
       "'c'"
      ]
     },
     "execution_count": 93,
     "metadata": {},
     "output_type": "execute_result"
    }
   ],
   "source": [
    "d.pop() # 注意！没有i参数（list有i参数）,输出的是被删掉的数，最右边的一个数"
   ]
  },
  {
   "cell_type": "code",
   "execution_count": 92,
   "metadata": {},
   "outputs": [
    {
     "data": {
      "text/plain": [
       "'a'"
      ]
     },
     "execution_count": 92,
     "metadata": {},
     "output_type": "execute_result"
    }
   ],
   "source": [
    "d.popleft() #删除最左边的，即先“进”的，无(i),输出的是被删掉的数"
   ]
  },
  {
   "cell_type": "code",
   "execution_count": 97,
   "metadata": {},
   "outputs": [
    {
     "data": {
      "text/plain": [
       "deque(['k', 's', 'e', 'd', 'e', 'e'])"
      ]
     },
     "execution_count": 97,
     "metadata": {},
     "output_type": "execute_result"
    }
   ],
   "source": [
    "d.reverse() # 转置\n",
    "d"
   ]
  },
  {
   "cell_type": "code",
   "execution_count": 98,
   "metadata": {},
   "outputs": [],
   "source": [
    "d.rotate(1) # 向右循环移动 n 步。 如果 n 是负数，就向左循环。e.g把倒数第1个调换到最前面"
   ]
  },
  {
   "cell_type": "code",
   "execution_count": 99,
   "metadata": {},
   "outputs": [
    {
     "data": {
      "text/plain": [
       "deque(['e', 'k', 's', 'e', 'd', 'e'])"
      ]
     },
     "execution_count": 99,
     "metadata": {},
     "output_type": "execute_result"
    }
   ],
   "source": [
    "d"
   ]
  },
  {
   "cell_type": "code",
   "execution_count": 192,
   "metadata": {},
   "outputs": [
    {
     "data": {
      "text/plain": [
       "deque([([1, 2, 3], [3, 4, 5])])"
      ]
     },
     "execution_count": 192,
     "metadata": {},
     "output_type": "execute_result"
    }
   ],
   "source": [
    "l1 = [1,2,3]\n",
    "l2 = [3,4,5]\n",
    "d = deque([(l1,l2)])\n",
    "d"
   ]
  },
  {
   "cell_type": "code",
   "execution_count": 193,
   "metadata": {},
   "outputs": [],
   "source": [
    "p,q = d.popleft()"
   ]
  },
  {
   "cell_type": "code",
   "execution_count": 188,
   "metadata": {},
   "outputs": [
    {
     "data": {
      "text/plain": [
       "[1, 2, 3]"
      ]
     },
     "execution_count": 188,
     "metadata": {},
     "output_type": "execute_result"
    }
   ],
   "source": [
    "p"
   ]
  },
  {
   "cell_type": "code",
   "execution_count": 189,
   "metadata": {},
   "outputs": [
    {
     "data": {
      "text/plain": [
       "[3, 4, 5]"
      ]
     },
     "execution_count": 189,
     "metadata": {},
     "output_type": "execute_result"
    }
   ],
   "source": [
    "q"
   ]
  },
  {
   "cell_type": "code",
   "execution_count": 212,
   "metadata": {},
   "outputs": [
    {
     "data": {
      "text/plain": [
       "[[1, 2, 3], [3, 4, 5]]"
      ]
     },
     "execution_count": 212,
     "metadata": {},
     "output_type": "execute_result"
    }
   ],
   "source": [
    "l3 = [l1,l2]\n",
    "l3"
   ]
  },
  {
   "cell_type": "code",
   "execution_count": 213,
   "metadata": {},
   "outputs": [],
   "source": [
    "a,b,c = l3.pop()"
   ]
  },
  {
   "cell_type": "code",
   "execution_count": 206,
   "metadata": {},
   "outputs": [
    {
     "data": {
      "text/plain": [
       "[([1, 2, 3], [3, 4, 5])]"
      ]
     },
     "execution_count": 206,
     "metadata": {},
     "output_type": "execute_result"
    }
   ],
   "source": [
    "l3 = [(l1,l2)]\n",
    "l3"
   ]
  },
  {
   "cell_type": "code",
   "execution_count": 207,
   "metadata": {},
   "outputs": [
    {
     "data": {
      "text/plain": [
       "([1, 2, 3], [3, 4, 5])"
      ]
     },
     "execution_count": 207,
     "metadata": {},
     "output_type": "execute_result"
    }
   ],
   "source": [
    "l3.pop()"
   ]
  },
  {
   "cell_type": "code",
   "execution_count": 208,
   "metadata": {},
   "outputs": [],
   "source": [
    "p, q = ([1, 2, 3], [3, 4, 5])"
   ]
  },
  {
   "cell_type": "code",
   "execution_count": 209,
   "metadata": {},
   "outputs": [
    {
     "data": {
      "text/plain": [
       "[1, 2, 3]"
      ]
     },
     "execution_count": 209,
     "metadata": {},
     "output_type": "execute_result"
    }
   ],
   "source": [
    "p"
   ]
  },
  {
   "cell_type": "code",
   "execution_count": 210,
   "metadata": {},
   "outputs": [
    {
     "data": {
      "text/plain": [
       "[3, 4, 5]"
      ]
     },
     "execution_count": 210,
     "metadata": {},
     "output_type": "execute_result"
    }
   ],
   "source": [
    "q"
   ]
  },
  {
   "cell_type": "raw",
   "metadata": {},
   "source": [
    "l1 = [1,2,3]\n",
    "l2 = [3,4,5]\n",
    "l3 = [(l1,l2)]\n",
    "p, q = l3.pop()  --> p, q = ([1, 2, 3], [3, 4, 5]) --> p = [1, 2, 3]    q = [3, 4, 5]\n"
   ]
  },
  {
   "cell_type": "markdown",
   "metadata": {},
   "source": [
    "## Heap queue 堆\n",
    "\n",
    "### 定义\n",
    "最小值在堆顶，其它值是混乱排序\n",
    "\n",
    "### 常用操作\n"
   ]
  },
  {
   "cell_type": "raw",
   "metadata": {},
   "source": [
    "from heapq import heapify, heappop, heappush, heappushpop, heapreplace, nlargest, nsmallest\n",
    "\n",
    "* C = []                 建立新heapq\n",
    "* C = [2, 3, 4]          创建一个堆或通过一个函数heapify()，来把一个list转换成堆\n",
    "  heapify(C)\n",
    "* heappush(C, 2)         添加2,注意！只能添加值！不能添加list等数据结构，下面的删除也是这样!如果是最小值就会添加在最前面，如果不是最小值就添加在随意位置\n",
    "* x = heappop(C)         删掉最小值，x=被删掉的值；つまり、将数组堆中的最小元素弹出\n",
    "* heappushpop(C, 2)      先添加，再删除顶端的值（也就是最小值）\n",
    "* heapreplace(C, 5)      先删除最小值，再添加\n",
    "* nlargest(2, C)         nlargest(n, iterable, key=None) 返回前n个符合k条件的最大值（e.g. k = lambda x: x[0]）  = sorted(iterable, key=key, reverse=True)[:n]；つまり、显示第1,2大的数\n",
    "* nsmallest(2, C)        nsmallest(n, iterable, key=None) 返回前n个最小值 = sorted(iterable, key=key, reverse= False)[:n]；つまり、显示第1小,第二小...第n小的数"
   ]
  },
  {
   "cell_type": "code",
   "execution_count": 131,
   "metadata": {},
   "outputs": [
    {
     "data": {
      "text/plain": [
       "[3, 6, 4]"
      ]
     },
     "execution_count": 131,
     "metadata": {},
     "output_type": "execute_result"
    }
   ],
   "source": [
    "from heapq import heapify, heappop, heappush, heappushpop, heapreplace, nlargest, nsmallest\n",
    "C = []\n",
    "C = [6, 3, 4]\n",
    "heapify(C)\n",
    "C"
   ]
  },
  {
   "cell_type": "code",
   "execution_count": 132,
   "metadata": {},
   "outputs": [
    {
     "data": {
      "text/plain": [
       "[3, 5, 4, 6]"
      ]
     },
     "execution_count": 132,
     "metadata": {},
     "output_type": "execute_result"
    }
   ],
   "source": [
    "heappush(C, 5)\n",
    "C"
   ]
  },
  {
   "cell_type": "code",
   "execution_count": 133,
   "metadata": {},
   "outputs": [
    {
     "data": {
      "text/plain": [
       "3"
      ]
     },
     "execution_count": 133,
     "metadata": {},
     "output_type": "execute_result"
    }
   ],
   "source": [
    "x = heappop(C)\n",
    "x"
   ]
  },
  {
   "cell_type": "code",
   "execution_count": 134,
   "metadata": {},
   "outputs": [
    {
     "data": {
      "text/plain": [
       "4"
      ]
     },
     "execution_count": 134,
     "metadata": {},
     "output_type": "execute_result"
    }
   ],
   "source": [
    "heappushpop(C, 6)"
   ]
  },
  {
   "cell_type": "code",
   "execution_count": 135,
   "metadata": {},
   "outputs": [
    {
     "data": {
      "text/plain": [
       "[5, 6, 6]"
      ]
     },
     "execution_count": 135,
     "metadata": {},
     "output_type": "execute_result"
    }
   ],
   "source": [
    "C"
   ]
  },
  {
   "cell_type": "code",
   "execution_count": 136,
   "metadata": {},
   "outputs": [
    {
     "data": {
      "text/plain": [
       "[3, 6, 6]"
      ]
     },
     "execution_count": 136,
     "metadata": {},
     "output_type": "execute_result"
    }
   ],
   "source": [
    "heapreplace(C, 3)\n",
    "C"
   ]
  },
  {
   "cell_type": "code",
   "execution_count": 141,
   "metadata": {},
   "outputs": [
    {
     "data": {
      "text/plain": [
       "[6, 6]"
      ]
     },
     "execution_count": 141,
     "metadata": {},
     "output_type": "execute_result"
    }
   ],
   "source": [
    "nlargest(2, C)  "
   ]
  },
  {
   "cell_type": "code",
   "execution_count": 142,
   "metadata": {},
   "outputs": [
    {
     "data": {
      "text/plain": [
       "[3, 6]"
      ]
     },
     "execution_count": 142,
     "metadata": {},
     "output_type": "execute_result"
    }
   ],
   "source": [
    "nsmallest(2, C) "
   ]
  },
  {
   "cell_type": "code",
   "execution_count": 126,
   "metadata": {},
   "outputs": [
    {
     "data": {
      "text/plain": [
       "array([6, 5, 7, 8, 1, 3, 0, 2, 9, 4])"
      ]
     },
     "execution_count": 126,
     "metadata": {},
     "output_type": "execute_result"
    }
   ],
   "source": [
    "import heapq as hq\n",
    "import numpy as np\n",
    "\n",
    "data = np.arange(10)\n",
    "np.random.shuffle(data)\n",
    "data"
   ]
  },
  {
   "cell_type": "code",
   "execution_count": 127,
   "metadata": {},
   "outputs": [],
   "source": [
    "heap = []\n",
    "for i in data:\n",
    "    hq.heappush(heap,i)"
   ]
  },
  {
   "cell_type": "code",
   "execution_count": 128,
   "metadata": {},
   "outputs": [
    {
     "data": {
      "text/plain": [
       "[0, 2, 1, 5, 4, 7, 3, 8, 9, 6]"
      ]
     },
     "execution_count": 128,
     "metadata": {},
     "output_type": "execute_result"
    }
   ],
   "source": [
    "heap"
   ]
  },
  {
   "cell_type": "code",
   "execution_count": 129,
   "metadata": {},
   "outputs": [],
   "source": [
    "hq.heappush(heap,0.5)"
   ]
  },
  {
   "cell_type": "code",
   "execution_count": 130,
   "metadata": {},
   "outputs": [
    {
     "data": {
      "text/plain": [
       "[0, 0.5, 1, 5, 2, 7, 3, 8, 9, 6, 4]"
      ]
     },
     "execution_count": 130,
     "metadata": {},
     "output_type": "execute_result"
    }
   ],
   "source": [
    "heap"
   ]
  },
  {
   "cell_type": "markdown",
   "metadata": {},
   "source": [
    "## Dict 字典\n",
    "\n",
    "### 定义\n",
    "* 结构：Stores data with **key value pairs**.\n",
    "* 功能：Hash function accept a key and return an output unique only to that specific key\n",
    "    * This is known as hashing, which is the concept that an input and an output have **a one-to-one correspondence** to map information.\n",
    "    * Hash function has **a unique address** in memory for that data.\n",
    "* 与list区别\n",
    "    * dic 占用空间多，用时少\n",
    "    * list 占用空间少，用时多\n",
    "    \n",
    "    \n",
    "### 常用操作及复杂度\n"
   ]
  },
  {
   "cell_type": "raw",
   "metadata": {},
   "source": [
    "增\n",
    "* d[k] = v           O(1)\n",
    "\n",
    "\n",
    "删\n",
    "* d.pop(k)           O(1)            删除对应key的所有内容，并返回value\n",
    "* del d[k]           O(1)            删除对应key的所有内容,不输出任何东西\n",
    "* d.popitem()        O(1)            删除最后一个key的所有内容，输出被删掉的key和value\n",
    "\n",
    "\n",
    "Search\n",
    "* d[k]                 O(1)          查找，输出k所对应的value值\n",
    "\n",
    "\n",
    "判断key存在\n",
    "* xx in dict\n",
    "* dict.get(xx)\n",
    "    if false, turn None\n",
    "\n",
    "\n",
    "求长度\n",
    "* len(dict)                           有几个key\n",
    "\n",
    "\n",
    "排序\n",
    "* 返回list[key]\n",
    "    根据key值排序\n",
    "        list = sorted(dic)\n",
    "        list = sorted(dic.keys())\n",
    "    根据value值排序\n",
    "        list = sorted(dic, lambda key : dic[key])\n",
    "        \n",
    "* 返回list[values]\n",
    "    根据key值排序\n",
    "        先返回dic\n",
    "        再scan，返回values\n",
    "    根据value值排序\n",
    "        list = sorted(dic.values())\n",
    "        \n",
    "* 返回 dic\n",
    "    根据key值排序\n",
    "        new = sorted(dic.items(), key = lambda item: item[0])\n",
    "    根据value值排序\n",
    "        new = sorted(dic.items(), key = lambda item: item[1])\n"
   ]
  },
  {
   "cell_type": "code",
   "execution_count": 146,
   "metadata": {},
   "outputs": [
    {
     "data": {
      "text/plain": [
       "{1: ['a', 'A'], 2: 'b', 3: 'c'}"
      ]
     },
     "execution_count": 146,
     "metadata": {},
     "output_type": "execute_result"
    }
   ],
   "source": [
    "d = {1:['a','A'],2:'b',3:'c'}\n",
    "d"
   ]
  },
  {
   "cell_type": "code",
   "execution_count": 147,
   "metadata": {},
   "outputs": [
    {
     "data": {
      "text/plain": [
       "'c'"
      ]
     },
     "execution_count": 147,
     "metadata": {},
     "output_type": "execute_result"
    }
   ],
   "source": [
    "d.pop(3)"
   ]
  },
  {
   "cell_type": "code",
   "execution_count": 148,
   "metadata": {},
   "outputs": [
    {
     "data": {
      "text/plain": [
       "{1: ['a', 'A'], 2: 'b'}"
      ]
     },
     "execution_count": 148,
     "metadata": {},
     "output_type": "execute_result"
    }
   ],
   "source": [
    "d"
   ]
  },
  {
   "cell_type": "code",
   "execution_count": 149,
   "metadata": {},
   "outputs": [],
   "source": [
    "del d[2]"
   ]
  },
  {
   "cell_type": "code",
   "execution_count": 150,
   "metadata": {},
   "outputs": [
    {
     "data": {
      "text/plain": [
       "{1: ['a', 'A']}"
      ]
     },
     "execution_count": 150,
     "metadata": {},
     "output_type": "execute_result"
    }
   ],
   "source": [
    "d"
   ]
  },
  {
   "cell_type": "code",
   "execution_count": 151,
   "metadata": {},
   "outputs": [],
   "source": [
    "d[4] = ['d','b']"
   ]
  },
  {
   "cell_type": "code",
   "execution_count": 152,
   "metadata": {},
   "outputs": [
    {
     "data": {
      "text/plain": [
       "{1: ['a', 'A'], 4: ['d', 'b']}"
      ]
     },
     "execution_count": 152,
     "metadata": {},
     "output_type": "execute_result"
    }
   ],
   "source": [
    "d"
   ]
  },
  {
   "cell_type": "code",
   "execution_count": 155,
   "metadata": {},
   "outputs": [
    {
     "data": {
      "text/plain": [
       "(4, ['d', 'b'])"
      ]
     },
     "execution_count": 155,
     "metadata": {},
     "output_type": "execute_result"
    }
   ],
   "source": [
    "d.popitem()"
   ]
  },
  {
   "cell_type": "code",
   "execution_count": 156,
   "metadata": {},
   "outputs": [
    {
     "data": {
      "text/plain": [
       "{1: ['a', 'A']}"
      ]
     },
     "execution_count": 156,
     "metadata": {},
     "output_type": "execute_result"
    }
   ],
   "source": [
    "d"
   ]
  },
  {
   "cell_type": "code",
   "execution_count": 157,
   "metadata": {},
   "outputs": [
    {
     "data": {
      "text/plain": [
       "['a', 'A']"
      ]
     },
     "execution_count": 157,
     "metadata": {},
     "output_type": "execute_result"
    }
   ],
   "source": [
    "d[1]"
   ]
  },
  {
   "cell_type": "code",
   "execution_count": 158,
   "metadata": {},
   "outputs": [
    {
     "data": {
      "text/plain": [
       "1"
      ]
     },
     "execution_count": 158,
     "metadata": {},
     "output_type": "execute_result"
    }
   ],
   "source": [
    "len(d)"
   ]
  },
  {
   "cell_type": "markdown",
   "metadata": {},
   "source": [
    "### 知识点补充\n"
   ]
  },
  {
   "cell_type": "code",
   "execution_count": 3,
   "metadata": {},
   "outputs": [
    {
     "ename": "SyntaxError",
     "evalue": "invalid syntax (<ipython-input-3-2777c8c26e05>, line 3)",
     "output_type": "error",
     "traceback": [
      "\u001b[0;36m  File \u001b[0;32m\"<ipython-input-3-2777c8c26e05>\"\u001b[0;36m, line \u001b[0;32m3\u001b[0m\n\u001b[0;31m    print \"Value : %s\" %dict.get('Age')\u001b[0m\n\u001b[0m                     ^\u001b[0m\n\u001b[0;31mSyntaxError\u001b[0m\u001b[0;31m:\u001b[0m invalid syntax\n"
     ]
    }
   ],
   "source": [
    "dict = {'Name': 'Zara', 'Age': 27}\n",
    "\n",
    "print \"Value : %s\" %dict.get('Age')\n",
    "print \"Value : %s\" %dict.get('Sex', \"Never\")"
   ]
  },
  {
   "cell_type": "markdown",
   "metadata": {},
   "source": [
    "## Set 集合\n",
    "### 定义\n",
    "* 一组key的集合\n",
    "* key值不重复，若加入的list有重复，则自动滤掉重复的\n",
    "\n",
    "### 常用操作\n"
   ]
  },
  {
   "cell_type": "raw",
   "metadata": {},
   "source": [
    "创建\n",
    "* a = set()\n",
    "* a = set([b, c, d, ...])       注意！([])\n",
    "\n",
    "\n",
    "添加\n",
    "a.add(key)\n",
    "\n",
    "\n",
    "删除\n",
    "a.remove(key)\n",
    "\n",
    "\n",
    "交并集\n",
    "* set可以看作数学意义上，无序和无重复元素的集合，故可以做数学意义上的交并集\n",
    "* s1 = set([1, 2, 3])， s2 = set([2, 3, 4])\n",
    "* s1 & s2 -> {2, 3}               交集\n",
    "* s1 | s2 -> {1, 2, 3, 4}         并集\n",
    "* list不支持"
   ]
  },
  {
   "cell_type": "code",
   "execution_count": 161,
   "metadata": {},
   "outputs": [],
   "source": [
    "a = set([1,3,4,4,5])"
   ]
  },
  {
   "cell_type": "code",
   "execution_count": 162,
   "metadata": {},
   "outputs": [],
   "source": [
    "s1 = set([1, 2, 3])\n",
    "s2 = set([2, 3, 4])"
   ]
  },
  {
   "cell_type": "code",
   "execution_count": 163,
   "metadata": {},
   "outputs": [
    {
     "data": {
      "text/plain": [
       "{2, 3}"
      ]
     },
     "execution_count": 163,
     "metadata": {},
     "output_type": "execute_result"
    }
   ],
   "source": [
    "s1 & s2"
   ]
  },
  {
   "cell_type": "code",
   "execution_count": 165,
   "metadata": {},
   "outputs": [
    {
     "data": {
      "text/plain": [
       "{1, 2, 3, 4}"
      ]
     },
     "execution_count": 165,
     "metadata": {},
     "output_type": "execute_result"
    }
   ],
   "source": [
    "s1 | s2"
   ]
  },
  {
   "cell_type": "markdown",
   "metadata": {},
   "source": [
    "### 注意要点\n",
    "* 与tuple的区别\n",
    "    * tuple：\n",
    "        * 不可变的list -> 元素可以重复\n",
    "        * 可以不变中带可变，即可以 (1, 2, [1, 2])\n",
    "    * set\n",
    "        * 仅有key的dic -> 元素不能重复\n",
    "        * 必须从里到外全部不可变，即**不可以** {1, 2, [1, 2]}"
   ]
  },
  {
   "cell_type": "markdown",
   "metadata": {},
   "source": [
    "## String 字符串\n",
    "\n",
    "### 定义\n",
    "* subsequence 可以**不连续**且有序的子序列 \n",
    "* substring **连续**但有序的子序列\n",
    "* the length of the longest palindromes that can be built with those letters 可以不连续，可以无序的子序列\n",
    "\n",
    "### 常用操作"
   ]
  },
  {
   "cell_type": "raw",
   "metadata": {},
   "source": [
    "计数\n",
    "* string.count()\n",
    "\n",
    "\n",
    "修改\n",
    "* str = str[::-1]                           转置\n",
    "* b = strA.replace(strOld, strNew)          把old都替换成new；strA没变\n",
    "  #eg   b = abc.replace('A','X')            abc里面的A都替换成了X\n",
    "\n",
    "\n",
    "前部填充0\n",
    "* str.zfill(width)                          如果len(str)小于width的时候，在前面填充上0，使其len(str)=width\n",
    "\n",
    "\n",
    "删除\n",
    "b = str.strip()\n"
   ]
  },
  {
   "cell_type": "code",
   "execution_count": 166,
   "metadata": {},
   "outputs": [],
   "source": [
    "abc = 'ATGCGCTA'"
   ]
  },
  {
   "cell_type": "code",
   "execution_count": 168,
   "metadata": {},
   "outputs": [],
   "source": [
    "b = abc.replace('A','X')"
   ]
  },
  {
   "cell_type": "code",
   "execution_count": 169,
   "metadata": {},
   "outputs": [
    {
     "data": {
      "text/plain": [
       "'XTGCGCTX'"
      ]
     },
     "execution_count": 169,
     "metadata": {},
     "output_type": "execute_result"
    }
   ],
   "source": [
    "b"
   ]
  },
  {
   "cell_type": "code",
   "execution_count": 170,
   "metadata": {},
   "outputs": [
    {
     "data": {
      "text/plain": [
       "'ATGCGCTA'"
      ]
     },
     "execution_count": 170,
     "metadata": {},
     "output_type": "execute_result"
    }
   ],
   "source": [
    "abc"
   ]
  },
  {
   "cell_type": "code",
   "execution_count": 171,
   "metadata": {},
   "outputs": [
    {
     "data": {
      "text/plain": [
       "'ATGCGCTA'"
      ]
     },
     "execution_count": 171,
     "metadata": {},
     "output_type": "execute_result"
    }
   ],
   "source": [
    "abc.zfill(1)"
   ]
  },
  {
   "cell_type": "code",
   "execution_count": 172,
   "metadata": {},
   "outputs": [
    {
     "data": {
      "text/plain": [
       "'0ATGCGCTA'"
      ]
     },
     "execution_count": 172,
     "metadata": {},
     "output_type": "execute_result"
    }
   ],
   "source": [
    "abc.zfill(9)"
   ]
  },
  {
   "cell_type": "markdown",
   "metadata": {},
   "source": [
    "### 常用技巧和算法\n",
    "\n",
    "* string不支持s[i] = 's'的替换操作\n",
    "* string操作时,如果数据再用,需要及时等于返回值, 因为原始值是不变的\n",
    "    * tmp = tmp.rstrip() "
   ]
  },
  {
   "cell_type": "markdown",
   "metadata": {},
   "source": [
    "# 搜索基础 Search Basics"
   ]
  },
  {
   "cell_type": "markdown",
   "metadata": {},
   "source": [
    "## 宽度优先搜索 Breadth First Search\n",
    "\n",
    "* 又称为BFS，或广度优先搜索\n",
    "* 是最简便的图的搜索算法之一\n",
    "* 属于一种盲目搜索法，目的是系统地展开并检查图中的所有节点，以找寻结果\n",
    "* 经典例子：走迷宫；从起点开始，找到终点的最短路程，很多最短路程算法就是基于BFS\n",
    "* 参考网站   \n",
    "    https://blog.csdn.net/raphealguo/article/details/7523411\n",
    "\n",
    "### 定义\n",
    "* 通过从根开始首先搜索树的级别来搜索树（或图）的算法 An algorithm that search a tree (or graph) by searching levels of the tree firs, starting at the root.\n",
    " * 它找到每个级别相同的节点，最经常从左到右移动。\n",
    " * 在执行此操作时，它将跟踪当前级别上节点的子节点\n",
    " * 检查完一个级别后，它将移至下一级别的最左侧节点\n",
    " * 最右下角的节点最后被评估（最深且距离其级别最远的节点）。\n",
    "\n",
    "### 重点\n",
    "* 最适合搜索宽于深的树 Optimal for searching a tree that is **wider than it is deep**.\n",
    "* 当遍历树时，使用队列来存储有关树的信息 Uses a **queque** to store information about the tree while it traverses a tree.\n",
    "    * 因为它使用队列，所以比深度优先搜索要占用更多的内存。 Because it uses a queue it is more memory intensive than depth first serarch.\n",
    "    * 队列使用更多的内存，因为它需要存储指针(?) The queue uses more memory because it needs to stores pointers.\n",
    "    \n",
    "### 复杂度\n",
    "* Search: O(V + E) under the graph is represented by the adjacency list structure\n",
    "* Each edege is labeled twice. E is number of edges 边的数量\n",
    "* Each vertex is labeled twice. V is number of vertices 顶点的数量"
   ]
  },
  {
   "cell_type": "markdown",
   "metadata": {},
   "source": [
    "## 深度优先搜索 Depth First Search\n",
    "* DFS\n",
    "* 经典题目：棋盘问题\n",
    "* 重在追求‘专一’，一条道走到黑   \n",
    "    按照递归，先沿着一条道走到黑，撞到南墙后，再返回一层，找另一条路继续走，不停返回，不停深入\n",
    "* https://blog.csdn.net/qq_41681241/article/details/81432634?depth_1-utm_source=distribute.pc_relevant.none-task&utm_source=distribute.pc_relevant.none-task\n",
    "\n",
    "\n",
    "### 定义\n",
    "* 一种算法，该算法通过从根开始首先搜索树的深度来搜索树（或图） An algorithm that searches a tree (or graph) by searching depth of the tree first, starting at the root.\n",
    "    * 它沿着一棵树向左走，直到不能走远为止。 It traverses left down a tree until it cannot go futher.\n",
    "    * 一旦到达分支的末尾，它将遍历该分支的右子节点，如果可能的话，再返回右子节点。 Once it reaches the end of a branch, it traverses back up trying the right child of nodes on that branch, and if possible left from the right children.\n",
    "    * 检查完分支后，它移到根的右侧节点，然后尝试在所有子节点上向左移动，直到到达底\n",
    "部 When finished examing a branch, it moves to the node right of the root then tries to go left on all its children until it reaches the bottom.\n",
    "    * 最右边的节点最后被评估（所有祖先右边的节点）。 The right most node is evaluated last(the node that is right of all its ancestors)\n",
    "    \n",
    "### 重点\n",
    "* 最适合搜索比宽更深的树 Optimal for searching a tree that is deeper than it is wide\n",
    "* 使用list将节点压入 Uses a stack to push nodes onto:\n",
    "    * 由于堆栈是LIFO，因此它不需要跟踪节点指针，因此与广度优先搜索相比，其内存密集度\n",
    "较低。Becase a stack is LIFO, it does not need to keep track of the nodes pointers and is thereforce less memory intensive than breath than BFS.\n",
    "    * 一旦无法继续前进，它将开始评估list里存储的值 Once it can't go further left it begins evaluating the stack.一旦无法继续前进，它将开始评估堆栈。\n",
    "    \n",
    "    \n",
    "### 复杂度\n",
    "* Search:  O(V + E) under the graph is represented by the adjacency list structure\n",
    "* Each edege is labeled twice. E is number of edges 边的数量\n",
    "* Each vertex is labeled twice. V is number of vertices 顶点的数量"
   ]
  },
  {
   "cell_type": "markdown",
   "metadata": {},
   "source": [
    "### BFS vs DFS\n",
    "* The simple answer to this question is that it depends on the size and shape of the tree.\n",
    "    * For wide, shallow tree use BFS 宽而浅\n",
    "    * For deep, narrow tree use DFS. 深而窄\n",
    "* 广搜常用于找单一的最短路线，或者是规模小的路径搜索，它的特点是”搜到就是最优解”    \n",
    "    深搜用于找多个解或者是”步数已知（好比3步就必需达到前提）”的标题，它的空间效率高，然则找到的不必定是最优解\n",
    "* 广：最优解   \n",
    "    深：内存小\n"
   ]
  },
  {
   "cell_type": "markdown",
   "metadata": {},
   "source": [
    "# 基本算法类型  Basic Types of Algorithm\n"
   ]
  },
  {
   "cell_type": "markdown",
   "metadata": {},
   "source": [
    "## 递归算法 Recursive/Recurse Algorithm\n",
    "\n",
    "### 基本概念\n",
    "* 一个函数直接或间接调用自身的一种方法，它通常把一个大型复杂的问题层层转化为一个与原问题相似的规模较小的问题来求解\n",
    "* 可以把“递归”比喻成“查字典”，当你查一个词，发现这个词的解释中某个词仍然不懂，于是你开始查这第二个词。可惜，第二个词里仍然有不懂的词，于是查第三个词，这样查下去，直到有一个词的解释是你完全能看懂的，那么递归走到了尽头，然后你开始后退，逐个明白之前查过的每一个词，最终，你明白了最开始那个词的意思。（摘自知乎的一个回答）\n",
    "\n",
    "#### 定义\n",
    "* 每个递归函数都有两部分：基线条件（base case）和递归条件（recursive case）。递归条件指的是函数调用自己，而基线条件则指的是函数不再调用自己，从而避免形成无限循环。（来自网上）\n",
    "\n",
    "* 基本情况时,条件语句用于**中断递归** **Base case** a conditional statement that is used to break the recursion.\n",
    "* 递归情况时,条件语句用于**触发递归** **Recusive case** a conditional statement that is used to trigger the recursion. \n"
   ]
  },
  {
   "cell_type": "code",
   "execution_count": null,
   "metadata": {},
   "outputs": [],
   "source": [
    "def countdown(i):            #无限循环\n",
    "    print(i)\n",
    "    countdown(i-1)"
   ]
  },
  {
   "cell_type": "code",
   "execution_count": null,
   "metadata": {},
   "outputs": [],
   "source": [
    "def countdown(i):           \n",
    "    print(i)    \n",
    "    if i <= 0:                   #base case\n",
    "        return\n",
    "    else:                        #Recusive case \n",
    "        countdown(i-1）"
   ]
  },
  {
   "cell_type": "markdown",
   "metadata": {},
   "source": [
    "### 数学里的归纳法与递归思想\n",
    "**参考网址：**   \n",
    "https://juejin.im/post/5cc7b21551882525124126e7\n",
    "\n",
    "* 递归的数学模型就是归纳法！！！\n",
    "* 基本思想：以此类推；把规模大的问题转化为规模小的相似的子问题来解决\n",
    "\n",
    "**递归条件：**   \n",
    "1. 严格定义递归函数作用，包括参数，返回值，其他变量。\n",
    "2. 先一般情况，后特殊情况。\n",
    "3. 有退出条件。在一般情况下，能让递归正常退出的条件。\n",
    "4. 每次调用必须缩小问题规模，且新问题与原问题有着相同的形式，即规律。\n",
    "\n",
    "**例子：**   \n",
    "1. 递归求和\n",
    "2. 斐波那契数列   \n",
    "    斐波那契数列: 1、1、2、3、5、8、13、21.....    \n",
    "    总结递推公式：:Fib(n)=Fib(n-1)+Fib(n-2)\n",
    "3. 汉诺塔问题    \n",
    "    在一块铜板装置上，有三根杆(编号A、B、C)，在A杆自下而上、由大到小按顺序放置不同个数的金盘\n"
   ]
  },
  {
   "cell_type": "markdown",
   "metadata": {},
   "source": [
    "# 二叉树"
   ]
  },
  {
   "cell_type": "markdown",
   "metadata": {},
   "source": [
    "## 定义\n",
    "* 一个像树一样的数据结构，其中每个节点最多有两个孩子 a tree like data structure where every node has at most two children\n",
    " * 有左右子节点 There is one left and right child node\n",
    " * **每个节点都有parent**"
   ]
  },
  {
   "cell_type": "raw",
   "metadata": {},
   "source": [
    "       1\n",
    "     /   \\\n",
    "    2     3\n",
    "  \n",
    "1是root\n",
    "2是left\n",
    "3是right"
   ]
  },
  {
   "cell_type": "code",
   "execution_count": 174,
   "metadata": {},
   "outputs": [],
   "source": [
    "# 树节点的定义\n",
    "class TreeNode:\n",
    "    def __init__(self, x):\n",
    "        self.val = x\n",
    "        self.left = None\n",
    "        self.right = None\n",
    "        \n",
    "# 数构成,手动构造\n",
    "Node1 = TreeNode(1)\n",
    "Node2 = TreeNode(2)\n",
    "Node3 = TreeNode(3)\n",
    "\n",
    "Node1.left = Node2\n",
    "Node1.right = Node3"
   ]
  },
  {
   "cell_type": "raw",
   "metadata": {},
   "source": [
    "通过BFS来构建树：\n",
    "思考过程：\n",
    "1. 把树上面的数，写成list，比如[1,2,3,4,None,5]\n",
    "2. 定义节点，让一个值具有三个属性，val, left, right\n",
    "3. 让list里面的这些数都具有node的属性\n",
    "4. 把这些node通过BFS的方式串联起来\n",
    "\n",
    "代码运算（主要是具有node属性之后的代码理解）：\n",
    "                  i = 0         i = 1            i = 3              1 = 5\n",
    "\n",
    "                                   1               1                  1\n",
    "                                 /   \\            /  \\               / \\\n",
    "                                2     3          2    3             2   3\n",
    "                                                / \\                / \\  /\n",
    "                                               4   None           4  N  5\n",
    " \n",
    "\n",
    "\n",
    "储存在head里面的                     1             1,2                 1，2，3\n",
    "\n",
    "queue               [1]          [2,3]         [3,4,None]           [4,None,5]"
   ]
  },
  {
   "cell_type": "code",
   "execution_count": 175,
   "metadata": {},
   "outputs": [],
   "source": [
    "# -*- coding: utf-8 -*-\n",
    "# @Time    : 2/27/2020  \n",
    "# @Author  : XU Liu\n",
    "# @FileName: constructTree.py\n",
    "\n",
    "# define Node\n",
    "class TreeNode:\n",
    "    def __init__(self, x):\n",
    "        self.val = x\n",
    "        self.left = None\n",
    "        self.right = None\n",
    "\n",
    "\n",
    "# construct a Tree using deque and BFS\n",
    "from collections import deque\n",
    "def constructTree(nodeList):\n",
    "    new_node = []  # 把list里面的数变成Node\n",
    "    for elem in nodeList:\n",
    "        if elem:\n",
    "            new_node.append(TreeNode(elem))\n",
    "        else:\n",
    "            new_node.append(None)\n",
    "    \n",
    "    queue = deque()\n",
    "    queue.append(new_node[0])  # 相当于一个容器，一进一出\n",
    "\n",
    "    resHead = queue[0]  # 保存root，这里的root是具有tree属性的，也就是保存了整个tree\n",
    "    i = 1\n",
    "\n",
    "    while i <= len(new_node) - 1:   # bfs method building (通过bfs的方法，把这些node串联起来)\n",
    "        print(i)\n",
    "        head = queue.popleft()  \n",
    "\n",
    "        head.left = new_node[i]  # build left(i=1,node1的右边是node2)\n",
    "        if head.left:\n",
    "            queue.append(head.left)\n",
    "\n",
    "        if i + 1 == len(new_node):  # 特例：比如[1,2,3,4,None,5]，最右边的最后一个数没有right的时候，这里需要break\n",
    "            break\n",
    "\n",
    "        head.right = new_node[i + 1]  # build right\n",
    "        if head.right:\n",
    "            queue.append(head.right)\n",
    "\n",
    "        i = i + 2\n",
    "    \n",
    "    return resHead\n",
    "\n",
    "\n",
    "if __name__ == '__main__':\n",
    "    root = constructTree([1,2,3,4,None,5])\n",
    "    \n"
   ]
  },
  {
   "cell_type": "code",
   "execution_count": null,
   "metadata": {},
   "outputs": [],
   "source": [
    "'''\n",
    "优化版\n",
    "'''\n",
    "from collections import deque\n",
    "class Solution:\n",
    "    def constructTree(self, nodeList):  # input: list using bfs, output: root\n",
    "        if not nodeList:  # corner case\n",
    "            return None\n",
    "\n",
    "        res = root = TreeNode(nodeList[0])\n",
    "        queue = deque([(root, 0)])\n",
    "        while queue:\n",
    "            root, ind = queue.popleft()\n",
    "            l_ind = ind * 2 + 1\n",
    "            r_ind = ind * 2 + 2\n",
    "            if l_ind < len(nodeList):  # judge if left or right exist\n",
    "                root.left = TreeNode(nodeList[l_ind])\n",
    "            if r_ind < len(nodeList):\n",
    "                root.right = TreeNode(nodeList[r_ind])\n",
    "            if root.left:\n",
    "                queue.append([root.left, ind * 2 + 1])\n",
    "            if root.right:\n",
    "                queue.append([root.right, ind * 2 + 2])\n",
    "        return res"
   ]
  },
  {
   "cell_type": "markdown",
   "metadata": {},
   "source": [
    "## 树的遍历（重点）\n",
    "https://tding.top/archives/101cdf53.html#二叉树的构建相关题目\n",
    "\n",
    "### 分类\n",
    "1. **DFS**（Depth First Search）    \n",
    "    以root所在位置分类，可以分成三类\n",
    "\n",
    "\n",
    "    A. pre-order 前序 --> root left right\n",
    "    B. in-order 中序 --> left root right\n",
    "    C. post-order 后序 --> left right root\n",
    "\n",
    "\n",
    "2. **BFS** (Breadth First Search)   \n",
    "    层层遍历，每一层都是从left到right"
   ]
  },
  {
   "cell_type": "raw",
   "metadata": {},
   "source": [
    "       1\n",
    "     /   \\\n",
    "    2     3\n",
    "   / \\   / \\\n",
    "  4   5 6   7\n",
    "\n",
    "DFS:\n",
    "root: 1\n",
    "前: 1,      2,4,5,     3,6,7         \n",
    "中: 4,2,5,    1,       6,3,7\n",
    "后: 4,5,2    6,7,3       1\n",
    "\n",
    "从根下到底，再回\n",
    "\n",
    "\n",
    "BFS：\n",
    "1, 2, 3, 4, 5, 6, 7"
   ]
  },
  {
   "cell_type": "markdown",
   "metadata": {},
   "source": [
    "### 时间空间复杂度\n",
    "**DFS**\n",
    "* time complexity: O(N)    \n",
    "    每一个数都遍历一边，所以是N\n",
    "* space complexity: average: O(logN); worst: O(N)   \n",
    "    * 储存空间等于层数，比如上面的1234567的二叉树，有3层   \n",
    "        2**（层数-1）+ 1 = N(个数)   \n",
    "        层数 约等于 logN   #这里的log是以2为底的\n",
    "    * 当每一层都只有一个数的时候（极端情况）：    \n",
    "        1**层数 = N(个数)   \n",
    "        层数 = N\n",
    "    \n",
    "**BFS**\n",
    "* time complexity: O(N)    \n",
    "    每一个数都遍历一边，所以是N\n",
    "* space complexity: average: O(N); 极端情况: O(1)   \n",
    "    * space = 最宽层里数的个数   \n",
    "        一般情况下，最低层是最宽的，最底层的个数是 N/2，在空间复杂度里面N/2 = N   \n",
    "        为什么是最宽层里数的个数呢？   \n",
    "        比如上面的二叉树，1出，23进 -- 2出，45进，此时所含的数是345 -- 3出，67进，此时所含的数是4567\n",
    "    * 极端情况，每一层都只有一个数，一进一出，每次都只含一个数\n",
    "    \n",
    "    \n",
    "对比：   \n",
    "* 一般情况下，DFS的空间复杂度要比BFS小，因为logN < N\n",
    "* 极端情况下，可能出现BFS小于DFS"
   ]
  },
  {
   "cell_type": "markdown",
   "metadata": {},
   "source": [
    "### 技巧与算法\n",
    "\n",
    "#### DFS\n",
    "特点:    \n",
    "* 从叶到根的遍历方式\n",
    "* 离叶近，占用空间少（不记录搜索过程中的状态）\n",
    "* **搜索全部的解**    \n",
    "    当求解目标，必须要走到最深（例如树，走到叶子节点）才能得到一个解，这种情况适合用深搜\n",
    "* 通过**递归**实现\n",
    "    \n",
    "\n",
    "分类：   \n",
    "* 前序遍历 PreOrder (root, left, right)\n",
    "    * 应用：想在节点上直接执行操作（或输出结果）使用先序\n",
    "    * 迭代实现：\n",
    "        1. stack + pop, append(R), append(L) # 与结果顺序反向\n",
    "        2. color notation # 与结果顺序反向\n",
    "* 中序遍历 InOrder (left, root, right)\n",
    "    *  应用：\n",
    "        * 在二分搜索树中，中序遍历的顺序符合从小到大（或从大到小）顺序的，要输出其排序好的结果使用中序\n",
    "        * 以root 1为中心对称分布 -> 检测树是否中心对称\n",
    "    * 迭代实现\n",
    "        * color notation # 与结果顺序反向\n",
    "* 后序遍历 PostOrder (left, right, root) \n",
    "    * 特点：在执行操作时，肯定已经遍历过该节点的左右子节点\n",
    "    * 应用：进行破坏性操作比如删除所有节点，比如判断树中是否存在相同子树\n",
    "    * 迭代实现：\n",
    "        1. stack + pop, append(L) + append(R) + reverse res # reverse 之前的 root + right + left 与 append反向\n",
    "        * color notation # 与结果顺序反向\n",
    "        \n",
    "具体实现的表达："
   ]
  },
  {
   "cell_type": "code",
   "execution_count": 177,
   "metadata": {},
   "outputs": [],
   "source": [
    "# 先定义TreeNode的特性，使root具备self.val = x；self.left = None；self.right = None的性质\n",
    "class TreeNode:\n",
    "    def __init__(self,x):\n",
    "        self.val = x\n",
    "        self.left = None\n",
    "        self.right = None\n",
    "        \n",
    "class Solution:\n",
    "    def dfs(self, root):  # output node volue\n",
    "    #def dfs(self, root:TreeNode): # root:TreeNode; 冒号后面指的是type，注释的意思\n",
    "        if root == None:\n",
    "            return \n",
    "        else:\n",
    "            #PreOrder\n",
    "            print (root.val)\n",
    "            self.dfs(root.left)\n",
    "            self.dfs(root.right)\n",
    "            \n",
    "            '''\n",
    "            #inorder\n",
    "            self.dfs(root.left)\n",
    "            print (root.val)\n",
    "            self.dfs(root.right)\n",
    "            \n",
    "            #postorder\n",
    "            self.dfs(root.left)\n",
    "            self.dfs(root.right)\n",
    "            print (root.val)\n",
    "            '''\n",
    "'''\n",
    "以1-2-3的树为例\n",
    "最开始\n",
    "p: TreeNode{val: 1, left: TreeNode{val: 2, left: None, right: None}, right: TreeNode{val: 3, left: None, right: None}}\n",
    "q: TreeNode{val: 1, left: TreeNode{val: 2, left: None, right: None}, right: TreeNode{val: 3, left: None, right: None}}\n",
    "p: TreeNode{val: 2, left: None, right: None}\n",
    "q: TreeNode{val: 2, left: None, right: None}\n",
    "p: None\n",
    "q: None\n",
    "p: None\n",
    "q: None\n",
    "p: TreeNode{val: 3, left: None, right: None}\n",
    "q: TreeNode{val: 3, left: None, right: None}\n",
    "p: None\n",
    "q: None\n",
    "p: None\n",
    "q: None\n",
    "\n",
    "\n",
    "p与p.val的区别\n",
    "p是TreeNode\n",
    "p.val是值，比如1，2，3\n",
    "\n",
    "'''"
   ]
  },
  {
   "cell_type": "markdown",
   "metadata": {},
   "source": [
    "#### BFS\n",
    "\n",
    "特点：\n",
    "* 从上层到下层，每层从左到右   \n",
    "    特殊情况也可从右到左，先append right, 再append left\n",
    "* 离根近，占用空间多\n",
    "* 搜索最短路径\n",
    "* 常见题目，求最少步数，最少交换次数\n",
    "\n",
    "具体实例："
   ]
  },
  {
   "cell_type": "code",
   "execution_count": 179,
   "metadata": {},
   "outputs": [],
   "source": [
    "class TreeNode:\n",
    "    def __init__(self,x):\n",
    "        self.val = x\n",
    "        self.left = None\n",
    "        self.right = None\n",
    "\n",
    "#用BFS\n",
    "from collections import deque\n",
    "\n",
    "#迭代法\n",
    "class Solution:\n",
    "    def bsf(self, root):\n",
    "        if  root == None:\n",
    "            return \n",
    "        else:\n",
    "            queue = deque()\n",
    "            queue.append(root)  # 输入的是root的值，但是root带有属性，也就是tree\n",
    "            while queue:\n",
    "                node = queue.popleft()\n",
    "                print(node.val)\n",
    "                if node.left != None:\n",
    "                    queue.append(node.left)\n",
    "                if node.right != None:\n",
    "                    queue.append(node.right)\n",
    "                            \n",
    "#递归法\n",
    "#self.helper(root, dic, level)"
   ]
  },
  {
   "cell_type": "markdown",
   "metadata": {},
   "source": [
    "## 经典题\n",
    "\n",
    "* 相同的树 -- Leetcord 100\n"
   ]
  },
  {
   "cell_type": "markdown",
   "metadata": {},
   "source": [
    "# Binary Search Tree BST 二叉搜索树 \n",
    "## 定义\n",
    "* 使用可比较键来指定孩子的方向。Uses comparable keys to assign which direction a child is. \n",
    "* 左子节点的键小于其父节点 Left child has a key smaller than its parent node.\n",
    "* 右子项的键大于其父节点 Right child has a key greater than its parent node.\n",
    "* 不能有重复的节点 There can be no duplicate node.\n",
    "* 由于上述原因，它比二叉树更有可能用作数据结构 Because of the above it is more likely to be used as a data stucture than a binary tree.\n",
    "\n",
    "## 算法总结\n",
    "* 确定唯一一个二叉搜索树的要求\n",
    "    * 方案1：postorder list\n",
    "    * 方案2：preorder list\n",
    "* 确定多个可能性的二叉搜索树的要求\n",
    "    * 方案1： inorder list = ascending order node value list = sorted(postorder) = sorted(preorder)\n",
    "## 题目类型"
   ]
  },
  {
   "cell_type": "markdown",
   "metadata": {},
   "source": [
    "# Graph 图\n",
    "\n",
    "## 定义\n",
    "* 由顶点的有穷非空集合和顶点之间的边的集合组成。通常表示为G(V, E), 其中，G表示一个图，V是图G中顶点的集合，E是图G中边的集合。\n",
    "    * vertex:顶点\n",
    "    * edge：边\n",
    "    \n",
    "* 图的种类\n",
    "    * 无向图   \n",
    "        无向完全图：任意两个节点之间有且仅有一条边，N个顶点，N(N-1)/2条边\n",
    "    * 有向图\n",
    "        有向无环图 DAG (Directed acyclic graph), 表示相关联的依赖状态   \n",
    "        有向完全图：任意两个顶点之间有且仅有方向相反的两条边(<->)，N(N-1)条边\n",
    "\n",
    "* 邻接顶点\n",
    "    * 无向图：由一条边连接起来的两个顶点，互为邻接顶点\n",
    "    * 有向图：u->v, u的邻接点是v，即指向的点为邻接点\n",
    "    \n",
    "* 顶点的度\n",
    "    * 与顶点相关联的边的条数   \n",
    "        入度：别的点指向我点的个数   \n",
    "        出度：我点指向别的点的个数\n",
    "    * 有向图：度 = 入度 + 出度\n",
    "    * 无向图：度 = 入度 = 出度\n",
    "\n",
    "* 连通图\n",
    "    * 无向图：任意一对顶点都有路径连通（即无向完全图），称为连通图\n",
    "    * 有向图：任意一对顶点vi和vj，都有vi到vj的路径，称为强连通图\n",
    "\n",
    "* 生成树\n",
    "    * 一个无向连通图的最小子图称为该图的生成树。\n",
    "    * 有N个顶点的连通图的生成树有N - 1条边\n",
    "    * 最小生成树：权值和最小的生成树\n",
    "\n",
    "\n",
    "\n",
    "## 表示方式\n",
    "\n",
    "### 邻接表\n",
    "每个节点的邻接点的总集合\n",
    "1. [[1],[2],[3]]\n",
    "2. N = {0:[1], 1:[2], 2:[3], 3:[]}   \n",
    "    表示0指向1，1指向2，2指向3，3是endding"
   ]
  },
  {
   "cell_type": "markdown",
   "metadata": {},
   "source": [
    "**实现方式**   \n",
    "* input：有向无环图的依赖关系   \n",
    "    eg：input = [[1,3], [3,4], [2,3], [3,5], [1,4], [1,4]]   \n",
    "    表示1，3是一对，一条边\n",
    "* output: 嵌套字典2\n",
    "* steps:\n"
   ]
  },
  {
   "cell_type": "code",
   "execution_count": 14,
   "metadata": {},
   "outputs": [
    {
     "data": {
      "text/plain": [
       "defaultdict(set, {0: {1}, 1: {3, 4}, 3: {4, 5}, 2: {3}})"
      ]
     },
     "execution_count": 14,
     "metadata": {},
     "output_type": "execute_result"
    }
   ],
   "source": [
    "from collections import defaultdict\n",
    "\n",
    "l1 = [[0,1], [1,3], [3,4], [2,3], [3,5], [1,4],[1,4]]\n",
    "graph = defaultdict(set)\n",
    "for k,v in l1:\n",
    "    graph[k].add(v)\n",
    "\n",
    "graph"
   ]
  },
  {
   "cell_type": "code",
   "execution_count": 18,
   "metadata": {
    "scrolled": true
   },
   "outputs": [],
   "source": [
    "#defaultdict用法\n",
    "\n",
    "# 以一个例子开始：统计一个列表里各单词重复次数\n",
    "# 一定要先给各个词赋于初始值，不然会引发KeyError\n",
    "words = ['hello', 'world', 'nice', 'world']\n",
    "counter = dict()\n",
    "for kw in words:\n",
    "    if kw in counter:\n",
    "        counter[kw] += 1\n",
    "    else:\n",
    "        counter[kw] = 0  \n",
    "\n",
    "\n",
    "# 改进 -- 使用setdefault()方法设置默认值\n",
    "words = ['hello', 'world', 'nice', 'world']\n",
    "counter = dict()\n",
    "for kw in words:\n",
    "    counter.setdefault(kw, 0)\n",
    "    counter[kw] += 1\n",
    "\n",
    "\n",
    "# 再优\n",
    "'''\n",
    "setdefault()，需提供两个参数，第一个参数是键值，第二个参数是默认值，\n",
    "每次调用都有一个返回值，如果字典中不存在该键则返回默认值，如果存在该键则返回该值\n",
    "返回值可再次修改代码。\n",
    "'''\n",
    "words = ['hello', 'world', 'nice', 'world']\n",
    "counter = dict()\n",
    "for kw in words:\n",
    "    counter[kw] = counter.setdefault(kw, 0) + 1\n",
    "    \n",
    "\n",
    "# 改进 -- defaultdict()\n",
    "'''\n",
    "一种特殊类型的字典本身就保存了默认值\n",
    "defaultdict类就好像是一个dict，但是它是使用一个类型来初始化的\n",
    "'''\n",
    "from collections import defaultdict\n",
    "dd = defaultdict(list)\n",
    "#给它赋值，同时也是读取\n",
    "dd['hh']\n",
    "# defaultdict(<type 'list'>, {'hh': []})\n",
    "dd['hh'].append('haha')\n",
    "# defaultdict(<type 'list'>, {'hh': ['haha']})\n",
    "\n",
    "\n",
    "from collections import defaultdict\n",
    "words = ['hello', 'world', 'nice', 'world']\n",
    "#使用lambda来定义简单的函数\n",
    "counter = defaultdict(lambda: 0) \n",
    "for kw in words:\n",
    "    counter[kw] += 1"
   ]
  },
  {
   "cell_type": "markdown",
   "metadata": {},
   "source": [
    "### 矩阵\n",
    "* A[i][j] = 1 / 0    \n",
    "    若Vi和Vj之间有弧或边的存在 / 没有存在这些\n",
    "* 特点\n",
    "    * 主对角线为自己到自己，为0\n",
    "    * 无向图\n",
    "        * 邻接矩阵是对称的，第 i 行或 第 i 列的和就是顶点的度\n",
    "    * 第 i 行的**和**为 i 的出度，即i到各个j点\n",
    "    * 列 i 列的**和**为 i 的入度\n",
    "    * 第 i 行和第 i 列的和为 i 的度\n",
    "* 优点：\n",
    "    * 快速判断两个顶点之间是否存在边\n",
    "    * 对于有向图，可以快速添加或删除边\n",
    "* 缺点\n",
    "    * 如顶点之间的边比较少，比较浪费空间 （N * N矩阵）\n",
    "\n"
   ]
  },
  {
   "cell_type": "code",
   "execution_count": null,
   "metadata": {},
   "outputs": [],
   "source": [
    "     1 2 3 4 5 \n",
    "    \n",
    "1    0 1 0 0 1\n",
    "2    1 0 1 1 1\n",
    "3    0 1 0 1 0\n",
    "4    0 1 1 0 1\n",
    "5    1 1 0 1 0\n",
    "\n",
    "P198上面的例子\n",
    "相邻点：1；不相邻：0"
   ]
  },
  {
   "cell_type": "code",
   "execution_count": 16,
   "metadata": {
    "scrolled": true
   },
   "outputs": [
    {
     "data": {
      "text/plain": [
       "2"
      ]
     },
     "execution_count": 16,
     "metadata": {},
     "output_type": "execute_result"
    }
   ],
   "source": [
    "a, b, c, d, e = range(5)\n",
    "\n",
    "N = [[0, 1, 0, 0, 1],\n",
    "     [1, 0, 1, 1, 1],\n",
    "     [0, 1, 0, 1, 0],\n",
    "     [0, 1, 1, 0, 1],\n",
    "     [1, 1, 0, 1, 0]]\n",
    "\n",
    "# 检查a, b是否为相邻节点,即检查N[a][b]是否为１\n",
    "N[a][b] == 1\n",
    "\n",
    "# c节点的度\n",
    "sum(N[c])"
   ]
  },
  {
   "cell_type": "markdown",
   "metadata": {},
   "source": [
    "## 分类\n",
    "* 有向图与无向图\n",
    "* 单个孤立群与多个群\n",
    "* 有向无环图：Directed Acyclic Graph\n",
    "* 有向图的所有边都有方向，即确定了顶点到顶点的一个指向；而无向图的所有边都是双向的，即无向边所连接的两个顶点可以互相到达。在一些问题中，可以把无向图当作所有边都是正向和负向的两条有向边组成。\n",
    "\n",
    "**参数**    \n",
    "* n:n个顶点   \n",
    "* pairs    \n",
    "* 无平行边,pairs里面不存在[1,2],[2,1],若存在，代表重复；graph里面可以同时存在[1,2],[2,1]\n",
    "\n",
    "**无环孤立**   \n",
    "* n == 1 --> n = len(pairs)\n",
    "* n > 1 --> n = len(pairs) + 1 # len(pairs)即边长\n",
    "\n",
    "**有环孤立**  \n",
    "* 可以是多个环\n",
    "* n < len(pairs) + 1\n",
    "\n",
    "**无环多个**   \n",
    "* n > len(pairs) + 1\n",
    "\n",
    "**有环多个**  \n",
    "* n >=< len(pairs) + 1"
   ]
  },
  {
   "cell_type": "markdown",
   "metadata": {},
   "source": [
    "## 常用操作以及复杂度\n",
    "\n",
    "### 常考类型总结\n",
    "**有向图**   \n",
    "* 是否有环\n",
    "    * dfs: -1, 0, 1法\n",
    "* 孤立个数\n",
    "* 路径层数\n",
    "* 路径和\n",
    "\n",
    "**无向图**   \n",
    "* 是否有环\n",
    "    * DFS\n",
    "        * Parent法 dfs(index, visited, graph, parent)\n",
    "        * for traversal unvisited, dfs() no head ending condition\n",
    "    * BFS\n",
    "        * Parent法 queue = deque([(pair中的点，-1)])\n",
    "        * 避免第一个index点为孤立点\n",
    "    * Union find\n",
    "        * 若有环，root1 == root2成立\n",
    "* 孤立个数\n",
    "    * Union find\n",
    "        * 若仅有一个孤立，则 res = (n - 1) - 连接新点的次数 = 0\n",
    "        * 若多个孤立，则 res = (n - 1) - 连接新点的次数\n",
    "* 路径层数\n",
    "* 路径和\n",
    "\n",
    "### DFS\n",
    "#### 基础知识\n",
    "* 应用对象：有向图、无向图\n",
    "* (-1, 0, 1)法   \n",
    "    * -1: 未访问\n",
    "    * 0: 已访问\n",
    "    * 1:正在访问\n",
    "* 输入：   \n",
    "    * 顶点数量 num:int\n",
    "    * 边的关系slides:[[1,2],[1,3],....]\n",
    "\n",
    "**复杂度**   \n",
    "* 时间复杂度\n",
    "    * 邻接表 O(V + E)\n",
    "    * 邻接矩阵 O(V ** 2)\n",
    "* 空间复杂度   \n",
    "    O(V) V 是节点个数\n",
    "\n",
    "**有向图和无向图在dfs中的区别**\n",
    "* 有向图：   \n",
    "    * dfs过程中，不会访问到parent节点，访问到则出现环   \n",
    "    * 故可以用一次dfs path中是否出现1正在访问的节点来判断是否有环   \n",
    "* 无向图：   \n",
    "    。。。。。。。。。\n",
    "    \n",
    "**有向图判断是否有环**\n",
    "* 核心：在一轮DFS中，有没有重合的点\n",
    "* 对应措施\n",
    "    * 标识改为 -1-未访问，0-正在访问，1-已经访问\n",
    "    * end\n",
    "        * visit[ind] == 0 node正在访问，return False\n",
    "        * visit[ind] == 1 node已经访问，return True\n",
    "    * visit[ind] = 0\n",
    "    * 递归\n",
    "        * for elem in graph[ind]:\n",
    "            * if not self.dfs(graph, visit, elem):\n",
    "                * return False\n",
    "        * visit[ind] = 1\n",
    "        * return True\n",
    "        \n",
    "**无向图判断是否有环**\n",
    "* 核心：\n",
    "    * 在一轮dfs中，访问的访问过的店若不是parent节点，则出现了环\n",
    "    * 起作用的就只是第一轮实施的dfs, 用for 循环n是为了找到可以实施dfs的节点，防止没有index=0节点等情况\n",
    "* 应对措施：\n",
    "    * 在dfs中添加parent标志物，其是parent的节点的序号\n",
    "    * 递归\n",
    "\n",
    "#### 代码模版"
   ]
  },
  {
   "cell_type": "code",
   "execution_count": 7,
   "metadata": {},
   "outputs": [
    {
     "name": "stdout",
     "output_type": "stream",
     "text": [
      "node index is 0\n",
      "[1, 0, 0, 0, 0]\n",
      "node index is 1\n",
      "[1, 1, 0, 0, 0]\n",
      "node index is 4\n",
      "[1, 1, 0, 0, 1]\n",
      "node index is 2\n",
      "[1, 1, 1, 0, 1]\n",
      "node index is 3\n",
      "[1, 1, 1, 1, 1]\n"
     ]
    }
   ],
   "source": [
    "# DFS\n",
    "# 以无向图举例\n",
    "class MySolution:\n",
    "    def dfsGraph(self, num, slides):\n",
    "        graph = [[] for _ in range(num)]  # 建立空邻接表 [[],[],[],[]]\n",
    "        visited = [0 for _ in range(num)]  # 建立空访问表\n",
    "        # visited = [0] * (num)\n",
    "\n",
    "        for i, j in slides:  # 填充邻接表 tO(E)\n",
    "            graph[i].append(j)\n",
    "            graph[j].append(i)\n",
    "\n",
    "        index = 0\n",
    "        \n",
    "\n",
    "        self.DFS(index, graph, visited)  # case1, 所有节点都连在一起时的遍历方法，从第0个节点开始访问\n",
    "        \n",
    "#         for ind, neighbor in enumerate(graph):  # case1, 并不是所有节点都连在一起时的遍历方法，从第0个节点开始访问\n",
    "#             if visit[ind] == 0:  # 不遍历已经访问的节点，（根据实际情况，可以删除）\n",
    "#                 self.DFS(index, graph, visited)\n",
    "        return\n",
    "\n",
    "    def DFS(self, index, graph, visited):  # 访问\n",
    "        if visited == [1] * len(visited):  # endding condition\n",
    "            return\n",
    "\n",
    "        print('node index is %s' % index)\n",
    "        visited[index] = 1  # 表示已访问该点 tO(1)\n",
    "        print(visited)\n",
    "\n",
    "        for node_ind in graph[index]:  # 遍历第index节点的邻接行里的邻接节点\n",
    "            if visited[node_ind] == 0:  # 若邻接节点未被访问过\n",
    "                self.DFS(node_ind, graph, visited)\n",
    "        \n",
    "x = MySolution()\n",
    "x.dfsGraph(5, [[0,1], [0,2], [0,3], [1,4]])\n",
    "\n",
    "\n",
    "# 有向图判断是否有环\n",
    "# 思想：从所有的点开始，进行dfs，看是否可以碰到环\n",
    "# 特点：在dfs循环内加点，看是否在一次dfs内遇到\n",
    "class Solution:\n",
    "    def canFinish(self, nums, pairs):  # return T有环/F无环\n",
    "        if nums == 0:  # corner case\n",
    "            return False\n",
    "        if pairs == []:\n",
    "            return False\n",
    "\n",
    "        graph = [[] for _ in range(nums)]\n",
    "        visit = [-1] * nums  # 三种状态，-1未访问，0正在DFS中访问，1已经访问\n",
    "\n",
    "        for i, j in pairs:  # build adjacency table\n",
    "            graph[j].append(i)  # pairs里面从右到左\n",
    "            # graph[i].append(j)  # 两者方向不同，根据题目来；pairs里面从左到右\n",
    "\n",
    "        print(graph)\n",
    "\n",
    "        for i in range(nums):\n",
    "            if self.dfs(graph, visit, i):\n",
    "                return True\n",
    "        return False\n",
    "    def dfs(self, graph, visit, index):  # when repeat, return True有环or False无环\n",
    "        if visit[index] == 0:\n",
    "            return True\n",
    "        if visit[index] == 1: # 只访问未访问的，相当于剪枝\n",
    "            return False\n",
    "\n",
    "        visit[index] = 0\n",
    "        for elem in graph[index]:\n",
    "            if self.dfs(graph, visit, elem) == True:\n",
    "                return True\n",
    "        visit[index] = 1\n",
    "        return False\n",
    "    \n",
    "\n",
    "# 无向图判断是否有环\n",
    "# 核心：无环的时候，其节点的邻接点当中，有且只有一个是已经遍历过的，并且一定是上一个节点（parent）\n",
    "class Solution:\n",
    "    def isCyclic(self, nums, pairs):  # return T有环/F无环\n",
    "        if not nums:\n",
    "            return False\n",
    "        if not pairs:  # 全部都是散点\n",
    "            return False\n",
    "        \n",
    "        visited = [0] * nums\n",
    "        graph = [[] for _ in range(nums)]\n",
    "        \n",
    "        for i, j in pairs:\n",
    "            graph[i].append(j)\n",
    "            graph[j].append(i)\n",
    "        \n",
    "        for i in range(nums):\n",
    "            if visited[i] == 0:  # 必须遍历unvisited node\n",
    "                if self.dfs(i, graph, visited, -1):# -1 代表i=0的parent节点序号是-1\n",
    "                    return True\n",
    "        return False\n",
    "    \n",
    "    def dfs(self, i, graph, visited, parent_index):  # return T for 有环，F for 无环\n",
    "        visited[i] = 1\n",
    "        for j in graph[i]:\n",
    "            if visited[j] == 1:\n",
    "                if j != parent_index:  # 若无环，其访问过的节点有且只有一个，并且是其节点的上一个节点(parent)；若有，则不是\n",
    "                    return True\n",
    "            elif visited[j] == 0:\n",
    "                if self.dfs(j, graph, visited, i):\n",
    "                    return True\n",
    "        return False\n",
    "        \n",
    "        "
   ]
  },
  {
   "cell_type": "code",
   "execution_count": 23,
   "metadata": {},
   "outputs": [
    {
     "data": {
      "text/plain": [
       "[0, 0, 0, 0]"
      ]
     },
     "execution_count": 23,
     "metadata": {},
     "output_type": "execute_result"
    }
   ],
   "source": [
    "a = [0] * 4\n",
    "a"
   ]
  },
  {
   "cell_type": "code",
   "execution_count": 24,
   "metadata": {},
   "outputs": [
    {
     "data": {
      "text/plain": [
       "[0, 0, 0, 0, 1]"
      ]
     },
     "execution_count": 24,
     "metadata": {},
     "output_type": "execute_result"
    }
   ],
   "source": [
    "a.append(1)\n",
    "a"
   ]
  },
  {
   "cell_type": "code",
   "execution_count": 26,
   "metadata": {},
   "outputs": [
    {
     "data": {
      "text/plain": [
       "[]"
      ]
     },
     "execution_count": 26,
     "metadata": {},
     "output_type": "execute_result"
    }
   ],
   "source": [
    "b = [] * 4\n",
    "b"
   ]
  },
  {
   "cell_type": "code",
   "execution_count": 2,
   "metadata": {},
   "outputs": [
    {
     "data": {
      "text/plain": [
       "[[], [], [], []]"
      ]
     },
     "execution_count": 2,
     "metadata": {},
     "output_type": "execute_result"
    }
   ],
   "source": [
    "c = [[]] * 4\n",
    "c"
   ]
  },
  {
   "cell_type": "code",
   "execution_count": 3,
   "metadata": {},
   "outputs": [],
   "source": [
    "c[1] = 1"
   ]
  },
  {
   "cell_type": "code",
   "execution_count": 4,
   "metadata": {},
   "outputs": [
    {
     "data": {
      "text/plain": [
       "[[], 1, [], []]"
      ]
     },
     "execution_count": 4,
     "metadata": {},
     "output_type": "execute_result"
    }
   ],
   "source": [
    "c"
   ]
  },
  {
   "cell_type": "code",
   "execution_count": 5,
   "metadata": {},
   "outputs": [],
   "source": [
    "c[0].append(1)  # 易错点，都会变1"
   ]
  },
  {
   "cell_type": "code",
   "execution_count": 6,
   "metadata": {},
   "outputs": [
    {
     "data": {
      "text/plain": [
       "[[1], 1, [1], [1]]"
      ]
     },
     "execution_count": 6,
     "metadata": {},
     "output_type": "execute_result"
    }
   ],
   "source": [
    "c"
   ]
  },
  {
   "cell_type": "markdown",
   "metadata": {},
   "source": [
    "### BFS\n",
    "#### 基础知识\n",
    "* 应用对象：无向图/有向图\n",
    "* 步骤\n",
    "    1. 输入\n",
    "        * 顶点数量 num：int\n",
    "        * 边的关系 slides：[[1, 2], [1, 3],...] \n",
    "    * 建立空邻接表和空访问表，并依据边的关系,填充空邻接表  # 0 代表未访问\n",
    "    * 从某个顶点出发，访问其各个邻接点\n",
    "    * 从邻接点出发，访问邻接点的邻接点（先访问的点，其邻接点也先被访问）\n",
    "    * 访问其他未被访问的顶点\n",
    "* 复杂度\n",
    "    * 时间复杂度: \n",
    "        * 邻接表 O(V + E)\n",
    "        * 邻接矩阵 O(V ** 2)\n",
    "    * 空间复杂度: worst O(V) V 是节点个数\n",
    "    \n",
    "#### 代码模版"
   ]
  },
  {
   "cell_type": "code",
   "execution_count": 9,
   "metadata": {},
   "outputs": [
    {
     "name": "stdout",
     "output_type": "stream",
     "text": [
      "visited node index:0\n",
      "visit: [1, 0, 0, 0, 0]\n",
      "visited node index:1\n",
      "visit: [1, 1, 0, 0, 0]\n",
      "visited node index:2\n",
      "visit: [1, 1, 1, 0, 0]\n",
      "visited node index:3\n",
      "visit: [1, 1, 1, 1, 0]\n",
      "visited node index:4\n",
      "visit: [1, 1, 1, 1, 1]\n"
     ]
    }
   ],
   "source": [
    "# BFS\n",
    "# 以无向图举例\n",
    "from collections import deque\n",
    "class MySolution:\n",
    "    def bfsGraph(self, num, slides):\n",
    "        graph = [[] for _ in range(num)]  # 建立空邻接表 tO(N)\n",
    "        visited = [0 for _ in range(num)]  # 建立空访问表\n",
    "\n",
    "        for i, j in slides:  # 填充邻接表 tO(E)\n",
    "            graph[i].append(j)\n",
    "            graph[j].append(i)\n",
    "\n",
    "        queue = deque()\n",
    "        queue.append(0)\n",
    "\n",
    "        while queue:\n",
    "            node_ind = queue.popleft()  # 从某个顶点出发，访问其各个邻接点\n",
    "            visited[node_ind] = 1\n",
    "            print('visited node index:%s' % node_ind)\n",
    "            print('visit: %s' % visited)\n",
    "            for neigh_ind in graph[node_ind]:  # 从邻接点出发，访问邻接点的邻接点\n",
    "                if visited[neigh_ind] == 0:\n",
    "                    queue.append(neigh_ind)\n",
    "        return\n",
    "    \n",
    "    #def isCyclic(self, n, pairs):  # return T for cyclic, False for acyclic\n",
    "        \n",
    "x = MySolution()\n",
    "x.bfsGraph(5, [[0,1], [0,2], [0,3], [1,4]])"
   ]
  },
  {
   "cell_type": "markdown",
   "metadata": {},
   "source": [
    "### 拓扑排序 （Topological Order）\n"
   ]
  },
  {
   "cell_type": "markdown",
   "metadata": {},
   "source": [
    "#### 基础知识\n",
    "**作用**   \n",
    "* 判断是否有环\n",
    "* 拓扑排序是对有向无环图(DAG)的一种排序，满足如下两个条件：   \n",
    "    1.每个顶点出现且只出现一次；    \n",
    "    2.若A在序列中排在B的前面，则在图中不存在从B到A的路径。\n",
    "\n",
    "**与图的关系**   \n",
    "* 元素个数 num -> 顶点数量\n",
    "* 依赖关系 prerequisities -> 边的集合\n",
    "* 出度表 outdegree -> 邻接表\n",
    "\n",
    "**度**   \n",
    "* 顶点的度是指和该顶点相连的边的条数。特别是对于有向图来说，顶点的出边条数称为该顶点的出度，顶点的入边条数称为该顶点的入度\n",
    "* 无向图：顶点所具有的边的数目称为顶点的度\n",
    "* 有向图：分入度与出度\n",
    "\n",
    "**入度(indegree)**   \n",
    "list[int]   \n",
    "eg: [2,1,0,0] 表示0的入度是2，因为1和3都指向0；1的入度是1，2的入度是0，3的入度也是0\n",
    "\n",
    "**出度(outdegree)**   \n",
    "list[list[]]   \n",
    "eg: [[],[0],[1],[0]] 表示0的出度是空，因为0不指向任何数；1的出度是[0],因为1指向0\n",
    "\n",
    "注意：出入度的表达形式是可互换的，这里的写法是最常见的"
   ]
  },
  {
   "cell_type": "raw",
   "metadata": {},
   "source": [
    "0 <- 3\n",
    "^\n",
    "|\n",
    "1 <- 2\n",
    " "
   ]
  },
  {
   "cell_type": "markdown",
   "metadata": {},
   "source": [
    "**拓扑排序的类型**   \n",
    "* case1：以indegree为结果\n",
    "    * 从独立点开始数（入度为0点，出度不为0）\n",
    "    * 0的含义\n",
    "        * 以独立头起始的环连接（若存在）\n",
    "        * 独立的线性状态的部分\n",
    "    * 故只要有环，indegree就不全是0\n",
    "* case2：以outdegree为结果\n",
    "    * 从断点开始数（入度不为0点，出度为0点）\n",
    "    * 0的含义\n",
    "        * 断头点起始，无outdegree为尾的环连接\n",
    "        * 独立的线性状态的部分\n",
    "    * 故只要有环，outdegree就不全是0\n",
    "    \n"
   ]
  },
  {
   "cell_type": "markdown",
   "metadata": {},
   "source": [
    "#### 代码模版   \n",
    "1. 输入\n",
    "    * 元素个数 num：int\n",
    "    * 依赖关系 prerequisities：[[元素1，元素2]....], 1依赖2，2->1,2必须先完成\n",
    "* 构建空入度和空出度表\n",
    "    * 在元素值不从0开始时：dict构建indegree/outdegree\n",
    "        * 注意：indegree每个元素val都要填充0\n",
    "* 用依赖关系去填充入度和出度表  # 注意：依赖关系的依赖次序\n",
    "    * case 1\n",
    "        * 入度表 [int]\n",
    "        * 出度表 [[1,2,3],...] \n",
    "    * case 2 \n",
    "        * 入度表 [[1,2,3],...] \n",
    "        * 出度表 [int] \n",
    "* 建立空queue\n",
    "* 依照入度表/出度表，把所有入度/出度为0的点的序号加入queue\n",
    "    * **升级版** queue.append([index, XXX])\n",
    "* 遍历queue的元素\n",
    "    * 遍历次序：\n",
    "        * 一层一层遍历，只遍历indegree = 0的节点\n",
    "        * for遍历下层节点时，先去掉其重复edge,等到其indegree=0时，再加入queue\n",
    "    * popleft每个元素 node_ind\n",
    "        * **升级版**：for循环，遍历本层\n",
    "    * 遍历node_ind 所有出度点\n",
    "        * 出度点的入度 - 1 / 入度点的出度 - 1\n",
    "        * 若出度点的入度为0，queue append该出度点 / 若入度点的出度为0，queue append该入度点\n",
    "        \n",
    "* 输出：\n",
    "    * case 1：\n",
    "        * 入度表全为0，则图无环\n",
    "        * 入度表不全为0\n",
    "            * 入度为0的点：有独立的开头点，可以顺序完成的点\n",
    "            * 入度不为0的点：无法独立完成\n",
    "    * case 2：\n",
    "        * 出度表全为0，则图无环\n",
    "        * 出度表不全为0\n",
    "            * 出度为0的点：有断点头开始，可以顺序完成的点\n",
    "            * 出度不为0的点：无法断点头开始完成的点"
   ]
  },
  {
   "cell_type": "code",
   "execution_count": null,
   "metadata": {},
   "outputs": [],
   "source": [
    "# 拓扑排序\n",
    "# topological sort method \n",
    "from collections import deque\n",
    "class mySolution:\n",
    "    def topoSort(self, num, prerequisities):  # num: 节点数量；prerequisities: [[0, 1], [],...] 依赖关系, 即0依赖1\n",
    "        outdegree = [[] for _ in range(num)]  # 所有节点的空出度表，包含出度的点的index，即邻接表\n",
    "        indegree = [0 for _ in range(num)]  # 所有节点的空入度表，包含入度点的数量\n",
    "        # 或者 indegree = [0] * num\n",
    "        # 但是不能 outdegree = [[]] * num!\n",
    "\n",
    "        for x, y in prerequisities:  # 通过依赖关系去填充入度和出度表\n",
    "            outdegree[y].append(x)  #  填充出度表\n",
    "            indegree[x] += 1  # 填充入度表\n",
    "            \n",
    "        queue = deque()\n",
    "        for ind, val in enumerate(indegree):  # 把所有入度为0的点的序号加入queue\n",
    "            if val == 0:\n",
    "                queue.append(ind)\n",
    "        # 可以合并成\n",
    "        # queue = deque([i for i, v in enumerate(indegree) if v == 0])\n",
    "        \n",
    "        while queue:\n",
    "            node_ind = queue.popleft()  # popleft每个元素\n",
    "            for out_ind in outdegree[node_ind]:  # 遍历其所有出度点\n",
    "                indegree[out_ind] -= 1 # 出度点的入度 - 1\n",
    "                if indegree[out_ind] == 0:  # 若出度点的入度为0，queue append该出度点\n",
    "                    queue.append(out_ind)\n",
    "               \n",
    "        \n",
    "        if indegree == [0] * num:\n",
    "            return '无环'\n",
    "        else:\n",
    "            return '有环'\n",
    "x = mySolution()\n",
    "x.topoSort(2, [[1,0],[0,1]])"
   ]
  },
  {
   "cell_type": "markdown",
   "metadata": {},
   "source": [
    "#### 算法总结 （还没看）\n",
    "**有向图（依赖关系）**    \n",
    "* 是否能够独立完成,是否有环\n",
    "    * 方法1：topological sort，indegree是否全为0\n",
    "    * 方法2：对每个节点dfs，看是否可以碰到环\n",
    "    * 方法3：bfs，看while中是否出现visited[i] = 1,-> 无法处理 1-> 3, 1->2->3的情况。无法实现\n",
    "    * 课程是否可以完成\n",
    "        * 207. Course Schedule.py\n",
    "* （独立完成）的值和顺序 -> level order 遍历值 \n",
    "    * 方法1：topo sort save popleft的值\n",
    "    * 方法2：DFS的后续遍历，再反向输出结果\n",
    "    * 课程完成的顺序\n",
    "        * 210. Course Schedule II.py\n",
    "* （独立完成）的层数 -> tree的层数 DAG\n",
    "    * 方法1：topo + 累加level + for 每层\n",
    "    * 方法2：topo + queue[index, level]\n",
    "    * 工期完成的时间（可以同时做多个工作） \n",
    "        * 程序的依赖关系.py\n",
    "* （独立完成的）的最大宽度 DAG\n",
    "    * 方法1：topo + 保存 len(queue) + for 每层\n",
    "    * 同时进行最大的工作数量\n",
    "* （独立完成的）的每个path的值 -> 路径path和 DAG\n",
    "    * 方法1：从入度为0的开始dfs + queue[index, [path]]\n",
    "    * 每个工作的线程的工作内容\n",
    "    * sequence的重新构建原list \n",
    "        * 444. Sequence Reconstruction.py\n",
    "* 断点开始完成的path -> 路径path和（以outdegree为输出的）\n",
    "    * 方法：outdegree = [int] + bfs + 保存index\n",
    "    * 安全terminal的工作内容 \n",
    "        * 802. Find Eventual Safe States.py\n",
    "        \n",
    "        \n",
    " 。。。。。。。。。。未完"
   ]
  },
  {
   "cell_type": "markdown",
   "metadata": {},
   "source": [
    "### 无向图的并差集\n",
    "#### 知识点\n",
    "\n",
    "* 并查集是树形的数据结构，保持着用于处理一些不相交集合Disjoint Sets的合并及查询问题。有一个联合-查找算法Union-find Algorithm定义了两个操作用于此数据结构\n",
    "* Find:确定元素属于哪一个子集。它可以被用来确定两个元素是否属于同一个子集\n",
    "* Union:将两个子集合并成同一个集合\n",
    "\n",
    "#### 复杂度\n",
    "* Quick find方法\n",
    "    * 代码如下\n",
    "    * 时间复杂度 O(V + E)\n",
    "    * 空间复杂度 O(V)\n",
    "    \n",
    "#### 代码模版\n",
    "* 概括：先让每个节点代表一个分组，然后scan pair，把pair[1]改为pair[0]的分组，直到最后有几个隔离的，就有几个分组\n",
    "    * 在根据pair分组时，若发现pair[0]和pair[1]的分组相同，不用更改，说明0和1之前已经联通了，需要再次联通，说明其成环\n",
    "* 建立n个分组，每个分组代表一堆可以互相联通的节点\n",
    "* 遍历每队节点，找到他们各自所属的分队A,B\n",
    "* 如果A!=B,则将A,B分组union起来，表示A,B分组联通了\n",
    "* 如果A == B，则跳过（说明A,B已经在一个组里了）\n",
    "\n"
   ]
  },
  {
   "cell_type": "code",
   "execution_count": 5,
   "metadata": {},
   "outputs": [],
   "source": [
    "class Solution:\n",
    "\n",
    "    def groups(n, pairs):\n",
    "        # 初始化，每一个点都设置为单独的一个组，标记为index\n",
    "        groupTag = [i for i in range(n)]  # 即每个i都用其index = i进行标记\n",
    "        \n",
    "        for i, j in pairs:\n",
    "            self.union(i, j, groupTag)\n",
    "        \n",
    "        #针对Union-find的缺陷进行修正，详细见上文\n",
    "        for i in range(len(groupTag)):\n",
    "            groupTag[i] = self.find(groupTag[i], groupTag)\n",
    "\n",
    "\n",
    "    # Union操作，进来的这两个节点是联通的，union函数是将这两个节点合并成一个组。通过调用find操作，对两个节点找到其祖先\n",
    "    # 然后如果祖先相同的话，证明这两个节点已经再一个组里，跳过；如果不是的话，将第二个节点的祖先设置为第一个节点\n",
    "    def union(self, i, j, groupTag):\n",
    "        root1 = self.find(i, groupTag)\n",
    "        root2 = self.find(j, groupTag)\n",
    "        # already unioned\n",
    "        if root1 == root2:\n",
    "            return\n",
    "        else:\n",
    "            groupTag[root2] = root1  # 连接新点\n",
    "\n",
    "\n",
    "    # find操作是为每一个节点找到它的最远祖先，如果节点对应的数值为初始的index的话，证明其依然为isolate，\n",
    "    # 如果不是的话，存储的index为其祖先的index，这样就能find其最远祖先\n",
    "    def find(self, index, groupTag):\n",
    "        # isolate\n",
    "        if group[index] == index:\n",
    "            return index\n",
    "        # group\n",
    "        else:\n",
    "            return self.find(groupTag[index], groupTag)"
   ]
  },
  {
   "cell_type": "markdown",
   "metadata": {},
   "source": [
    "### 题目类型(无向图)\n",
    "* 判断图是否是有效树 261. Graph Valid Tree.py\n",
    "    * 判断**无环孤立**\n",
    "    * corner case edge = vertex -1 排除掉**无环多个和有环孤立**\n",
    "    * 然后判断是 无环孤立 和 有环多个，故接下来判断**有环无环 或者 孤立还是多个**都行\n",
    "        * 判断 是否有环\n",
    "            * DFS  # tO(V + E) sO(V)\n",
    "                * 先寻找第一个可以dfs的节点(for n)，针对每个节点dfs(i,parent), 若本节点的子节点已经访问过，且该子节点与本节点的parent不相同，则出现了环\n",
    "            * BFS  # tO(V + E) sO(V)\n",
    "                * queue = deque([(pairs[0][0], -1)])，加入parent判断\n",
    "                * 注意第一个加进去的index不一定可以为0，因为若0为孤立点，则整体return True。故第一个加进去的index要是pair里的结点\n",
    "            * Union find  # tO（V + E) sO(V)\n",
    "                * 看是否每个pair都是用来拓展新的root，即无root1 == root2情况，若有，则存在环\n",
    "        * 判断 判断是否孤立\n",
    "            * Union find \n",
    "                * 判断连接新点的次数是否是 n - 1"
   ]
  },
  {
   "cell_type": "markdown",
   "metadata": {},
   "source": [
    "* 无向图的联通分量个数 323. Number of Connected Components in an Undirected Graph.py\n",
    "    * 判断**孤立数量**\n",
    "    * DFS  # tO(V + E) sO(V)\n",
    "        * dfs进行了几次，就有几个联通分量\n",
    "    * Union find # tO(V + E) sO(V)\n",
    "        * n - （连接新点groupTag[root2] = root1)的次数\n",
    "* 朋友圈的个数 547. Friend Circles.py\n",
    "    * 判断**孤立数量**\n",
    "    * DFS # tO(N) sO(N)\n",
    "        * dfs进行了几次，就有几个联通分量\n",
    "        * 易错点：for j in range(len(M)) 索引的是第i行的第j个数，而不是M[i]里的数\n",
    "    * Union-find # tO(N) sO(N)\n",
    "        * n - （ groupTag[root2] = root1)的次数\n",
    "        * 易错点：矩阵是左下和右上的三角形，并且for i in range(i + 1)"
   ]
  },
  {
   "cell_type": "markdown",
   "metadata": {},
   "source": [
    "有两种Union Find set优化方法\n",
    "* Path Compression - 速度较慢 写在上面的那个模版\n",
    "* Union by rank - 本模版的方式\n"
   ]
  },
  {
   "cell_type": "code",
   "execution_count": null,
   "metadata": {},
   "outputs": [],
   "source": [
    "# Path Compression 模板\n",
    "class Graph:\n",
    "    def unionFind(self, n, pairs):  # \n",
    "        if not pairs or pairs == [[]]:\n",
    "            return -1\n",
    "        \n",
    "        groupTag = [i for i in range(n)]\n",
    "        rank = [1] * n\n",
    "        \n",
    "        def find(index):  # return tag the i node belongs to\n",
    "            if groupTag[index] == index:\n",
    "                return index\n",
    "            else:\n",
    "                return find(groupTag[index])\n",
    "        \n",
    "        def union(i, j):  # union i, j in graphTag\n",
    "            root1 = find(i)\n",
    "            root2 = find(j)\n",
    "            if root1 != root2:\n",
    "                if rank[root1] >= rank[root2]:\n",
    "                    rank[root1] += rank[root2]\n",
    "                    groupTag[root2] = root1\n",
    "                else:\n",
    "                    rank[root2] += rank[root1]\n",
    "                    groupTag[root1] = root2\n",
    "        \n",
    "        for i, j in pairs:\n",
    "            union(i, j)\n",
    "\n",
    "        return groupTag\n",
    "    \n",
    "x = Graph()\n",
    "print(x.unionFind(6, [[0,1], [1,2], [3,4], [5,3], [1,3]]))"
   ]
  },
  {
   "cell_type": "markdown",
   "metadata": {},
   "source": [
    "### 矩阵的搜索\n",
    "#### DFS\n",
    "* 明确dfs函数中不合法的状态，及时return和继续dfs的情况\n",
    "    * 未访问过\n",
    "    * 可以被访问\n",
    "* 做好visited的标记，避免无限循环\n"
   ]
  },
  {
   "cell_type": "code",
   "execution_count": null,
   "metadata": {},
   "outputs": [],
   "source": [
    "class MySolution:\n",
    "    def main(self, grid):\n",
    "        if not grid:  # corner case\n",
    "            return None\n",
    "        if len(grid) == 1:\n",
    "            return\n",
    "        \n",
    "        # build empty visited with the same size as grid\n",
    "        visited = [[0 for _ in range(len(grid[0]))] for _ in range(len(grid))]\n",
    "        \n",
    "        # scan grid and dfs the island node\n",
    "        for i in range(len(grid)):\n",
    "            for j in range(len(gird[i])):\n",
    "                if grid[i][j] == 1 and visited[i][j] == 0:\n",
    "                    self.dfs(i, j, visited)\n",
    "        return\n",
    "        \n",
    "    def dfs(self, i, j, visited):\n",
    "        if i < 0 or j <0 or i >= len(visited) or j >= len(visited[0]) or visited[i][j] == 1:\n",
    "            return\n",
    "\n",
    "        # set visited\n",
    "        visited[i][j] = 1\n",
    "        dfs(self, i - 1, j, visited)\n",
    "        dfs(self, i + 1, j, visited)\n",
    "        dfs(self, i, j - 1, visited)\n",
    "        dfs(self, i, j + 1, visited)"
   ]
  },
  {
   "cell_type": "markdown",
   "metadata": {},
   "source": [
    "**复杂度**   \n",
    "* time complexity: O(N) where N is the number of node in the matrix. We might process every node.\n",
    "* space complexit: O(N) the implicit call stack when using dfs"
   ]
  },
  {
   "cell_type": "markdown",
   "metadata": {},
   "source": [
    "#### BFS\n",
    "* 明确添加新node时的判断条件\n",
    "    * 未访问过\n",
    "    * 可以被访问\n",
    "* 在append之后，立马做好visited的标记，避免无限循环"
   ]
  },
  {
   "cell_type": "code",
   "execution_count": null,
   "metadata": {},
   "outputs": [],
   "source": [
    "class MySolution:\n",
    "    def main(self, grid):\n",
    "        if not grid:  # corner case\n",
    "            return None\n",
    "        if len(grid) == 1:\n",
    "            return\n",
    "        \n",
    "        # build empty visited with the same size as grid\n",
    "        visited = [[0 for _ in range(len(grid[0]))] for _ in range(len(grid))]\n",
    "        \n",
    "        from collections import deque\n",
    "        \n",
    "        for i in range(len(grid)):\n",
    "            for j in range(len(gird[i])):\n",
    "                if grid[i][j] == 1 and visited[i][j] == 0:\n",
    "                    queue.append([0, 0])\n",
    "                    while queue:\n",
    "                        r, c = queue.popleft()\n",
    "                        if r - 1 >= 0 and visited[r - 1][c] == 0:\n",
    "                            queue.append([r - 1, c])\n",
    "                            visited[r - 1][c] = 1\n",
    "                        if r + 1 <= len(grid) - 1 and visited[r + 1][c] == 0:\n",
    "                            queue.append([r + 1, c])\n",
    "                            visited[r + 1][c] = 1\n",
    "                        if c - 1 >= 0 and visited[r][c - 1] == 0:\n",
    "                            queue.append([r, c - 1])\n",
    "                            visited[r][c - 1] = 1\n",
    "                        if c + 1 <= len(grid[0]) - 1 and visited[r][c + 1] == 0:\n",
    "                            queue.append([r, c + 1])\n",
    "                            visited[r][c + 1] = 1\n",
    "        return"
   ]
  },
  {
   "cell_type": "markdown",
   "metadata": {},
   "source": [
    "# 二分搜索 Binary Search"
   ]
  },
  {
   "cell_type": "markdown",
   "metadata": {},
   "source": [
    "## 定义\n",
    "* 前提条件：已经排序好的序列\n",
    "* 方法：首先与序列中间的元素进行比较, 如果小于这个元素, 就在当前序列的前半部分继续查找, 如果大于这个元素, 就在当前序列的后半部分继续查找,直到找到相同的元素, 或者所查找的序列范围为空为止.\n",
    "*  O(log n)"
   ]
  },
  {
   "cell_type": "markdown",
   "metadata": {},
   "source": [
    "## 模版\n",
    "### 一维模版"
   ]
  },
  {
   "cell_type": "code",
   "execution_count": null,
   "metadata": {},
   "outputs": [],
   "source": [
    "# 模板1\n",
    "# 有一个Edge的情况就是，L最大可以等于len(array)，R最小可能为-1\n",
    "def binarySearch(arr, target):    \n",
    "    l, r = 0, len(arr) - 1\n",
    "    while l <= r: # l和r互换位置相邻时，返回\n",
    "        mid = l + (r - l) //2  # 是L，不是1；mid对于偶数，是靠左的，即[1,2]中，mid为1\n",
    "        # mid = (r+l)//2 上面那样写是为了防止计算机超限\n",
    "        if target == arr[mid]:\n",
    "            return mid\n",
    "        elif target < arr[mid]:\n",
    "            r = mid - 1\n",
    "        elif target > arr[mid]:\n",
    "            l = mid + 1\n",
    "    return -1\n",
    "\n",
    "# 极个别情况下的模板\n",
    "# 针对的是第一个模板的短板：当要access数组边界的数，如果边界的数在运行中出现更改，可能越界。??\n",
    "# 虽然这种情况也可以用Edge Case来写，但太过麻烦。这点我们后面具体说来。\n",
    "def binarySearch(arr, target):\n",
    "    l, r = 0, len(arr) - 1\n",
    "    while l + 1 < r:  # r要比l大2，即中间可以隔一个数，[0,2]不返回；l和r相邻时，返回\n",
    "        mid = l + (r - l) //2\n",
    "        if target == arr[mid]:  # 不仅mid为结果值\n",
    "            l = mid\n",
    "        elif target < arr[mid]:\n",
    "            r = mid\n",
    "        elif target > arr[mid]:\n",
    "            l = mid\n",
    "    \n",
    "    if arr[l] == target:\n",
    "        return l\n",
    "    if arr[r] == target:\n",
    "        return r\n",
    "    return -1\n"
   ]
  },
  {
   "cell_type": "markdown",
   "metadata": {},
   "source": [
    "### 二维模版\n",
    "* 暴力解法\n",
    "* 当作一维array进行二分搜索\n",
    "* 贪心  \n"
   ]
  },
  {
   "cell_type": "code",
   "execution_count": 1,
   "metadata": {},
   "outputs": [],
   "source": [
    "# 模板1\n",
    "# 二维矩阵的数是从前往后，从上往下，且i行尾< i+1行头的\n",
    "# 当作一维array进行二分搜索\n",
    "def searchMatrix(matrix, target):\n",
    "    row = len(matrix)\n",
    "    columns = len(matrix[0])\n",
    "    \n",
    "    l, r = 0, row * column - 1\n",
    "    while l <= r:\n",
    "        mid = l + (r - l) // 2\n",
    "        midVal = matrix[mid // column][mid % column]  #行，列\n",
    "        if target == midVal:\n",
    "            return True\n",
    "        if target < midVal:\n",
    "            r = mid - 1\n",
    "        else:\n",
    "            l = mid + 1\n",
    "    return False"
   ]
  },
  {
   "cell_type": "code",
   "execution_count": null,
   "metadata": {},
   "outputs": [],
   "source": [
    "# 模板2\n",
    "# 二维矩阵的数是从前往后，从上往下，且每行都是独立增长的\n",
    "# 进行对角线搜索 diagonal search： 从左上到右下遍历i，然后对i的行和列进行二分搜索\n",
    "class Matrix\n",
    "    def searchMatrix(self, matrix, target):\n",
    "        # corner case\n",
    "\n",
    "        for i in range(min(len(matrix), len(matrix[0]))):\n",
    "            r = self.binarySearch(i, matrix, target, 1)  # 1 represent search the row\n",
    "            c = self.binarySearch(i, matrix, target, 0)\n",
    "            if r or c:\n",
    "                return True\n",
    "        return False\n",
    "    \n",
    "    def binarySearch(self, i, matrix, target, tag):  # return True if having target\n",
    "        m = len(matrix)\n",
    "        n = len(matrix[0])\n",
    "        \n",
    "        \n",
    "        l = i\n",
    "        if tag == 1:\n",
    "            r = n - 1  # 别忘记 - 1\n",
    "        else:\n",
    "            r = m - 1\n",
    "        \n",
    "        \n",
    "        while l <= r:\n",
    "            mid  = l + (r - l) // 2\n",
    "            if tag == 1:\n",
    "                midVal = matrix[i][mid]\n",
    "            else:\n",
    "                midVal = matrix[mid][i]\n",
    "            if midVal == target:\n",
    "                return True\n",
    "            elif midVal < target:\n",
    "                l = mid + 1\n",
    "            else:\n",
    "                r = mid - 1\n",
    "        return False"
   ]
  }
 ],
 "metadata": {
  "kernelspec": {
   "display_name": "Python 3",
   "language": "python",
   "name": "python3"
  },
  "language_info": {
   "codemirror_mode": {
    "name": "ipython",
    "version": 3
   },
   "file_extension": ".py",
   "mimetype": "text/x-python",
   "name": "python",
   "nbconvert_exporter": "python",
   "pygments_lexer": "ipython3",
   "version": "3.7.3"
  },
  "toc": {
   "base_numbering": 1,
   "nav_menu": {},
   "number_sections": true,
   "sideBar": true,
   "skip_h1_title": false,
   "title_cell": "Table of Contents",
   "title_sidebar": "Contents",
   "toc_cell": false,
   "toc_position": {
    "height": "calc(100% - 180px)",
    "left": "10px",
    "top": "150px",
    "width": "266px"
   },
   "toc_section_display": true,
   "toc_window_display": true
  }
 },
 "nbformat": 4,
 "nbformat_minor": 2
}
