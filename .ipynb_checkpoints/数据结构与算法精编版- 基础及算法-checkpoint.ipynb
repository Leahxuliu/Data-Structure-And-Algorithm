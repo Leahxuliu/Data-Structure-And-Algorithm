{
 "cells": [
  {
   "cell_type": "markdown",
   "metadata": {},
   "source": [
    "# 总结"
   ]
  },
  {
   "cell_type": "markdown",
   "metadata": {},
   "source": [
    "## 书写要点\n",
    "1. 明确input/output/corner case\n",
    "    * 若input有多个，先全部列出来，再进行挨个确认"
   ]
  },
  {
   "cell_type": "markdown",
   "metadata": {},
   "source": [
    "## 定理\n",
    "\n",
    "### 遍历差值定理\n",
    "* 要对list里面的每两个值之间的差进行运算时，从1遍历到n\n",
    "    * ```python\n",
    "    \n",
    "    for i in range(1, n):\n",
    "        gap = nums[i] - nums[i - 1]\n",
    "    ```"
   ]
  },
  {
   "cell_type": "markdown",
   "metadata": {},
   "source": [
    "# 几何"
   ]
  },
  {
   "cell_type": "markdown",
   "metadata": {},
   "source": [
    "* 环/360轴中，寻找部分窗口\n",
    "    * 把环/360轴复制接到目前的环/360轴的后面，保证窗口可以扫到全部的情况"
   ]
  },
  {
   "cell_type": "markdown",
   "metadata": {},
   "source": [
    "# math"
   ]
  },
  {
   "cell_type": "markdown",
   "metadata": {},
   "source": [
    "## 加减乘除有关\n",
    "* 整除//时，数值是向下取整的\n",
    "    * 注意负数//时，也是向下取整。e.g. -3//2 = -2 \n",
    "    * -(3//2) = -1"
   ]
  },
  {
   "cell_type": "markdown",
   "metadata": {},
   "source": [
    "## math函数\n",
    "* import math\n",
    "* 下舍整数 math.floor(x)\n",
    "* 返回e的x次幂 math.exp(x)\n",
    "* 求log以base为底的数 math.log(x, base)\n",
    "* 求log以10为底的数 math.log10(x)\n",
    "* 求四舍五入的数，舍入?到小数点后n位 round(x [,n])\n",
    "    * 注意：不用math\n",
    "* 求平方根 math.sqrt(x)\n",
    "* **求组合 $C^n_m$ = math.comb(m, n)**"
   ]
  },
  {
   "cell_type": "markdown",
   "metadata": {},
   "source": [
    "## 随机数\n",
    "* import random\n",
    "* 从序列seq的元素中随机挑选一个元素\n",
    "    * number random.choice(seq)\n",
    "* 返回指定递增基数集合中的一个随机数，基数默认值为1\n",
    "    * int random.randrange ([start,] stop [,step]) -> 类似range\n",
    "    * randrange(0,100, 2)   # 从0-100中随机选取一个偶数\n",
    "    * randrange(0,100, 4)  # 从0-100中随机选取一个能被4整除的整数\n",
    "    * randrange(1,100, 3)  # 从0-100中随机选取一个能被3整除后余1的数\n",
    "* 将序列的所有元素随机排序\n",
    "    * none random.shuffle(lst)\n",
    "* 随机生成下一个实数，它在 [x,y] 范围内\n",
    "    * float random.uniform(x, y)\n",
    "    * int round(random.uniform(x, y))"
   ]
  },
  {
   "cell_type": "markdown",
   "metadata": {},
   "source": [
    "## 几何\n",
    "* import math\n",
    "* python角度：\n",
    "    * 从第一象限到第二象限是0-180度\n",
    "    * 从第四象限到第三象限是0--180度\n",
    "* 求正切,反正切\n",
    "    * float math.tan(x)\n",
    "    * 弧度 math.atan(z) (z = y/x)\n",
    "    * 弧度 math.atan2(y, x)\n",
    "* 求正弦,反正弦,余弦,反余弦\n",
    "    * math.sin(x)\n",
    "    * math.asin(x)\n",
    "    * math.cos(x)\n",
    "    * math.acos(x) \n",
    "* 弧度<->角度\n",
    "    * angle math.degrees(float 弧度)\n",
    "    * 弧度 math.radians(float angle)\n",
    "* 求平方和的根\n",
    "    * float math.hypot(x, y)"
   ]
  },
  {
   "cell_type": "markdown",
   "metadata": {},
   "source": [
    "# List/Stack 与 单调栈"
   ]
  },
  {
   "cell_type": "markdown",
   "metadata": {},
   "source": [
    "## List基础知识"
   ]
  },
  {
   "cell_type": "markdown",
   "metadata": {},
   "source": [
    "* 索引\n",
    "    * 对称索引 lst[i:-i]：取**i**到-i之间，**中心对称**到几个数\n",
    "    * i是正序index时（正数)，能取到的是 i到-i之间到数， 有 n - 2 * i 个数\n",
    "    * i是逆序index时（负数），能取到是 -i到i之间的数，有 n - 2 * (-i) = n + 2 * i 个数"
   ]
  },
  {
   "cell_type": "code",
   "execution_count": 5,
   "metadata": {},
   "outputs": [
    {
     "name": "stdout",
     "output_type": "stream",
     "text": [
      "[2, 3, 4]\n",
      "[2, 3, 4]\n"
     ]
    }
   ],
   "source": [
    "lst = [1, 2, 3, 4, 5]\n",
    "i = 1\n",
    "print(lst[i:-i])\n",
    "\n",
    "j = -1\n",
    "print(lst[-j:j])"
   ]
  },
  {
   "cell_type": "markdown",
   "metadata": {},
   "source": [
    "## Stack 功能\n",
    "* 利用push，pop记录增减的过程，求当前的状态值"
   ]
  },
  {
   "cell_type": "markdown",
   "metadata": {},
   "source": [
    "# dictionary"
   ]
  },
  {
   "cell_type": "code",
   "execution_count": 1,
   "metadata": {},
   "outputs": [
    {
     "name": "stdout",
     "output_type": "stream",
     "text": [
      "['e', 'd', 'c', 'b', 'a']\n"
     ]
    }
   ],
   "source": [
    "# dict 排序\n",
    "dic = {'a':4, 'b':3, 'c':2, 'd':1, 'e':0}\n",
    "\n",
    "# 基于key排序\n",
    "## 返回key\n",
    "a = sorted(dic)\n",
    "a = sorted(dic.keys())\n",
    "## 返回value\n",
    "a = sorted(dic)  # 先排key\n",
    "b = [dic[x] for x in a]\n",
    "## 返回整体\n",
    "new = sorted(dic.items(), key = lambda x: x[0])  # [('a', 4), ('b', 3), ('c', 2), ('d', 1), ('e', 0)]\n",
    "\n",
    "# 基于value排序\n",
    "## 返回key\n",
    "a = sorted(dic, key = lambda x:dic[x])\n",
    "print(a)\n",
    "## 返回value\n",
    "a = sorted(dic.values())\n",
    "## 返回整体\n",
    "new = sorted(dic.items(), key = lambda x: x[1])  # [('e', 0), ('d', 1), ('c', 2), ('b', 3), ('a', 4)]\n",
    "\n",
    "\n",
    "## 先根据value值排序，再根据key值排序\n",
    "new = sorted(dic.items(), key = lambda x : (x[1], x[0]))  # [('e', 0), ('d', 1), ('c', 2), ('b', 3), ('a', 4)]\n",
    "## 先根据value值逆排序，再根据key值的顺序排序\n",
    "new = sorted(dic.items(), key = lambda x : (-x[1], x[0]))"
   ]
  },
  {
   "cell_type": "markdown",
   "metadata": {},
   "source": [
    "# tuple 与 成对排序"
   ]
  },
  {
   "cell_type": "markdown",
   "metadata": {},
   "source": [
    "## 成对排序"
   ]
  },
  {
   "cell_type": "markdown",
   "metadata": {},
   "source": [
    "* 对List1和List2排序，输出排序后List2的值，排序的优先级是：\n",
    "    1. List1的正序\n",
    "    2. List2的正序\n",
    "* 方法\n",
    "    * 使用tuple，组合(elem of list1, elem of list2)\n",
    "```python\n",
    "    combine = [(a, s) for a, s in zip(List1, List2)]\n",
    "    combine.sort(key = lambda x : (x[0], x[1]))\n",
    "    sortedScore = [s for a, s in combine]\n",
    "```"
   ]
  },
  {
   "cell_type": "markdown",
   "metadata": {},
   "source": [
    "# String\n",
    "## String 函数\n",
    "* ''.join(sequence)\n",
    "    * sequence里面的元素必须是string，不能是int等"
   ]
  },
  {
   "cell_type": "markdown",
   "metadata": {},
   "source": [
    "# Queue 与 单调队列 "
   ]
  },
  {
   "cell_type": "markdown",
   "metadata": {},
   "source": [
    "## 单调队列\n",
    "\n",
    "### 定义\n",
    "* 一个队列，并且队列中的元素单调递增（或递减）\n",
    "\n",
    "### 功能\n",
    "\n",
    "* **在线性时间内完成**，求/记录滑动窗口k内的最大值/最小值\n",
    "* time complexity: O(N)\n",
    "* space complexity: O(k)\n",
    "\n",
    "### 用法\n",
    "\n",
    "* [1, 2, 3, 4] -> 1是队头，4是队尾\n",
    "* 总体方案\n",
    "    1. 加进 k-1个数\n",
    "    2. 加进 slide window第k个数\n",
    "    3. result保存最大/小值\n",
    "    4. 若slide window第1个数在队列头，则踢出，重复第2步\n",
    "        * 此时elem在queue中只有两种可能\n",
    "            1.在对头 \n",
    "            2. elem原值不在队列里。若elem有重复的值在nums里，那么elem可能有重复的值在队列里\n",
    "* 求最大值\n",
    "    1. push function：用一个单调递减队列保存，新加入的数是该队列的最小值\n",
    "        * **易错点**：while queue and queue[-1] < elem，无等号，即queue[-1] == elem时，不需要弹出queue[-1]。因为求的是最大值，多个最大值也是可以的\n",
    "    2. pop：如果该踢出的数elem是队列top，即最大值，则踢出，否则不变\n",
    "* 求最小值\n",
    "    1. 加进：用一个单调递减队列保存，新加入的数是该队列的最大值\n",
    "    2. 踢出：如果该踢出的数elem是队列top，即最小值，则踢出，否则不变"
   ]
  },
  {
   "cell_type": "markdown",
   "metadata": {},
   "source": [
    "## 求滑动窗口最大值\n",
    "* 给定一个数组nums，有一个大小为k的滑动窗口从数组的最左侧移动到数组的最右侧。只能看到滑动窗口k内的数字。滑动窗口每次只向右移动一位。返回滑动窗口的最大值"
   ]
  },
  {
   "cell_type": "code",
   "execution_count": 1,
   "metadata": {},
   "outputs": [
    {
     "data": {
      "text/plain": [
       "[3, 3, 5, 5, 6, 7]"
      ]
     },
     "execution_count": 1,
     "metadata": {},
     "output_type": "execute_result"
    }
   ],
   "source": [
    "'''\n",
    "input: nums, k\n",
    "output: list, length is (n - k + 1)\n",
    "'''\n",
    "from collections import deque\n",
    "def maxSlidingWindow(nums, k):\n",
    "    # corner case\n",
    "    if not nums:\n",
    "        return []\n",
    "    \n",
    "    # push, 按照递减栈的方式加入，保证加完以后，elem是最小的，或者是唯一一个值\n",
    "    def push(elem):\n",
    "        while queue and queue[-1] < elem:\n",
    "            queue.pop()\n",
    "        queue.append(elem)\n",
    "        return\n",
    "    \n",
    "    # delete，如果滑过\n",
    "    def delete(elem):\n",
    "        if queue and queue[0] == elem:\n",
    "            queue.popleft()\n",
    "        return\n",
    "        \n",
    "    \n",
    "    # slide window\n",
    "    res = []\n",
    "    n = len(nums)\n",
    "    queue = deque()\n",
    "    for i in range(n):\n",
    "        if i < k - 1:  # 达到最终queue里的len是k-1个\n",
    "            push(nums[i])\n",
    "        else:\n",
    "            # queue里的len是k-1个\n",
    "            push(nums[i])  \n",
    "            # queue里的len是k个\n",
    "            res.append(queue[0])\n",
    "            # 踢出nums[i - k + 1],即窗口最后的元素\n",
    "            delete(nums[i - k + 1])\n",
    "    return res\n",
    "\n",
    "maxSlidingWindow([1, 3, -1, -3, 5, 3, 6, 7], 3)"
   ]
  },
  {
   "cell_type": "markdown",
   "metadata": {},
   "source": [
    "# Heap 优先队列"
   ]
  },
  {
   "cell_type": "markdown",
   "metadata": {},
   "source": [
    "## 定义\n",
    "* 堆即优先级队列\n",
    "* 堆是完全二叉树或者近似二叉树，它的各个节点的键值都有固定对应的的数字，根节点（即root,最上面起始位置）是0，若父节点为heap[k]，则子节点为heap[2k+1]和heap[2k+2]。\n",
    "    * **最小堆**：父节点对应的值总是小于或者等于子节点\n",
    "    * **最大堆** 父节点的值总是大于或者等于子节点，称为最大堆\n",
    "* heapq模块是python的一个标准库，它实现了一个堆数据结构\n",
    "    * 在heapq中，默认是**最小堆**\n",
    "    * **实现最大堆方法**\n",
    "        * 生成：对每个数取负，加入heap，\n",
    "        * 弹出top：对heappop()的数取负"
   ]
  },
  {
   "cell_type": "markdown",
   "metadata": {},
   "source": [
    "## 常用操作\n",
    "* 引入模块\n",
    "    * from heapq import heapify, heappop, heappush, heappushpop, heapreplace, nlargest, nsmallest\n",
    "    * from heapq import *\n",
    "        * 注意，本代码只能放在class之前\n",
    "* 创建 \n",
    "    * 方法1： heap = []\n",
    "    * 方法2： **heapify(list)**  # tO(N),N is length of list\n",
    "* 增\n",
    "    * heappush(heap, item)\n",
    "        * 把item添加到heap这个list中, item可以为tuple等，(x, y), 按照x来排序\n",
    "        * tO(logN),N是目前含有的元素的数量\n",
    "* 删\n",
    "    * heappop(heap)把堆顶元素弹出\n",
    "        * 把堆顶元素弹出\n",
    "        * tO(logN)\n",
    "* 增删混合\n",
    "    * heappushpop(C, 2)  # 先添加，再删除顶端的 -> 保持顶端的elem永远是最小的\n",
    "    * heapreplace(C, 5)  # 先删除顶端的，再添加 -> 顶端的不一定是最小的\n",
    "* 查\n",
    "    * list = nlargest(k, input - iterable, key=None)\n",
    "        * 返回input中前k个符合k条件的最大值\n",
    "        * **tO(MlogN)**, M is length of input, N是目前含有的元素的数量\n",
    "        * e.g.nlargest(k,dic,key = lambda x:dic[x]), 与sort的写法一致\n",
    "    * list = nsmallest(k, input - iterable, key=None) \n",
    "        * 返回input中前k个最小值"
   ]
  },
  {
   "cell_type": "markdown",
   "metadata": {},
   "source": [
    "## 题目总结\n",
    "* 求前k个/第k个最大最小的数 kth smallest/biggest element\n",
    "    * 求前k个最大值 -> arr先添加，再删除顶端 生成size = k的**最小堆** -> 堆中k个值是arr中**最大的k个值**，堆顶的值是arr中**第kth大的值**\n",
    "    * 求前k个最小值 -> arr先添加，再删除顶端 生成size = k的**最小堆**, 生成方式是-elem加入 -> 堆中k个值是arr中**最小的k个值**，堆顶的值是arr中**第kth小的值**\n",
    "    * 即 用最小堆求最大kth值\n",
    "    * 即 用最大堆求最小kth值\n",
    "* 求第k个不同的最大/最小数 **kth distinct element**\n",
    "    * 先set去重，再用heap"
   ]
  },
  {
   "cell_type": "markdown",
   "metadata": {},
   "source": [
    "# 二分搜索"
   ]
  },
  {
   "cell_type": "markdown",
   "metadata": {},
   "source": [
    "## 定义\n",
    "* 前提条件：已经**排序**好的序列\n",
    "* 方法：首先与序列中间的元素进行比较, 如果小于这个元素, 就在当前序列的前半部分继续查找, 如果大于这个元素, 就在当前序列的后半部分继续查找,直到找到相同的元素, 或者所查找的序列范围为空为止.\n",
    "\n",
    "## 作用\n",
    "* 面试中如果需要优化O(n)的时间复杂度，一般只能是O(logn)的二分法"
   ]
  },
  {
   "cell_type": "markdown",
   "metadata": {},
   "source": [
    "## 一维模板"
   ]
  },
  {
   "cell_type": "code",
   "execution_count": 1,
   "metadata": {},
   "outputs": [],
   "source": [
    "# 模板1\n",
    "# 有一个Edge的情况就是，L最大可以等于len(array)，R最小可能为-1\n",
    "def binarySearch(arr, target):    \n",
    "    l, r = 0, len(arr) - 1\n",
    "    while l <= r: # l和r互换位置相邻时，返回\n",
    "        mid = l + (r - l) //2  # 是L，不是1；mid对于偶数，是靠左的，即[1,2]中，mid为1\n",
    "        if target == arr[mid]:\n",
    "            return mid\n",
    "        elif target < arr[mid]:\n",
    "            r = mid - 1\n",
    "        elif target > arr[mid]:\n",
    "            l = mid + 1\n",
    "    return -1\n",
    "\n",
    "\n",
    "# 极个别情况下的模板\n",
    "# 针对的是第一个模板的短板：当要access数组边界的数，如果边界的数在运行中出现更改，可能越界。??\n",
    "# 虽然这种情况也可以用Edge Case来写，但太过麻烦。这点我们后面具体说来。\n",
    "def binarySearch(arr, target):\n",
    "    l, r = 0, len(arr) - 1\n",
    "    while l + 1 < r:  # r要比l大2，即中间可以隔一个数，[0,2]不返回；l和r相邻时，返回\n",
    "        mid = l + (r - l) //2\n",
    "        if target == arr[mid]:  # 不仅mid为结果值\n",
    "            l = mid\n",
    "        elif target < arr[mid]:\n",
    "            r = mid\n",
    "        elif target > arr[mid]:\n",
    "            l = mid\n",
    "    \n",
    "    if arr[l] == target:\n",
    "        return l\n",
    "    if arr[r] == target:\n",
    "        return r\n",
    "    return -1\n",
    "     "
   ]
  },
  {
   "cell_type": "markdown",
   "metadata": {},
   "source": [
    "## 二维矩阵模板"
   ]
  },
  {
   "cell_type": "code",
   "execution_count": 2,
   "metadata": {},
   "outputs": [],
   "source": [
    "# 模板1\n",
    "# 二维矩阵的数是从前往后，从上往下，且i行尾< i+1行头的\n",
    "# 当作一维array进行二分搜索\n",
    "def searchMatrix(matrix, target):\n",
    "    row = len(matrix)\n",
    "    columns = len(matrix[0])\n",
    "    \n",
    "    l, r = 0, row * column - 1\n",
    "    while l <= r:\n",
    "        mid = l + (r - l) // 2\n",
    "        midVal = matrix[mid // column][mid % column]  #行，列\n",
    "        if target == midVal:\n",
    "            return True\n",
    "        if target < midVal:\n",
    "            r = mid - 1\n",
    "        else:\n",
    "            l = mid + 1\n",
    "    return False"
   ]
  },
  {
   "cell_type": "code",
   "execution_count": 5,
   "metadata": {},
   "outputs": [],
   "source": [
    "# 模板2\n",
    "# 二维矩阵的数是从前往后，从上往下，且每行都是独立增长的\n",
    "# 进行对角线搜索 diagonal search： 从左上到右下遍历i，然后对i的行和列进行二分搜索\n",
    "class Matrix:\n",
    "    def searchMatrix(self, matrix, target):\n",
    "        # corner case\n",
    "\n",
    "        for i in range(min(len(matrix), len(matrix[0]))):\n",
    "            r = self.binarySearch(i, matrix, target, 1)  # 1 represent search the row\n",
    "            c = self.binarySearch(i, matrix, target, 0)\n",
    "            if r or c:\n",
    "                return True\n",
    "        return False\n",
    "    \n",
    "    def binarySearch(self, i, matrix, target, tag):  # return True if having target\n",
    "        m = len(matrix)\n",
    "        n = len(matrix[0])\n",
    "        \n",
    "        \n",
    "        l = i\n",
    "        if tag == 1:\n",
    "            r = n - 1  # 别忘记 - 1\n",
    "        else:\n",
    "            r = m - 1\n",
    "        \n",
    "        \n",
    "        while l <= r:\n",
    "            mid  = l + (r - l) // 2\n",
    "            if tag == 1:\n",
    "                midVal = matrix[i][mid]\n",
    "            else:\n",
    "                midVal = matrix[mid][i]\n",
    "            if midVal == target:\n",
    "                return True\n",
    "            elif midVal < target:\n",
    "                l = mid + 1\n",
    "            else:\n",
    "                r = mid - 1\n",
    "        return False"
   ]
  },
  {
   "cell_type": "markdown",
   "metadata": {},
   "source": [
    "# 排列与组合"
   ]
  },
  {
   "cell_type": "markdown",
   "metadata": {},
   "source": [
    "## 回溯法 - 求所有样本\n",
    "### 求排列\n",
    "\n",
    "### 求组合\n",
    "\n",
    "### 求子集"
   ]
  },
  {
   "cell_type": "markdown",
   "metadata": {},
   "source": [
    "## 隔板法 - 求所有样本的数量\n",
    "### 基本方法\n",
    "#### 定义\n",
    "* 在n个元素间的（n-1）个空插入k-1个板子，把n个元素分成k组的方法。\n",
    "* 核心：具有明确的划分K\n",
    "\n",
    "#### 应用条件\n",
    "* n个元素是相同的\n",
    "    * 每个元素的级别都一样\n",
    "* k个组是互异的\n",
    "    * 进行k个组的划分\n",
    "* 每组至少分得一个元素\n",
    "    * 若可以为0，则用添元素隔板法\n",
    "\n",
    "#### 案例\n",
    "* 将n个相同的求放到m个不同的盒子里的个数为：$C^{m - 1}_{n - 1}$\n",
    "* e.g. 把10个相同的球放入3个不同的箱子，每个箱子至少一个，问有几种情况？$C^{m - 1}_{n - 1} = C^2_9$"
   ]
  },
  {
   "cell_type": "markdown",
   "metadata": {},
   "source": [
    "### 拓展方法\n",
    "* 基本方法-普通隔板法\n",
    "    * 条件：总数为n，分为m组，每组的元素个数至少为1，即每空至多插一块插板，求多少种分法\n",
    "    * 公式：$C^{m - 1}_{n - 1}$\n",
    "    * e.g.求方程x+y+z=10的正整数解的个数。\n",
    "        * 问题转化：10个1排成一排，分成3组，每组至少有一个，每组的个数分别代表x/y/z, 求这样的分组有多少种？\n",
    "        * 解答：将10个球排成一排，球与球之间形成9个空隙，将两个隔板插入这些空隙中（每空至多插一块隔板），规定由隔板分成的左、中、右三部分的球数分别为x、y、z的值，则隔板法与解的个数之间建立了一一对应关系，故解的个数为$C^{m - 1}_{n - 1} = C^2_9$ = 36."
   ]
  },
  {
   "cell_type": "markdown",
   "metadata": {},
   "source": [
    "* 添/减元素隔板法\n",
    "    * 条件：总数为n，分为m组，每组的元素个数大于等于k+1，即每空可以插多块板, 求多少种分法\n",
    "    * 与基本方法的区别：每组的元素个数大于等于k+1\n",
    "    * 改进措施：\n",
    "        * 每组元素增多k个：总数m减少k个 \\* 组数\n",
    "        * 每组元素减少k个：总数m增加k个 \\* 组数\n",
    "    * 公式：$C^{m - 1}_{n + m -1}$\n",
    "    * e.g. 求方程 x+y+z=10的非负整数解的个数。\n",
    "        * 解答：注意到x、y、z可以为零，只要添加三个球，给x、y、z各添加一个球，这样原问题就转化为求 x+y+z=13的正整数解的个数了，则问题就等价于把13个相同小球放入3个不同箱子，每个箱子至少一个，有几种情况？易得解的个数为$C^{m - 1}_{n + m -1} = C^2_{12} = 66$（个）。\n",
    "    * e.g. 把10个相同的小球放到3个不同的箱子，第一个箱子至少1个，第二个箱子至少3个，第3个箱子可以为空，有几种情况？\n",
    "        * 解答：我们可以在第二个箱子先放入10个小球中的2个，小球剩8个放3个箱子，然后在第三个箱子放入8个小球之外的1个小球（即补充了一个球），则问题转化为把9个相同小球放3不同箱子，每箱至少1个，几种方法？$C^2_8 = 28$\n",
    "    * e.g. 将20个相同的小球放入编号分别为1，2，3，4的四个盒子中，要求每个盒子中的球数不少于它的编号数，求放法总数。\n",
    "        * 解答：先在编号1，2，3，4的四个盒子内分别放0，1，2，3个球，剩下14个球，再把剩下的球分成4组，每组至少1个，$C^3_{13} = 286$"
   ]
  },
  {
   "cell_type": "markdown",
   "metadata": {},
   "source": [
    "* 添板插板法\n",
    "    * 不懂\n",
    "    例5.有一类自然数序列，从第三个数字开始，每个数字都恰好是它前面两个数字之和，直至不能再写为止，如1 4 5 9，5 8 13等等，这类数共有几个？\n",
    "\n",
    "    分析：因为前2位唯一确定了整个序列，只要求出前两位的所有情况即可，设前两位为a和b\n",
    "\n",
    "    显然a + b <= 9，且a不为0.\n",
    "\n",
    "    设1_1_1_1_1_1_1_1_1    1代表9个1，_代表8个空位.\n",
    "\n",
    "    我们要把9分成两组，但b可以为0，我们先给b一个1，然后就相当于把10个球放入(a, b)两不同的盒子里，每个盒子至少放一个，C(9, 1)，但这是错误的，为什么？因为1不一定要全部放入。其实解决这个问题可以这么想，我们引入一个盒子c放a、b取完后剩下的1，所以保证c中球数大于0，需要再增加一个球，题目等价于，11个球放入3个不同的箱子，每个箱子至少放一个，C(10, 2).\n",
    "\n",
    "\n",
    "\n",
    "    例5另一种解法：\n",
    "\n",
    "    显然a + b <= 9，且a不为0.\n",
    "\n",
    "    设1_1_1_1_1_1_1_1_1_ _    1代表9个1，_代表8个空位.\n",
    "\n",
    "    之前我们可以在9个空位中插入2个板，分成3组，第一组取到a个1，第二组取到b个1，但此时第二组始终不能取空。若在末尾添加两个空，第二组就能取到空，所以共有C(10, 2)."
   ]
  },
  {
   "cell_type": "markdown",
   "metadata": {},
   "source": [
    "* 选板法\n",
    "    * 条件：没有明确的m组数，但是限定每组的个数K\n",
    "    * 解决方案：每个隔板处 可以 放隔板 也可以 不放 隔板\n",
    "    * 例6.有10粒糖，如果每天至少吃一粒(多不限)，吃完为止，求有多少种不同吃法？\n",
    "        * 分析：o_o_o_o_o_o_o_o_o_o   o代表10个糖，_ 代表9个空，所以10块糖，9个空，插入9块隔板，每个板都可以选择放或不放，相邻两板间的糖一天吃掉，这样共有2^9=512啦."
   ]
  },
  {
   "cell_type": "markdown",
   "metadata": {},
   "source": [
    "* 分类插板法\n",
    "    * 条件：没有明确的m组数，但是限定每组的个数K\n",
    "    * 例7.小梅有15块糖，如果每天至少吃3块，吃完为止，那么共有多少种不同的吃法？\n",
    "        * 分析：\n",
    "            此问题不能用插板法的原因在于没有规定一定要吃几天，因此我们需要对吃的天数进行分类讨论 \n",
    "            最多吃5天，最少吃1天 \n",
    "            1： 吃1天或是5天，各一种吃法 一共2种情况 \n",
    "            2：吃2天，每天预先吃2块，即问11块糖，每天至少吃1块，吃2天，几种情况？ C（10， 1）=10 \n",
    "            3：吃3天，每天预先吃2块，即问9块糖，每天至少1块，吃3天? C（8 ，2）=28 \n",
    "            4：吃4天，每天预先吃2块，即问7块糖，每天至少1块，吃4天？c（6 ，3）=20 \n",
    "            所以一共是 2+10+28+20=60 种 ."
   ]
  },
  {
   "cell_type": "markdown",
   "metadata": {},
   "source": [
    "* 逐步插板法（逐步插空法）\n",
    "    * 条件：在原有的里面元素里 插入 新的元素\n",
    "    * 例8.在一张节目单中原有6个节目，若保持这些节目相对次序不变，再添加3个节目，共有几种情况？\n",
    "        * 分析：可以用一个节目去插7个空位，再用第二个节目去插8个空位，用最后个节目去插9个空位，所以一共是C(7, 1)×C(8, 1)×C(9, 1)=504种."
   ]
  },
  {
   "cell_type": "code",
   "execution_count": null,
   "metadata": {},
   "outputs": [],
   "source": []
  }
 ],
 "metadata": {
  "kernelspec": {
   "display_name": "Python 3",
   "language": "python",
   "name": "python3"
  },
  "language_info": {
   "codemirror_mode": {
    "name": "ipython",
    "version": 3
   },
   "file_extension": ".py",
   "mimetype": "text/x-python",
   "name": "python",
   "nbconvert_exporter": "python",
   "pygments_lexer": "ipython3",
   "version": "3.7.3"
  },
  "toc": {
   "base_numbering": 1,
   "nav_menu": {},
   "number_sections": true,
   "sideBar": true,
   "skip_h1_title": false,
   "title_cell": "Table of Contents",
   "title_sidebar": "Contents",
   "toc_cell": false,
   "toc_position": {},
   "toc_section_display": true,
   "toc_window_display": true
  }
 },
 "nbformat": 4,
 "nbformat_minor": 4
}
