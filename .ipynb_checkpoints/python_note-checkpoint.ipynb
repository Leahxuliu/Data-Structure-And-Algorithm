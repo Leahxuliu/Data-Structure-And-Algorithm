{
 "cells": [
  {
   "cell_type": "markdown",
   "metadata": {},
   "source": [
    "# 字典排序"
   ]
  },
  {
   "cell_type": "markdown",
   "metadata": {},
   "source": [
    "**lambda**\n",
    "  \n",
    "* 匿名函数 \n",
    "* 结构：lambda x : f(x)    \n",
    "  * lambda 引数: 返り値\n",
    "  * 关键字lambda表示匿名函数\n",
    "  * 冒号前面的x表示函数参数\n",
    "  * 参考网站：https://qiita.com/nagataaaas/items/531b1fc5ce42a791c7df\n",
    "* 不需要特意指定函数   \n",
    "    比如：def return_twice(n):   \n",
    "            return n * 2   \n",
    "    可改写成：    \n",
    "        lambda n: n * 2"
   ]
  },
  {
   "cell_type": "code",
   "execution_count": null,
   "metadata": {},
   "outputs": [],
   "source": [
    "# dict 排序\n",
    "dic = {'a':4, 'b':3, 'c':2, 'd':1, 'e':0}\n",
    "\n",
    "# 基于key排序\n",
    "## 返回key\n",
    "a = sorted(dic)\n",
    "a = sorted(dic.keys())\n",
    "## 返回value\n",
    "a = sorted(dic)  # 先排key\n",
    "b = [dic[x] for x in a]\n",
    "## 返回整体\n",
    "new = sorted(dic.items(), key = lambda x: x[0])  # [('a', 4), ('b', 3), ('c', 2), ('d', 1), ('e', 0)]\n",
    "\n",
    "# 基于value排序\n",
    "## 返回key\n",
    "a = sorted(dic, key = lambda x:dic[x])\n",
    "print(a)\n",
    "## 返回value\n",
    "a = sorted(dic.values())\n",
    "## 返回整体\n",
    "new = sorted(dic.items(), key = lambda x: x[1])  # [('e', 0), ('d', 1), ('c', 2), ('b', 3), ('a', 4)]\n",
    "\n",
    "\n",
    "## 先根据value值排序，再根据key值排序\n",
    "new = sorted(dic.items(), key = lambda x : (x[1], x[0]))  # [('e', 0), ('d', 1), ('c', 2), ('b', 3), ('a', 4)]\n",
    "## 先根据value值逆排序，再根据key值的顺序排序\n",
    "new = sorted(dic.items(), key = lambda x : (-x[1], x[0]))\n",
    "\n",
    "# 默认都是从小到大排序\n",
    "# reverse = True 从大到小"
   ]
  },
  {
   "cell_type": "markdown",
   "metadata": {},
   "source": [
    "# defaultdict"
   ]
  },
  {
   "cell_type": "code",
   "execution_count": null,
   "metadata": {},
   "outputs": [],
   "source": [
    "from collections import defaultdict\n",
    "\n",
    "l1 = [[0,1], [1,3], [3,4], [2,3], [3,5], [1,4],[1,4]]\n",
    "graph = defaultdict(set)\n",
    "for k,v in l1:\n",
    "    graph[k].add(v)\n",
    "\n",
    "graph"
   ]
  },
  {
   "cell_type": "code",
   "execution_count": 10,
   "metadata": {},
   "outputs": [
    {
     "data": {
      "text/plain": [
       "defaultdict(<function __main__.<lambda>()>,\n",
       "            {'hello': 1, 'world': 2, 'nice': 1})"
      ]
     },
     "execution_count": 10,
     "metadata": {},
     "output_type": "execute_result"
    }
   ],
   "source": [
    "from collections import defaultdict\n",
    "words = ['hello', 'world', 'nice', 'world']\n",
    "#使用lambda来定义简单的函数\n",
    "counter = defaultdict(lambda: 0) \n",
    "for kw in words:\n",
    "    counter[kw] += 1\n",
    "\n",
    "counter\n",
    "\n",
    "\n"
   ]
  },
  {
   "cell_type": "code",
   "execution_count": 13,
   "metadata": {},
   "outputs": [
    {
     "data": {
      "text/plain": [
       "['world', 'hello', 'nice']"
      ]
     },
     "execution_count": 13,
     "metadata": {},
     "output_type": "execute_result"
    }
   ],
   "source": [
    "sort = sorted(counter, key = lambda x:counter[x], reverse = True)\n",
    "sort"
   ]
  },
  {
   "cell_type": "code",
   "execution_count": 15,
   "metadata": {},
   "outputs": [
    {
     "data": {
      "text/plain": [
       "[1, 1, 2]"
      ]
     },
     "execution_count": 15,
     "metadata": {},
     "output_type": "execute_result"
    }
   ],
   "source": [
    "a = sorted(counter.values())\n",
    "a"
   ]
  },
  {
   "cell_type": "markdown",
   "metadata": {},
   "source": [
    "# 字母比大小"
   ]
  },
  {
   "cell_type": "code",
   "execution_count": 1,
   "metadata": {},
   "outputs": [
    {
     "data": {
      "text/plain": [
       "97"
      ]
     },
     "execution_count": 1,
     "metadata": {},
     "output_type": "execute_result"
    }
   ],
   "source": [
    "ord('A')  # 65\n",
    "ord('B')  # 66\n",
    "ord('a')  # 97"
   ]
  },
  {
   "cell_type": "markdown",
   "metadata": {},
   "source": [
    "# List\n",
    "## 复制"
   ]
  },
  {
   "cell_type": "raw",
   "metadata": {},
   "source": [
    "Copy          | l.copy()     | O(N)\t     | Same as l[:] which is O(N)\n",
    "\n",
    "* 复制\n",
    "  浅复制 b = list.copy()                   O(N)\n",
    "        最方便 b = list[:]                 O(N)\n",
    "        from copy import copy a = copy(A) O(N)\n",
    "  深复制 a = deepcopy(A)                   O(N)\n",
    "  注意：浅复制复制一层，深复制所有层"
   ]
  },
  {
   "cell_type": "markdown",
   "metadata": {},
   "source": [
    "## 删除"
   ]
  },
  {
   "cell_type": "raw",
   "metadata": {},
   "source": [
    "删\n",
    "* b = list.pop()               O(1)\n",
    "    #b=被删掉的那个数,原本list里的最后一个数                \n",
    "* b = list.pop(i)              O(N)                O(N-i): list.pop(0):O(N)\n",
    "    #b=list里面第i位数；pop是从后往前减的，所以i位的时间复杂度是N-i\n",
    "* del list[i]                  O(N)                取决于i; O(N):i都为0开始的正序,worst case\n",
    "    #没有返回值，删除第i位值，形成新的list\n",
    "    #还可以 del l[2:5]\n",
    "* list.remove(obj)             O(N)\n",
    "    #指定した値と同じ要素を検索し、最初の要素を削除\n",
    "* list.clear()                 O(1)\n",
    "    #清空列表\n",
    "    "
   ]
  },
  {
   "cell_type": "markdown",
   "metadata": {},
   "source": [
    "## 范围"
   ]
  },
  {
   "cell_type": "code",
   "execution_count": 1,
   "metadata": {},
   "outputs": [
    {
     "data": {
      "text/plain": [
       "[]"
      ]
     },
     "execution_count": 1,
     "metadata": {},
     "output_type": "execute_result"
    }
   ],
   "source": [
    "l = [1,2,3,4]\n",
    "l[0:0]"
   ]
  },
  {
   "cell_type": "code",
   "execution_count": 2,
   "metadata": {
    "scrolled": true
   },
   "outputs": [
    {
     "data": {
      "text/plain": [
       "[]"
      ]
     },
     "execution_count": 2,
     "metadata": {},
     "output_type": "execute_result"
    }
   ],
   "source": [
    "l[4:0]"
   ]
  },
  {
   "cell_type": "markdown",
   "metadata": {},
   "source": [
    "# 赋值、引用、拷贝、作用域\n",
    "\n",
    "## 赋值\n",
    "* https://my.oschina.net/leejun2005/blog/145911\n",
    "* 可以说 Python 没有赋值，只有引用"
   ]
  },
  {
   "cell_type": "code",
   "execution_count": 1,
   "metadata": {},
   "outputs": [
    {
     "data": {
      "text/plain": [
       "[0, [...], 2]"
      ]
     },
     "execution_count": 1,
     "metadata": {},
     "output_type": "execute_result"
    }
   ],
   "source": [
    "values = [0, 1, 2]\n",
    "values[1] = values  # 预想是[0, [0, 1, 2], 2]\n",
    "values  # 实际 [0, [...], 2]\n",
    "        # 相当于创建了一个引用自身的结构，所以导致了无限循环"
   ]
  },
  {
   "cell_type": "markdown",
   "metadata": {},
   "source": [
    "**解释**   \n",
    "* Python 没有「变量」，我们平时所说的变量其实只是「标签」，是引用  \n",
    "    * 执行values = [0, 1, 2]的时候，Python 做的事情是首先创建一个列表对象 [0, 1, 2]，然后给它贴上名为 values 的标签\n",
    "    * 如果随后又执行values = [3, 4, 5]，Python 做的事情是创建另一个列表对象 [3, 4, 5]，然后把刚才那张名为 values 的标签从前面的 [0, 1, 2] 对象上撕下来，重新贴到 [3, 4, 5] 这个对象上\n",
    "    * 至始至终，并没有一个叫做 values 的列表对象容器存在，Python 也没有把任何对象的值复制进 values 去\n",
    "* 执行values[1] = values的时候，values 标签还是指向原来那个对象，只不过那个对象的结构发生了变化，从之前的列表 [0, 1, 2] 变成了 [0, ?, 2]，而这个 ? 则是指向那个对象本身的一个引用  \n",
    "\n",
    "![title](img/value.png)\n",
    "\n",
    "* 得到 [0, [0, 1, 2], 2] 这个对象，需要把[0, 1, 2] 这个对象「复制」一遍，得到一个新对象，再将 values[1] 指向这个复制后的对象\n",
    "    * values[1] = values[:]\n",
    "![title](img/value2.png)"
   ]
  },
  {
   "cell_type": "code",
   "execution_count": 3,
   "metadata": {},
   "outputs": [
    {
     "data": {
      "text/plain": [
       "[0, [0, 1, 2], 2]"
      ]
     },
     "execution_count": 3,
     "metadata": {},
     "output_type": "execute_result"
    }
   ],
   "source": [
    "values = [0, 1, 2]\n",
    "values[1] = values[:]›\n",
    "values"
   ]
  },
  {
   "cell_type": "markdown",
   "metadata": {},
   "source": [
    "* values[:] 复制操作是所谓的「浅复制」(shallow copy)，当列表对象有嵌套的时候也会产生出乎意料的错误\n",
    "![title](img/value3.png)"
   ]
  },
  {
   "cell_type": "code",
   "execution_count": 6,
   "metadata": {},
   "outputs": [],
   "source": [
    "a = [0, [1, 2], 3]\n",
    "b = a[:]\n",
    "a[0] = 8\n",
    "a[1][1] = 9"
   ]
  },
  {
   "cell_type": "code",
   "execution_count": 7,
   "metadata": {},
   "outputs": [
    {
     "data": {
      "text/plain": [
       "[8, [1, 9], 3]"
      ]
     },
     "execution_count": 7,
     "metadata": {},
     "output_type": "execute_result"
    }
   ],
   "source": [
    "a"
   ]
  },
  {
   "cell_type": "code",
   "execution_count": 8,
   "metadata": {},
   "outputs": [
    {
     "data": {
      "text/plain": [
       "[0, [1, 9], 3]"
      ]
     },
     "execution_count": 8,
     "metadata": {},
     "output_type": "execute_result"
    }
   ],
   "source": [
    "b  # 第一层不变，但是第二层发生改变"
   ]
  },
  {
   "cell_type": "markdown",
   "metadata": {},
   "source": [
    "* 正确的复制嵌套元素的方法是进行「深复制」(deep copy)\n",
    "![title](img/value4.png)"
   ]
  },
  {
   "cell_type": "code",
   "execution_count": null,
   "metadata": {},
   "outputs": [],
   "source": [
    "import copy\n",
    "\n",
    "a = [0, [1, 2], 3]\n",
    "b = copy.deepcopy(a)\n",
    "a[0] = 8\n",
    "a[1][1] = 9"
   ]
  },
  {
   "cell_type": "markdown",
   "metadata": {},
   "source": [
    "## 增强赋值以及共享引用\n",
    "x = x + y，x 出现两次，必须执行两次，性能不好，合并必须新建对象 x，然后复制两个列表合并\n",
    "\n",
    "属于复制/拷贝\n",
    "\n",
    "x += y，x 只出现一次，也只会计算一次，性能好，不生成新对象，只在内存块末尾增加元素。\n",
    "\n",
    "当 x、y 为list时， += 会自动调用 extend 方法进行合并运算，in-place change。\n",
    "\n",
    "属于共享引用\n",
    "\n",
    "**难点/易错点**"
   ]
  },
  {
   "cell_type": "code",
   "execution_count": 10,
   "metadata": {},
   "outputs": [],
   "source": [
    "L = [1, 2]\n",
    "M = L\n",
    "L = L + [3, 4]  # id(L)是发生改变的"
   ]
  },
  {
   "cell_type": "code",
   "execution_count": 11,
   "metadata": {},
   "outputs": [
    {
     "data": {
      "text/plain": [
       "[1, 2, 3, 4]"
      ]
     },
     "execution_count": 11,
     "metadata": {},
     "output_type": "execute_result"
    }
   ],
   "source": [
    "L"
   ]
  },
  {
   "cell_type": "code",
   "execution_count": 12,
   "metadata": {},
   "outputs": [
    {
     "data": {
      "text/plain": [
       "[1, 2]"
      ]
     },
     "execution_count": 12,
     "metadata": {},
     "output_type": "execute_result"
    }
   ],
   "source": [
    "M  # M还是最初的L，不变\n",
    "   # L = L + []，合并时必须新建对象L，然后复制两个列表合并-->属于复制/拷贝"
   ]
  },
  {
   "cell_type": "code",
   "execution_count": 15,
   "metadata": {},
   "outputs": [],
   "source": [
    "L = [1, 2]\n",
    "M = L\n",
    "L += [3, 4]  # id(L)是不发生改变的"
   ]
  },
  {
   "cell_type": "code",
   "execution_count": 16,
   "metadata": {},
   "outputs": [
    {
     "data": {
      "text/plain": [
       "[1, 2, 3, 4]"
      ]
     },
     "execution_count": 16,
     "metadata": {},
     "output_type": "execute_result"
    }
   ],
   "source": [
    "L"
   ]
  },
  {
   "cell_type": "code",
   "execution_count": 17,
   "metadata": {},
   "outputs": [
    {
     "data": {
      "text/plain": [
       "[1, 2, 3, 4]"
      ]
     },
     "execution_count": 17,
     "metadata": {},
     "output_type": "execute_result"
    }
   ],
   "source": [
    "M  # M随着L的改变而改变了\n",
    "   # L只出现一次，只会计算一次，不生成新的对象\n",
    "   # 属于共享引用"
   ]
  },
  {
   "cell_type": "markdown",
   "metadata": {},
   "source": [
    "## 可变对象 & 不可变对象\n",
    "\n",
    "* 可变对象: int，float，long，str，tuple等\n",
    "* 不可变对象: list，set，dict\n",
    "* 这里说的不可变指的是值的不可变\n",
    "* 对于不可变类型的变量，如果要更改变量，则会创建一个新值，把变量绑定到新值上，而旧值如果没有被引用就等待垃圾回收\n",
    "* 不可变的类型可以计算hash值，作为字典的key\n",
    "* 可变类型数据对对象操作的时候，不需要再在其他地方申请内存，只需要在此对象后面连续申请(+/-)即可，也就是它的内存地址会保持不变，但区域会变长或者变短。"
   ]
  },
  {
   "cell_type": "code",
   "execution_count": 18,
   "metadata": {},
   "outputs": [
    {
     "data": {
      "text/plain": [
       "4559811616"
      ]
     },
     "execution_count": 18,
     "metadata": {},
     "output_type": "execute_result"
    }
   ],
   "source": [
    "a = 'hello'\n",
    "id(a)"
   ]
  },
  {
   "cell_type": "code",
   "execution_count": 19,
   "metadata": {},
   "outputs": [
    {
     "data": {
      "text/plain": [
       "4561094856"
      ]
     },
     "execution_count": 19,
     "metadata": {},
     "output_type": "execute_result"
    }
   ],
   "source": [
    "a = 'hi'\n",
    "id(b)  # 重新赋值之后，变量a的内存地址已经变了\n",
    "       # 因为str是不可变量，所以重新创建新的str，然后将变量a指向它"
   ]
  },
  {
   "cell_type": "code",
   "execution_count": 20,
   "metadata": {},
   "outputs": [
    {
     "data": {
      "text/plain": [
       "4559761864"
      ]
     },
     "execution_count": 20,
     "metadata": {},
     "output_type": "execute_result"
    }
   ],
   "source": [
    "a_list = [1, 2, 3]\n",
    "id(a_list)"
   ]
  },
  {
   "cell_type": "code",
   "execution_count": 22,
   "metadata": {},
   "outputs": [
    {
     "data": {
      "text/plain": [
       "4559761864"
      ]
     },
     "execution_count": 22,
     "metadata": {},
     "output_type": "execute_result"
    }
   ],
   "source": [
    "a_list.append(4)\n",
    "id(a_list)  # 地址不变\n",
    "            # [1, 2, 3]是可变的，append操作只是改变了其value，变量a_list指向没有变"
   ]
  },
  {
   "cell_type": "markdown",
   "metadata": {},
   "source": [
    "## 函数值传递\n",
    "* 对于可变对象，对象的操作不会重建对象，而对于不可变对象，每一次操作就重建新的对象。\n",
    "* func_int中的局部变量\"a\"其实是全部变量\"t\"所指向对象的另一个引用，由于整数对象是不可变的，所以当func_int对变量\"a\"进行修改的时候，实际上是将局部变量\"a\"指向到了整数对象\"1\"\n",
    "* func_list修改的是一个可变的对象，局部变量\"a\"和全局变量\"t_list\"指向的还是同一个对象。"
   ]
  },
  {
   "cell_type": "code",
   "execution_count": 37,
   "metadata": {},
   "outputs": [
    {
     "name": "stdout",
     "output_type": "stream",
     "text": [
      "4\n"
     ]
    },
    {
     "data": {
      "text/plain": [
       "0"
      ]
     },
     "execution_count": 37,
     "metadata": {},
     "output_type": "execute_result"
    }
   ],
   "source": [
    "def func_int(a):\n",
    "    a += 4\n",
    "    return a\n",
    "\n",
    "t = 0\n",
    "func_int(t)\n",
    "print(func_int(t))\n",
    "t  # t还是0"
   ]
  },
  {
   "cell_type": "code",
   "execution_count": 38,
   "metadata": {},
   "outputs": [
    {
     "data": {
      "text/plain": [
       "4"
      ]
     },
     "execution_count": 38,
     "metadata": {},
     "output_type": "execute_result"
    }
   ],
   "source": [
    "def func_int(a):\n",
    "    a += 4\n",
    "    return a\n",
    "\n",
    "t = 0\n",
    "t = func_int(t)  # t被重新赋值\n",
    "t"
   ]
  },
  {
   "cell_type": "code",
   "execution_count": 30,
   "metadata": {},
   "outputs": [
    {
     "data": {
      "text/plain": [
       "[4, 2, 3]"
      ]
     },
     "execution_count": 30,
     "metadata": {},
     "output_type": "execute_result"
    }
   ],
   "source": [
    "def func_list(a_list):\n",
    "    a_list[0] = 4\n",
    "    \n",
    "t_list = [1, 2, 3]\n",
    "func_list(t_list)\n",
    "t_list  # t_list发生改变"
   ]
  },
  {
   "cell_type": "code",
   "execution_count": 11,
   "metadata": {},
   "outputs": [
    {
     "name": "stdout",
     "output_type": "stream",
     "text": [
      "a的ID: 4371832904\n",
      "b的ID: 4371832904\n",
      "b的ID: 4371835144\n",
      "[1, 2]\n"
     ]
    }
   ],
   "source": [
    "a = [1,2]\n",
    "print('a的ID: ' + str(id(a)))\n",
    "def func(b):\n",
    "    print('b的ID: ' + str(id(b)))  # b指向的对象和a是一样的，一个ID\n",
    "    b = [3,4]  # b重新指向新的对象\n",
    "    print('b的ID: ' + str(id(b)))\n",
    "\n",
    "func(a)\n",
    "print(a)"
   ]
  },
  {
   "cell_type": "markdown",
   "metadata": {},
   "source": [
    "##  为什么修改全局的dict变量不用global关键字\n"
   ]
  },
  {
   "cell_type": "code",
   "execution_count": 40,
   "metadata": {},
   "outputs": [
    {
     "name": "stdout",
     "output_type": "stream",
     "text": [
      "foo\n",
      "{'a': 1, 'b': 2}\n"
     ]
    }
   ],
   "source": [
    "s = 'foo'\n",
    "d = {'a':1}\n",
    "def f():\n",
    "    s = 'bar'\n",
    "    d['b'] = 2\n",
    "f()\n",
    "print(s)  # s没有发生改变\n",
    "print(d)  # 即使不写return，不写d = f(), d也发生了改变\n",
    "\n",
    "'''\n",
    "解释：\n",
    "一个是rebinding（不可变对象）, 一个是mutation（可变对象）\n",
    "\n",
    "在s = 'bar'这句中，它是“有歧义的“，因为它既可以是表示引用全局变量s，也可以是创建一个新的局部变量，\n",
    "所以在python中，默认它的行为是创建局部变量，除非显式声明global，global定义的本地变量会变成其对应全局变量的一个别名，即是同一个变量。\n",
    "\n",
    "在d['b']=2这句中，它是“明确的”，因为如果把d当作是局部变量的话，它会报KeyError，所以它只能是引用全局的d,故不需要多此一举显式声明global。\n",
    "'''\n"
   ]
  },
  {
   "cell_type": "code",
   "execution_count": 41,
   "metadata": {},
   "outputs": [
    {
     "name": "stdout",
     "output_type": "stream",
     "text": [
      "{'a': 1}\n"
     ]
    },
    {
     "data": {
      "text/plain": [
       "\"\\n解释\\n在d = {}这句，它是”有歧义的“了，所以它是创建了局部变量d，而不是引用全局变量d，所以d['b']=2也是操作的局部变量。\\n\\n\""
      ]
     },
     "execution_count": 41,
     "metadata": {},
     "output_type": "execute_result"
    }
   ],
   "source": [
    "d = {'a':1}\n",
    "def f():\n",
    "    d = {}\n",
    "    d['b'] = 2\n",
    "f()\n",
    "print(d) # {'a': 1} 不变\n",
    "\n",
    "'''\n",
    "解释\n",
    "在d = {}这句，它是”有歧义的“了，所以它是创建了局部变量d，而不是引用全局变量d，所以d['b']=2也是操作的局部变量。\n",
    "\n",
    "'''"
   ]
  },
  {
   "cell_type": "code",
   "execution_count": 42,
   "metadata": {},
   "outputs": [
    {
     "name": "stdout",
     "output_type": "stream",
     "text": [
      "None\n"
     ]
    }
   ],
   "source": [
    "d = {'a':1}\n",
    "def f():\n",
    "    d = {}\n",
    "    d['b'] = 2\n",
    "    \n",
    "d = f()\n",
    "print(d) # None"
   ]
  },
  {
   "cell_type": "code",
   "execution_count": 43,
   "metadata": {},
   "outputs": [
    {
     "name": "stdout",
     "output_type": "stream",
     "text": [
      "{'b': 2}\n"
     ]
    }
   ],
   "source": [
    "d = {'a':1}\n",
    "def f():\n",
    "    d = {}\n",
    "    d['b'] = 2\n",
    "    return d\n",
    "\n",
    "d = f()\n",
    "print(d) # {'b': 2} 被重新赋值"
   ]
  },
  {
   "cell_type": "markdown",
   "metadata": {},
   "source": [
    "## 可变对象 list 的 = 和 append/extend 差别在哪？\n",
    "为什么 语句1 不能改变 list_a 的值，而 语句2 却可以？他们的差别在哪呢？\n",
    "* 因为 = 创建了局部变量，而 .append() 或者 .extend() 重用了全局变量\n",
    "\n",
    "* 可变对象，def里面不重新新建的话，可变对象发生改变时，全局的该对象都会发生改变\n",
    "* 不可变对象，def里面对不可变对象做任何的修饰，只要最后不写return和x=f()就不会发生改变，def里面的不可变对象跟全局的不可变对象是两个对象\n"
   ]
  },
  {
   "cell_type": "code",
   "execution_count": 44,
   "metadata": {},
   "outputs": [
    {
     "name": "stdout",
     "output_type": "stream",
     "text": [
      "[]\n"
     ]
    }
   ],
   "source": [
    "list_a = []\n",
    "def a():\n",
    "    list_a = [1]      ## 语句1\n",
    "a()\n",
    "print(list_a)   # []"
   ]
  },
  {
   "cell_type": "code",
   "execution_count": 46,
   "metadata": {},
   "outputs": [
    {
     "name": "stdout",
     "output_type": "stream",
     "text": [
      "[1]\n"
     ]
    }
   ],
   "source": [
    "list_b = []\n",
    "def b():\n",
    "    list_b.append(1)    ## 语句2\n",
    "b()\n",
    "print(list_b)   # [1]"
   ]
  },
  {
   "cell_type": "markdown",
   "metadata": {},
   "source": [
    "##  陷阱：使用可变的默认参数\n"
   ]
  },
  {
   "cell_type": "code",
   "execution_count": 48,
   "metadata": {},
   "outputs": [
    {
     "name": "stdout",
     "output_type": "stream",
     "text": [
      "[1, 1]\n"
     ]
    }
   ],
   "source": [
    "def foo(a, b, c=[]):\n",
    "    c.append(a)\n",
    "    c.append(b)\n",
    "    print(c)\n",
    "foo(1, 1)    # c是会一直累积的"
   ]
  },
  {
   "cell_type": "code",
   "execution_count": 49,
   "metadata": {},
   "outputs": [
    {
     "name": "stdout",
     "output_type": "stream",
     "text": [
      "[1, 1, 1, 1]\n"
     ]
    }
   ],
   "source": [
    "foo(1, 1)"
   ]
  },
  {
   "cell_type": "code",
   "execution_count": 50,
   "metadata": {},
   "outputs": [
    {
     "name": "stdout",
     "output_type": "stream",
     "text": [
      "[1, 1, 1, 1, 1, 1]\n"
     ]
    }
   ],
   "source": [
    "foo(1, 1)"
   ]
  },
  {
   "cell_type": "code",
   "execution_count": 51,
   "metadata": {},
   "outputs": [
    {
     "name": "stdout",
     "output_type": "stream",
     "text": [
      "[1, 1]\n"
     ]
    }
   ],
   "source": [
    "'''\n",
    "改良\n",
    "'''\n",
    "def foo(a, b, c=None):\n",
    "    if c is None:\n",
    "        c = []\n",
    "        c.append(a)\n",
    "        c.append(b)\n",
    "        print(c)\n",
    "foo(1, 1)"
   ]
  },
  {
   "cell_type": "code",
   "execution_count": 52,
   "metadata": {},
   "outputs": [
    {
     "name": "stdout",
     "output_type": "stream",
     "text": [
      "[1, 1]\n"
     ]
    }
   ],
   "source": [
    "foo(1, 1)"
   ]
  },
  {
   "cell_type": "code",
   "execution_count": 53,
   "metadata": {},
   "outputs": [
    {
     "name": "stdout",
     "output_type": "stream",
     "text": [
      "[1, 1]\n"
     ]
    }
   ],
   "source": [
    "foo(1, 1)"
   ]
  },
  {
   "cell_type": "markdown",
   "metadata": {},
   "source": [
    "# inf表示无限大"
   ]
  },
  {
   "cell_type": "code",
   "execution_count": 3,
   "metadata": {},
   "outputs": [
    {
     "data": {
      "text/plain": [
       "-inf"
      ]
     },
     "execution_count": 3,
     "metadata": {},
     "output_type": "execute_result"
    }
   ],
   "source": [
    "float('-inf')"
   ]
  },
  {
   "cell_type": "code",
   "execution_count": 4,
   "metadata": {},
   "outputs": [
    {
     "data": {
      "text/plain": [
       "inf"
      ]
     },
     "execution_count": 4,
     "metadata": {},
     "output_type": "execute_result"
    }
   ],
   "source": [
    "float('inf')"
   ]
  },
  {
   "cell_type": "markdown",
   "metadata": {},
   "source": [
    "# sort与sorted\n",
    "* sort 在原本的list上进行sort\n",
    "* sorted 形成一个新的list"
   ]
  },
  {
   "cell_type": "code",
   "execution_count": 16,
   "metadata": {},
   "outputs": [],
   "source": [
    "l = [5,4,3,2]"
   ]
  },
  {
   "cell_type": "code",
   "execution_count": 18,
   "metadata": {},
   "outputs": [
    {
     "data": {
      "text/plain": [
       "[2, 3, 4, 5]"
      ]
     },
     "execution_count": 18,
     "metadata": {},
     "output_type": "execute_result"
    }
   ],
   "source": [
    "sorted(l)  # l不变，产生新的列表"
   ]
  },
  {
   "cell_type": "code",
   "execution_count": 19,
   "metadata": {},
   "outputs": [
    {
     "data": {
      "text/plain": [
       "[5, 4, 3, 2]"
      ]
     },
     "execution_count": 19,
     "metadata": {},
     "output_type": "execute_result"
    }
   ],
   "source": [
    "l"
   ]
  },
  {
   "cell_type": "code",
   "execution_count": 20,
   "metadata": {},
   "outputs": [
    {
     "data": {
      "text/plain": [
       "[2, 3, 4, 5]"
      ]
     },
     "execution_count": 20,
     "metadata": {},
     "output_type": "execute_result"
    }
   ],
   "source": [
    "a = sorted(l)\n",
    "a"
   ]
  },
  {
   "cell_type": "code",
   "execution_count": 21,
   "metadata": {},
   "outputs": [],
   "source": [
    "l.sort()  # 在原list上面排序"
   ]
  },
  {
   "cell_type": "code",
   "execution_count": 22,
   "metadata": {},
   "outputs": [
    {
     "data": {
      "text/plain": [
       "[2, 3, 4, 5]"
      ]
     },
     "execution_count": 22,
     "metadata": {},
     "output_type": "execute_result"
    }
   ],
   "source": [
    "l"
   ]
  },
  {
   "cell_type": "markdown",
   "metadata": {},
   "source": [
    "# range\n",
    "\n",
    "**range(start, stop[, step])**\n",
    "\n",
    "* start: 计数从 start 开始。默认是从 0 开始。例如range（5）等价于range（0， 5）;\n",
    "* stop: 计数到 stop 结束，但不包括 stop。例如：range（0， 5） 是[0, 1, 2, 3, 4]没有5\n",
    "* step：步长，默认为1。例如：range（0， 5） 等价于 range(0, 5, 1)"
   ]
  },
  {
   "cell_type": "code",
   "execution_count": 4,
   "metadata": {},
   "outputs": [
    {
     "name": "stdout",
     "output_type": "stream",
     "text": [
      "0\n",
      "5\n",
      "10\n",
      "15\n",
      "20\n",
      "25\n"
     ]
    }
   ],
   "source": [
    "for i in range(0, 30, 5):  # [0, 5, 10, 15, 20, 25]\n",
    "    print(i)"
   ]
  },
  {
   "cell_type": "code",
   "execution_count": 5,
   "metadata": {
    "scrolled": true
   },
   "outputs": [
    {
     "name": "stdout",
     "output_type": "stream",
     "text": [
      "8\n",
      "7\n",
      "6\n",
      "5\n",
      "4\n",
      "3\n",
      "2\n",
      "1\n",
      "0\n"
     ]
    }
   ],
   "source": [
    "for i in range(8, -1, -1):  # [8,7,6,5,4,3,2,1,0]\n",
    "    print(i)"
   ]
  },
  {
   "cell_type": "markdown",
   "metadata": {},
   "source": [
    "# format 格式化函数\n"
   ]
  },
  {
   "cell_type": "code",
   "execution_count": 1,
   "metadata": {},
   "outputs": [
    {
     "data": {
      "text/plain": [
       "'hello world'"
      ]
     },
     "execution_count": 1,
     "metadata": {},
     "output_type": "execute_result"
    }
   ],
   "source": [
    "\"{} {}\".format(\"hello\", \"world\")    # 不设置指定位置，按默认顺序\n",
    "# \"{0} {1}\".format(\"hello\", \"world\")  # 设置指定位置"
   ]
  },
  {
   "cell_type": "code",
   "execution_count": 2,
   "metadata": {},
   "outputs": [
    {
     "data": {
      "text/plain": [
       "'hello.world'"
      ]
     },
     "execution_count": 2,
     "metadata": {},
     "output_type": "execute_result"
    }
   ],
   "source": [
    "\"{}.{}\".format(\"hello\", \"world\")    # 不设置指定位置，按默认顺序"
   ]
  },
  {
   "cell_type": "code",
   "execution_count": 3,
   "metadata": {},
   "outputs": [
    {
     "data": {
      "text/plain": [
       "'world hello world'"
      ]
     },
     "execution_count": 3,
     "metadata": {},
     "output_type": "execute_result"
    }
   ],
   "source": [
    "\"{1} {0} {1}\".format(\"hello\", \"world\")  # 设置指定位置"
   ]
  },
  {
   "cell_type": "code",
   "execution_count": 4,
   "metadata": {},
   "outputs": [
    {
     "name": "stdout",
     "output_type": "stream",
     "text": [
      "网站名：菜鸟教程, 地址 www.runoob.com\n"
     ]
    }
   ],
   "source": [
    "# 通过字典设置参数\n",
    "site = {\"name\": \"菜鸟教程\", \"url\": \"www.runoob.com\"}\n",
    "print(\"网站名：{name}, 地址 {url}\".format(**site))"
   ]
  },
  {
   "cell_type": "code",
   "execution_count": 5,
   "metadata": {},
   "outputs": [
    {
     "name": "stdout",
     "output_type": "stream",
     "text": [
      "网站名：菜鸟教程, 地址 www.runoob.com\n"
     ]
    }
   ],
   "source": [
    "# 通过列表索引设置参数\n",
    "my_list = ['菜鸟教程', 'www.runoob.com']\n",
    "print(\"网站名：{0[0]}, 地址 {0[1]}\".format(my_list))  # \"0\" 是必须的"
   ]
  },
  {
   "cell_type": "code",
   "execution_count": 6,
   "metadata": {},
   "outputs": [
    {
     "name": "stdout",
     "output_type": "stream",
     "text": [
      "value 为: 6\n"
     ]
    }
   ],
   "source": [
    "class AssignValue(object):\n",
    "    def __init__(self, value):\n",
    "        self.value = value\n",
    "my_value = AssignValue(6)\n",
    "print('value 为: {0.value}'.format(my_value))  # \"0\" 是可选的"
   ]
  },
  {
   "cell_type": "markdown",
   "metadata": {},
   "source": [
    "## 数字格式化\n",
    "![title](./img/format.png)"
   ]
  },
  {
   "cell_type": "code",
   "execution_count": 7,
   "metadata": {},
   "outputs": [
    {
     "data": {
      "text/plain": [
       "'3.14'"
      ]
     },
     "execution_count": 7,
     "metadata": {},
     "output_type": "execute_result"
    }
   ],
   "source": [
    "\"{:.2f}\".format(3.1415926)"
   ]
  },
  {
   "cell_type": "code",
   "execution_count": null,
   "metadata": {},
   "outputs": [],
   "source": []
  }
 ],
 "metadata": {
  "kernelspec": {
   "display_name": "Python 3",
   "language": "python",
   "name": "python3"
  },
  "language_info": {
   "codemirror_mode": {
    "name": "ipython",
    "version": 3
   },
   "file_extension": ".py",
   "mimetype": "text/x-python",
   "name": "python",
   "nbconvert_exporter": "python",
   "pygments_lexer": "ipython3",
   "version": "3.7.3"
  },
  "toc": {
   "base_numbering": 1,
   "nav_menu": {},
   "number_sections": true,
   "sideBar": true,
   "skip_h1_title": false,
   "title_cell": "Table of Contents",
   "title_sidebar": "Contents",
   "toc_cell": false,
   "toc_position": {
    "height": "calc(100% - 180px)",
    "left": "10px",
    "top": "150px",
    "width": "165px"
   },
   "toc_section_display": true,
   "toc_window_display": true
  }
 },
 "nbformat": 4,
 "nbformat_minor": 4
}
