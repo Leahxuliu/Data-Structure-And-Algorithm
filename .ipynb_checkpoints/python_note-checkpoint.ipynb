{
 "cells": [
  {
   "cell_type": "markdown",
   "metadata": {},
   "source": [
    "# 字典排序"
   ]
  },
  {
   "cell_type": "markdown",
   "metadata": {},
   "source": [
    "**lambda**\n",
    "  \n",
    "* 匿名函数 \n",
    "* 结构：lambda x : f(x)    \n",
    "  * lambda 引数: 返り値\n",
    "  * 关键字lambda表示匿名函数\n",
    "  * 冒号前面的x表示函数参数\n",
    "  * 参考网站：https://qiita.com/nagataaaas/items/531b1fc5ce42a791c7df\n",
    "* 不需要特意指定函数   \n",
    "    比如：def return_twice(n):   \n",
    "            return n * 2   \n",
    "    可改写成：    \n",
    "        lambda n: n * 2"
   ]
  },
  {
   "cell_type": "code",
   "execution_count": null,
   "metadata": {},
   "outputs": [],
   "source": [
    "# dict 排序\n",
    "dic = {'a':4, 'b':3, 'c':2, 'd':1, 'e':0}\n",
    "\n",
    "# 基于key排序\n",
    "## 返回key\n",
    "a = sorted(dic)\n",
    "a = sorted(dic.keys())\n",
    "## 返回value\n",
    "a = sorted(dic)  # 先排key\n",
    "b = [dic[x] for x in a]\n",
    "## 返回整体\n",
    "new = sorted(dic.items(), key = lambda x: x[0])  # [('a', 4), ('b', 3), ('c', 2), ('d', 1), ('e', 0)]\n",
    "\n",
    "# 基于value排序\n",
    "## 返回key\n",
    "a = sorted(dic, key = lambda x:dic[x])\n",
    "print(a)\n",
    "## 返回value\n",
    "a = sorted(dic.values())\n",
    "## 返回整体\n",
    "new = sorted(dic.items(), key = lambda x: x[1])  # [('e', 0), ('d', 1), ('c', 2), ('b', 3), ('a', 4)]\n",
    "\n",
    "\n",
    "## 先根据value值排序，再根据key值排序\n",
    "new = sorted(dic.items(), key = lambda x : (x[1], x[0]))  # [('e', 0), ('d', 1), ('c', 2), ('b', 3), ('a', 4)]\n",
    "## 先根据value值逆排序，再根据key值的顺序排序\n",
    "new = sorted(dic.items(), key = lambda x : (-x[1], x[0]))"
   ]
  },
  {
   "cell_type": "markdown",
   "metadata": {},
   "source": [
    "# 字母比大小"
   ]
  },
  {
   "cell_type": "code",
   "execution_count": 1,
   "metadata": {},
   "outputs": [
    {
     "data": {
      "text/plain": [
       "97"
      ]
     },
     "execution_count": 1,
     "metadata": {},
     "output_type": "execute_result"
    }
   ],
   "source": [
    "ord('A')  # 65\n",
    "ord('B')  # 66\n",
    "ord('a')  # 97"
   ]
  },
  {
   "cell_type": "markdown",
   "metadata": {},
   "source": [
    "# List\n",
    "## 复制"
   ]
  },
  {
   "cell_type": "code",
   "execution_count": null,
   "metadata": {},
   "outputs": [],
   "source": []
  },
  {
   "cell_type": "markdown",
   "metadata": {},
   "source": [
    "## 删除"
   ]
  }
 ],
 "metadata": {
  "kernelspec": {
   "display_name": "Python 3",
   "language": "python",
   "name": "python3"
  },
  "language_info": {
   "codemirror_mode": {
    "name": "ipython",
    "version": 3
   },
   "file_extension": ".py",
   "mimetype": "text/x-python",
   "name": "python",
   "nbconvert_exporter": "python",
   "pygments_lexer": "ipython3",
   "version": "3.7.3"
  },
  "toc": {
   "base_numbering": 1,
   "nav_menu": {},
   "number_sections": true,
   "sideBar": true,
   "skip_h1_title": false,
   "title_cell": "Table of Contents",
   "title_sidebar": "Contents",
   "toc_cell": false,
   "toc_position": {},
   "toc_section_display": true,
   "toc_window_display": true
  }
 },
 "nbformat": 4,
 "nbformat_minor": 4
}
