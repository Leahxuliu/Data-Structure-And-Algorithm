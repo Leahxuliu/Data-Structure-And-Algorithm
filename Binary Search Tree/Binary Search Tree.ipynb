{
 "cells": [
  {
   "cell_type": "code",
   "execution_count": null,
   "metadata": {},
   "outputs": [],
   "source": [
    "# !/usr/bin/python\n",
    "# -*- coding: utf-8 -*-\n",
    "# @Time    : 2020/03  \n",
    "# @Author  : XU Liu\n",
    "# @FileName: \n",
    "\n",
    "'''\n",
    "1. 题目类型：\n",
    "\n",
    "\n",
    "2. 题目要求与理解：\n",
    "\n",
    "\n",
    "3. 解题思路：\n",
    "\n",
    "\n",
    "4. 输出输入以及边界条件：\n",
    "input: \n",
    "output: \n",
    "corner case: \n",
    "\n",
    "5. 空间时间复杂度\n",
    "    \n",
    "\n",
    "'''"
   ]
  },
  {
   "cell_type": "markdown",
   "metadata": {},
   "source": [
    "# 题目\n",
    "\n",
    "## 基本操作\n",
    "* 235.Lowest Common Ancestor of a Binary Search Tree.py (完成1）\n",
    "* 450.Delete Node in a BST.py(完成1）\n",
    "* 669.Trim a Binary Search Tree.py(完成1）不太理解\n",
    "* 700.Search in a Binary Search Tree.py(完成1）\n",
    "* 701.Insert into a Binary Search Tree.py\n",
    "* 108.Convert Sorted Array to Binary Search Tree (代码在BT文件夹里)\n",
    "\n",
    "## 基于中序遍历\n",
    "* 98.Validate Binary Search Tree.py\n",
    "* 99.Recover Binary Search Tree.py\n",
    "* 230.Kth Smallest Element in a BST.py\n",
    "* 501.Find Mode in Binary Search Tree.py\n",
    "\n",
    "\n"
   ]
  },
  {
   "cell_type": "markdown",
   "metadata": {},
   "source": [
    "# 代码总结\n",
    "## 构造\n",
    "* 从sorted array: [-10,-3,0,5,9]构造BST，树的样子会有很多种，只要输出其中一种就可   \n",
    "* 108题"
   ]
  },
  {
   "cell_type": "code",
   "execution_count": null,
   "metadata": {},
   "outputs": [],
   "source": [
    "class Solution:\n",
    "    def sortedArrayToBST(self, nums):\n",
    "        if nums == None:\n",
    "            return None\n",
    "        \n",
    "        mid = len(nums) // 2\n",
    "        root = TreeNode(nums[mid])\n",
    "        \n",
    "        root.left = self.sortedArrayToBST(nums[0:mid])\n",
    "        root.right = self.sortedArrayToBST(nums[mid+1:])\n",
    "        return root\n",
    "        "
   ]
  },
  {
   "cell_type": "markdown",
   "metadata": {},
   "source": [
    "## 查找\n",
    "* 700题\n",
    "### 迭代"
   ]
  },
  {
   "cell_type": "code",
   "execution_count": null,
   "metadata": {},
   "outputs": [],
   "source": [
    "class Solution:\n",
    "    def searchBST(self, root: TreeNode, val: int) -> TreeNode:\n",
    "        if root == None:\n",
    "            return None\n",
    "        \n",
    "        while root:\n",
    "            if root.val == val:\n",
    "                return root\n",
    "            elif root.val > val:\n",
    "                root = root.left\n",
    "            elif root.val < val:\n",
    "                root = root.right\n",
    "        return None"
   ]
  },
  {
   "cell_type": "markdown",
   "metadata": {},
   "source": [
    "### 递归"
   ]
  },
  {
   "cell_type": "code",
   "execution_count": null,
   "metadata": {},
   "outputs": [],
   "source": [
    "# 递归的速度更快\n",
    "class Solution:\n",
    "    def searchBST(self, root: TreeNode, val: int) -> TreeNode:\n",
    "        if not root:\n",
    "            return None\n",
    "        if root.val == val:\n",
    "            return root\n",
    "        \n",
    "        if root.val < val:\n",
    "            return self.searchBST(root.right, val)\n",
    "        if root.val > val:\n",
    "            return self.searchBST(root.left, val)"
   ]
  },
  {
   "cell_type": "markdown",
   "metadata": {},
   "source": [
    "## 删除\n",
    "* 450题"
   ]
  },
  {
   "cell_type": "code",
   "execution_count": null,
   "metadata": {},
   "outputs": [],
   "source": [
    "class BST:\n",
    "    def deleteNode(self, root, target):\n",
    "        if not root:\n",
    "            return None\n",
    "        \n",
    "        # 递归调用左子树，右边树保持动，对左边数进行修改\n",
    "        if target < root.val:\n",
    "            root.left = self.deleteNode(root.left, target)\n",
    "        \n",
    "        # 递归调用右子树\n",
    "        if target > root.val:\n",
    "            root.right = self.deleteNode(root.right, target)\n",
    "\n",
    "        # 当前节点的val == target\n",
    "        if target == root.val:\n",
    "            # 当前节点的左右都不存在，删掉后该节点变None\n",
    "            if root.left == None and root.right == None:\n",
    "                root = None\n",
    "            # 当前节点的左节点不存在，直接提升右节点\n",
    "            elif root.left == None:\n",
    "                root = root.right\n",
    "            # 当前节点的右节点不存在，直接提升左节点\n",
    "            elif root.right == None:\n",
    "                root = root.left\n",
    "            # 当前节点的左右都存在，用被删除节点的前驱节点（即比被删除节点小一位的节点） 代替\n",
    "            else:\n",
    "                root.val = self.findPre(root)\n",
    "                root.left = self.deleteNode(root.left, root.val)  # 原本的left数发生了改变，要重新排，同时也意味着要删掉被上挪的节点\n",
    "                '''\n",
    "                root.val = self.findSuc(root)\n",
    "                root.right = self.deleteNode(root.right, root.val)\n",
    "                '''\n",
    "        return root\n",
    "\n",
    "    # 移动前驱点\n",
    "    def findPre(self, root):\n",
    "        # 被删除节点的左边数里面的最右边\n",
    "        root = root.left\n",
    "        while root.right:\n",
    "            root = root.right\n",
    "        return root.val\n",
    "\n",
    "    # 移动后驱点\n",
    "    def findSuc(self, root):  # find the smallest node of root right subtree\n",
    "        root = root.right\n",
    "        while root.left:\n",
    "            root = root.left\n",
    "        return root.val\n"
   ]
  },
  {
   "cell_type": "markdown",
   "metadata": {},
   "source": [
    "## 插入\n",
    "\n",
    "* 701题\n",
    "* 成为left child 或者right child，除了root=None的情况\n",
    "* 所以插入一个新的节点时，关键点找到父节点\n",
    "\n",
    "### 迭代"
   ]
  },
  {
   "cell_type": "code",
   "execution_count": null,
   "metadata": {},
   "outputs": [],
   "source": [
    "class BST:\n",
    "    # 方法一 迭代 iterative\n",
    "    def insertIteration(self, rrot, target):  # return root with inserted target\n",
    "        if not root:  # corner case\n",
    "            return TreeNode(target)  # 成为新的BST，len只有一\n",
    "\n",
    "        res = root  # 复制树root的地址，root内部会跟着发生改变，题目要求输出整个tree，也就是tree的root\n",
    "        while root:\n",
    "            if root.val > target:  \n",
    "                if root.left is None:  # 成为这个node的left child\n",
    "                    root.left = TreeNode(target)\n",
    "                    return res\n",
    "                else:\n",
    "                    root = root.left  # 继续往左走\n",
    "            \n",
    "            else:  # root.val < target:  root.left < root.val < target <= root.right\n",
    "                if root.right if None:\n",
    "                    root.right = TreeNode(target)\n",
    "                    return res\n",
    "                else:\n",
    "                    root = root.right\n"
   ]
  },
  {
   "cell_type": "markdown",
   "metadata": {},
   "source": [
    "### 递归"
   ]
  },
  {
   "cell_type": "code",
   "execution_count": null,
   "metadata": {},
   "outputs": [],
   "source": [
    "def insert(self, root, target):\n",
    "        if not root:  # corner case + ending条件\n",
    "            return TreeNode(target)\n",
    "        \n",
    "        if target < root.val:\n",
    "            root.left = self.insert(root.left, target)\n",
    "        else:\n",
    "            root.right = self.insert(root.right, target)\n",
    "        return root"
   ]
  },
  {
   "cell_type": "markdown",
   "metadata": {},
   "source": [
    "# Python"
   ]
  },
  {
   "cell_type": "code",
   "execution_count": 1,
   "metadata": {},
   "outputs": [
    {
     "data": {
      "text/plain": [
       "[]"
      ]
     },
     "execution_count": 1,
     "metadata": {},
     "output_type": "execute_result"
    }
   ],
   "source": [
    "l = [1,2,3,4]\n",
    "l[0:0]"
   ]
  },
  {
   "cell_type": "code",
   "execution_count": 2,
   "metadata": {},
   "outputs": [
    {
     "data": {
      "text/plain": [
       "[]"
      ]
     },
     "execution_count": 2,
     "metadata": {},
     "output_type": "execute_result"
    }
   ],
   "source": [
    "l[4:0]"
   ]
  }
 ],
 "metadata": {
  "kernelspec": {
   "display_name": "Python 3",
   "language": "python",
   "name": "python3"
  },
  "language_info": {
   "codemirror_mode": {
    "name": "ipython",
    "version": 3
   },
   "file_extension": ".py",
   "mimetype": "text/x-python",
   "name": "python",
   "nbconvert_exporter": "python",
   "pygments_lexer": "ipython3",
   "version": "3.7.3"
  },
  "toc": {
   "base_numbering": 1,
   "nav_menu": {},
   "number_sections": true,
   "sideBar": true,
   "skip_h1_title": false,
   "title_cell": "Table of Contents",
   "title_sidebar": "Contents",
   "toc_cell": false,
   "toc_position": {},
   "toc_section_display": true,
   "toc_window_display": true
  }
 },
 "nbformat": 4,
 "nbformat_minor": 4
}
