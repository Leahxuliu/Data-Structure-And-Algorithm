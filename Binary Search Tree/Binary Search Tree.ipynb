{
 "cells": [
  {
   "cell_type": "code",
   "execution_count": null,
   "metadata": {},
   "outputs": [],
   "source": [
    "# !/usr/bin/python\n",
    "# -*- coding: utf-8 -*-\n",
    "# @Time    : 2020/03  \n",
    "# @Author  : XU Liu\n",
    "# @FileName: \n",
    "\n",
    "'''\n",
    "1. 题目类型：\n",
    "\n",
    "\n",
    "2. 题目要求与理解：\n",
    "\n",
    "\n",
    "3. 解题思路：\n",
    "\n",
    "\n",
    "4. 输出输入以及边界条件：\n",
    "input: \n",
    "output: \n",
    "corner case: \n",
    "\n",
    "5. 空间时间复杂度\n",
    "    \n",
    "\n",
    "'''"
   ]
  },
  {
   "cell_type": "markdown",
   "metadata": {},
   "source": [
    "# 题目\n",
    "\n",
    "## 基本操作\n",
    "* 235.Lowest Common Ancestor of a Binary Search Tree.py (完成1）\n",
    "* 450.Delete Node in a BST.py(完成1）\n",
    "* 669.Trim a Binary Search Tree.py(完成1）不太理解\n",
    "* 700.Search in a Binary Search Tree.py(完成1）\n",
    "* 701.Insert into a Binary Search Tree.py(完成1）\n",
    "* 108.Convert Sorted Array to Binary Search Tree (代码在BT文件夹里)\n",
    "\n",
    "## 基于中序遍历\n",
    "* 98.Validate Binary Search Tree.py(完成1）\n",
    "* 99.Recover Binary Search Tree.py(完成1）\n",
    "* 230.Kth Smallest Element in a BST.py(完成1）\n",
    "* 501.Find Mode in Binary Search Tree.py(完成1）\n",
    "\n",
    "\n"
   ]
  },
  {
   "cell_type": "markdown",
   "metadata": {},
   "source": [
    "# 代码总结\n",
    "## 构造\n",
    "* 从sorted array: [-10,-3,0,5,9]构造BST，树的样子会有很多种，只要输出其中一种就可   \n",
    "* 108题"
   ]
  },
  {
   "cell_type": "code",
   "execution_count": null,
   "metadata": {},
   "outputs": [],
   "source": [
    "class Solution:\n",
    "    def sortedArrayToBST(self, nums):\n",
    "        if nums == None:\n",
    "            return None\n",
    "        \n",
    "        mid = len(nums) // 2\n",
    "        root = TreeNode(nums[mid])\n",
    "        \n",
    "        root.left = self.sortedArrayToBST(nums[0:mid])\n",
    "        root.right = self.sortedArrayToBST(nums[mid+1:])\n",
    "        return root\n",
    "        "
   ]
  },
  {
   "cell_type": "markdown",
   "metadata": {},
   "source": [
    "## 查找\n",
    "* 700题\n",
    "### 迭代"
   ]
  },
  {
   "cell_type": "code",
   "execution_count": null,
   "metadata": {},
   "outputs": [],
   "source": [
    "class Solution:\n",
    "    def searchBST(self, root: TreeNode, val: int) -> TreeNode:\n",
    "        if root == None:\n",
    "            return None\n",
    "        \n",
    "        while root:\n",
    "            if root.val == val:\n",
    "                return root\n",
    "            elif root.val > val:\n",
    "                root = root.left\n",
    "            elif root.val < val:\n",
    "                root = root.right\n",
    "        return None"
   ]
  },
  {
   "cell_type": "markdown",
   "metadata": {},
   "source": [
    "### 递归"
   ]
  },
  {
   "cell_type": "code",
   "execution_count": null,
   "metadata": {},
   "outputs": [],
   "source": [
    "# 递归的速度更快\n",
    "class Solution:\n",
    "    def searchBST(self, root: TreeNode, val: int) -> TreeNode:\n",
    "        if not root:\n",
    "            return None\n",
    "        if root.val == val:\n",
    "            return root\n",
    "        \n",
    "        if root.val < val:\n",
    "            return self.searchBST(root.right, val)  # 要写return,找到val的那一层要往上返回\n",
    "        if root.val > val:\n",
    "            return self.searchBST(root.left, val)"
   ]
  },
  {
   "cell_type": "markdown",
   "metadata": {},
   "source": [
    "## 删除\n",
    "* 450题"
   ]
  },
  {
   "cell_type": "code",
   "execution_count": null,
   "metadata": {},
   "outputs": [],
   "source": [
    "class BST:\n",
    "    def deleteNode(self, root, target):\n",
    "        if not root:\n",
    "            return None\n",
    "        \n",
    "        # 递归调用左子树，右边树保持动，对左边数进行修改\n",
    "        if target < root.val:\n",
    "            root.left = self.deleteNode(root.left, target)\n",
    "        \n",
    "        # 递归调用右子树\n",
    "        if target > root.val:\n",
    "            root.right = self.deleteNode(root.right, target)\n",
    "\n",
    "        # 当前节点的val == target\n",
    "        if target == root.val:\n",
    "            # 当前节点的左右都不存在，删掉后该节点变None\n",
    "            if root.left == None and root.right == None:  # 可不写，因为下面两个情况里面也能执行\n",
    "                root = None\n",
    "            # 当前节点的左节点不存在，直接提升右节点\n",
    "            elif root.left == None:\n",
    "                root = root.right\n",
    "            # 当前节点的右节点不存在，直接提升左节点\n",
    "            elif root.right == None:\n",
    "                root = root.left\n",
    "            # 当前节点的左右都存在，用被删除节点的前驱节点（即比被删除节点小一位的节点） 代替\n",
    "            else:\n",
    "                root.val = self.findPre(root)\n",
    "                root.left = self.deleteNode(root.left, root.val)  # 原本的left数发生了改变，要重新排，同时也意味着要删掉被上挪的节点\n",
    "                '''\n",
    "                root.val = self.findSuc(root)\n",
    "                root.right = self.deleteNode(root.right, root.val)\n",
    "                '''\n",
    "        return root\n",
    "\n",
    "    # 移动前驱点\n",
    "    def findPre(self, root):\n",
    "        # 被删除节点的左边数里面的最右边\n",
    "        root = root.left\n",
    "        while root.right:\n",
    "            root = root.right\n",
    "        return root.val\n",
    "\n",
    "    # 移动后驱点\n",
    "    def findSuc(self, root):  # find the smallest node of root right subtree\n",
    "        root = root.right\n",
    "        while root.left:\n",
    "            root = root.left\n",
    "        return root.val\n"
   ]
  },
  {
   "cell_type": "markdown",
   "metadata": {},
   "source": [
    "## 插入\n",
    "\n",
    "* 701题\n",
    "* 成为left child 或者right child，除了root=None的情况\n",
    "* 所以插入一个新的节点时，关键点找到父节点\n",
    "\n",
    "### 迭代"
   ]
  },
  {
   "cell_type": "code",
   "execution_count": null,
   "metadata": {},
   "outputs": [],
   "source": [
    "class BST:\n",
    "    # 方法一 迭代 iterative\n",
    "    def insertIteration(self, root, target):  # return root with inserted target\n",
    "        if not root:  # corner case\n",
    "            return TreeNode(target)  # 成为新的BST，len只有一\n",
    "\n",
    "        res = root  # 复制树root的地址，root内部会跟着发生改变，题目要求输出整个tree，也就是tree的root\n",
    "        while root:\n",
    "            if root.val > target:  \n",
    "                if root.left is None:  # 成为这个node的left child\n",
    "                    root.left = TreeNode(target)\n",
    "                    return res\n",
    "                else:\n",
    "                    root = root.left  # 继续往左走\n",
    "            \n",
    "            else:  # root.val < target:  root.left < root.val < target <= root.right\n",
    "                if root.right if None:\n",
    "                    root.right = TreeNode(target)\n",
    "                    return res\n",
    "                else:\n",
    "                    root = root.right\n"
   ]
  },
  {
   "cell_type": "markdown",
   "metadata": {},
   "source": [
    "### 递归"
   ]
  },
  {
   "cell_type": "code",
   "execution_count": null,
   "metadata": {},
   "outputs": [],
   "source": [
    "def insert(self, root, target):\n",
    "        if not root:  # corner case + ending条件\n",
    "            return TreeNode(target)\n",
    "        \n",
    "        if target < root.val:\n",
    "            root.left = self.insert(root.left, target)\n",
    "        else:\n",
    "            root.right = self.insert(root.right, target)\n",
    "        return root\n",
    "    \n",
    "    \n",
    "    '''\n",
    "    一样\n",
    "    if target < root.val:\n",
    "            root.left = self.insert(root.left, target)\n",
    "            return root\n",
    "        else:\n",
    "            root.right = self.insert(root.right, target)\n",
    "            return root\n",
    "    '''"
   ]
  },
  {
   "cell_type": "markdown",
   "metadata": {},
   "source": [
    "### 中序遍历\n",
    "\n",
    "* 98题 99题"
   ]
  },
  {
   "cell_type": "code",
   "execution_count": null,
   "metadata": {},
   "outputs": [],
   "source": [
    "class Solution:\n",
    "    # 方法一\n",
    "    def isValidBST(self, root):\n",
    "        def helper(root,max_val,min_val):\n",
    "            if root == None:\n",
    "                return True\n",
    "\n",
    "            if root.val < max_val and root.val > min_val:\n",
    "                return helper(root.left,root.val,min_val) and helper(root.right,max_val,root.val)\n",
    "            return False\n",
    "\n",
    "        max_val = float('inf')\n",
    "        min_val = -float('inf')\n",
    "        return helper(root,max_val,min_val)\n",
    "\n",
    "    # 方法二\n",
    "    def isValidBST2(self, root):\n",
    "        if root == None:\n",
    "            return True\n",
    "\n",
    "        pre = -float('inf')\n",
    "        stack = []\n",
    "        p_node = root\n",
    "\n",
    "        # p_node是None，意味着这这一侧已经是最左边了，且这个最左边的node没有right，要往上层的right走\n",
    "        # stack == [], 刚开始的时候或者root.left都比完了(包括root)，要开始比root.right\n",
    "        while stack or p_node:\n",
    "            # 把所有当前访问节点的左孩子都入栈\n",
    "            while p_node:\n",
    "                stack.append(p_node)\n",
    "                p_node = p_node.left\n",
    "\n",
    "            # 操作栈顶节点，如果是第一次运行到这步，那么这是整棵树的最左节点\n",
    "            cur_node = stack.pop() \n",
    "            # 检查是否从小到大\n",
    "            if cur_node.val > pre:\n",
    "                pre = cur_node.val\n",
    "            else:\n",
    "                return False\n",
    "\n",
    "            # 将指针指向当前节点的右节点\n",
    "            if cur_node.right != None:\n",
    "                p_node = cur_node.right\n",
    "\n",
    "        return True"
   ]
  },
  {
   "cell_type": "markdown",
   "metadata": {},
   "source": [
    "# Python"
   ]
  },
  {
   "cell_type": "code",
   "execution_count": 1,
   "metadata": {},
   "outputs": [
    {
     "data": {
      "text/plain": [
       "[]"
      ]
     },
     "execution_count": 1,
     "metadata": {},
     "output_type": "execute_result"
    }
   ],
   "source": [
    "l = [1,2,3,4]\n",
    "l[0:0]"
   ]
  },
  {
   "cell_type": "code",
   "execution_count": 2,
   "metadata": {},
   "outputs": [
    {
     "data": {
      "text/plain": [
       "[]"
      ]
     },
     "execution_count": 2,
     "metadata": {},
     "output_type": "execute_result"
    }
   ],
   "source": [
    "l[4:0]"
   ]
  },
  {
   "cell_type": "markdown",
   "metadata": {},
   "source": [
    "## 无限大\n"
   ]
  },
  {
   "cell_type": "code",
   "execution_count": null,
   "metadata": {},
   "outputs": [],
   "source": [
    "float('-inf')\n",
    "\n",
    "float('inf')"
   ]
  }
 ],
 "metadata": {
  "kernelspec": {
   "display_name": "Python 3",
   "language": "python",
   "name": "python3"
  },
  "language_info": {
   "codemirror_mode": {
    "name": "ipython",
    "version": 3
   },
   "file_extension": ".py",
   "mimetype": "text/x-python",
   "name": "python",
   "nbconvert_exporter": "python",
   "pygments_lexer": "ipython3",
   "version": "3.7.3"
  },
  "toc": {
   "base_numbering": 1,
   "nav_menu": {},
   "number_sections": true,
   "sideBar": true,
   "skip_h1_title": false,
   "title_cell": "Table of Contents",
   "title_sidebar": "Contents",
   "toc_cell": false,
   "toc_position": {},
   "toc_section_display": true,
   "toc_window_display": false
  }
 },
 "nbformat": 4,
 "nbformat_minor": 4
}
