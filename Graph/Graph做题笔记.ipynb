{
 "cells": [
  {
   "cell_type": "markdown",
   "metadata": {},
   "source": [
    "Graph题\n",
    "\n",
    "# 图的基础\n",
    "* 133.Clone Graph\n",
    "\n",
    "\n",
    "# 无向图\n",
    "\n",
    "**并查集**   \n",
    "* 261.Graph Valid Tree.py\n",
    "* 323.Number of Connected Components in an Undirected Graph.py\n",
    "* 547.Friend Circles.py\n",
    "\n",
    "# 有向图\n",
    "\n",
    "**拓扑排序**   \n",
    "* 207.Course Schedule.py\n",
    "* 210.Course Schedule II.py\n",
    "* 444.Sequence Reconstruction.py\n",
    "* 802.Find Eventual Safe States.py\n",
    "* 程序的依赖关系.py\n",
    "\n",
    "**路径和-求层数**   \n",
    "* 1376.Time Needed to Inform All Employees.py\n",
    "\n",
    "\n",
    "# 网格搜索\n",
    "* 200.Number of Islands.py\n",
    "* 733.Flood Fill.py"
   ]
  },
  {
   "cell_type": "markdown",
   "metadata": {},
   "source": [
    "# 笔记\n",
    "* 无向图遍历-BFS.py\n",
    "* 无向图遍历-DFS.py\n",
    "* 无向图判断是否有环.py\n",
    "* 有向图判断是否有环.py\n",
    "* 拓扑排序.py\n",
    "* 并查集.py\n",
    "\n",
    "**未完成**   \n",
    "* 无向图的最长距离\n"
   ]
  }
 ],
 "metadata": {
  "kernelspec": {
   "display_name": "Python 3",
   "language": "python",
   "name": "python3"
  },
  "language_info": {
   "codemirror_mode": {
    "name": "ipython",
    "version": 3
   },
   "file_extension": ".py",
   "mimetype": "text/x-python",
   "name": "python",
   "nbconvert_exporter": "python",
   "pygments_lexer": "ipython3",
   "version": "3.7.3"
  },
  "toc": {
   "base_numbering": 1,
   "nav_menu": {},
   "number_sections": true,
   "sideBar": true,
   "skip_h1_title": false,
   "title_cell": "Table of Contents",
   "title_sidebar": "Contents",
   "toc_cell": false,
   "toc_position": {},
   "toc_section_display": true,
   "toc_window_display": false
  }
 },
 "nbformat": 4,
 "nbformat_minor": 4
}
