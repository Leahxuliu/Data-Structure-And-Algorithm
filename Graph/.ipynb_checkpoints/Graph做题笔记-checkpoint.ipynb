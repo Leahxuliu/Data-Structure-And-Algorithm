{
 "cells": [
  {
   "cell_type": "code",
   "execution_count": null,
   "metadata": {},
   "outputs": [],
   "source": [
    "#!/usr/bin/python\n",
    "# -*- coding: utf-8 -*-\n",
    "# @Time    : 2020/03  \n",
    "# @Author  : XU Liu\n",
    "# @FileName: \n",
    "\n",
    "'''\n",
    "1. 题目要求：\n",
    "\n",
    "\n",
    "2. 理解：\n",
    "\n",
    "\n",
    "3. 题目类型：\n",
    "\n",
    "\n",
    "4. 输出输入以及边界条件：\n",
    "input: \n",
    "output: \n",
    "corner case: \n",
    "\n",
    "5. 解题思路\n",
    "    \n",
    "\n",
    "'''"
   ]
  },
  {
   "cell_type": "markdown",
   "metadata": {},
   "source": [
    "Graph题\n",
    "\n",
    "# 图的基础\n",
    "* 133.Clone Graph\n",
    "\n",
    "\n",
    "# 无向图\n",
    "\n",
    "**并查集**   \n",
    "* 261.Graph Valid Tree\n",
    "* 323.Number of Connected Components in an Undirected Graph\n",
    "* 547.Friend Circles\n",
    "\n",
    "# 有向图\n",
    "\n",
    "**判断孤立个数和分群**   \n",
    "* 841.Keys and Rooms (完成1)\n",
    "\n",
    "**判断环**   \n",
    "* 207.Course Schedule（拓扑排序）\n",
    "* 802.Find Eventual Safe States（拓扑排序）\n",
    "\n",
    "**路径和-求层数**   \n",
    "* 1376.Time Needed to Inform All Employees\n",
    "* 210.Course Schedule II\n",
    "* 399\n",
    "* 444.Sequence Reconstruction\n",
    "* 程序的依赖关系.py\n",
    "\n",
    "\n",
    "# 网格搜索\n",
    "* 200.Number of Islands\n",
    "* 733.Flood Fill"
   ]
  },
  {
   "cell_type": "markdown",
   "metadata": {},
   "source": [
    "# 笔记\n",
    "* 无向图遍历-BFS.py\n",
    "* 无向图遍历-DFS.py\n",
    "* 无向图判断是否有环.py\n",
    "* 有向图判断是否有环.py\n",
    "* 拓扑排序.py\n",
    "* 并查集.py\n",
    "\n",
    "**未完成**   \n",
    "* 无向图的最长距离\n"
   ]
  }
 ],
 "metadata": {
  "kernelspec": {
   "display_name": "Python 3",
   "language": "python",
   "name": "python3"
  },
  "language_info": {
   "codemirror_mode": {
    "name": "ipython",
    "version": 3
   },
   "file_extension": ".py",
   "mimetype": "text/x-python",
   "name": "python",
   "nbconvert_exporter": "python",
   "pygments_lexer": "ipython3",
   "version": "3.7.3"
  },
  "toc": {
   "base_numbering": 1,
   "nav_menu": {},
   "number_sections": true,
   "sideBar": true,
   "skip_h1_title": false,
   "title_cell": "Table of Contents",
   "title_sidebar": "Contents",
   "toc_cell": false,
   "toc_position": {},
   "toc_section_display": true,
   "toc_window_display": false
  }
 },
 "nbformat": 4,
 "nbformat_minor": 4
}
