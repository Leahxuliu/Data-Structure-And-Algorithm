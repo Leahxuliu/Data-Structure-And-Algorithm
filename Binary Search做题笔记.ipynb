{
 "cells": [
  {
   "cell_type": "code",
   "execution_count": null,
   "metadata": {},
   "outputs": [],
   "source": [
    "#!/usr/bin/python\n",
    "# -*- coding: utf-8 -*-\n",
    "# @Time    : 2020/03  \n",
    "# @Author  : XU Liu\n",
    "# @FileName: \n",
    "\n",
    "'''\n",
    "1. 题目要求：\n",
    "\n",
    "\n",
    "2. 理解：\n",
    "\n",
    "\n",
    "3. 题目类型：\n",
    "\n",
    "\n",
    "4. 输出输入以及边界条件：\n",
    "input: \n",
    "output: \n",
    "corner case: \n",
    "\n",
    "5. 解题思路\n",
    "    \n",
    "\n",
    "'''"
   ]
  },
  {
   "cell_type": "markdown",
   "metadata": {},
   "source": [
    "# 有明确的target\n",
    "* 167.Two Sum II - Input array is sorted.py\n",
    "* 240.Search a 2D Matrix II.py\n",
    "* 33.Search in Rotated Sorted Array.py\n",
    "* 367.Valid Perfect Square.py\n",
    "* 374.Guess Number Higher or Lower.py\n",
    "* 74.Search a 2D Matrix.py\n",
    "* 81.Search in Rotated Sorted Array II.py\n",
    "\n",
    "# 没有明确的target\n",
    "\n",
    "\n",
    "# 没有明确的target类型，可以越界类型\n",
    "\n"
   ]
  }
 ],
 "metadata": {
  "kernelspec": {
   "display_name": "Python 3",
   "language": "python",
   "name": "python3"
  },
  "language_info": {
   "codemirror_mode": {
    "name": "ipython",
    "version": 3
   },
   "file_extension": ".py",
   "mimetype": "text/x-python",
   "name": "python",
   "nbconvert_exporter": "python",
   "pygments_lexer": "ipython3",
   "version": "3.7.3"
  },
  "toc": {
   "base_numbering": 1,
   "nav_menu": {},
   "number_sections": true,
   "sideBar": true,
   "skip_h1_title": false,
   "title_cell": "Table of Contents",
   "title_sidebar": "Contents",
   "toc_cell": false,
   "toc_position": {},
   "toc_section_display": true,
   "toc_window_display": false
  }
 },
 "nbformat": 4,
 "nbformat_minor": 4
}
