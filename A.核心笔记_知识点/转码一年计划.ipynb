{
 "cells": [
  {
   "cell_type": "markdown",
   "metadata": {},
   "source": [
    "# 网课\n",
    "\n",
    "* 计算机导论：CS50\n",
    "* python理论：CS61A，有中文GitHub\n",
    "* Java+数据结构：CS61B，有中文GitHub\n",
    "* Java算法：Princeton Robert Sedgewick教授的Algorithms, Part I和Algorithms, Part II\n",
    "* 亚马逊OOD（Object Oriented Design & Design Patterns）：\n",
    "* 计算机系统：CMV15-213/南大MWC\n",
    "* 系统设计：Grokking the System Design Interview\n",
    "* 数据库"
   ]
  },
  {
   "cell_type": "markdown",
   "metadata": {},
   "source": [
    "# 计划\n",
    "\n",
    "* 上班前复习前一天做的题\n",
    "* 下班后做两题（谷歌高频题，按顺序做）\n",
    "* 睡前读英语20min\n",
    "* 周末上网课，周日的比赛必须参加"
   ]
  },
  {
   "cell_type": "markdown",
   "metadata": {},
   "source": [
    "# BQ\n",
    "\n",
    "* What is your Biggest challenge? 想听的是你面对challenge和如何解决的能力。\n",
    "* 最引以为豪的project是什么？ 考你的沟通能力，看看你能不能通过画图和讲话把一个project说清楚。\n",
    "* 如果在团队中你有不同意见会怎么办？如果他人针对你你会怎么办？想听你解决冲突和沟通能力，答案的关键词是沟通，沟通可以解决一切问题……. 1point3acres\n",
    "* 有什么赶掉deadline或者几乎赶掉deadline的情况吗？怎么处理的？想听你的计划和抗压能力，答案的关键词是计划好，如果计划赶不上变化要赶快和经理以及相关人员沟通，然后每次update进度时通知这些人，开会时写meeting minutes并发给他们。\n",
    "* 告诉我一个你之前manager给你的negative feedback。你犯过最大的错误是什么。这时候一定要回答一个真真正正的错误，他们主要想听你以后是如何改正或者避免的。\n",
    "* 必问题：What questions do you want to ask me?\n",
    "* 参考问题：    \n",
    "    A.  What is the ratio of testers to developers to program managers?     \n",
    "    B. What brought you to this company?    \n",
    "    C. Why did the product choose to use the X protocol over the Y protocol?    \n",
    "    D. I'm very interested in scalability, and I'd love to learn more about it. What opportunities are there at this company to learn about this?    \n",
    "    E. I'm not familiar with technology X, but it sounds like a very interesting solution. Could you tell me more about how it works?"
   ]
  }
 ],
 "metadata": {
  "kernelspec": {
   "display_name": "Python 3",
   "language": "python",
   "name": "python3"
  },
  "language_info": {
   "codemirror_mode": {
    "name": "ipython",
    "version": 3
   },
   "file_extension": ".py",
   "mimetype": "text/x-python",
   "name": "python",
   "nbconvert_exporter": "python",
   "pygments_lexer": "ipython3",
   "version": "3.7.3"
  },
  "toc": {
   "base_numbering": 1,
   "nav_menu": {},
   "number_sections": true,
   "sideBar": true,
   "skip_h1_title": false,
   "title_cell": "Table of Contents",
   "title_sidebar": "Contents",
   "toc_cell": false,
   "toc_position": {},
   "toc_section_display": true,
   "toc_window_display": false
  }
 },
 "nbformat": 4,
 "nbformat_minor": 4
}
