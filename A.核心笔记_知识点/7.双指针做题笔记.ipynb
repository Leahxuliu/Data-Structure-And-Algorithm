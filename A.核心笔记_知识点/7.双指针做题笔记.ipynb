{
 "cells": [
  {
   "cell_type": "markdown",
   "metadata": {},
   "source": [
    "# 双指针\n",
    "\n",
    "所谓双指针算法，就是指的是在遍历的过程中，不是普通的使用单个指针进行循环访问，而是使用两个相同方向或者相反方向的指针进行扫描，从而达到相应的目的。双指针法充分使用了数组有序这一特征，从而在某些情况下能够简化一些运算，降低时间复杂度.\n",
    "\n",
    "* 对撞双指针\n",
    "* 对开双指针\n",
    "* 快慢双指针 - 前向型\n",
    "* 滑动窗口 - 前向型\n",
    "* 分离双指针"
   ]
  },
  {
   "cell_type": "code",
   "execution_count": null,
   "metadata": {},
   "outputs": [],
   "source": [
    "#!/usr/bin/python\n",
    "# -*- coding: utf-8 -*-\n",
    "# @Time    : 2020/04/29  \n",
    "# @Author  : XU Liu\n",
    "# @FileName: \n",
    "\n",
    "'''\n",
    "1. 题目要求：\n",
    "\n",
    "\n",
    "2. 理解：\n",
    "\n",
    "\n",
    "3. 输出输入以及边界条件：\n",
    "input: \n",
    "output: \n",
    "corner case: \n",
    "\n",
    "4. 解题思路\n",
    "    \n",
    "5. 空间时间复杂度\n",
    "\n",
    "'''"
   ]
  },
  {
   "cell_type": "markdown",
   "metadata": {},
   "source": [
    "## 对撞双指针\n",
    "\n",
    "### 知识点\n",
    "* **对撞指针**是指在有序数组中，将指向最左侧的索引定义为左指针 (left)，最右侧的定义为右指针 (right)，然后从两头向中间进行数组遍历。\n",
    "\n",
    "\n",
    "### 题目和模版\n",
    "* 1.Two Sum.py 两数之和（完成1）\n",
    "* 15.3Sum.py 三数之和（完成1）\n",
    "* 16.3Sum Closest.py 最接近的三数之和（完成1）\n",
    "* 18 - 四数之和 （完成1）\n",
    "* 167.Two Sum II - Input array is sorted.py 两数之和 - 输入有序数组（完成1）\n",
    "* 11 - 盛最多水的容器（完成1）\n",
    "* 42.Trapping Rain Water.py 接雨水 hard\n",
    "* 611.Valid Triangle Number.py 有效三角形的个数\n",
    " \n"
   ]
  },
  {
   "cell_type": "code",
   "execution_count": null,
   "metadata": {},
   "outputs": [],
   "source": [
    "class Solution:\n",
    "    def twoSum(self, numbers, target: int):\n",
    "        if len(numbers) == 2:  # corner case\n",
    "            return [1, 2]\n",
    "\n",
    "        i, j = 0, len(numbers) - 1\n",
    "        while i < j:  # 判断i,j的位置 - 粗略的比较条件\n",
    "            total = numbers[i] + numbers[j]  # 目前的结果\n",
    "            if target < total:  #  更详细的比较条件\n",
    "                j -= 1\n",
    "            elif total < target:\n",
    "                i += 1\n",
    "            else:\n",
    "                return [i + 1, j + 1]"
   ]
  },
  {
   "cell_type": "markdown",
   "metadata": {},
   "source": [
    "## 对开双指针\n",
    "\n",
    "### 知识点\n",
    "* **对开指针**是指在有序数组中，选择一个中点，从中点开始，向左和向右用两个指针对数组进行遍历\n",
    "\n",
    "### 题目和模版\n",
    "* 845 - 数组中的最长山脉（完成1）"
   ]
  },
  {
   "cell_type": "code",
   "execution_count": null,
   "metadata": {},
   "outputs": [],
   "source": [
    "class Solution:\n",
    "    def longestMountain(self, A: List[int]) -> int:\n",
    "        n = len(A)\n",
    "        \n",
    "        if n < 3:\n",
    "            return 0\n",
    "        res = 0\n",
    "        for i in range(1, n - 1):\n",
    "            if A[i - 1] < A[i] and A[i] > A[i + 1]:\n",
    "                i, j = i - 1, i + 1\n",
    "                while i >= 1:\n",
    "                    if A[i] > A[i - 1]:\n",
    "                        i -= 1\n",
    "                    else:\n",
    "                        break\n",
    "                while j <= n - 2:\n",
    "                    if A[j] > A[j + 1]:\n",
    "                        j += 1\n",
    "                    else:\n",
    "                        break\n",
    "                res = max(res, (j - i + 1))\n",
    "        return res\n"
   ]
  },
  {
   "cell_type": "markdown",
   "metadata": {},
   "source": [
    "## 前向型指针 - 快慢双指针\n",
    "\n",
    "### 知识点\n",
    "快慢指针也是双指针，但是两个指针从同一侧开始遍历数组，将这两个指针分别定义为快指针（fast）和慢指针（slow），两个指针以不同的策略移动，直到两个指针的值相等（或其他特殊条件）为止，如 fast 每次增长两个，slow 每次增长一个。\n",
    "\n",
    "\n",
    "### 技巧\n",
    "* 存在两数之间相比关系的时候，i,j = 0, 1 比如去掉重复的数\n",
    "* 不存在nums里面两数相比关系，比如去掉指定数的时候，i, j = 0, 0\n",
    "* j的目的是找到符合条件的值\n",
    "* i的目的是找到符合条件的位置\n",
    "\n",
    "**核心：**\n",
    "\n",
    "前向型指针，i：slow指针， j：quick指针    \n",
    "i: 位置，最终的结果   \n",
    "j: 找值，遍历arr   \n",
    "初始值 i==0, j==1 / 0    \n",
    "arr[i] == arr[j] --> j继续往前走 / ...    \n",
    "arr[i] != arr[j] --> i = j + 1 / i + 1 / ...\n",
    "\n",
    "### 题目与模版\n",
    "题目：\n",
    "* 26 - 删除排序数组中的重复项（完成1）\n",
    "* 27 - 移除元素（完成1） 26,27 对比着思考（完成1）\n",
    "* 80 - 删除排序数组中的重复项（完成1 不太理解）\n",
    "* 283 - 移动零（完成1）与小丁方法不同\n",
    "* 904 - 水果成篮(pass)\n",
    "\n"
   ]
  },
  {
   "cell_type": "code",
   "execution_count": null,
   "metadata": {},
   "outputs": [],
   "source": [
    "class Solution:\n",
    "    def removeDuplicates(self, nums) -> int:\n",
    "        if not nums:  # corner case\n",
    "            return 0\n",
    "        if len(nums) == 1:\n",
    "            return 1\n",
    "        \n",
    "        i, j = 0, 0  # i,j初值会随题目变化而变化；i来标记上一个状态的值\n",
    "        n = len(nums)\n",
    "        \n",
    "        while j < n:\n",
    "            if nums[i] == nums[j]:  # 常常会在此内部做文章\n",
    "                j += 1\n",
    "            else:\n",
    "                i += 1\n",
    "                nums[s] = nums[f]\n",
    "                j += 1\n",
    "        return i + 1"
   ]
  },
  {
   "cell_type": "markdown",
   "metadata": {},
   "source": [
    "## 前向型指针 - 滑动窗口\n",
    "\n",
    "### 知识点\n",
    "\n",
    "#### 定义\n",
    "* 当需要获得数组或者字符串的**连续子部分** contiguous subarray，考虑使用滑动窗口\n",
    "* **nums[left,right] 为滑动窗口**，根据具体的要求，通过遍历的时候，来改变 left 和 right 的位置，从而完成任务\n",
    "    * **先固定住左边界，探索右边界；再适当缩小左边界**\n",
    "* 必要条件：如果题目涉及到求和等数值运算时，输入的数组中**不能有负数**，否则，不满足滑动窗口单调的原则。\n",
    "* 保证滑窗能够覆盖整个搜索空间。\n",
    "\n",
    "#### 题目特征\n",
    "* 输入是线性结构：链表，数组，字符串\n",
    "* 输出是最长/最短 或 最大/最小目标值 或 连续子序列 等\n",
    "\n",
    "#### 常见题型\n",
    "* k个连续数字的最大值；\n",
    "* 最长不重复子串；\n",
    "* 回文字符串；\n",
    "* 字符串匹配(寻找某字符串中是否有给定字符串、是否有异\n",
    "\n",
    "### 题目\n",
    "* 209.Minimum Size Subarray Sum(也可用binary search)（完成1）\n",
    "* 713.Subarray Product Less Than K\n",
    "\n",
    "### 模版"
   ]
  },
  {
   "cell_type": "code",
   "execution_count": null,
   "metadata": {},
   "outputs": [],
   "source": [
    "class Solution:\n",
    "    def slideWindow(self, nums: List[int]):\n",
    "        l = r = 0\n",
    "        n = len(nums)\n",
    "        \n",
    "        # 先固定住左边界，探索右边界；再适当缩小左边界\n",
    "        for r in range(n): # 滑动窗口的特征是不断移动右指针\n",
    "            window append(s[r])\n",
    "            while valid:  # 可修改l的条件\n",
    "                window remove(s[l])\n",
    "                l += 1  "
   ]
  },
  {
   "cell_type": "code",
   "execution_count": null,
   "metadata": {},
   "outputs": [],
   "source": [
    "'''\n",
    "长度最小的子数组\n",
    "给定一个含有 n 个正整数的数组和一个正整数 s ，找出该数组中满足其和 ≥ s 的长度最小的连续子数组。\n",
    "如果不存在符合条件的连续子数组，返回 0。\n",
    "'''\n",
    "# 先固定住左边界，探索右边界；\n",
    "# 当sum比指定s大时，适当缩小左边界\n",
    "\n",
    "class Solution:\n",
    "    def minSubArrayLen(self, s: int, nums: List[int]) -> int:\n",
    "        l, Sum, res = 0, 0, float('inf')\n",
    "        \n",
    "        for r in range(len(nums)):\n",
    "            Sum += nums[r]\n",
    "            #  while Sum >= s: 可\n",
    "            while Sum >= s and l <= r:\n",
    "                res = min(res, (r - l + 1))\n",
    "                Sum -= nums[l]  # 关键点\n",
    "                l += 1 \n",
    "        if res == float('inf'):\n",
    "            return 0\n",
    "        else:\n",
    "            return res"
   ]
  },
  {
   "cell_type": "markdown",
   "metadata": {},
   "source": [
    "## 分离指针\n",
    "\n",
    "### 知识点\n",
    "* 输入是两个数组 / 链表，两个指针分别在两个容器中移动；根据问题的不同，初始位置可能都在头部，或者都在尾部，或一头一尾\n",
    "\n",
    "### 题目与模版\n",
    "* 349.Intersection of Two Arrays 两个数组的交集 (完成1)\n",
    "* 350.Intersection of Two Arrays II 两个数组的交集(完成1)\n",
    "* 88.Merge Sorted Array 合并两个有序数组(完成1)\n",
    "* 624.Maximum Distance in Arrays\n"
   ]
  },
  {
   "cell_type": "code",
   "execution_count": null,
   "metadata": {},
   "outputs": [],
   "source": [
    "# 350\n",
    "class Solution:\n",
    "    def intersect(self, nums1, nums2):\n",
    "        if not nums1 or not nums2:\n",
    "            return []\n",
    "\n",
    "        nums1.sort()\n",
    "        nums2.sort()\n",
    "\n",
    "        m = len(nums1)\n",
    "        n = len(nums2)\n",
    "\n",
    "        i = j = 0  # 根据问题的不同，初始位置可能都在头部，或者都在尾部，或一头一尾\n",
    "\n",
    "        res = []\n",
    "        while i < m and j < n:\n",
    "            if nums1[i] < nums2[j]:\n",
    "                i += 1\n",
    "            elif nums1[i] == nums2[j]:\n",
    "                res.append(nums1[i])\n",
    "                i += 1\n",
    "                j += 1\n",
    "            else:\n",
    "                j += 1\n",
    "        return res"
   ]
  },
  {
   "cell_type": "code",
   "execution_count": null,
   "metadata": {},
   "outputs": [],
   "source": [
    "# 88\n",
    "# 给定两个有序整数数组 nums1 和 nums2，将 nums2 合并到 nums1 中，使得 num1 成为一个有序数组\n",
    "\n",
    "class Solution:\n",
    "    def merge(self, nums1: List[int], m: int, nums2: List[int], n: int) -> None:\n",
    "        \"\"\"\n",
    "        Do not return anything, modify nums1 in-place instead.\n",
    "        \"\"\"\n",
    "        i = m - 1\n",
    "        j = n - 1\n",
    "        k = m + n - 1\n",
    "        \n",
    "        while i >= 0 and j >= 0:\n",
    "            print(nums1)\n",
    "            if nums1[i] <= nums2[j]:\n",
    "                nums1[k] = nums2[j]\n",
    "                j -= 1\n",
    "                k -= 1\n",
    "            else:\n",
    "                nums1[k] = nums1[i]\n",
    "                i -= 1\n",
    "                k -= 1\n",
    "            \n",
    "        if j >= 0:\n",
    "            nums1[:k + 1] = nums2[:j + 1]"
   ]
  },
  {
   "cell_type": "markdown",
   "metadata": {},
   "source": [
    "# python\n",
    "\n",
    "## list 删除\n",
    "* del: 在原来的list上，删除指定位置的值\n",
    "* remove: 在原来的list上，删掉list里面第一个出现的指定值\n",
    "* pop: 输出被删掉的值，删掉的是指定位置的值"
   ]
  },
  {
   "cell_type": "code",
   "execution_count": 1,
   "metadata": {},
   "outputs": [
    {
     "data": {
      "text/plain": [
       "[2, 3, 4, 5, 1, 2]"
      ]
     },
     "execution_count": 1,
     "metadata": {},
     "output_type": "execute_result"
    }
   ],
   "source": [
    "a = [1,2,3,4,5,1,2]\n",
    "del a[0]\n",
    "a"
   ]
  },
  {
   "cell_type": "code",
   "execution_count": 4,
   "metadata": {},
   "outputs": [
    {
     "data": {
      "text/plain": [
       "[2, 3, 4, 5, 1, 2]"
      ]
     },
     "execution_count": 4,
     "metadata": {},
     "output_type": "execute_result"
    }
   ],
   "source": [
    "a = [1,2,3,4,5,1,2]\n",
    "a.remove(1)\n",
    "a"
   ]
  },
  {
   "cell_type": "code",
   "execution_count": 5,
   "metadata": {},
   "outputs": [
    {
     "data": {
      "text/plain": [
       "2"
      ]
     },
     "execution_count": 5,
     "metadata": {},
     "output_type": "execute_result"
    }
   ],
   "source": [
    "a = [1,2,3,4,5,1,2]\n",
    "a.pop(1)"
   ]
  },
  {
   "cell_type": "markdown",
   "metadata": {},
   "source": [
    "## set没有index"
   ]
  },
  {
   "cell_type": "code",
   "execution_count": 6,
   "metadata": {},
   "outputs": [
    {
     "data": {
      "text/plain": [
       "{4}"
      ]
     },
     "execution_count": 6,
     "metadata": {},
     "output_type": "execute_result"
    }
   ],
   "source": [
    "a = set()\n",
    "a.add(4)\n",
    "a"
   ]
  },
  {
   "cell_type": "code",
   "execution_count": 9,
   "metadata": {},
   "outputs": [
    {
     "data": {
      "text/plain": [
       "2"
      ]
     },
     "execution_count": 9,
     "metadata": {},
     "output_type": "execute_result"
    }
   ],
   "source": [
    "a = 1\n",
    "a *= 2\n",
    "a"
   ]
  },
  {
   "cell_type": "code",
   "execution_count": 10,
   "metadata": {},
   "outputs": [
    {
     "data": {
      "text/plain": [
       "1.0"
      ]
     },
     "execution_count": 10,
     "metadata": {},
     "output_type": "execute_result"
    }
   ],
   "source": [
    "a /= 2\n",
    "a"
   ]
  }
 ],
 "metadata": {
  "kernelspec": {
   "display_name": "Python 3",
   "language": "python",
   "name": "python3"
  },
  "language_info": {
   "codemirror_mode": {
    "name": "ipython",
    "version": 3
   },
   "file_extension": ".py",
   "mimetype": "text/x-python",
   "name": "python",
   "nbconvert_exporter": "python",
   "pygments_lexer": "ipython3",
   "version": "3.7.3"
  },
  "toc": {
   "base_numbering": 1,
   "nav_menu": {},
   "number_sections": true,
   "sideBar": true,
   "skip_h1_title": false,
   "title_cell": "Table of Contents",
   "title_sidebar": "Contents",
   "toc_cell": false,
   "toc_position": {},
   "toc_section_display": true,
   "toc_window_display": false
  }
 },
 "nbformat": 4,
 "nbformat_minor": 4
}
