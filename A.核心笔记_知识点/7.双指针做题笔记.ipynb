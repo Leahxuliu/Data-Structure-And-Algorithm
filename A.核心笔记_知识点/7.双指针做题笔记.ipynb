{
 "cells": [
  {
   "cell_type": "markdown",
   "metadata": {},
   "source": [
    "# 知识点\n",
    "\n",
    "所谓双指针算法，就是指的是在遍历的过程中，不是普通的使用单个指针进行循环访问，而是使用两个相同方向或者相反方向的指针进行扫描，从而达到相应的目的。双指针法充分使用了数组有序这一特征，从而在某些情况下能够简化一些运算，降低时间复杂度.\n"
   ]
  },
  {
   "cell_type": "code",
   "execution_count": null,
   "metadata": {},
   "outputs": [],
   "source": [
    "def two_pointer(seq):\n",
    "    # 确定指针的方向后定义指针初始值\n",
    "    # 0 为同向 len(seq) - 1 为相向\n",
    "    r = 0\n",
    "\n",
    "    # 左指针移动\n",
    "    for l in range(len(seq)):\n",
    "        # 根据具体题目中所给出的条件对右指针进行移动\n",
    "        # while中的判断条件需要通过题目条件进行判断\n",
    "        # 这里同样可能是if条件 在相向指针被使用时，这样的情况较多\n",
    "        while l < r and seq[l] + seq[l] > k:\n",
    "            # 右指针向中间靠拢\n",
    "            r -= 1\n",
    "\n",
    "        # 满足题目条件后 进行的记录等相关操作\n",
    "        if l > 0 and seq[l] + seq[l] > k:\n",
    "            return l, r"
   ]
  },
  {
   "cell_type": "code",
   "execution_count": null,
   "metadata": {},
   "outputs": [],
   "source": [
    "#!/usr/bin/python\n",
    "# -*- coding: utf-8 -*-\n",
    "# @Time    : 2020/03/04  \n",
    "# @Author  : XU Liu\n",
    "# @FileName: \n",
    "\n",
    "'''\n",
    "1. 题目要求：\n",
    "\n",
    "\n",
    "2. 理解：\n",
    "\n",
    "\n",
    "3. 输出输入以及边界条件：\n",
    "input: \n",
    "output: \n",
    "corner case: \n",
    "\n",
    "4. 解题思路\n",
    "    \n",
    "5. 空间时间复杂度\n",
    "\n",
    "'''"
   ]
  },
  {
   "cell_type": "markdown",
   "metadata": {},
   "source": [
    "https://tding.top/archives/647f3958.html\n",
    "\n",
    "\n",
    "\n",
    "# 题目\n",
    "\n",
    "## 对撞指针\n",
    "\n",
    "\n",
    "\n",
    "对撞指针是指在有序数组中，将指向最左侧的索引定义为左指针 (left)，最右侧的定义为右指针 (right)，然后从两头向中间进行数组遍历。\n",
    "\n",
    "题目：\n",
    "* 1.Two Sum.py 两数之和（完成1）\n",
    "* 15.3Sum.py 三数之和（完成1）\n",
    "* 16.3Sum Closest.py 最接近的三数之和（完成1）\n",
    "* 18 - 四数之和 （完成1）\n",
    "* 167.Two Sum II - Input array is sorted.py 两数之和 - 输入有序数组（完成1）\n",
    "* 11 - 盛最多水的容器（完成1）\n",
    "* 42.Trapping Rain Water.py 接雨水 hard\n",
    "* 611.Valid Triangle Number.py 有效三角形的个数\n",
    "\n",
    "## 前向型指针 - 快慢指针\n",
    "\n",
    "快慢指针也是双指针，但是两个指针从同一侧开始遍历数组，将这两个指针分别定义为快指针（fast）和慢指针（slow），两个指针以不同的策略移动，直到两个指针的值相等（或其他特殊条件）为止，如 fast 每次增长两个，slow 每次增长一个。\n",
    "\n",
    "题目：\n",
    "* 26 - 删除排序数组中的重复项（完成1）\n",
    "* 27 - 移除元素（完成1） 26,27 对比着思考（完成1）\n",
    "* 80 - 删除排序数组中的重复项\n",
    "* 283 - 移动零\n",
    "* 845 - 数组中的最长山脉\n",
    "* 904 - 水果成篮\n",
    "\n",
    "**核心：**\n",
    "\n",
    "前向型指针，i：slow指针， j：quick指针    \n",
    "初始值 i==0, j==1    \n",
    "arr[i] == arr[j] --> j继续往前走    \n",
    "arr[i] != arr[j] --> i = j + 1 / i + 1    \n",
    "\n",
    "\n"
   ]
  },
  {
   "cell_type": "code",
   "execution_count": null,
   "metadata": {},
   "outputs": [],
   "source": []
  },
  {
   "cell_type": "code",
   "execution_count": 6,
   "metadata": {},
   "outputs": [
    {
     "data": {
      "text/plain": [
       "{4}"
      ]
     },
     "execution_count": 6,
     "metadata": {},
     "output_type": "execute_result"
    }
   ],
   "source": [
    "a = set()\n",
    "a.add(4)\n",
    "a"
   ]
  },
  {
   "cell_type": "code",
   "execution_count": 7,
   "metadata": {
    "scrolled": true
   },
   "outputs": [
    {
     "ename": "TypeError",
     "evalue": "'set' object is not subscriptable",
     "output_type": "error",
     "traceback": [
      "\u001b[0;31m---------------------------------------------------------------------------\u001b[0m",
      "\u001b[0;31mTypeError\u001b[0m                                 Traceback (most recent call last)",
      "\u001b[0;32m<ipython-input-7-8bc71255a22e>\u001b[0m in \u001b[0;36m<module>\u001b[0;34m\u001b[0m\n\u001b[0;32m----> 1\u001b[0;31m \u001b[0ma\u001b[0m\u001b[0;34m[\u001b[0m\u001b[0;36m1\u001b[0m\u001b[0;34m]\u001b[0m\u001b[0;34m\u001b[0m\u001b[0;34m\u001b[0m\u001b[0m\n\u001b[0m",
      "\u001b[0;31mTypeError\u001b[0m: 'set' object is not subscriptable"
     ]
    }
   ],
   "source": [
    "a[1]"
   ]
  },
  {
   "cell_type": "code",
   "execution_count": 8,
   "metadata": {
    "scrolled": true
   },
   "outputs": [
    {
     "ename": "TypeError",
     "evalue": "'set' object is not callable",
     "output_type": "error",
     "traceback": [
      "\u001b[0;31m---------------------------------------------------------------------------\u001b[0m",
      "\u001b[0;31mTypeError\u001b[0m                                 Traceback (most recent call last)",
      "\u001b[0;32m<ipython-input-8-5645faaf81f3>\u001b[0m in \u001b[0;36m<module>\u001b[0;34m\u001b[0m\n\u001b[0;32m----> 1\u001b[0;31m \u001b[0ma\u001b[0m\u001b[0;34m(\u001b[0m\u001b[0;36m1\u001b[0m\u001b[0;34m)\u001b[0m\u001b[0;34m\u001b[0m\u001b[0;34m\u001b[0m\u001b[0m\n\u001b[0m",
      "\u001b[0;31mTypeError\u001b[0m: 'set' object is not callable"
     ]
    }
   ],
   "source": [
    "a(1)"
   ]
  },
  {
   "cell_type": "code",
   "execution_count": 9,
   "metadata": {},
   "outputs": [
    {
     "ename": "TypeError",
     "evalue": "sequence item 0: expected str instance, int found",
     "output_type": "error",
     "traceback": [
      "\u001b[0;31m---------------------------------------------------------------------------\u001b[0m",
      "\u001b[0;31mTypeError\u001b[0m                                 Traceback (most recent call last)",
      "\u001b[0;32m<ipython-input-9-762167004f5f>\u001b[0m in \u001b[0;36m<module>\u001b[0;34m\u001b[0m\n\u001b[0;32m----> 1\u001b[0;31m \u001b[0;34m''\u001b[0m\u001b[0;34m.\u001b[0m\u001b[0mjoin\u001b[0m\u001b[0;34m(\u001b[0m\u001b[0ma\u001b[0m\u001b[0;34m)\u001b[0m\u001b[0;34m\u001b[0m\u001b[0;34m\u001b[0m\u001b[0m\n\u001b[0m",
      "\u001b[0;31mTypeError\u001b[0m: sequence item 0: expected str instance, int found"
     ]
    }
   ],
   "source": [
    "''.join(a)\n"
   ]
  }
 ],
 "metadata": {
  "kernelspec": {
   "display_name": "Python 3",
   "language": "python",
   "name": "python3"
  },
  "language_info": {
   "codemirror_mode": {
    "name": "ipython",
    "version": 3
   },
   "file_extension": ".py",
   "mimetype": "text/x-python",
   "name": "python",
   "nbconvert_exporter": "python",
   "pygments_lexer": "ipython3",
   "version": "3.7.3"
  },
  "toc": {
   "base_numbering": 1,
   "nav_menu": {},
   "number_sections": true,
   "sideBar": true,
   "skip_h1_title": false,
   "title_cell": "Table of Contents",
   "title_sidebar": "Contents",
   "toc_cell": false,
   "toc_position": {},
   "toc_section_display": true,
   "toc_window_display": false
  }
 },
 "nbformat": 4,
 "nbformat_minor": 4
}
