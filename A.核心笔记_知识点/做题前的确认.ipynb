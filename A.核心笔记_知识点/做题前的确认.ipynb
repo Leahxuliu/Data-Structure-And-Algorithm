{
 "cells": [
  {
   "cell_type": "markdown",
   "metadata": {},
   "source": [
    "# 做题前的确认内容"
   ]
  },
  {
   "cell_type": "raw",
   "metadata": {},
   "source": [
    "Clarify:\n",
    "要例子，用例子演示一遍，check是否理解题意\n",
    "\n",
    "\n",
    "input: str? int? list?\n",
    "       length range is from ... to ...\n",
    "       value range is from ... to ...\n",
    "       value repeated?\n",
    "       value order?\n",
    "       (空长重序)\n",
    "\n",
    "output: int? str? ...?\n",
    "\n",
    "corner case: input if None, return what\n",
    "\n",
    "Method:\n",
    "1. brute force\n",
    "   ....\n",
    "   Time complexity\n",
    "   Space complexity\n",
    "\n",
    "2. dp / BS / BST / DFS / backtracking / two point / ....\n",
    "   ....\n",
    "   Time complexity\n",
    "   Space complexity\n"
   ]
  },
  {
   "cell_type": "raw",
   "metadata": {},
   "source": []
  },
  {
   "cell_type": "code",
   "execution_count": null,
   "metadata": {},
   "outputs": [],
   "source": [
    "# !/usr/bin/python\n",
    "# -*- coding: utf-8 -*-\n",
    "# @Time    : 2020/05  \n",
    "# @Author  : XU Liu\n",
    "# @FileName: \n",
    "\n",
    "'''\n",
    "1. 题目要求：\n",
    "\n",
    "\n",
    "2. 理解：\n",
    "\n",
    "\n",
    "3. 输出输入以及边界条件：\n",
    "input: \n",
    "output: \n",
    "corner case: \n",
    "\n",
    "4. 解题思路\n",
    "    \n",
    "5. 空间时间复杂度\n",
    "\n",
    "'''"
   ]
  },
  {
   "cell_type": "code",
   "execution_count": null,
   "metadata": {},
   "outputs": [],
   "source": [
    "'''\n",
    "I. Clarify:\n",
    "    use preorder and inorder to build a binary tree\n",
    "    TreeNode was defined? Yes\n",
    "    \n",
    "    input: \n",
    "    output: \n",
    "    corner case: \n",
    "    \n",
    "II. Methods: \n",
    "    A. DFS\n",
    "    Steps:\n",
    "        1. \n",
    "        2. \n",
    "     \n",
    "    Complexity:\n",
    "        Time:  O()  \n",
    "        Space: O() \n",
    "        \n",
    "    \n",
    "    B. DFS + dict (optimization)\n",
    "    .....\n",
    "    Steps:\n",
    "        1. \n",
    "        2. \n",
    "        \n",
    "    \n",
    "    Complexity:\n",
    "        Time: O()\n",
    "        Space:O() \n",
    "    \n",
    "'''"
   ]
  }
 ],
 "metadata": {
  "kernelspec": {
   "display_name": "Python 3",
   "language": "python",
   "name": "python3"
  },
  "language_info": {
   "codemirror_mode": {
    "name": "ipython",
    "version": 3
   },
   "file_extension": ".py",
   "mimetype": "text/x-python",
   "name": "python",
   "nbconvert_exporter": "python",
   "pygments_lexer": "ipython3",
   "version": "3.7.3"
  },
  "toc": {
   "base_numbering": 1,
   "nav_menu": {},
   "number_sections": true,
   "sideBar": true,
   "skip_h1_title": false,
   "title_cell": "Table of Contents",
   "title_sidebar": "Contents",
   "toc_cell": false,
   "toc_position": {},
   "toc_section_display": true,
   "toc_window_display": false
  }
 },
 "nbformat": 4,
 "nbformat_minor": 4
}
