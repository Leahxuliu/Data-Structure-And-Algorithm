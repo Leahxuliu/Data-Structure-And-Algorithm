{
 "cells": [
  {
   "cell_type": "markdown",
   "metadata": {},
   "source": [
    "# 做题前的确认内容"
   ]
  },
  {
   "cell_type": "raw",
   "metadata": {},
   "source": [
    "Clarify:\n",
    "要例子，用例子演示一遍，check是否理解题意\n",
    "\n",
    "\n",
    "input: str? int? list? 可写成List[List[int]]\n",
    "       the length range is from ... to ...\n",
    "       the value range is from ... to ...\n",
    "       value repeated?\n",
    "       value order?\n",
    "       (空长重序)\n",
    "       API？XXX is defined?\n",
    "\n",
    "output: int? str? ...?\n",
    "\n",
    "corner case: input if None, return what\n",
    "\n",
    "Method:\n",
    "1. brute force\n",
    "   ....\n",
    "   Time complexity\n",
    "   Space complexity\n",
    "\n",
    "2. dp / BFS(iteration) / DFS(recursion) / backtracking / two pointer / Binary Search / Topo / Union find / Greedy / ....\n",
    "   ....\n",
    "   Time complexity\n",
    "   Space complexity\n"
   ]
  },
  {
   "cell_type": "code",
   "execution_count": null,
   "metadata": {},
   "outputs": [],
   "source": [
    "'''\n",
    "I. Clarify:\n",
    "    use preorder and inorder to build a binary tree\n",
    "    TreeNode was defined? Yes\n",
    "    \n",
    "    input: \n",
    "    output: \n",
    "    corner case: \n",
    "    \n",
    "II. Methods: \n",
    "    A. DFS\n",
    "    Steps:\n",
    "        1. \n",
    "        2. \n",
    "     \n",
    "    Complexity:\n",
    "        Time:  O()  \n",
    "        Space: O() \n",
    "        \n",
    "    \n",
    "    B. DFS + dict (optimization)\n",
    "    .....\n",
    "    Steps:\n",
    "        1. \n",
    "        2. \n",
    "        \n",
    "    \n",
    "    Complexity:\n",
    "        Time: O()\n",
    "        Space:O() \n",
    "    \n",
    "'''"
   ]
  },
  {
   "cell_type": "markdown",
   "metadata": {},
   "source": [
    "## 解释\n",
    "\n",
    "* **recursion** / **iteration**\n",
    "* modify steps\n",
    "* optimal solution\n",
    "* traverse\n",
    "* Minimum number of coins\n",
    "* Initial value\n",
    "* Maximum sum of non-adjacent numbers 隣接しない数値の最大合計\n",
    "* set left and right boundary as 1 and num//2\n",
    "* calculate mid as (l + r) // 2, if mid * mid == num, return True   \n",
    "    if mid^2 < num, set left as mid   \n",
    "    else, set right as mid   \n",
    "* traverse i from 0 to end   \n",
    "   traverse j from i + 1 to end\n",
    "* Calculate whether i plus j equals 2\n",
    "* Convert A to B\n",
    "* create a dummy\n",
    "* the stack was used by recursion\n",
    "* create graphTag by using the index as tag\n",
    "* Make A have the property of B\n",
    "* lowercase letters\n",
    "\n",
    "### Union find\n",
    "1. create graphTag by using the index as tag\n",
    "2. scan the paris(i, j), M[i][j] == 1\n",
    "    use dfs() to find the i and j's root\n",
    "    if i root == j root, pass\n",
    "    if i root != j root, make j root == i root, and count the times\n",
    "3. res = the number of students - times\n",
    "\n",
    "\n",
    "gT = [x for x in range(N)]"
   ]
  },
  {
   "cell_type": "markdown",
   "metadata": {},
   "source": [
    "# 二叉树\n",
    "\n",
    "## 知识点\n",
    "\n",
    "### DFS\n",
    "* recursive\n",
    "* **time complexity: O(N); N is the number of nodes; scan every nodes**\n",
    "* **space complexity: average: O(logN); worst: O(N) skewed; the high of tree**\n",
    "* PreOrder (root, left, right); InOrder (left, root, right); PostOrder (left, right, root)\n",
    "\n",
    "### BFS\n",
    "* iteration\n",
    "* **time complexity: O(N); N is the number of nodes; scan every nodes**\n",
    "* **space complexity: average: O(N); best: O(1); N: the widest breadth(width)**"
   ]
  },
  {
   "cell_type": "markdown",
   "metadata": {},
   "source": [
    "## 构建"
   ]
  },
  {
   "cell_type": "code",
   "execution_count": null,
   "metadata": {},
   "outputs": [],
   "source": [
    "class TreeNode:\n",
    "    def __init__(self, x):\n",
    "        self.val = x\n",
    "        self.left = None\n",
    "        self.right = None"
   ]
  },
  {
   "cell_type": "markdown",
   "metadata": {},
   "source": [
    "### 利用BFS构造"
   ]
  },
  {
   "cell_type": "code",
   "execution_count": null,
   "metadata": {},
   "outputs": [],
   "source": [
    "# BFS构造完全二叉树\n",
    "\n",
    "from collections import deque\n",
    "class Tree:\n",
    "    def buildTree(self, nodeList):  # return root\n",
    "        if nodeList == []:\n",
    "            return None\n",
    "        \n",
    "        root = TreeNode(nodeList[0])\n",
    "        n = len(nodeList)\n",
    "        \n",
    "        queue = deque()\n",
    "        queue.append([root, 0])\n",
    "        \n",
    "        while queue:\n",
    "            node, index = queue.popleft()\n",
    "            left_index = 2 * index + 1\n",
    "            right_index = 2 * index + 2\n",
    "            if left_index < n:\n",
    "                node.left = TreeNode(nodeList[left_index])\n",
    "                queue.append([node.left, left_index])\n",
    "            if right_index < n:\n",
    "                node.right = TreeNode(nodeList[right_index])\n",
    "                queue.append([node.right, right_index])\n",
    "                \n",
    "        return root"
   ]
  },
  {
   "cell_type": "markdown",
   "metadata": {},
   "source": [
    "### 利用DFS构造\n",
    "\n",
    "* preorder构造完全二叉树\n",
    "* Preorder + Inorder （105）\n",
    "* Inorder + Postorder （106）"
   ]
  },
  {
   "cell_type": "code",
   "execution_count": null,
   "metadata": {},
   "outputs": [],
   "source": [
    "# preorder 构造完全二叉树\n",
    "class Tree:\n",
    "    def buildTree(self, nodeList):\n",
    "        if nodeList == []:\n",
    "            return \n",
    "\n",
    "        def helper(root, index):\n",
    "            if index >= len(nodeList):\n",
    "                return \n",
    "            \n",
    "            root = TreeNode(nodeList[index])\n",
    "            root.left = helper(root.left, 2 * index + 1)\n",
    "            root.right = helper(root.right, 2 * index + 2)\n",
    "            return root\n",
    "        \n",
    "        root = None\n",
    "        return helper(root, 0)\n",
    "\n",
    "# Preorder + Inorder --> 构建二叉树\n",
    "# Time:  O(N**2)  index查找O(N), N*N\n",
    "# Space: O(N) since we store the entire tree\n",
    "\n",
    "class Solution:\n",
    "    def buildTree(self, preorder: List[int], inorder: List[int]) -> TreeNode:\n",
    "        if len(preorder) == 0:\n",
    "            return None\n",
    "        \n",
    "        root = TreeNode(preorder[0])\n",
    "        mid = inorder.index(preorder[0])\n",
    "\n",
    "        root.left = self.buildTree(preorder[1:mid+1], inorder[0:mid])\n",
    "        root.right = self.buildTree(preorder[mid+1:], inorder[mid+1:])\n",
    "        return root\n",
    "    \n",
    "# 放入字典\n",
    "root.left = self.buildTree(pre_left+1,pre_left+1+mid-in_left,in_left,mid) \n",
    "root.right = self.buildTree(pre_left+1+mid-in_left,pre_right,mid+1,in_right)\n",
    "\n",
    "# Inorder + Postorder --> 构建二叉树\n",
    "root = TreeNode(postorder[-1])\n",
    "mid = inorder.index(postorder[-1])\n",
    "root.left = self.buildTree(inorder[0:mid], postorder[0:mid])\n",
    "root.right = self.buildTree(inorder[mid+1:], postorder[mid:-1])\n",
    "\n",
    "# 放入字典\n",
    "root.left = helper(iL, mid, pL, pR-iR+mid)\n",
    "root.right = helper(mid+1, iR, pR-iR+mid, pR-1)"
   ]
  },
  {
   "cell_type": "markdown",
   "metadata": {},
   "source": [
    "## 遍历"
   ]
  },
  {
   "cell_type": "code",
   "execution_count": null,
   "metadata": {},
   "outputs": [],
   "source": [
    "# BFS\n",
    "\n",
    "from collections import deque\n",
    "class Traversal:\n",
    "    def bsf(self, root):\n",
    "        if root == None:\n",
    "            return \n",
    "        queue = deque()\n",
    "        queue.append(root)\n",
    "        while queue:\n",
    "            node = queue.popleft()\n",
    "            if node.left == None:\n",
    "                queue.append(node.left)\n",
    "            if node.right == None:\n",
    "                queue.append(node.right)\n",
    "                \n",
    "# DFS\n",
    "class Traversal:\n",
    "    def dfs(self, root):\n",
    "        if root == None:\n",
    "            return \n",
    "        else:\n",
    "            print(root.val)\n",
    "            self.dfs(root.left)\n",
    "            self.dfs(root.right)"
   ]
  },
  {
   "cell_type": "markdown",
   "metadata": {},
   "source": [
    "## Depth\n",
    "\n",
    "* 104题"
   ]
  },
  {
   "cell_type": "code",
   "execution_count": null,
   "metadata": {},
   "outputs": [],
   "source": [
    "# BFS\n",
    "from collections import deque\n",
    "class Solution:\n",
    "    def maxDepth(self, root: TreeNode) -> int:\n",
    "        if root == None:\n",
    "            return 0\n",
    "\n",
    "        queue = deque()\n",
    "        queue.append(root)\n",
    "        depth = 0\n",
    "\n",
    "        while queue:\n",
    "            q_len = len(queue)\n",
    "            depth += 1\n",
    "\n",
    "            for _ in range(q_len):\n",
    "                node = queue.popleft()\n",
    "                if node.left != None:\n",
    "                    queue.append(node.left)\n",
    "                if node.right != None:\n",
    "                    queue.append(node.right)\n",
    "        return depth\n",
    "\n",
    "    \n",
    "# DFS 返回值 bottom-up\n",
    "class Solution:\n",
    "    def maxDepth(self, root: TreeNode) -> int:\n",
    "        if root == None:\n",
    "            return 0\n",
    "        \n",
    "        return max(self.maxDepth(root.left), self.maxDepth(root.right)) + 1\n",
    "    \n",
    "    \n",
    "# DFS 带参数 top-down\n",
    "class Solution:\n",
    "    def maxDepth(self, root: TreeNode) -> int:\n",
    "        if root == None:\n",
    "            return 0\n",
    "        \n",
    "        def helper(root, depth):\n",
    "            if root == None:\n",
    "                return depth\n",
    "            return max(helper(root.left, depth + 1), helper(root.right, depth + 1))\n",
    "        \n",
    "        return helper(root, 0)"
   ]
  },
  {
   "cell_type": "markdown",
   "metadata": {},
   "source": [
    "## Width\n",
    "\n",
    "* 662 最大宽度\n"
   ]
  },
  {
   "cell_type": "code",
   "execution_count": null,
   "metadata": {},
   "outputs": [],
   "source": [
    "from collections import deque\n",
    "class Solution:\n",
    "    def widthOfBinaryTree(self, root: TreeNode) -> int:\n",
    "        if root == None:\n",
    "            return 0\n",
    "\n",
    "        queue = deque()\n",
    "        queue.append([root, 0])\n",
    "        res = 0\n",
    "\n",
    "        while queue:\n",
    "            q_len = len(queue)\n",
    "            for i in range(q_len):\n",
    "                res = max(res, queue[-1][-1] - queue[0][-1] + 1)  # 切记别忘了加一\n",
    "            \n",
    "            for _ in range(q_len):\n",
    "                node, index = queue.popleft()\n",
    "                if node.left != None:\n",
    "                    queue.append([node.left, 2 * index + 1])\n",
    "                if node.right != None:\n",
    "                    queue.append([node.right, 2 * index + 2])\n",
    "        return res"
   ]
  },
  {
   "cell_type": "markdown",
   "metadata": {},
   "source": [
    "## Path\n",
    "\n",
    "* 112，113，129，257"
   ]
  },
  {
   "cell_type": "code",
   "execution_count": null,
   "metadata": {},
   "outputs": [],
   "source": [
    "# 以找all path为例\n",
    "\n",
    "# BFS\n",
    "from collections import deque\n",
    "class Solution:\n",
    "    def binaryTreePaths(self, root: TreeNode, sum: int) -> List[List[int]]:\n",
    "        if root == None:\n",
    "            return []\n",
    "        \n",
    "        all_path = []\n",
    "        queue = deque()\n",
    "        queue.append([root, []])\n",
    "\n",
    "        while queue:\n",
    "            node, path = queue.popleft()\n",
    "            path.append(node.val)\n",
    "            if node.left == None and node.right == None:\n",
    "                all_path.append(path[:])\n",
    "            \n",
    "            if node.left != None:\n",
    "                queue.append([node.left, path[:]])\n",
    "            if node.right != None:\n",
    "                queue.append([node.right, path[:]])\n",
    "        return all_path\n",
    "\n",
    "\n",
    "# DFS\n",
    "class Solution:\n",
    "    def binaryTreePaths(self, root: TreeNode, sum: int) -> List[List[int]]:\n",
    "        if root == None:\n",
    "            return []\n",
    "        \n",
    "        def findAllPath(root, path):\n",
    "            path.append(root.val)\n",
    "            if root.left == None and root.right == None:\n",
    "                all_path.append(path[:])\n",
    "                return \n",
    "            \n",
    "            if root.left != None:\n",
    "                findAllPath(root.left, path[:])\n",
    "            if root.right != None:\n",
    "                findAllPath(root.right, path[:])\n",
    "\n",
    "        all_path = []\n",
    "        findAllPath(root, [])\n",
    "        return path_all\n",
    "\n",
    "\n",
    "# Backtracking \n",
    "class Solution:\n",
    "    def binaryTreePaths(self, root: TreeNode, sum: int) -> List[List[int]]:\n",
    "        if root == None:\n",
    "            return []\n",
    "\n",
    "        def Backtracking(root, path):\n",
    "            path.append(root.val)\n",
    "\n",
    "            if root.left == None and root.right == None:\n",
    "                all_path.append(path[:])\n",
    "\n",
    "            if root.left != None:\n",
    "                Backtracking(root.left, path)\n",
    "            if root.right != None:\n",
    "                Backtracking(root.right, path)\n",
    "            \n",
    "            path.pop()\n",
    "\n",
    "        all_path = []\n",
    "        Backtracking(root, [])\n",
    "        return all_path\n"
   ]
  },
  {
   "cell_type": "markdown",
   "metadata": {},
   "source": [
    "## 常考题\n",
    "\n",
    "### Balanced Binary Tree\n",
    "* 110\n",
    "\n",
    "* Top-down recursion\n",
    "    * dfs里面套dfs，遍历node，用helper函数计算该node的depth\n",
    "* Bottom-up recursion"
   ]
  },
  {
   "cell_type": "code",
   "execution_count": null,
   "metadata": {},
   "outputs": [],
   "source": [
    "# dfs里面套dfs\n",
    "class Solution:\n",
    "    def isBalanced(self, root: TreeNode) -> bool:\n",
    "        # count depth\n",
    "        def DFS(root, depth):\n",
    "            if root == None:\n",
    "                return depth  \n",
    "            return max(DFS(root.left, depth + 1), DFS(root.right, depth + 1))\n",
    "        \n",
    "        # traverse nodes\n",
    "        if root == None:\n",
    "            return True\n",
    "        if abs(DFS(root.right, 0) - DFS(root.left, 0)) > 1:\n",
    "            return False\n",
    "        \n",
    "        return self.isBalanced(root.left) and self.isBalanced(root.right)\n",
    "\n",
    "# Bottom-up recursion\n",
    "class Solution:\n",
    "    def isBalanced(self, root: TreeNode) -> bool:\n",
    "        if root == None:\n",
    "            return True\n",
    "        \n",
    "        def depth(root):\n",
    "            if root == None:\n",
    "                return 0\n",
    "            \n",
    "            l = depth(root.left)\n",
    "            r = depth(root.right)\n",
    "\n",
    "            if abs(l - r) > 1:\n",
    "                self.flag = False\n",
    "            \n",
    "            return max(l, r) + 1\n",
    "\n",
    "        self.flag = True\n",
    "        depth(root)\n",
    "        return self.flag\n"
   ]
  },
  {
   "cell_type": "markdown",
   "metadata": {},
   "source": [
    "### SameTree\n",
    "\n",
    "* 100"
   ]
  },
  {
   "cell_type": "code",
   "execution_count": null,
   "metadata": {},
   "outputs": [],
   "source": [
    "# DFS\n",
    "class Solution:\n",
    "    def isSameTree(self, p: TreeNode, q: TreeNode) -> bool:\n",
    "        if q == None and p == None:\n",
    "            return True\n",
    "        if q == None or p == None:\n",
    "            return False\n",
    "        \n",
    "        if p.val != q.val:\n",
    "            return False\n",
    "        \n",
    "        return self.isSameTree(p.left, q.left) and self.isSameTree(p.right, q.right)\n",
    "\n",
    "# BFS\n",
    "from collections import deque\n",
    "class Solution:\n",
    "    def isSameTree(self, p: TreeNode, q: TreeNode) -> bool:\n",
    "        if q == None and p == None:\n",
    "            return True\n",
    "        if q == None or p == None:\n",
    "            return False\n",
    "\n",
    "        queue = deque()\n",
    "        queue.append([p, q])\n",
    "        while queue:\n",
    "            n1, n2 = queue.popleft()\n",
    "            if n1 == None and n2 == None:\n",
    "                continue\n",
    "            if n1 == None or n2 == None:\n",
    "                return False\n",
    "            if n1.val != n2.val:\n",
    "                return False\n",
    "\n",
    "            queue.append([n1.left, n2.left])\n",
    "            queue.append([n1.right, n2.right])\n",
    "        return True"
   ]
  },
  {
   "cell_type": "markdown",
   "metadata": {},
   "source": [
    "### Symmetric Tree\n",
    "\n",
    "* 101"
   ]
  },
  {
   "cell_type": "code",
   "execution_count": null,
   "metadata": {},
   "outputs": [],
   "source": [
    "class Solution:\n",
    "    def isSymmetric(self, root: TreeNode) -> bool:\n",
    "        if root == None:\n",
    "            return True\n",
    "        \n",
    "        def helper(l, r):\n",
    "            if l == None and r == None:\n",
    "                return True\n",
    "            if l == None or r == None:\n",
    "                return False\n",
    "            if l.val != r.val:\n",
    "                return False\n",
    "            \n",
    "            return helper(l.left, r.right) and helper(l.right, r.left)\n",
    "\n",
    "        return helper(root.left, root.right)"
   ]
  },
  {
   "cell_type": "markdown",
   "metadata": {},
   "source": [
    "# Binary Search\n",
    "\n",
    "* 排序好的序列\n",
    "* 时间复杂度：O(log n)\n",
    "* 空间复杂度：O（1）"
   ]
  },
  {
   "cell_type": "markdown",
   "metadata": {},
   "source": [
    "## 常规模版\n"
   ]
  },
  {
   "cell_type": "code",
   "execution_count": null,
   "metadata": {},
   "outputs": [],
   "source": [
    "class Solution:\n",
    "    def search(self, arr, target):\n",
    "        l, r = 0, len(arr) - 1\n",
    "        while l <= r:  # l,r位置互换时，跳出循环，r,l可相等是为了边界也能被搜索\n",
    "            mid = l + (r - l) // 2  # (l+r)//2 不这么写是为了防止超限\n",
    "            if target == arr[mid]:\n",
    "                return mid\n",
    "            elif target < arr[mid]:\n",
    "                r = mid - 1\n",
    "            elif target > arr[mid]:\n",
    "                l = mid + 1\n",
    "        return -1"
   ]
  },
  {
   "cell_type": "code",
   "execution_count": null,
   "metadata": {},
   "outputs": [],
   "source": []
  },
  {
   "cell_type": "code",
   "execution_count": 6,
   "metadata": {},
   "outputs": [
    {
     "data": {
      "text/plain": [
       "True"
      ]
     },
     "execution_count": 6,
     "metadata": {},
     "output_type": "execute_result"
    }
   ],
   "source": [
    "sentence = \"i love eating burger\"\n",
    "searchWord = \"burg\"\n",
    "\n",
    "sentence.startswith(searchWord, 0, len(searchWord))\n"
   ]
  },
  {
   "cell_type": "code",
   "execution_count": 7,
   "metadata": {},
   "outputs": [
    {
     "data": {
      "text/plain": [
       "2"
      ]
     },
     "execution_count": 7,
     "metadata": {},
     "output_type": "execute_result"
    }
   ],
   "source": [
    "l = [1,2,2]\n",
    "l.count(2)"
   ]
  },
  {
   "cell_type": "code",
   "execution_count": 8,
   "metadata": {},
   "outputs": [
    {
     "data": {
      "text/plain": [
       "1"
      ]
     },
     "execution_count": 8,
     "metadata": {},
     "output_type": "execute_result"
    }
   ],
   "source": [
    "3 % 2"
   ]
  },
  {
   "cell_type": "code",
   "execution_count": 1,
   "metadata": {},
   "outputs": [
    {
     "data": {
      "text/plain": [
       "22"
      ]
     },
     "execution_count": 1,
     "metadata": {},
     "output_type": "execute_result"
    }
   ],
   "source": [
    "x = [5,4,11,2]\n",
    "sum(x)"
   ]
  }
 ],
 "metadata": {
  "kernelspec": {
   "display_name": "Python 3",
   "language": "python",
   "name": "python3"
  },
  "language_info": {
   "codemirror_mode": {
    "name": "ipython",
    "version": 3
   },
   "file_extension": ".py",
   "mimetype": "text/x-python",
   "name": "python",
   "nbconvert_exporter": "python",
   "pygments_lexer": "ipython3",
   "version": "3.7.3"
  },
  "toc": {
   "base_numbering": 1,
   "nav_menu": {},
   "number_sections": true,
   "sideBar": true,
   "skip_h1_title": false,
   "title_cell": "Table of Contents",
   "title_sidebar": "Contents",
   "toc_cell": false,
   "toc_position": {},
   "toc_section_display": true,
   "toc_window_display": true
  }
 },
 "nbformat": 4,
 "nbformat_minor": 4
}
