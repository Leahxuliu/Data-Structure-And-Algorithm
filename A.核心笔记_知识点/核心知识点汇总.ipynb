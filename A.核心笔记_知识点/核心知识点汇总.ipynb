{
 "cells": [
  {
   "cell_type": "markdown",
   "metadata": {},
   "source": [
    "# 做题前的确认内容"
   ]
  },
  {
   "cell_type": "raw",
   "metadata": {},
   "source": [
    "Clarify:\n",
    "要例子，用例子演示一遍，check是否理解题意\n",
    "\n",
    "\n",
    "input: str? int? list? 可写成List[List[int]]\n",
    "       the length range is from ... to ...\n",
    "       the value range is from ... to ...\n",
    "       value repeated?\n",
    "       value order?\n",
    "       (空长重序)\n",
    "       API？XXX is defined?\n",
    "\n",
    "output: int? str? ...?\n",
    "\n",
    "corner case: input if None, return what\n",
    "\n",
    "Method:\n",
    "1. brute force\n",
    "   ....\n",
    "   Time complexity\n",
    "   Space complexity\n",
    "\n",
    "2. dp / BFS(iteration) / DFS(recursion) / backtracking / two pointer / Binary Search / Topo / Union find / Greedy / ....\n",
    "   ....\n",
    "   Time complexity\n",
    "   Space complexity\n"
   ]
  },
  {
   "cell_type": "code",
   "execution_count": null,
   "metadata": {},
   "outputs": [],
   "source": [
    "'''\n",
    "I. Clarify:\n",
    "    use preorder and inorder to build a binary tree\n",
    "    TreeNode was defined? Yes\n",
    "    \n",
    "    input: \n",
    "    output: \n",
    "    corner case: \n",
    "    \n",
    "II. Methods: \n",
    "    A. DFS\n",
    "    Steps:\n",
    "        1. \n",
    "        2. \n",
    "     \n",
    "    Complexity:\n",
    "        Time:  O()  \n",
    "        Space: O() \n",
    "        \n",
    "    \n",
    "    B. DFS + dict (optimization)\n",
    "    .....\n",
    "    Steps:\n",
    "        1. \n",
    "        2. \n",
    "        \n",
    "    \n",
    "    Complexity:\n",
    "        Time: O()\n",
    "        Space:O() \n",
    "    \n",
    "'''"
   ]
  },
  {
   "cell_type": "markdown",
   "metadata": {},
   "source": [
    "## 解释\n",
    "\n",
    "* find the operation numbers\n",
    "* Modify steps\n",
    "* optimal solution\n",
    "* Traversing direction\n",
    "* Minimum number of coins\n",
    "* Initial value\n",
    "* Maximum sum of non-adjacent numbers 隣接しない数値の最大合計\n",
    "* set left and right boundary as 1 and num//2\n",
    "* calculate mid as (l + r) // 2, if mid * mid == num, return True   \n",
    "    if mid^2 < num, set left as mid   \n",
    "    else, set right as mid   \n",
    "* traverse i from 0 to end   \n",
    "   traverse j from i + 1 to end\n",
    "* Calculate whether i plus j equals 2\n",
    "* Convert A to B\n",
    "* create a dummy\n",
    "* the stack was used by recursion\n",
    "* create graphTag by using the index as tag\n",
    "* Make A have the property of B\n",
    "* lowercase letters\n",
    "\n",
    "### Union find\n",
    "1. create graphTag by using the index as tag\n",
    "2. scan the paris(i, j), M[i][j] == 1\n",
    "    use dfs() to find the i and j's root\n",
    "    if i root == j root, pass\n",
    "    if i root != j root, make j root == i root, and count the times\n",
    "3. res = the number of students - times\n",
    "\n",
    "\n",
    "gT = [x for x in range(N)]"
   ]
  },
  {
   "cell_type": "markdown",
   "metadata": {},
   "source": [
    "# 二叉树\n",
    "\n",
    "## DFS\n",
    "* recursive\n",
    "* time complexity: O(N); N is the number of nodes; scan every nodes\n",
    "* space complexity: average: O(logN); worst: O(N) skewed; the high of tree\n",
    "* PreOrder (root, left, right); InOrder (left, root, right); PostOrder (left, right, root)\n",
    "\n",
    "## BFS\n",
    "* iteration\n",
    "* time complexity: O(N); N is the number of nodes; scan every nodes\n",
    "* space complexity: average: O(N); best: O(1); N: the widest breadth(width)"
   ]
  },
  {
   "cell_type": "markdown",
   "metadata": {},
   "source": [
    "## 构建"
   ]
  },
  {
   "cell_type": "code",
   "execution_count": null,
   "metadata": {},
   "outputs": [],
   "source": [
    "class TreeNode:\n",
    "    def __init__(self, x):\n",
    "        self.val = x\n",
    "        self.left = None\n",
    "        self.right = None"
   ]
  },
  {
   "cell_type": "code",
   "execution_count": null,
   "metadata": {},
   "outputs": [],
   "source": [
    "# BFS构造二叉树\n",
    "root_index = 0\n",
    "left = root_index * 2 + 1\n",
    "right = root_right * 2 + 1\n",
    "\n",
    "# Preorder + Inorder --> 构建二叉树\n",
    "root = TreeNode(preorder[0])\n",
    "mid = inorder.index(preorder[0])\n",
    "root.left = self.buildTree(preorder[1:mid+1], inorder[0:mid])\n",
    "root.right = self.buildTree(preorder[mid+1:], inorder[mid+1:])\n",
    "\n",
    "# Inorder + Postorder --> 构建二叉树\n",
    "root = TreeNode(postorder[-1])\n",
    "mid = inorder.index(postorder[-1])\n",
    "root.left = self.buildTree(inorder[0:mid], postorder[0:mid])\n",
    "root.right = self.buildTree(inorder[mid+1:], postorder[mid:-1])\n"
   ]
  },
  {
   "cell_type": "markdown",
   "metadata": {},
   "source": [
    "## 遍历"
   ]
  },
  {
   "cell_type": "code",
   "execution_count": null,
   "metadata": {},
   "outputs": [],
   "source": [
    "# BFS\n",
    "\n",
    "from collections import deque\n",
    "class Traversal:\n",
    "    def bsf(self, root):\n",
    "        if root == None:\n",
    "            return \n",
    "        queue = deque()\n",
    "        queue.append(root)\n",
    "        while queue:\n",
    "            node = queue.popleft()\n",
    "            if node.left == None:\n",
    "                queue.append(node.left)\n",
    "            if node.right == None:\n",
    "                queue.append(node.right)\n",
    "                \n",
    "# DFS\n",
    "class Traversal:\n",
    "    def dfs(self, root):\n",
    "        if root == None:\n",
    "            return \n",
    "        else:\n",
    "            print(root.val)\n",
    "            self.dfs(root.left)\n",
    "            self.dfs(root.right)"
   ]
  },
  {
   "cell_type": "markdown",
   "metadata": {},
   "source": [
    "## Path"
   ]
  },
  {
   "cell_type": "code",
   "execution_count": null,
   "metadata": {},
   "outputs": [],
   "source": [
    "# BFS\n",
    "\n",
    "from collections import deque\n",
    "class Solution:\n",
    "    def binaryTreePaths(self, root: TreeNode) -> List[str]:\n",
    "        if root == None:\n",
    "            return \n",
    "        \n",
    "        queue = deque()\n",
    "        all_path = []\n",
    "        \n",
    "        queue.append([root, []])\n",
    "        \n",
    "        while queue:\n",
    "            node, path = queue.popleft()\n",
    "            path += [str(node.val)]\n",
    "            \n",
    "            if node.left != None:\n",
    "                queue.append([node.left, path[:]])  # 易错点，一定要是path[:]\n",
    "            if node.right != None:\n",
    "                queue.append([node.right, path[:]])\n",
    "            \n",
    "            if node.left == None and node.right == None:\n",
    "                all_path.append('->'.join(path))\n",
    "        \n",
    "        return all_path\n",
    "\n",
    "\n",
    "# DFS\n",
    "\n",
    "class Solution:\n",
    "    def binaryTreePaths(self, root):\n",
    "        def dfs(root, path):\n",
    "            if root == None:\n",
    "                return\n",
    "            \n",
    "            if root.left == None and root.right == None:\n",
    "                path.append(root.val)\n",
    "                path_all.append(path)\n",
    "            \n",
    "            dfs(root.left, path+[root.val])\n",
    "            dfs(root.right, path+[root.val])\n",
    "        \n",
    "        path = []\n",
    "        path_all = []\n",
    "        dfs(root, path)\n",
    "        return path_all\n",
    "\n",
    "x = Solution()\n",
    "print(x.binaryTreePaths(root))"
   ]
  },
  {
   "cell_type": "code",
   "execution_count": null,
   "metadata": {},
   "outputs": [],
   "source": []
  },
  {
   "cell_type": "code",
   "execution_count": 6,
   "metadata": {},
   "outputs": [
    {
     "data": {
      "text/plain": [
       "True"
      ]
     },
     "execution_count": 6,
     "metadata": {},
     "output_type": "execute_result"
    }
   ],
   "source": [
    "sentence = \"i love eating burger\"\n",
    "searchWord = \"burg\"\n",
    "\n",
    "sentence.startswith(searchWord, 0, len(searchWord))\n"
   ]
  },
  {
   "cell_type": "code",
   "execution_count": 7,
   "metadata": {},
   "outputs": [
    {
     "data": {
      "text/plain": [
       "2"
      ]
     },
     "execution_count": 7,
     "metadata": {},
     "output_type": "execute_result"
    }
   ],
   "source": [
    "l = [1,2,2]\n",
    "l.count(2)"
   ]
  },
  {
   "cell_type": "code",
   "execution_count": 8,
   "metadata": {},
   "outputs": [
    {
     "data": {
      "text/plain": [
       "1"
      ]
     },
     "execution_count": 8,
     "metadata": {},
     "output_type": "execute_result"
    }
   ],
   "source": [
    "3 % 2"
   ]
  }
 ],
 "metadata": {
  "kernelspec": {
   "display_name": "Python 3",
   "language": "python",
   "name": "python3"
  },
  "language_info": {
   "codemirror_mode": {
    "name": "ipython",
    "version": 3
   },
   "file_extension": ".py",
   "mimetype": "text/x-python",
   "name": "python",
   "nbconvert_exporter": "python",
   "pygments_lexer": "ipython3",
   "version": "3.7.3"
  },
  "toc": {
   "base_numbering": 1,
   "nav_menu": {},
   "number_sections": true,
   "sideBar": true,
   "skip_h1_title": false,
   "title_cell": "Table of Contents",
   "title_sidebar": "Contents",
   "toc_cell": false,
   "toc_position": {},
   "toc_section_display": true,
   "toc_window_display": false
  }
 },
 "nbformat": 4,
 "nbformat_minor": 4
}
