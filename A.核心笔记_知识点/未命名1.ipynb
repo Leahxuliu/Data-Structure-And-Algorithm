{
 "cells": [
  {
   "cell_type": "markdown",
   "metadata": {},
   "source": [
    "# Graph\n",
    "\n",
    "## fillflood\n",
    "1. from start cell to scan its neighbor by BFS\n",
    "    * append the start cell into the queue\n",
    "    * popleft start cell, and change the color\n",
    "    * append its aviable cell into queue\n",
    "2. return colored graph\n",
    "\n",
    "\n",
    "## general\n",
    "1. scan every cell by for loop\n",
    "2. use BFS to scan the cell's neighbor"
   ]
  },
  {
   "cell_type": "markdown",
   "metadata": {},
   "source": [
    "# Binary search\n",
    "\n",
    "1. set l, r start at 0, the number of nums - 1, l <= r\n",
    "2. do while loop\n",
    "    1. calculate mid = (l + r) // 2\n",
    "    2. compare nums[mid] and nums[l] and target and nums[r]"
   ]
  },
  {
   "cell_type": "markdown",
   "metadata": {},
   "source": [
    "I.Clarify\n",
    "    Determine if there is a path and equal to sum\n",
    "\n",
    "    input: root: TreeNode  None?  sum:int the value of sum is 0 to ?\n",
    "    output: bool\n",
    "    corner case: root == None --> return False\n",
    "    \n",
    "II.Method\n",
    "    A. DFS (find all path sum)\n",
    "    Steps:\n",
    "        1. make a helper function(DFS) to count all path sum\n",
    "            a. ending condition: root == None\n",
    "            b. when left is None and right is None, add the path sum\n",
    "        2. determine the sum in the all path or not\n",
    "    Complexity:\n",
    "        Time: O(N)\n",
    "        Space: O(logN + N)\n",
    "        \n",
    "    B. DFS (renew sum)\n",
    "    Steps:\n",
    "        1. ending condition: root == None\n",
    "        2. use self function to renew the sum, sum - root.val\n",
    "        3. when left is None and right is None and sum = root.val, return True\n",
    "    Complexity:\n",
    "        Time: O(2N)\n",
    "        Space: O(logN)\n",
    "        \n",
    "    C. BFS\n",
    "    Steps:\n",
    "        1. ues queue to store the node and the path sum\n",
    "        2. when left is None and right is None and Sum = sum, return True\n",
    "    Complexity:\n",
    "        Time: O(N)\n",
    "        Space: O(N)\n",
    "        \n",
    "    D. Backtrack (有头版)\n",
    "    Steps:\n",
    "        1. use the backtrack to choose the node\n",
    "        2. use self.res to store the res\n",
    "        3. when left is None and right is None and Sum = sum, return True\n",
    "    \n",
    "    Complexity:\n",
    "        Time: O(N)\n",
    "        Space: O(logN)  worse O(N)\n",
    "        \n",
    "    E.Backtrack (无头版)\n",
    "    Steps:\n",
    "        1. \n",
    "    \n",
    "    Complexity:\n",
    "        Time: O(N)\n",
    "        Space: O(logN)  worse O(N)"
   ]
  },
  {
   "cell_type": "code",
   "execution_count": null,
   "metadata": {},
   "outputs": [],
   "source": []
  }
 ],
 "metadata": {
  "kernelspec": {
   "display_name": "Python 3",
   "language": "python",
   "name": "python3"
  },
  "language_info": {
   "codemirror_mode": {
    "name": "ipython",
    "version": 3
   },
   "file_extension": ".py",
   "mimetype": "text/x-python",
   "name": "python",
   "nbconvert_exporter": "python",
   "pygments_lexer": "ipython3",
   "version": "3.7.3"
  },
  "toc": {
   "base_numbering": 1,
   "nav_menu": {},
   "number_sections": true,
   "sideBar": true,
   "skip_h1_title": false,
   "title_cell": "Table of Contents",
   "title_sidebar": "Contents",
   "toc_cell": false,
   "toc_position": {},
   "toc_section_display": true,
   "toc_window_display": false
  }
 },
 "nbformat": 4,
 "nbformat_minor": 4
}
