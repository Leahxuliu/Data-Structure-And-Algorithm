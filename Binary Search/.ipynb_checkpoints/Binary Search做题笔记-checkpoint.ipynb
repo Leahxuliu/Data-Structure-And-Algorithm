{
 "cells": [
  {
   "cell_type": "code",
   "execution_count": null,
   "metadata": {},
   "outputs": [],
   "source": [
    "#!/usr/bin/python\n",
    "# -*- coding: utf-8 -*-\n",
    "# @Time    : 2020/03  \n",
    "# @Author  : XU Liu\n",
    "# @FileName: \n",
    "\n",
    "'''\n",
    "1. 题目类型：\n",
    "\n",
    "\n",
    "2. 题目理解以及解题思路：\n",
    "\n",
    "\n",
    "3. 输出输入以及边界条件：\n",
    "input: \n",
    "output: \n",
    "corner case: \n",
    "\n",
    "\n",
    "4. 时间空间复杂度：\n",
    "    \n",
    "\n",
    "'''"
   ]
  },
  {
   "cell_type": "markdown",
   "metadata": {},
   "source": [
    "# 有明确的target\n",
    "* 167.Two Sum II - Input array is sorted.py （完成1）\n",
    "* 240.Search a 2D Matrix II.py\n",
    "* 33.Search in Rotated Sorted Array.py （完成1）\n",
    "* 367.Valid Perfect Square.py （完成1）\n",
    "* 374.Guess Number Higher or Lower.py （完成1）\n",
    "* 74.Search a 2D Matrix.py\n",
    "* 81.Search in Rotated Sorted Array II.py（完成1）\n",
    "\n",
    "# 没有明确的target\n",
    "* 278.First Bad Version.py（完成1）\n",
    "* 34.Find First and Last Position of Element in Sorted Array.py（完成1）\n",
    "* 35.Search Insert Position.py（完成1）\n",
    "* 441.Arranging Coins.py（完成1）\n",
    "* 447.Search in a Big Sorted Array （LintCode）.py \n",
    "* 458.Last Position of Target (Lintcode).py \n",
    "* 459.Closest Number in Sorted Array (Lintcode).py \n",
    "* 658.Find K Closest Elements.py\n",
    "* 69.Sqrt(x).py\n",
    "* 744.Find Smallest Letter Greater Than Target.py\n",
    "\n",
    "\n",
    "\n",
    "# 没有明确的target类型，可以越界类型\n",
    "\n"
   ]
  },
  {
   "cell_type": "code",
   "execution_count": 6,
   "metadata": {},
   "outputs": [
    {
     "name": "stdout",
     "output_type": "stream",
     "text": [
      "3\n",
      "2\n",
      "1\n"
     ]
    }
   ],
   "source": [
    "n = 4\n",
    "while n > 1:\n",
    "    n -= 1\n",
    "    print(n)"
   ]
  },
  {
   "cell_type": "code",
   "execution_count": null,
   "metadata": {},
   "outputs": [],
   "source": []
  },
  {
   "cell_type": "code",
   "execution_count": null,
   "metadata": {},
   "outputs": [],
   "source": []
  }
 ],
 "metadata": {
  "kernelspec": {
   "display_name": "Python 3",
   "language": "python",
   "name": "python3"
  },
  "language_info": {
   "codemirror_mode": {
    "name": "ipython",
    "version": 3
   },
   "file_extension": ".py",
   "mimetype": "text/x-python",
   "name": "python",
   "nbconvert_exporter": "python",
   "pygments_lexer": "ipython3",
   "version": "3.7.3"
  },
  "toc": {
   "base_numbering": 1,
   "nav_menu": {},
   "number_sections": true,
   "sideBar": true,
   "skip_h1_title": false,
   "title_cell": "Table of Contents",
   "title_sidebar": "Contents",
   "toc_cell": false,
   "toc_position": {},
   "toc_section_display": true,
   "toc_window_display": false
  }
 },
 "nbformat": 4,
 "nbformat_minor": 4
}
