{
 "cells": [
  {
   "cell_type": "code",
   "execution_count": null,
   "metadata": {},
   "outputs": [],
   "source": [
    "# !/usr/bin/python\n",
    "# -*- coding: utf-8 -*-\n",
    "# @Time    : 2020/04  \n",
    "# @Author  : XU Liu\n",
    "# @FileName: \n",
    "\n",
    "'''\n",
    "1. 题目类型：\n",
    "\n",
    "\n",
    "2. 题目要求与理解：\n",
    "\n",
    "\n",
    "3. 解题思路：\n",
    "\n",
    "\n",
    "4. 输出输入以及边界条件：\n",
    "input: \n",
    "output: \n",
    "corner case: \n",
    "\n",
    "5. 空间时间复杂度\n",
    "    \n",
    "\n",
    "'''"
   ]
  },
  {
   "cell_type": "markdown",
   "metadata": {},
   "source": [
    "# 题目\n",
    "\n",
    "* 46.Permutations.py\n",
    "* 77.Combinations.py\n",
    "* 78.Subsets.py\n",
    "* 90.Subsets II.py\n",
    "* 求点到点的所有路径.py"
   ]
  },
  {
   "cell_type": "markdown",
   "metadata": {},
   "source": [
    "# 代码模版"
   ]
  },
  {
   "cell_type": "markdown",
   "metadata": {},
   "source": [
    "## 子集模板\n"
   ]
  },
  {
   "cell_type": "code",
   "execution_count": null,
   "metadata": {},
   "outputs": [],
   "source": [
    "# 求nums的所有子集\n",
    "class Solution:\n",
    "    def subsets(self, nums: List[int]) -> List[List[int]]:\n",
    "        res = []\n",
    "        def backtrack(path, start, nums):\n",
    "            res.append(path[:])  # 可以放到append后面\n",
    "            \n",
    "            for i in range(start, len(nums)):\n",
    "                path.append(nums[i])\n",
    "                res.append(path[:])\n",
    "                backtrack(path, i + 1, nums)\n",
    "                path.pop()\n",
    "        \n",
    "            \n",
    "        backtrack([], 0, nums)\n",
    "        return res"
   ]
  },
  {
   "cell_type": "markdown",
   "metadata": {},
   "source": [
    "## 组合模板"
   ]
  },
  {
   "cell_type": "code",
   "execution_count": null,
   "metadata": {},
   "outputs": [],
   "source": [
    "# 从1-n数中，取k个数\n",
    "class Solution:\n",
    "    def combine(self, n: int, k: int) -> List[List[int]]:\n",
    "        res = []\n",
    "        \n",
    "        def backtrack(start, path, n, k):\n",
    "            if len(path) == k:\n",
    "                res.append(path[:])\n",
    "            \n",
    "            for i in range(start, n + 1):\n",
    "                path.append(i)\n",
    "                backtrack(i + 1, path, n, k)\n",
    "                path.pop()\n",
    "        \n",
    "        backtrack(1, [], n, k)\n",
    "        return res"
   ]
  },
  {
   "cell_type": "markdown",
   "metadata": {},
   "source": [
    "## 排列模板"
   ]
  },
  {
   "cell_type": "code",
   "execution_count": null,
   "metadata": {},
   "outputs": [],
   "source": [
    "# 求全排列\n",
    "class Solution:\n",
    "    def permute(self, nums: List[int]) -> List[List[int]]:\n",
    "        res = []\n",
    "        \n",
    "        def backtrack(path, nums):\n",
    "            if len(path) == len(nums):\n",
    "                res.append(path[:])\n",
    "                return\n",
    "            \n",
    "            for i in nums:\n",
    "                if i in path:  # 目的：选择从选择列表移除；作用方式：针对下一轮，排除掉已经有i的path\n",
    "                    continue\n",
    "                path.append(i)\n",
    "                backtrack(path, nums)\n",
    "                path.pop()     \n",
    "        \n",
    "        backtrack([], nums)\n",
    "        return res"
   ]
  },
  {
   "cell_type": "markdown",
   "metadata": {},
   "source": [
    "## 二叉树所有的path\n",
    "257   \n",
    "详情见 binary tree文件夹下的遍历路径.py"
   ]
  },
  {
   "cell_type": "code",
   "execution_count": null,
   "metadata": {},
   "outputs": [],
   "source": [
    "# 不用回溯\n",
    "# 每一个node对应一个path\n",
    "\n",
    "class Solution:\n",
    "    def binaryTreePaths(self, root):\n",
    "        def dfs(root, path):\n",
    "            if root == None:\n",
    "                return\n",
    "            \n",
    "            if root.left == None and root.right == None:\n",
    "                path.append(root.val)\n",
    "                path_all.append(path)\n",
    "            \n",
    "            dfs(root.left, path+[root.val])\n",
    "            dfs(root.right, path+[root.val])\n",
    "        \n",
    "        path = []\n",
    "        path_all = []\n",
    "        dfs(root, path)\n",
    "        return path_all\n",
    "\n",
    "x = Solution()\n",
    "print(x.binaryTreePaths(root))"
   ]
  },
  {
   "cell_type": "code",
   "execution_count": null,
   "metadata": {},
   "outputs": [],
   "source": []
  }
 ],
 "metadata": {
  "kernelspec": {
   "display_name": "Python 3",
   "language": "python",
   "name": "python3"
  },
  "language_info": {
   "codemirror_mode": {
    "name": "ipython",
    "version": 3
   },
   "file_extension": ".py",
   "mimetype": "text/x-python",
   "name": "python",
   "nbconvert_exporter": "python",
   "pygments_lexer": "ipython3",
   "version": "3.7.3"
  },
  "toc": {
   "base_numbering": 1,
   "nav_menu": {},
   "number_sections": true,
   "sideBar": true,
   "skip_h1_title": false,
   "title_cell": "Table of Contents",
   "title_sidebar": "Contents",
   "toc_cell": false,
   "toc_position": {},
   "toc_section_display": true,
   "toc_window_display": false
  }
 },
 "nbformat": 4,
 "nbformat_minor": 4
}
