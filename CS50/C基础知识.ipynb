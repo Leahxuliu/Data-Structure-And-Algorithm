{
 "cells": [
  {
   "cell_type": "markdown",
   "metadata": {},
   "source": [
    "# 代码"
   ]
  },
  {
   "cell_type": "markdown",
   "metadata": {},
   "source": [
    "## 变量"
   ]
  },
  {
   "cell_type": "markdown",
   "metadata": {},
   "source": [
    "* 字节数\n",
    "    * 1 bytes = 8 bits\n",
    "    * 1 character = 1 bytes\n",
    "    * 1 int = 4 bytes\n",
    "* 常量\n",
    "    * 放在主函数前面，且名称大写\n",
    "    * const int N = 3;\n",
    "* array\n",
    "    * array元素类型 array名[array size]\n",
    "    * int score[4]\n",
    "        * 长度要预先固定\n",
    "* string\n",
    "    * string的最后一位都为 '\\0'\n",
    "    * 任何string的字节数 = character数 + 1 byte\n",
    "    * 1 为 null teminating character"
   ]
  },
  {
   "cell_type": "markdown",
   "metadata": {},
   "source": [
    "## 函数"
   ]
  },
  {
   "cell_type": "markdown",
   "metadata": {},
   "source": [
    "* 主函数名 默认返回 int\n",
    "    * int main(void)\n",
    "* 其他函数名 返回该函数实际返回的值\n",
    "    * float/int/void findNumber(int numb)"
   ]
  },
  {
   "cell_type": "markdown",
   "metadata": {},
   "source": [
    "## 输入\n",
    "* 提示输入, like “height is ”\n",
    "    * get_int('height is') // 在输入函数的()内加入提示语句\n",
    "* 判断输入的值是否为要求的值，若符合while要求，即不符合输入要求时，不断提示输入\n",
    "    * 判断是否符合类型的值\n",
    "        * long numb = get_long(\"\");\n",
    "    * 判断是否符合数值范围的值\n",
    "        * int  n;  // 需要先定义这个变量\n",
    "        * do { n = get_int(\"height is\"); }\n",
    "        * while ( n < 1);"
   ]
  },
  {
   "cell_type": "markdown",
   "metadata": {},
   "source": [
    "## 循环\n",
    "* while () {}\n",
    "* do {} while ();\n",
    "* for () {}\n"
   ]
  },
  {
   "cell_type": "markdown",
   "metadata": {},
   "source": [
    "## string.h\n",
    "* strlen()函数求出的字符串长度为有效长度，既不包含字符串末尾结束符 ‘\\0’"
   ]
  },
  {
   "cell_type": "markdown",
   "metadata": {},
   "source": [
    "## 格式"
   ]
  },
  {
   "cell_type": "markdown",
   "metadata": {},
   "source": [
    "* 换行\n",
    "    * \\n\n",
    "* 分号semicolon ;\n",
    "    * 具体的语句使用\n",
    "    * 判断条件等不用\n",
    "* placeholder占位符\n",
    "    * %c, %f, %i, %li, %s\n",
    "    * 数字的位数截断\n",
    "        * %.2f 取小数点后两位，四舍五入\n",
    "* 引号 quote\n",
    "    * character单个字符 -> 单引号 ''\n",
    "    * string字符串 -> 双引号 \"\""
   ]
  },
  {
   "cell_type": "markdown",
   "metadata": {},
   "source": [
    "# 命令提示符 prompt\n",
    "## 命令行参数\n",
    "* ./XXX argument1参数1\n",
    "* int main(int argc, string argv[]) 主函数\n",
    "    * 参数1进入主函数中\n",
    "    * argc = 2\n",
    "    * argv[0] = ./XXX\n",
    "    * argv[1] = argument1参数1\n",
    "\n",
    "## 地址\n",
    "* 定位地址\n",
    "    * cd XXX\n",
    "* 返回初始地址\n",
    "    * cd\n",
    "* 显示当前目录\n",
    "    * pwd\n",
    "\n",
    "## 编译相关\n",
    "* 退出命令行\n",
    "    * ctrl + c\n",
    "* 编译\n",
    "    * clang -o XXX YYY.c  // 编译YYY.c文件为名称为XXX的可执行文件\n",
    "    * make YYY  // 编译YYY文件为名称为YYY的可执行文件\n",
    "* 列出所有文件\n",
    "    * ls\n",
    "    * XXX* 代表着XXX是可执行文件\n",
    "* 删除文件\n",
    "    * rm XXX.out"
   ]
  },
  {
   "cell_type": "markdown",
   "metadata": {},
   "source": [
    "# CS50\n",
    "## 函数功能\n",
    "* get_char\n",
    "* get_ double\n",
    "* get_float\n",
    "* get_int\n",
    "* get_long\n",
    "* get_string\n",
    "\n",
    "## prompt 功能\n",
    "* cs50函数 + 地址 + 文件名\n",
    "* 检查代码 check50 \n",
    "* 帮助 help50\n",
    "* debug debug50\n",
    "* 风格检查 style50"
   ]
  },
  {
   "cell_type": "code",
   "execution_count": null,
   "metadata": {},
   "outputs": [],
   "source": []
  }
 ],
 "metadata": {
  "kernelspec": {
   "display_name": "Python 3",
   "language": "python",
   "name": "python3"
  },
  "language_info": {
   "codemirror_mode": {
    "name": "ipython",
    "version": 3
   },
   "file_extension": ".py",
   "mimetype": "text/x-python",
   "name": "python",
   "nbconvert_exporter": "python",
   "pygments_lexer": "ipython3",
   "version": "3.7.3"
  },
  "toc": {
   "base_numbering": 1,
   "nav_menu": {},
   "number_sections": true,
   "sideBar": true,
   "skip_h1_title": false,
   "title_cell": "Table of Contents",
   "title_sidebar": "Contents",
   "toc_cell": false,
   "toc_position": {},
   "toc_section_display": true,
   "toc_window_display": true
  }
 },
 "nbformat": 4,
 "nbformat_minor": 4
}
