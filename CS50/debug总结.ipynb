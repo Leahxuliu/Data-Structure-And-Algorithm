{
 "cells": [
  {
   "cell_type": "markdown",
   "metadata": {},
   "source": [
    "# Debugging\n",
    "\n",
    "## 解题技巧\n",
    "1. 排序类:这种题Compile & Run出来的结果,多半是Sort的顺序反了,稍微看一下找到关键的if statement把他反过来就成。我7题里遇到2题这种的。\n",
    "2. TLE类（Time Limit Exceed）:这种结果TLE的多半是while死循环了,有while的检查一下。 3. for loop类:有for loop的,检查一下大括号有没有加。\n",
    "4. 其他类:其他特别的bug,多半地里找一下都有,记一下就成。\n",
    "\n",
    "## 题\n",
    "* while/for循环缺少i++造成死循环\n",
    "* Print Pattern:for-loop里一共两句话但是没有用大括号，所以第二句没有被包含进去\n",
    "* insert sort descending order: < > 反了\n",
    "* selection sort: arr[min] > arr[x]改成arr[x] .\n",
    "* reverse array:arr[len-1]改成arr[len-i-1],循环结束前去掉len+=1;\n",
    "* 循环里要加上 i++， 否则死循环 \n",
    "* 曼切斯特如果arr[i-1],arr相等为0，否则为1，要注意不但==要改成!=，ret[0]也要加一下，不然 有一个case过不了。\n",
    "\n",
    "\n"
   ]
  },
  {
   "cell_type": "code",
   "execution_count": null,
   "metadata": {},
   "outputs": [],
   "source": []
  }
 ],
 "metadata": {
  "kernelspec": {
   "display_name": "Python 3",
   "language": "python",
   "name": "python3"
  },
  "language_info": {
   "codemirror_mode": {
    "name": "ipython",
    "version": 3
   },
   "file_extension": ".py",
   "mimetype": "text/x-python",
   "name": "python",
   "nbconvert_exporter": "python",
   "pygments_lexer": "ipython3",
   "version": "3.7.3"
  },
  "toc": {
   "base_numbering": 1,
   "nav_menu": {},
   "number_sections": true,
   "sideBar": true,
   "skip_h1_title": false,
   "title_cell": "Table of Contents",
   "title_sidebar": "Contents",
   "toc_cell": false,
   "toc_position": {},
   "toc_section_display": true,
   "toc_window_display": false
  }
 },
 "nbformat": 4,
 "nbformat_minor": 4
}
