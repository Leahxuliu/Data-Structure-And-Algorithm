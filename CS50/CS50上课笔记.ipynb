{
 "cells": [
  {
   "cell_type": "markdown",
   "metadata": {},
   "source": [
    "\n"
   ]
  },
  {
   "cell_type": "markdown",
   "metadata": {},
   "source": [
    "# Binary and Representing data\n",
    "\n",
    "## Binary\n",
    "* 字节数\n",
    "    * 1 bytes = 8 bits\n",
    "    * 1 character = 1 bytes\n",
    "    * 1 int = 4 bytes\n",
    "    \n",
    "* 常量\n",
    "    * 放在主函数前面，且名称大写\n",
    "    * const int N = 3;\n",
    "* array\n",
    "    * array元素类型 array名[array size]\n",
    "    * int score[4]\n",
    "        * 长度要预先固定\n",
    "* string\n",
    "    * string的最后一位都为 '\\0'\n",
    "    * 任何string的字节数 = character数 + 1 byte\n",
    "    * 1 为 null teminating character"
   ]
  },
  {
   "cell_type": "markdown",
   "metadata": {},
   "source": [
    "## ASCII & Unicode\n",
    "\n",
    "### ASCII\n",
    "\n",
    "* 发音 ASS-kee\n",
    "* American Standard Code for Information Interchange  美国信息交换标准代码\n",
    "* ASCII的局限在于只能显示26个基本拉丁字母、阿拉伯数字和英式标点符号\n",
    "* 用8位长度字节表示， 例如A是65，01000001\n",
    "\n",
    "### Unicode\n",
    "\n",
    "* 用8～32位长度字节表示\n",
    "* 可以用于表示emoji（eg：😂）， assenc mark（eg：café）\n",
    "* like ASCII的升级版\n",
    "\n",
    "## RGB\n",
    "* pixel 像素\n",
    "* red green blue\n",
    "* 三个数字代表一个颜色\n",
    "* 图像（或emoji等）由多个pixel组成，每一个pixel上有三个数字来代表颜色\n",
    "* gif是由多张图片组成，循环播放\n",
    "\n",
    "## 音乐\n",
    "* 三个数字表示：音节 持续时间 声音大小"
   ]
  },
  {
   "cell_type": "code",
   "execution_count": null,
   "metadata": {},
   "outputs": [],
   "source": [
    "#include <stdio.h>\n"
   ]
  }
 ],
 "metadata": {
  "kernelspec": {
   "display_name": "Python 3",
   "language": "python",
   "name": "python3"
  },
  "language_info": {
   "codemirror_mode": {
    "name": "ipython",
    "version": 3
   },
   "file_extension": ".py",
   "mimetype": "text/x-python",
   "name": "python",
   "nbconvert_exporter": "python",
   "pygments_lexer": "ipython3",
   "version": "3.7.3"
  },
  "toc": {
   "base_numbering": 1,
   "nav_menu": {},
   "number_sections": true,
   "sideBar": true,
   "skip_h1_title": false,
   "title_cell": "Table of Contents",
   "title_sidebar": "Contents",
   "toc_cell": false,
   "toc_position": {},
   "toc_section_display": true,
   "toc_window_display": false
  }
 },
 "nbformat": 4,
 "nbformat_minor": 4
}
