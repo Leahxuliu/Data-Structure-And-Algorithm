{
 "cells": [
  {
   "cell_type": "markdown",
   "metadata": {},
   "source": [
    "# Readme\n",
    "This is Data Structure and Algorithm 2.0.   \n",
    "The difference between 2.0 and 1.0 is that here is only templates for knowledge point\n",
    "\n",
    "* Python\n",
    "* Binary Tree\n",
    "* Graph"
   ]
  },
  {
   "cell_type": "markdown",
   "metadata": {},
   "source": [
    "# Python\n",
    "\n",
    "## 字典排序"
   ]
  },
  {
   "cell_type": "markdown",
   "metadata": {},
   "source": [
    "**lambda**\n",
    "  \n",
    "* 匿名函数 \n",
    "* 结构：lambda x : f(x)    \n",
    "  * lambda 引数: 返り値\n",
    "  * 关键字lambda表示匿名函数\n",
    "  * 冒号前面的x表示函数参数\n",
    "  * 参考网站：https://qiita.com/nagataaaas/items/531b1fc5ce42a791c7df\n",
    "* 不需要特意指定函数   \n",
    "    比如：def return_twice(n):   \n",
    "            return n * 2   \n",
    "    可改写成：    \n",
    "        lambda n: n * 2"
   ]
  },
  {
   "cell_type": "code",
   "execution_count": null,
   "metadata": {},
   "outputs": [],
   "source": [
    "# dict 排序\n",
    "dic = {'a':4, 'b':3, 'c':2, 'd':1, 'e':0}\n",
    "\n",
    "# 基于key排序\n",
    "## 返回key\n",
    "a = sorted(dic)\n",
    "a = sorted(dic.keys())\n",
    "## 返回value\n",
    "a = sorted(dic)  # 先排key\n",
    "b = [dic[x] for x in a]\n",
    "## 返回整体\n",
    "new = sorted(dic.items(), key = lambda x: x[0])  # [('a', 4), ('b', 3), ('c', 2), ('d', 1), ('e', 0)]\n",
    "\n",
    "# 基于value排序\n",
    "## 返回key\n",
    "a = sorted(dic, key = lambda x:dic[x])\n",
    "print(a)\n",
    "## 返回value\n",
    "a = sorted(dic.values())\n",
    "## 返回整体\n",
    "new = sorted(dic.items(), key = lambda x: x[1])  # [('e', 0), ('d', 1), ('c', 2), ('b', 3), ('a', 4)]\n",
    "\n",
    "\n",
    "## 先根据value值排序，再根据key值排序\n",
    "new = sorted(dic.items(), key = lambda x : (x[1], x[0]))  # [('e', 0), ('d', 1), ('c', 2), ('b', 3), ('a', 4)]\n",
    "## 先根据value值逆排序，再根据key值的顺序排序\n",
    "new = sorted(dic.items(), key = lambda x : (-x[1], x[0]))"
   ]
  },
  {
   "cell_type": "markdown",
   "metadata": {},
   "source": [
    "## 字母比大小"
   ]
  },
  {
   "cell_type": "code",
   "execution_count": null,
   "metadata": {},
   "outputs": [],
   "source": [
    "ord('A')\n"
   ]
  },
  {
   "cell_type": "code",
   "execution_count": null,
   "metadata": {},
   "outputs": [],
   "source": [
    "ord('a')"
   ]
  },
  {
   "cell_type": "code",
   "execution_count": null,
   "metadata": {},
   "outputs": [],
   "source": [
    "ord('B')"
   ]
  },
  {
   "cell_type": "markdown",
   "metadata": {},
   "source": [
    "# 数学"
   ]
  },
  {
   "cell_type": "markdown",
   "metadata": {},
   "source": [
    "## 牛顿法开平方\n",
    "\n",
    "根号a --> x**2 - a = 0   \n",
    "f(x) = x**2 - a   \n",
    "f(x)的一次导数是2x   \n",
    "牛顿迭代式：(x + a/x)//2   \n",
    "https://blog.csdn.net/lai_li/article/details/62221951\n"
   ]
  },
  {
   "cell_type": "markdown",
   "metadata": {},
   "source": [
    "## 求根号值 sqrt(int x)\n",
    "\n",
    "**Pocket Calculator Algorithm**   \n",
    "x = e^logx -> x^1/2 = e^(1/2 * logx)"
   ]
  },
  {
   "cell_type": "markdown",
   "metadata": {},
   "source": [
    "# Binary Tree\n",
    "\n",
    "## Node的定义"
   ]
  },
  {
   "cell_type": "code",
   "execution_count": null,
   "metadata": {},
   "outputs": [],
   "source": [
    "class TreeNode:\n",
    "    def __init__(self, x):\n",
    "        self.val = x\n",
    "        self.left = None\n",
    "        self.right = None"
   ]
  },
  {
   "cell_type": "markdown",
   "metadata": {},
   "source": [
    "## 构造Tree"
   ]
  },
  {
   "cell_type": "code",
   "execution_count": null,
   "metadata": {},
   "outputs": [],
   "source": [
    "'''\n",
    "手动构造\n",
    "'''\n",
    "Node1 = TreeNode(1)\n",
    "Node2 = TreeNode(2)\n",
    "Node3 = TreeNode(3)\n",
    "\n",
    "Node1.left = Node2\n",
    "Node1.right = Node3\n",
    "\n",
    "\n",
    "'''\n",
    "模版代码\n",
    "'''\n",
    "\n",
    "\n"
   ]
  },
  {
   "cell_type": "markdown",
   "metadata": {},
   "source": [
    "## Tree的遍历"
   ]
  },
  {
   "cell_type": "code",
   "execution_count": null,
   "metadata": {},
   "outputs": [],
   "source": []
  },
  {
   "cell_type": "markdown",
   "metadata": {},
   "source": [
    "## depth"
   ]
  },
  {
   "cell_type": "code",
   "execution_count": null,
   "metadata": {},
   "outputs": [],
   "source": []
  },
  {
   "cell_type": "markdown",
   "metadata": {},
   "source": [
    "## path"
   ]
  },
  {
   "cell_type": "code",
   "execution_count": null,
   "metadata": {},
   "outputs": [],
   "source": []
  },
  {
   "cell_type": "markdown",
   "metadata": {},
   "source": [
    "## 宽度"
   ]
  },
  {
   "cell_type": "code",
   "execution_count": null,
   "metadata": {},
   "outputs": [],
   "source": []
  },
  {
   "cell_type": "code",
   "execution_count": null,
   "metadata": {},
   "outputs": [],
   "source": []
  },
  {
   "cell_type": "code",
   "execution_count": null,
   "metadata": {},
   "outputs": [],
   "source": []
  },
  {
   "cell_type": "code",
   "execution_count": null,
   "metadata": {},
   "outputs": [],
   "source": []
  },
  {
   "cell_type": "code",
   "execution_count": null,
   "metadata": {},
   "outputs": [],
   "source": []
  },
  {
   "cell_type": "code",
   "execution_count": null,
   "metadata": {},
   "outputs": [],
   "source": []
  },
  {
   "cell_type": "markdown",
   "metadata": {},
   "source": [
    "# Graph"
   ]
  },
  {
   "cell_type": "markdown",
   "metadata": {},
   "source": [
    "## 无向图\n",
    "### 遍历\n",
    "#### DFS"
   ]
  },
  {
   "cell_type": "code",
   "execution_count": null,
   "metadata": {},
   "outputs": [],
   "source": [
    "# node从0开始\n",
    "# make visited[0,1] and graph\n",
    "# 遍历每一个节点，然后遍历该节点相邻的节点\n",
    "class Graph:\n",
    "    def dfsTraversal(self, nums, pairs):\n",
    "        if nums == None:\n",
    "            return\n",
    "        if pairs == None:\n",
    "            return [i for i in range(nums)]\n",
    "        \n",
    "        visited = [0] * nums\n",
    "        graph = [[] for _ in range(nums)]\n",
    "        \n",
    "        for i, j in pairs:\n",
    "            graph[i].append(j)\n",
    "            graph[j].append(i)\n",
    "            \n",
    "        def dfs(index):\n",
    "            if visited == [1] * nums:\n",
    "                return \n",
    "            visited[index] = 1\n",
    "            for out_index in graph[index]:\n",
    "                if visited[out_index] == 0:\n",
    "                    dfs(out_index)\n",
    "            \n",
    "        for i in range(nums):\n",
    "            if visited[i] == 0:\n",
    "                dfs(i)\n",
    "        return \n",
    "    "
   ]
  },
  {
   "cell_type": "markdown",
   "metadata": {},
   "source": [
    "#### BFS"
   ]
  },
  {
   "cell_type": "code",
   "execution_count": null,
   "metadata": {},
   "outputs": [],
   "source": [
    "from collections import deque\n",
    "class Graph:\n",
    "    def bfsGraph(self, nums, pairs):\n",
    "        if nums == 0:\n",
    "            return 0\n",
    "        if pairs == None:\n",
    "            return nums\n",
    "        \n",
    "        visited = [0] * nums\n",
    "        graph = [[] for _ in range(nums)]\n",
    "        \n",
    "        for i, j in pairs:\n",
    "            graph[j].append(i)\n",
    "            graph[i].append(j)\n",
    "        \n",
    "        queue = deque()\n",
    "        for i in range(nums):\n",
    "            if visited[i] == 0:\n",
    "                queue.append(i)\n",
    "                \n",
    "            while queue:\n",
    "                index = queue.popleft()\n",
    "                visited[index] = 1\n",
    "\n",
    "                for out_index in graph[index]:\n",
    "                    if visited[out_index] == 0:\n",
    "                        queue.append(out_index)\n",
    "        return \n",
    "\n",
    "        "
   ]
  },
  {
   "cell_type": "markdown",
   "metadata": {},
   "source": [
    "### 判断环\n",
    "#### DFS [0,1] 和 parent"
   ]
  },
  {
   "cell_type": "code",
   "execution_count": null,
   "metadata": {},
   "outputs": [],
   "source": [
    "# True: 有环\n",
    "# False: 没有环\n",
    "# 无环：其访问过的节点有且只有一个，并且是其节点的上一个节点（parent_index)\n",
    "\n",
    "class Graph:\n",
    "    def findCircle(self, nums, pairs):\n",
    "        if nums == None:\n",
    "            return False\n",
    "        if pairs == None:\n",
    "            return False\n",
    "        \n",
    "        visited = [0] * nums\n",
    "        graph = [[] for _ in range(nums)]\n",
    "        \n",
    "        for i, j in pairs:\n",
    "            graph[i].append(j)\n",
    "            graph[j].append(i)\n",
    "            \n",
    "        def dfs(index, parent):\n",
    "            visited[index] = 1\n",
    "            \n",
    "            for j in graph[index]:\n",
    "                if visited[j] == 0:\n",
    "                    if dfs(j, index) == True:\n",
    "                        return True\n",
    "                elif j != parent:\n",
    "                    return True\n",
    "            return False\n",
    "            \n",
    "            \n",
    "        for i in range[nums]:\n",
    "            if visited[i] == 0:\n",
    "                if dfs(index, -1) == True:\n",
    "                    return True\n",
    "        return False"
   ]
  },
  {
   "cell_type": "markdown",
   "metadata": {},
   "source": [
    "#### BFS 建立parent_tag"
   ]
  },
  {
   "cell_type": "code",
   "execution_count": null,
   "metadata": {},
   "outputs": [],
   "source": [
    "# True: 有环\n",
    "# False: 没有环\n",
    "\n",
    "from collections import deque, defaultdict\n",
    "class Graph:\n",
    "    def findCircle(self, nums, pairs):\n",
    "        if nums == None or pairs == None:\n",
    "            return False\n",
    "        \n",
    "        visited = [0] * nums\n",
    "        graph = defaultdict(set)\n",
    "        queue = deque()\n",
    "        \n",
    "        for i, j in pairs:\n",
    "            graph[i].add(j)\n",
    "            graph[j].add(i)\n",
    "            \n",
    "        for i in range(nums):\n",
    "            if visited[i] == 0:\n",
    "                queue.append([i,-1])\n",
    "            \n",
    "            while queue:\n",
    "                index, parent = queue.popleft()\n",
    "                visited[index] = 1\n",
    "                \n",
    "                for out_index in graph[index]:\n",
    "                    if visited[out_index] == 0:\n",
    "                        queue.append([out_index, index])\n",
    "                    elif out_index != parent:\n",
    "                        return False\n",
    "        return True\n",
    "        \n",
    "        "
   ]
  },
  {
   "cell_type": "markdown",
   "metadata": {},
   "source": [
    "#### 并查集\n",
    "是否有重复相连的情况(root1 == root2)，有就是有环，没有就是没换"
   ]
  },
  {
   "cell_type": "code",
   "execution_count": null,
   "metadata": {},
   "outputs": [],
   "source": [
    "# True: 有环\n",
    "# False: 没有环\n",
    "\n",
    "class Graph:\n",
    "    def unionfindCircle(self, nums, pairs):\n",
    "        if nums == None or pairs == None:\n",
    "            return False\n",
    "        \n",
    "        gT = [i for i in range(nums)]  # groupTag\n",
    "        \n",
    "        def find(index):\n",
    "            if gT[index] == index:\n",
    "                return index\n",
    "            else:\n",
    "                return find(gt[index])\n",
    "        \n",
    "        for i, j in pairs:\n",
    "            root1 = find(i)\n",
    "            root2 = find(j)\n",
    "            \n",
    "            if root1 == root2:\n",
    "                return True\n",
    "            \n",
    "            else:\n",
    "                gT[root2] = root1\n",
    "                \n",
    "        return True\n",
    "            "
   ]
  },
  {
   "cell_type": "markdown",
   "metadata": {},
   "source": [
    "### 孤立群的个数\n",
    "#### DFS [0,1]法则"
   ]
  },
  {
   "cell_type": "code",
   "execution_count": null,
   "metadata": {},
   "outputs": [],
   "source": [
    "class Graph:\n",
    "    def dfsGraph(self, nums, pairs):\n",
    "        if nums == 0:\n",
    "            return 0\n",
    "        if pairs == None:\n",
    "            return nums\n",
    "        \n",
    "        visited = [0] * nums\n",
    "        graph = [[] for _ in range(nums)]\n",
    "        \n",
    "        for i, j in pairs:\n",
    "            graph[j].append(i)\n",
    "            graph[i].append(j)\n",
    "        \n",
    "        def dfs(index):\n",
    "            if visited == [1] * nums:\n",
    "                return\n",
    "            visited[index] = 1\n",
    "            \n",
    "            for out_index in graph[i]:\n",
    "                if visited[out_index] == 0:\n",
    "                    dfs(out_index)\n",
    "            \n",
    "        island_nums = 0\n",
    "        for i, v in enumerate(visited):\n",
    "            if v == 0:\n",
    "                dfs(i)\n",
    "                island_nums += 1\n",
    "        return island_nums\n",
    "            \n",
    "x = Graph()\n",
    "print(x.dfsGraph(4,[[2,3],[1,2],[1,3]]))"
   ]
  },
  {
   "cell_type": "markdown",
   "metadata": {},
   "source": [
    "#### BFS"
   ]
  },
  {
   "cell_type": "code",
   "execution_count": null,
   "metadata": {},
   "outputs": [],
   "source": [
    "from collections import deque\n",
    "class Graph:\n",
    "    def bfsGraph(self, nums, pairs):\n",
    "        if nums == 0:\n",
    "            return 0\n",
    "        if pairs == None:\n",
    "            return nums\n",
    "        \n",
    "        visited = [0] * nums\n",
    "        graph = [[] for _ in range(nums)]\n",
    "        \n",
    "        for i, j in pairs:\n",
    "            graph[j].append(i)\n",
    "            graph[i].append(j)\n",
    "        \n",
    "        queue = deque()\n",
    "        island_nums = 0\n",
    "        for i, v in enumerate(visited): \n",
    "            if v == 0:\n",
    "                queue.append(i)\n",
    "                island_nums += 1\n",
    "                \n",
    "                while queue:\n",
    "                    index = queue.popleft()\n",
    "                    visited[index] = 1\n",
    "\n",
    "                    for out_index in graph[index]:\n",
    "                        if visited[out_index] == 0:\n",
    "                            queue.append(out_index)\n",
    "                    \n",
    "        return island_nums\n",
    "\n",
    "x = Graph()\n",
    "print(x.bfsGraph(4,[[2,3],[1,2],[1,3]]))"
   ]
  },
  {
   "cell_type": "markdown",
   "metadata": {},
   "source": [
    "#### 并查集"
   ]
  },
  {
   "cell_type": "code",
   "execution_count": null,
   "metadata": {},
   "outputs": [],
   "source": [
    "class Graph:\n",
    "    def unionFind(self, nums, pairs):\n",
    "        if nums == 0:\n",
    "            return 0\n",
    "        if pairs == None:\n",
    "            return nums\n",
    "        \n",
    "        gT = [i for i in range(nums)]  # graphTag\n",
    "        \n",
    "        def find(index):\n",
    "            if gT[index] == index:\n",
    "                return index\n",
    "            return find(gT[index])\n",
    "        \n",
    "        connect = 0\n",
    "        for i, j in pairs:\n",
    "            root1 = find(i)\n",
    "            root2 = find(j)\n",
    "            if root1 == root2:\n",
    "                pass\n",
    "            else:\n",
    "                connect += 1\n",
    "                gT[root2] = root1\n",
    "                \n",
    "        print(gT)\n",
    "        print(connect)\n",
    "        return (nums - connect)\n",
    "\n",
    "x = Graph()\n",
    "print(x.unionFind(4,[[2,3],[1,2],[1,3]]))"
   ]
  },
  {
   "cell_type": "markdown",
   "metadata": {},
   "source": [
    "#### 并查集（rank）"
   ]
  },
  {
   "cell_type": "code",
   "execution_count": null,
   "metadata": {},
   "outputs": [],
   "source": [
    "class Graph:\n",
    "    def unionFind(self, n, pairs):\n",
    "        if not pairs or pairs == [[]]:\n",
    "            return None\n",
    "        \n",
    "        groupTag = [i for i in range(n)]\n",
    "        rank = [1] * n  # 用一个rank来记录该node下面有几个相关node\n",
    "\n",
    "        def find(index):\n",
    "            if groupTag[index] == index:\n",
    "                return index\n",
    "            else:\n",
    "                return find(groupTag[index])\n",
    "\n",
    "        connect = 0\n",
    "        for i, j in pairs:\n",
    "            root1 = find(i)\n",
    "            root2 = find(j)\n",
    "            if root1 != root2:\n",
    "                if rank[root1] >= rank[root2]:\n",
    "                    rank[root1] += rank[root2]\n",
    "                    groupTag[root2] == root1\n",
    "                    connect += 1\n",
    "                else:\n",
    "                    rank[root2] += rank[root1]\n",
    "                    groupTag[root1] = root2\n",
    "                    connect += 1\n",
    "        \n",
    "        return (n - connect)\n",
    "\n",
    "# 疑问点： 为什么用了rank之后，速度会变快？？？"
   ]
  },
  {
   "cell_type": "markdown",
   "metadata": {},
   "source": [
    "### 路径\n",
    "#### BFS 输出所有path\n"
   ]
  },
  {
   "cell_type": "code",
   "execution_count": null,
   "metadata": {},
   "outputs": [],
   "source": []
  },
  {
   "cell_type": "markdown",
   "metadata": {},
   "source": [
    "#### BFS 输出有几层"
   ]
  },
  {
   "cell_type": "code",
   "execution_count": null,
   "metadata": {},
   "outputs": [],
   "source": []
  },
  {
   "cell_type": "markdown",
   "metadata": {},
   "source": [
    "## 有向图"
   ]
  },
  {
   "cell_type": "markdown",
   "metadata": {},
   "source": [
    "### 判断环\n",
    "#### DFS [-1,0,1]法则\n"
   ]
  },
  {
   "cell_type": "code",
   "execution_count": null,
   "metadata": {},
   "outputs": [],
   "source": [
    "#node从0开始\n",
    "\n",
    "class Graph:\n",
    "    def findCircle(self, nums, pairs):  # 有环：Treu 没环：False\n",
    "        if nums == 0:\n",
    "            return False\n",
    "        if pairs == None:\n",
    "            return False\n",
    "        \n",
    "        visited = [-1] * nums\n",
    "        graph = [[] for _ in range(nums)]\n",
    "        \n",
    "        for i, j in pairs:\n",
    "            graph[i].append(j)  # i-->j\n",
    "            # graph[j].append(i)  # j --> i\n",
    "        \n",
    "        def dfs(index):\n",
    "            if visited[index] == 0:\n",
    "                return True\n",
    "            if visited[index] == 1:\n",
    "                return False\n",
    "            \n",
    "            visited[index] = 0\n",
    "            for out_index in graph[index]:\n",
    "                if dfs(out_index) == True:\n",
    "                    return True\n",
    "                \n",
    "            visited[index] = 1\n",
    "            return False\n",
    "        \n",
    "        for i in range(nums):\n",
    "            if dfs(i) == True:\n",
    "                return True\n",
    "        return False\n",
    "\n",
    "x = Graph()\n",
    "print(x.findCircle(4,[[0,1],[1,2],[2,3],[3,0]]))\n",
    "            "
   ]
  },
  {
   "cell_type": "markdown",
   "metadata": {},
   "source": [
    "#### 拓扑排序"
   ]
  },
  {
   "cell_type": "code",
   "execution_count": null,
   "metadata": {},
   "outputs": [],
   "source": [
    "# node从0开始\n",
    "# 如果node不是从0开始，那么indegree跟outdegree不是list而是dict，key是值，value是原本list里面的内容\n",
    "# 建立dict的时候，可以用defaultdict来建立，比如indegree = defaultdict(int)\n",
    "# 注意：indegree里面的key要包含所有nodes，没有入度的一定要标记成0；而outdegree里面的key可以不包含所有nodes，没有出度的node可以不创建key，保留默认值就可\n",
    "\n",
    "from collections import deque\n",
    "class Graph:\n",
    "    def topoSort(self, nums, pairs):\n",
    "        if nums == 0:\n",
    "            return False\n",
    "        if pairs == None:\n",
    "            return False\n",
    "        \n",
    "        indegree = [0] * nums\n",
    "        outdegree = [[] for _ in range(nums)]\n",
    "        \n",
    "        for i, j in pairs:\n",
    "            outdegree[i].append(j)  # i --> j\n",
    "            indegree[j] += 1\n",
    "            \n",
    "        queue = deque()\n",
    "        for i, v in enumerate(indegree):\n",
    "            if v == 0:\n",
    "                queue.append(i)\n",
    "        \n",
    "        while queue:\n",
    "            index = queue.popleft()\n",
    "            \n",
    "            for out_index in outdegree[index]:\n",
    "                indegree[out_index] -= 1\n",
    "                if indegree[out_index] == 0:\n",
    "                    queue.append(out_index)\n",
    "        if indegree == [0] * nums:\n",
    "            return False\n",
    "        else:\n",
    "            return True\n",
    "    \n",
    "\n",
    "x = Graph()\n",
    "print(x.topoSort(4,[[0,1],[1,2],[2,3],[3,0]]))"
   ]
  },
  {
   "cell_type": "code",
   "execution_count": null,
   "metadata": {},
   "outputs": [],
   "source": [
    "# outdegree记录次数\n",
    "# indegree记录进点的node\n",
    "# 参考802题\n"
   ]
  },
  {
   "cell_type": "markdown",
   "metadata": {},
   "source": [
    "### 孤立群的个数\n"
   ]
  },
  {
   "cell_type": "code",
   "execution_count": null,
   "metadata": {},
   "outputs": [],
   "source": []
  },
  {
   "cell_type": "code",
   "execution_count": null,
   "metadata": {},
   "outputs": [],
   "source": []
  },
  {
   "cell_type": "code",
   "execution_count": null,
   "metadata": {},
   "outputs": [],
   "source": [
    "for i in range(1,1):\n",
    "    print(i)"
   ]
  },
  {
   "cell_type": "code",
   "execution_count": null,
   "metadata": {},
   "outputs": [],
   "source": []
  },
  {
   "cell_type": "markdown",
   "metadata": {},
   "source": [
    "### 网格搜索"
   ]
  },
  {
   "cell_type": "code",
   "execution_count": null,
   "metadata": {},
   "outputs": [],
   "source": []
  },
  {
   "cell_type": "code",
   "execution_count": null,
   "metadata": {},
   "outputs": [],
   "source": []
  },
  {
   "cell_type": "code",
   "execution_count": null,
   "metadata": {},
   "outputs": [],
   "source": []
  },
  {
   "cell_type": "markdown",
   "metadata": {},
   "source": [
    "# Binary Search"
   ]
  },
  {
   "cell_type": "markdown",
   "metadata": {},
   "source": [
    "## 常规模版"
   ]
  },
  {
   "cell_type": "code",
   "execution_count": null,
   "metadata": {},
   "outputs": [],
   "source": [
    "# 从小到大sort好的数列arr\n",
    "# 找到target的数，输出其index（0-based）\n",
    "# 若不存在target，则输出-1\n",
    "\n",
    "class Solution:\n",
    "    def search(self, arr, target):\n",
    "        l, r = 0, len(arr) - 1\n",
    "        while l <= r:  # l,r位置互换时，跳出循环，r,l可相等是为了边界也能被搜索\n",
    "            mid = l + (r - l) // 2  # (l+r)//2 不这么写是为了防止超限\n",
    "            if target == arr[mid]:\n",
    "                return mid\n",
    "            elif target < arr[mid]:\n",
    "                r = mid - 1\n",
    "            elif target > arr[mid]:\n",
    "                l = mid + 1\n",
    "        return -1\n",
    "                "
   ]
  },
  {
   "cell_type": "markdown",
   "metadata": {},
   "source": [
    "## 旋转"
   ]
  },
  {
   "cell_type": "code",
   "execution_count": null,
   "metadata": {},
   "outputs": [],
   "source": [
    "# 旋转有重复跟没有重复，就一个地方不一样\n",
    "#    if nums[l] == nums[mid]:\n",
    "#        l += 1  # 注意！！！ 比如[1,3,1,1,1],3\n",
    "\n",
    "class Solution:\n",
    "    def search(self, nums, target) -> int:\n",
    "        l, r = 0, len(nums) - 1\n",
    "        while l <= r:\n",
    "            mid = l + (r - l) // 2\n",
    "            if target == nums[mid]:\n",
    "                return mid\n",
    "            if nums[l] < nums[mid]:  # 左边是sorted\n",
    "                if nums[l] <= target < nums[mid]:  # T在左边sorted部分内\n",
    "                    r = mid - 1\n",
    "                else:  # T在右边的unsorted内\n",
    "                    l = mid + 1\n",
    "            elif nums[l] == nums[mid]:  # l到r只有两个数字的时候，下一轮就return -1(没有重复的情况）\n",
    "                l = mid + 1\n",
    "            elif nums[l] > nums[mid]:  # 左边是unsorted,右边是sorted\n",
    "                if nums[mid] < target <= nums[r]:  # T在右边sortedd内\n",
    "                    l = mid + 1\n",
    "                else:\n",
    "                    r = mid - 1\n",
    "        return -1\n",
    "    "
   ]
  },
  {
   "cell_type": "code",
   "execution_count": null,
   "metadata": {},
   "outputs": [],
   "source": [
    "# 找最小值\n",
    "# arr里面没有重复\n",
    "# 153题\n",
    "\n",
    "class Solution:\n",
    "    def findMin(self, nums):\n",
    "        if nums == None:\n",
    "            return \n",
    "        \n",
    "        l, r = 0, len(nums)-1\n",
    "        temp = nums[0]\n",
    "        \n",
    "        while l <= r:\n",
    "            mid = l + (r - l)//2\n",
    "            \n",
    "            if nums[l] < nums[mid]:  # 左边是sorted，所以在l-mid之间，l最小\n",
    "                temp = min(temp, nums[l])\n",
    "                l = mid + 1\n",
    "            elif nums[l] == nums[mid]:  # l到r之间久两个数，下一轮输出\n",
    "                temp = min(temp, nums[l])  # 跟temp比较\n",
    "                l = mid + 1\n",
    "            elif nums[l] > nums[mid]:  # 右边是sorted，所以mid到r之间，mid最小\n",
    "                temp = min(temp, nums[mid])\n",
    "                r = mid - 1\n",
    "                \n",
    "        return temp"
   ]
  },
  {
   "cell_type": "markdown",
   "metadata": {},
   "source": [
    "## l,r互换位置是很多解题的关键"
   ]
  },
  {
   "cell_type": "code",
   "execution_count": null,
   "metadata": {},
   "outputs": [],
   "source": [
    "# 给到的arr，不旋转，从小到大排序，当然从大到小排序也可\n",
    "\n",
    "# 比如35题，找如果有某个target，它应存在于什么位置\n",
    "# 找出现的第一个或者最后一个位置\n",
    "\n",
    "# l, r互换的位置也就是while结束循环的位置\n",
    "# 循环到l，r互换的位置，左边也就是比target小，右边也就是比target大"
   ]
  },
  {
   "cell_type": "markdown",
   "metadata": {},
   "source": [
    "## 找target出现的第一个和最后一个位置"
   ]
  },
  {
   "cell_type": "code",
   "execution_count": null,
   "metadata": {},
   "outputs": [],
   "source": [
    "class Solution:\n",
    "    def searchRange(self, nums, target):\n",
    "        if not nums:  # corner case\n",
    "            return [-1, -1]\n",
    "\n",
    "        if target < nums[0] or target > nums[-1]:\n",
    "            return [-1, -1]\n",
    "        \n",
    "        first = self.findFirst(nums, target)\n",
    "        last = self.findLast(nums, target)\n",
    "        return [first, last]\n",
    "        \n",
    "    def findFirst(self, nums, target):\n",
    "        l, r = 0, len(nums) - 1\n",
    "        while l <= r:\n",
    "            mid  = l + (r - l) // 2\n",
    "            if nums[mid] == target:\n",
    "                r = mid - 1\n",
    "            elif nums[mid] > target:\n",
    "                r = mid - 1\n",
    "            elif nums[mid] < target:\n",
    "                l = mid + 1\n",
    "        if nums[l] == target:\n",
    "            return l\n",
    "        else:\n",
    "            return -1\n",
    "                \n",
    "    def findLast(self, nums, target):\n",
    "        l, r = 0, len(nums) - 1\n",
    "        while l <= r:\n",
    "            mid  = l + (r - l) // 2\n",
    "            if nums[mid] == target:\n",
    "                l = mid + 1\n",
    "            elif nums[mid] > target:\n",
    "                r = mid - 1\n",
    "            elif nums[mid] < target:\n",
    "                l = mid + 1\n",
    "        if nums[r] == target:\n",
    "            return r\n",
    "        else:\n",
    "            return -1"
   ]
  },
  {
   "cell_type": "markdown",
   "metadata": {},
   "source": [
    "## 求峰值\n",
    "* 162，852题\n",
    "* 没理解"
   ]
  },
  {
   "cell_type": "code",
   "execution_count": null,
   "metadata": {},
   "outputs": [],
   "source": [
    "# while l =< r: / l = mid + 1 / r = mid - 1  \n",
    "# while l < r: / l = mid + 1  / r = mid  \n",
    "\n",
    "# 两者区别：\n",
    "    # 一个是l,r互换的时候跳出循环；lr可相等，这样边界的值也能够被考虑进去,比如[1],l,r都是0\n",
    "    # 两个相等时跳出循环\n"
   ]
  },
  {
   "cell_type": "code",
   "execution_count": null,
   "metadata": {},
   "outputs": [],
   "source": [
    "class Solution:\n",
    "    def findPeakElement(self, nums: List[int]) -> int:  # return peak value's index\n",
    "        if nums is None:\n",
    "            return None\n",
    "\n",
    "        l, r = 0, len(nums) - 1\n",
    "        while l < r :  # 注意l不能等于r，r=mid，这样的话，会陷入无限循环\n",
    "            mid = l + (r - l) // 2\n",
    "            if nums[mid] <= nums[mid + 1]:  # mid还没到峰\n",
    "                l = mid + 1  # 峰值不可能是mid\n",
    "            if nums[mid] > nums[mid + 1]:  # mid是峰或者已经过峰\n",
    "                r = mid  # 峰值可能是mid\n",
    "        \n",
    "        return l  # return的时候，l跟r都是同一个值"
   ]
  },
  {
   "cell_type": "markdown",
   "metadata": {},
   "source": [
    "## 二维\n",
    "### 行内递增，下一行比上一行大\n",
    "\n",
    "* Integers in each row are sorted from left to right.\n",
    "* The first integer of each row is greater than the last integer of the previous row.\n",
    "* 关键点：   \n",
    "    * l, r as 0, row*column - 1\n",
    "    * midVal = matrix[mid // column][mid % column]   \n",
    "      行是整数，列是余数   \n",
    "    \n",
    "* 74题"
   ]
  },
  {
   "cell_type": "code",
   "execution_count": null,
   "metadata": {},
   "outputs": [],
   "source": [
    "'''\n",
    "brute force\n",
    "'''\n",
    "\n",
    "for i in range(len(matrix)):\n",
    "    for j in range(len(matrix[0])):\n",
    "        if matrix[i][j] == target:"
   ]
  },
  {
   "cell_type": "code",
   "execution_count": null,
   "metadata": {},
   "outputs": [],
   "source": [
    "class Solution:\n",
    "    def searchMatrix(self, matrix: List[List[int]], target: int) -> bool:\n",
    "        if not matrix or matrix == [[]]:  \n",
    "            return False\n",
    "        \n",
    "        m = len(matrix)\n",
    "        n = len(matrix[0])\n",
    "        \n",
    "        l, r = 0, m*n - 1  # 易错点，不能忘记-1\n",
    "        \n",
    "        while l<=r:\n",
    "            mid = l + (r-l)//2\n",
    "            \n",
    "            midVal = matrix[mid // n][mid % n]  # 关键点\n",
    "            if midVal == target:\n",
    "                return True\n",
    "            elif midVal > target:\n",
    "                r = mid - 1\n",
    "            else:\n",
    "                l = mid + 1\n",
    "                \n",
    "        return False"
   ]
  },
  {
   "cell_type": "markdown",
   "metadata": {},
   "source": [
    "### 行内递增，列内递增\n",
    "* 下一行第一个数不一定比上一行最后一个数大\n",
    "* 参考240题\n",
    "\n",
    "#### brute force   \n",
    "* Time complexity: O(MN), M is row number, N is colunm number   \n",
    "* Space: O(1)   "
   ]
  },
  {
   "cell_type": "code",
   "execution_count": null,
   "metadata": {},
   "outputs": [],
   "source": [
    "for i in range(len(matrix)):\n",
    "    for j in range(len(matrix[0])):\n",
    "        if matrix[i][j] == target:"
   ]
  },
  {
   "cell_type": "markdown",
   "metadata": {},
   "source": [
    "#### binary search\n",
    "* 按行binary search，先判断target是否有可能在这一行范围内\n",
    "* Time complexity: O(MlogN) 最坏情况，每一行都有可能\n",
    "* Space: O(1)"
   ]
  },
  {
   "cell_type": "code",
   "execution_count": null,
   "metadata": {},
   "outputs": [],
   "source": [
    "class Solution:\n",
    "    def searchMatrix(self, matrix, target):\n",
    "        \"\"\"\n",
    "        :type matrix: List[List[int]]\n",
    "        :type target: int\n",
    "        :rtype: bool\n",
    "        \"\"\"\n",
    "        if matrix == [] or matrix == [[]]:\n",
    "            return False\n",
    "        \n",
    "        def find(row):\n",
    "            l, r = 0, len(row) - 1\n",
    "            while l <= r:\n",
    "                mid = l + (r - l)//2\n",
    "                if row[mid] == target:\n",
    "                    return True\n",
    "                if row[mid] > target:\n",
    "                    r = mid - 1\n",
    "                else:\n",
    "                    l = mid + 1\n",
    "            return False\n",
    "            \n",
    "        \n",
    "        for row in matrix:\n",
    "            if row[0] <= target <= row[-1]:\n",
    "                if find(row) == True:\n",
    "                    return True\n",
    "        return False"
   ]
  },
  {
   "cell_type": "markdown",
   "metadata": {},
   "source": [
    "#### diagoal bianry search\n",
    "* 对角线上的点-横行search-竖列search\n",
    "* Time Complexity: O(logN!) < O(NlogN), N is min(m, n) m, n is row numbers, column numbers\n",
    "* Space: O(1)"
   ]
  },
  {
   "cell_type": "code",
   "execution_count": null,
   "metadata": {},
   "outputs": [],
   "source": [
    "class Solution:\n",
    "    def searchMatrix(self, matrix, target):\n",
    "        \"\"\"\n",
    "        :type matrix: List[List[int]]\n",
    "        :type target: int\n",
    "        :rtype: bool\n",
    "        \"\"\"\n",
    "        if matrix == [] or matrix == [[]]:\n",
    "            return False\n",
    "        \n",
    "        m = len(matrix)\n",
    "        n = len(matrix[0])\n",
    "        \n",
    "        \n",
    "        def horizontal(i):\n",
    "            l, r = i, n - 1\n",
    "            while l <= r:\n",
    "                mid = l + (r-l)//2\n",
    "                midVal = matrix[i][mid]\n",
    "                if midVal == target:\n",
    "                    return True\n",
    "                elif midVal > target:\n",
    "                    r = mid - 1\n",
    "                elif midVal < target:\n",
    "                    l = mid + 1\n",
    "            return False\n",
    "            \n",
    "        def vertical(i):\n",
    "            l, r = i, m - 1\n",
    "            while l <=r:\n",
    "                mid = l + (r-l)//2\n",
    "                midVal = matrix[mid][i]\n",
    "                if midVal == target:\n",
    "                    return True\n",
    "                elif midVal > target:\n",
    "                    r = mid - 1\n",
    "                elif midVal < target:\n",
    "                    l = mid + 1\n",
    "            return False\n",
    "        \n",
    "        for i in range(min(m,n)):  # 对角线上点的个数=min(m,n)\n",
    "            print(i)\n",
    "            if matrix[i][i] == target:\n",
    "                return True\n",
    "            if matrix[i][i] < target <= matrix[i][n-1]:  # 判断与不判断，好像时间上面没有差很多\n",
    "                if horizontal(i) == True:\n",
    "                    return True\n",
    "            if matrix[i][i] < target <= matrix[m-1][i]:\n",
    "                if vertical(i) == True:\n",
    "                    return True\n",
    "        return False"
   ]
  },
  {
   "cell_type": "code",
   "execution_count": null,
   "metadata": {},
   "outputs": [],
   "source": [
    "# 写法2，from李厨子\n",
    "class Solution:\n",
    "    def searchMatrix(self, matrix, target):\n",
    "        \"\"\"\n",
    "        :type matrix: List[List[int]]\n",
    "        :type target: int\n",
    "        :rtype: bool\n",
    "        \"\"\"\n",
    "        if matrix == []:  # corner case\n",
    "            return False\n",
    "        if matrix == [[]]:\n",
    "            return False\n",
    "        if target is None:\n",
    "            return False\n",
    "\n",
    "        m = len(matrix)\n",
    "        n = len(matrix[0])\n",
    "\n",
    "        for i in range(min(m, n)):\n",
    "            r = self.binarySearch(i, matrix, m, n, target, 1)\n",
    "            c = self.binarySearch(i, matrix, m, n, target, 0)\n",
    "            if r or c:\n",
    "                return True\n",
    "        return False\n",
    "\n",
    "    def binarySearch(self, i, matrix, m, n, target, horizontal):  # return if the row or columns has target\n",
    "        if horizontal == 1:\n",
    "            r = n - 1\n",
    "        else:\n",
    "            r = m - 1\n",
    "        l = i\n",
    "\n",
    "        if horizontal == 1:\n",
    "            while l <= r:\n",
    "                mid = l + (r - l) // 2\n",
    "                midVal = matrix[i][mid]\n",
    "                if midVal == target:\n",
    "                    return True\n",
    "                if midVal < target:\n",
    "                    l = mid + 1\n",
    "                else:\n",
    "                    r = mid - 1\n",
    "        else:\n",
    "            while l <= r:\n",
    "                mid = l + (r - l) // 2\n",
    "                midVal = matrix[mid][i]\n",
    "                if midVal == target:\n",
    "                    return True\n",
    "                if midVal < target:\n",
    "                    l = mid + 1\n",
    "                else:\n",
    "                    r = mid - 1\n",
    "        return False"
   ]
  },
  {
   "cell_type": "markdown",
   "metadata": {},
   "source": [
    "#### search space reduction\n",
    "* 从matrix[m-1][0]开始找，也就是最左下角的数开始对比，如果比target大，往上走也就是i-1，如果比target小，往右走j+1\n",
    "* Time complexity: O(m + n)\n",
    "* Space: O(1)\n",
    "* 并不是每个格子都扫到，其实只扫了一行和一列，故tO(m + n)"
   ]
  },
  {
   "cell_type": "code",
   "execution_count": null,
   "metadata": {},
   "outputs": [],
   "source": [
    "class Solution:\n",
    "    def searchMatrix(self, matrix, target):\n",
    "        \"\"\"\n",
    "        :type matrix: List[List[int]]\n",
    "        :type target: int\n",
    "        :rtype: bool\n",
    "        \"\"\"\n",
    "        if matrix == []:  # corner case\n",
    "            return False\n",
    "        if matrix == [[]]:\n",
    "            return False\n",
    "        if target is None:\n",
    "            return False\n",
    "\n",
    "        i = len(matrix) - 1\n",
    "        j = 0\n",
    "\n",
    "        while i >= 0 and j <= len(matrix[0]) - 1:\n",
    "            if matrix[i][j] == target:\n",
    "                return True\n",
    "            elif matrix[i][j] < target:\n",
    "                j += 1\n",
    "            else:\n",
    "                i -= 1\n",
    "        return False"
   ]
  }
 ],
 "metadata": {
  "kernelspec": {
   "display_name": "Python 3",
   "language": "python",
   "name": "python3"
  },
  "language_info": {
   "codemirror_mode": {
    "name": "ipython",
    "version": 3
   },
   "file_extension": ".py",
   "mimetype": "text/x-python",
   "name": "python",
   "nbconvert_exporter": "python",
   "pygments_lexer": "ipython3",
   "version": "3.7.3"
  },
  "toc": {
   "base_numbering": 1,
   "nav_menu": {},
   "number_sections": true,
   "sideBar": true,
   "skip_h1_title": false,
   "title_cell": "Table of Contents",
   "title_sidebar": "Contents",
   "toc_cell": false,
   "toc_position": {
    "height": "calc(100% - 180px)",
    "left": "10px",
    "top": "150px",
    "width": "255.59375px"
   },
   "toc_section_display": true,
   "toc_window_display": true
  }
 },
 "nbformat": 4,
 "nbformat_minor": 4
}
