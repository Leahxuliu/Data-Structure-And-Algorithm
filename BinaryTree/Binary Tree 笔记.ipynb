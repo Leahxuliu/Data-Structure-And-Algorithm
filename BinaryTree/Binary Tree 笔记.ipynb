{
 "cells": [
  {
   "cell_type": "code",
   "execution_count": null,
   "metadata": {},
   "outputs": [],
   "source": [
    "#!/usr/bin/python\n",
    "# -*- coding: utf-8 -*-\n",
    "# @Time    : 2020/03/04  \n",
    "# @Author  : XU Liu\n",
    "# @FileName: \n",
    "\n",
    "'''\n",
    "1. 题目要求：\n",
    "\n",
    "\n",
    "2. 理解：\n",
    "\n",
    "\n",
    "3. 题目类型：\n",
    "\n",
    "\n",
    "4. 输出输入以及边界条件：\n",
    "input: \n",
    "output: \n",
    "corner case: \n",
    "\n",
    "5. 解题思路\n",
    "    \n",
    "\n",
    "'''"
   ]
  },
  {
   "cell_type": "markdown",
   "metadata": {},
   "source": [
    "# 题目"
   ]
  },
  {
   "cell_type": "markdown",
   "metadata": {},
   "source": [
    "## 性质相关题\n",
    "\n",
    "* 100.Same Tree (完成 2)\n",
    "* 101.Symmetric Tree (完成 2 不熟)\n",
    "* 104.Maximum Depth of Binary Tree (完成 2)\n",
    "* 110.Balanced Binary Tree （完成 2 不熟\n",
    "）\n",
    "* 111.Minimum Depth of Binary Tree (完成 1)\n",
    "* 572\n",
    "* 662.Maximum Width of Binary Tree (完成 1)\n",
    "* 965\n",
    "\n"
   ]
  },
  {
   "cell_type": "markdown",
   "metadata": {},
   "source": [
    "## 树的构建\n",
    "* 105.Construct Binary Tree from Preorder and Inorder Traversal (完成 1)\n",
    "* 106.Construct Binary Tree from Inorder and Postorder Traversal (完成 1)\n",
    "* 108.Convert Sorted Array to Binary Search Tree (完成 1)\n",
    "* 109.Convert Sorted List to Binary Search Tree (涉及链表，暂时不做)\n",
    "\n"
   ]
  },
  {
   "cell_type": "markdown",
   "metadata": {},
   "source": [
    "## 树的遍历\n",
    "### DFS\n",
    "* 94.Binary Tree Inorder Traversal (完成 2)\n",
    "* 144.Binary Tree Preorder Traversal (完成 1)\n",
    "* 145.Binary Tree Postorder Traversal (完成 1)\n",
    "* 429\n",
    "* 589\n",
    "\n",
    "* 590\n",
    "* 987\n",
    "* 1302\n",
    "\n",
    "\n",
    "\n",
    "### BFS\n",
    "* 102.Binary Tree Level Order Traversal (完成 2)\n",
    "* 103.Binary Tree Zigzag Level Order Traversal (完成 1)\n",
    "* 107.Binary Tree Level Order Traversal II (完成 1)\n",
    "* 116.Populating Next Right Pointers in Each Node (完成 1)\n",
    "* 117.Populating Next Right Pointers in Each Node II (完成 1)\n",
    "* 429\n",
    "* 872"
   ]
  },
  {
   "cell_type": "markdown",
   "metadata": {},
   "source": [
    "## 路径和\n",
    "* 112.Path Sum (完成 1)\n",
    "* 113.Path Sum II (完成 1)\n",
    "* 129.Sum Root to Leaf Numbers (完成 1)\n",
    "* 257.Binary Tree Paths (完成 1)\n",
    "* 437"
   ]
  },
  {
   "cell_type": "markdown",
   "metadata": {},
   "source": [
    "## 综合题\n",
    "* 968.\n",
    "* 979.Distribute Coins in Binary Tree (移动硬币 先放弃)\n",
    "* 1361.Validate Binary Tree Nodes (完成 1)"
   ]
  },
  {
   "cell_type": "markdown",
   "metadata": {},
   "source": [
    "## 不知什么分类\n",
    "* 814\n",
    "* 669\n",
    "* 1325\n"
   ]
  },
  {
   "cell_type": "markdown",
   "metadata": {},
   "source": [
    "## 自定义\n",
    "* 最大宽度"
   ]
  },
  {
   "cell_type": "markdown",
   "metadata": {},
   "source": [
    "## 笔记\n",
    "树的创建：   \n",
    "* constructTree.py\n",
    "* constructTree2.py\n"
   ]
  },
  {
   "cell_type": "markdown",
   "metadata": {},
   "source": [
    "# 代码总结"
   ]
  },
  {
   "cell_type": "markdown",
   "metadata": {},
   "source": [
    "## Node的定义"
   ]
  },
  {
   "cell_type": "code",
   "execution_count": 1,
   "metadata": {},
   "outputs": [],
   "source": [
    "class TreeNode:\n",
    "    def __init__(self, x):\n",
    "        self.val = x\n",
    "        self.left = None\n",
    "        self.right = None"
   ]
  },
  {
   "cell_type": "markdown",
   "metadata": {},
   "source": [
    "## 构造tree\n",
    "### 手动构造"
   ]
  },
  {
   "cell_type": "code",
   "execution_count": null,
   "metadata": {},
   "outputs": [],
   "source": [
    "'''\n",
    "手动构造\n",
    "'''\n",
    "Node1 = TreeNode(1)\n",
    "Node2 = TreeNode(2)\n",
    "Node3 = TreeNode(3)\n",
    "\n",
    "Node1.left = Node2\n",
    "Node1.right = Node3\n",
    "\n",
    "# 注意\n",
    "Node5 = TreeNode(5)\n",
    "Node6 = TreeNode(5)\n",
    "# Node5 != Node6, 因为Node5与Node6储存的地址是不一样的\n",
    "\n",
    "Node7 = Node8 = TreeNode(5)\n",
    "#这种情况，Node7==Node8，因为两者储存地址是相同的\n",
    "\n"
   ]
  },
  {
   "cell_type": "markdown",
   "metadata": {},
   "source": [
    "### 利用BFS来构造"
   ]
  },
  {
   "cell_type": "code",
   "execution_count": null,
   "metadata": {},
   "outputs": [],
   "source": [
    "'''\n",
    "using BFS（同constructTree2.py）\n",
    "root:0 （index）\n",
    "下一层：left：index * 2 + 1；\n",
    "       right：index * 2 + 2\n",
    "\n",
    "nodeList --> 一层层，从左到右建立Tree\n",
    "'''\n",
    "\n",
    "from collections import deque\n",
    "class BT:\n",
    "    def constructTree(self, nodeList):\n",
    "        if not nodeList:  # corner case\n",
    "            return None\n",
    "    \n",
    "        root = TreeNode(nodeList[0])\n",
    "        queue = deque([(root, 0)])\n",
    "        while queue:\n",
    "            node, index = queue.popleft()\n",
    "            left_index = index * 2 + 1\n",
    "            right_index = index * 2 + 2\n",
    "            if left_index < len(nodeList):\n",
    "                node.left = TreeNode(nodeList[left_index])\n",
    "                if node.left != None:\n",
    "                    queue.qppend(node.left, left_index)\n",
    "            if right_index < len(nodeList):\n",
    "                node.right = TreeNode(nodeList[right_index])\n",
    "                if node.right != None:\n",
    "                    queue.append(node.right, right_index)\n",
    "            \n",
    "        return root\n",
    "        "
   ]
  },
  {
   "cell_type": "markdown",
   "metadata": {},
   "source": [
    "## 遍历\n",
    "### BFS\n",
    "* 时间复杂度：O(N)\n",
    "* 空间复杂度：average: O(N); 极端情况:O(1)"
   ]
  },
  {
   "cell_type": "code",
   "execution_count": null,
   "metadata": {},
   "outputs": [],
   "source": [
    "class TreeNode:\n",
    "    def __init__(self, x):\n",
    "        self.val = x\n",
    "        self.right = None\n",
    "        self.left = None\n",
    "        \n",
    "from collections import deque\n",
    "class Traversal:\n",
    "    def bsf(self, root):\n",
    "        if root == None:\n",
    "            return \n",
    "        queue = deque()\n",
    "        queue.append(root)\n",
    "        while queue:\n",
    "            node = queue.popleft()\n",
    "            if node.left == None:\n",
    "                queue.append(node.left)\n",
    "            if node.right == None:\n",
    "                queue.append(node.right)\n"
   ]
  },
  {
   "cell_type": "markdown",
   "metadata": {},
   "source": [
    "### DFS"
   ]
  },
  {
   "cell_type": "code",
   "execution_count": null,
   "metadata": {},
   "outputs": [],
   "source": [
    "class Traversal:\n",
    "    def dfs(self, root):\n",
    "        if root == None:\n",
    "            return \n",
    "        else:\n",
    "            print(root.val)\n",
    "            self.dfs(root.left)\n",
    "            self.dfs(root.right)"
   ]
  },
  {
   "cell_type": "markdown",
   "metadata": {},
   "source": [
    "## 树的构建"
   ]
  },
  {
   "cell_type": "code",
   "execution_count": null,
   "metadata": {},
   "outputs": [],
   "source": []
  },
  {
   "cell_type": "markdown",
   "metadata": {},
   "source": [
    "## Depth"
   ]
  },
  {
   "cell_type": "code",
   "execution_count": null,
   "metadata": {},
   "outputs": [],
   "source": [
    "class Solution:\n",
    "    def maxDepth(self, root: TreeNode) -> int:\n",
    "        def DFS(root, depth):\n",
    "            if root == None:\n",
    "                return depth\n",
    "            \n",
    "            return max(DFS(root.left, depth + 1), DFS(root.right, depth + 1))\n",
    "        \n",
    "        return DFS(root, 0)"
   ]
  },
  {
   "cell_type": "markdown",
   "metadata": {},
   "source": [
    "## Path"
   ]
  },
  {
   "cell_type": "code",
   "execution_count": null,
   "metadata": {},
   "outputs": [],
   "source": []
  },
  {
   "cell_type": "code",
   "execution_count": null,
   "metadata": {},
   "outputs": [],
   "source": []
  },
  {
   "cell_type": "markdown",
   "metadata": {},
   "source": [
    "## 宽度"
   ]
  },
  {
   "cell_type": "code",
   "execution_count": null,
   "metadata": {},
   "outputs": [],
   "source": []
  },
  {
   "cell_type": "code",
   "execution_count": null,
   "metadata": {},
   "outputs": [],
   "source": []
  },
  {
   "cell_type": "code",
   "execution_count": null,
   "metadata": {},
   "outputs": [],
   "source": []
  },
  {
   "cell_type": "code",
   "execution_count": null,
   "metadata": {},
   "outputs": [],
   "source": []
  },
  {
   "cell_type": "markdown",
   "metadata": {},
   "source": [
    "# Python\n",
    "\n",
    "## list的复制"
   ]
  },
  {
   "cell_type": "code",
   "execution_count": 3,
   "metadata": {},
   "outputs": [
    {
     "data": {
      "text/plain": [
       "[1, 2, 3]"
      ]
     },
     "execution_count": 3,
     "metadata": {},
     "output_type": "execute_result"
    }
   ],
   "source": [
    "l = [1,2,3]\n",
    "a = l[:]  # 不管l怎么变，a都不变\n",
    "a"
   ]
  },
  {
   "cell_type": "code",
   "execution_count": 4,
   "metadata": {},
   "outputs": [
    {
     "data": {
      "text/plain": [
       "[1, 2, 3]"
      ]
     },
     "execution_count": 4,
     "metadata": {},
     "output_type": "execute_result"
    }
   ],
   "source": [
    "l.append(5)\n",
    "a"
   ]
  },
  {
   "cell_type": "code",
   "execution_count": 6,
   "metadata": {},
   "outputs": [
    {
     "data": {
      "text/plain": [
       "[5, 6, 7, 10]"
      ]
     },
     "execution_count": 6,
     "metadata": {},
     "output_type": "execute_result"
    }
   ],
   "source": [
    "l = [5,6,7]\n",
    "b = l + [10] # 不管l怎么变，b都不变\n",
    "b"
   ]
  },
  {
   "cell_type": "code",
   "execution_count": 7,
   "metadata": {},
   "outputs": [
    {
     "data": {
      "text/plain": [
       "[5, 6, 7, 10]"
      ]
     },
     "execution_count": 7,
     "metadata": {},
     "output_type": "execute_result"
    }
   ],
   "source": [
    "l.append(1)\n",
    "b"
   ]
  },
  {
   "cell_type": "code",
   "execution_count": 8,
   "metadata": {},
   "outputs": [
    {
     "ename": "TypeError",
     "evalue": "sequence item 0: expected str instance, int found",
     "output_type": "error",
     "traceback": [
      "\u001b[0;31m---------------------------------------------------------------------------\u001b[0m",
      "\u001b[0;31mTypeError\u001b[0m                                 Traceback (most recent call last)",
      "\u001b[0;32m<ipython-input-8-9e05f63092b3>\u001b[0m in \u001b[0;36m<module>\u001b[0;34m\u001b[0m\n\u001b[0;32m----> 1\u001b[0;31m \u001b[0;34m''\u001b[0m\u001b[0;34m.\u001b[0m\u001b[0mjoin\u001b[0m\u001b[0;34m(\u001b[0m\u001b[0ml\u001b[0m\u001b[0;34m)\u001b[0m\u001b[0;34m\u001b[0m\u001b[0;34m\u001b[0m\u001b[0m\n\u001b[0m",
      "\u001b[0;31mTypeError\u001b[0m: sequence item 0: expected str instance, int found"
     ]
    }
   ],
   "source": [
    "''.join(l)"
   ]
  },
  {
   "cell_type": "code",
   "execution_count": 3,
   "metadata": {},
   "outputs": [
    {
     "data": {
      "text/plain": [
       "{9: 0, 3: 1, 15: 2, 20: 3, 7: 4}"
      ]
     },
     "execution_count": 3,
     "metadata": {},
     "output_type": "execute_result"
    }
   ],
   "source": [
    "inorder = [9,3,15,20,7]\n",
    "dicts = {var:i for i,var in enumerate(inorder)}\n",
    "dicts"
   ]
  },
  {
   "cell_type": "code",
   "execution_count": 6,
   "metadata": {},
   "outputs": [
    {
     "data": {
      "text/plain": [
       "{9: [0], 3: [1], 15: [2], 20: [3], 7: [4]}"
      ]
     },
     "execution_count": 6,
     "metadata": {},
     "output_type": "execute_result"
    }
   ],
   "source": [
    "info = {}\n",
    "for i, each in enumerate(inorder):\n",
    "    info[each] = [i]\n",
    "info"
   ]
  },
  {
   "cell_type": "code",
   "execution_count": 7,
   "metadata": {},
   "outputs": [
    {
     "data": {
      "text/plain": [
       "{9: 0, 3: 1, 15: 2, 20: 3, 7: 4}"
      ]
     },
     "execution_count": 7,
     "metadata": {},
     "output_type": "execute_result"
    }
   ],
   "source": [
    "info2 = {}\n",
    "for i, each in enumerate(inorder):\n",
    "    info2[each] = (i)\n",
    "info2"
   ]
  },
  {
   "cell_type": "code",
   "execution_count": 13,
   "metadata": {},
   "outputs": [],
   "source": [
    "def dfs(a, b):\n",
    "    return a+b"
   ]
  },
  {
   "cell_type": "code",
   "execution_count": 12,
   "metadata": {},
   "outputs": [
    {
     "name": "stdout",
     "output_type": "stream",
     "text": [
      "3\n"
     ]
    },
    {
     "data": {
      "text/plain": [
       "3"
      ]
     },
     "execution_count": 12,
     "metadata": {},
     "output_type": "execute_result"
    }
   ],
   "source": [
    "dfs(1,2)"
   ]
  },
  {
   "cell_type": "code",
   "execution_count": 1,
   "metadata": {},
   "outputs": [
    {
     "name": "stdout",
     "output_type": "stream",
     "text": [
      "ok\n"
     ]
    }
   ],
   "source": [
    "a = None\n",
    "b = None\n",
    "if a == None or b == None:\n",
    "    print('ok')\n",
    "    \n",
    "    "
   ]
  }
 ],
 "metadata": {
  "kernelspec": {
   "display_name": "Python 3",
   "language": "python",
   "name": "python3"
  },
  "language_info": {
   "codemirror_mode": {
    "name": "ipython",
    "version": 3
   },
   "file_extension": ".py",
   "mimetype": "text/x-python",
   "name": "python",
   "nbconvert_exporter": "python",
   "pygments_lexer": "ipython3",
   "version": "3.7.3"
  },
  "toc": {
   "base_numbering": 1,
   "nav_menu": {},
   "number_sections": true,
   "sideBar": true,
   "skip_h1_title": false,
   "title_cell": "Table of Contents",
   "title_sidebar": "Contents",
   "toc_cell": false,
   "toc_position": {},
   "toc_section_display": true,
   "toc_window_display": false
  }
 },
 "nbformat": 4,
 "nbformat_minor": 2
}
